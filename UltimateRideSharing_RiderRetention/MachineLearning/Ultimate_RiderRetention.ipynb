{
 "cells": [
  {
   "cell_type": "code",
   "execution_count": 263,
   "metadata": {
    "collapsed": true
   },
   "outputs": [],
   "source": [
    "import pandas as pd\n",
    "import numpy as np\n",
    "import json\n",
    "import seaborn as sns\n",
    "from scipy import stats\n",
    "import pylab\n",
    "%matplotlib inline"
   ]
  },
  {
   "cell_type": "code",
   "execution_count": 24,
   "metadata": {
    "collapsed": true
   },
   "outputs": [],
   "source": [
    "dfl = pd.read_json('/Users/chintan.desai/Documents/Chintan/DataScience/Springboard/Take_Home_Challenge/ultimate_challenge/logins.json', orient='columns')\n",
    "\n",
    "\n"
   ]
  },
  {
   "cell_type": "code",
   "execution_count": 25,
   "metadata": {
    "collapsed": false
   },
   "outputs": [
    {
     "data": {
      "text/html": [
       "<div>\n",
       "<style>\n",
       "    .dataframe thead tr:only-child th {\n",
       "        text-align: right;\n",
       "    }\n",
       "\n",
       "    .dataframe thead th {\n",
       "        text-align: left;\n",
       "    }\n",
       "\n",
       "    .dataframe tbody tr th {\n",
       "        vertical-align: top;\n",
       "    }\n",
       "</style>\n",
       "<table border=\"1\" class=\"dataframe\">\n",
       "  <thead>\n",
       "    <tr style=\"text-align: right;\">\n",
       "      <th></th>\n",
       "      <th>login_time</th>\n",
       "    </tr>\n",
       "  </thead>\n",
       "  <tbody>\n",
       "    <tr>\n",
       "      <th>0</th>\n",
       "      <td>1970-01-01 20:13:18</td>\n",
       "    </tr>\n",
       "    <tr>\n",
       "      <th>1</th>\n",
       "      <td>1970-01-01 20:16:10</td>\n",
       "    </tr>\n",
       "    <tr>\n",
       "      <th>2</th>\n",
       "      <td>1970-01-01 20:16:37</td>\n",
       "    </tr>\n",
       "    <tr>\n",
       "      <th>3</th>\n",
       "      <td>1970-01-01 20:16:36</td>\n",
       "    </tr>\n",
       "    <tr>\n",
       "      <th>4</th>\n",
       "      <td>1970-01-01 20:26:21</td>\n",
       "    </tr>\n",
       "    <tr>\n",
       "      <th>5</th>\n",
       "      <td>1970-01-01 20:21:41</td>\n",
       "    </tr>\n",
       "    <tr>\n",
       "      <th>6</th>\n",
       "      <td>1970-01-01 20:12:16</td>\n",
       "    </tr>\n",
       "    <tr>\n",
       "      <th>7</th>\n",
       "      <td>1970-01-01 20:35:47</td>\n",
       "    </tr>\n",
       "    <tr>\n",
       "      <th>8</th>\n",
       "      <td>1970-01-01 20:35:38</td>\n",
       "    </tr>\n",
       "    <tr>\n",
       "      <th>9</th>\n",
       "      <td>1970-01-01 20:47:52</td>\n",
       "    </tr>\n",
       "  </tbody>\n",
       "</table>\n",
       "</div>"
      ],
      "text/plain": [
       "           login_time\n",
       "0 1970-01-01 20:13:18\n",
       "1 1970-01-01 20:16:10\n",
       "2 1970-01-01 20:16:37\n",
       "3 1970-01-01 20:16:36\n",
       "4 1970-01-01 20:26:21\n",
       "5 1970-01-01 20:21:41\n",
       "6 1970-01-01 20:12:16\n",
       "7 1970-01-01 20:35:47\n",
       "8 1970-01-01 20:35:38\n",
       "9 1970-01-01 20:47:52"
      ]
     },
     "execution_count": 25,
     "metadata": {},
     "output_type": "execute_result"
    }
   ],
   "source": [
    "dfl.head(10)"
   ]
  },
  {
   "cell_type": "code",
   "execution_count": 14,
   "metadata": {
    "collapsed": false
   },
   "outputs": [
    {
     "data": {
      "text/plain": [
       "Index(['login_time'], dtype='object')"
      ]
     },
     "execution_count": 14,
     "metadata": {},
     "output_type": "execute_result"
    }
   ],
   "source": [
    "dfl.columns"
   ]
  },
  {
   "cell_type": "code",
   "execution_count": 15,
   "metadata": {
    "collapsed": true
   },
   "outputs": [],
   "source": [
    "df = dfl"
   ]
  },
  {
   "cell_type": "code",
   "execution_count": 17,
   "metadata": {
    "collapsed": true
   },
   "outputs": [],
   "source": [
    "df2 = dfl"
   ]
  },
  {
   "cell_type": "code",
   "execution_count": 21,
   "metadata": {
    "collapsed": false
   },
   "outputs": [
    {
     "name": "stderr",
     "output_type": "stream",
     "text": [
      "//anaconda/envs/py36/lib/python3.6/site-packages/ipykernel/__main__.py:3: FutureWarning: how in .resample() is deprecated\n",
      "the new syntax is .resample(...)..apply(<func>)\n",
      "  app.launch_new_instance()\n"
     ]
    },
    {
     "data": {
      "text/html": [
       "<div>\n",
       "<style>\n",
       "    .dataframe thead tr:only-child th {\n",
       "        text-align: right;\n",
       "    }\n",
       "\n",
       "    .dataframe thead th {\n",
       "        text-align: left;\n",
       "    }\n",
       "\n",
       "    .dataframe tbody tr th {\n",
       "        vertical-align: top;\n",
       "    }\n",
       "</style>\n",
       "<table border=\"1\" class=\"dataframe\">\n",
       "  <thead>\n",
       "    <tr style=\"text-align: right;\">\n",
       "      <th></th>\n",
       "      <th>count</th>\n",
       "    </tr>\n",
       "    <tr>\n",
       "      <th>login_time</th>\n",
       "      <th></th>\n",
       "    </tr>\n",
       "  </thead>\n",
       "  <tbody>\n",
       "    <tr>\n",
       "      <th>1970-01-01 20:00:00</th>\n",
       "      <td>2.0</td>\n",
       "    </tr>\n",
       "    <tr>\n",
       "      <th>1970-01-01 20:15:00</th>\n",
       "      <td>6.0</td>\n",
       "    </tr>\n",
       "    <tr>\n",
       "      <th>1970-01-01 20:30:00</th>\n",
       "      <td>9.0</td>\n",
       "    </tr>\n",
       "    <tr>\n",
       "      <th>1970-01-01 20:45:00</th>\n",
       "      <td>7.0</td>\n",
       "    </tr>\n",
       "    <tr>\n",
       "      <th>1970-01-01 21:00:00</th>\n",
       "      <td>1.0</td>\n",
       "    </tr>\n",
       "  </tbody>\n",
       "</table>\n",
       "</div>"
      ],
      "text/plain": [
       "                     count\n",
       "login_time                \n",
       "1970-01-01 20:00:00    2.0\n",
       "1970-01-01 20:15:00    6.0\n",
       "1970-01-01 20:30:00    9.0\n",
       "1970-01-01 20:45:00    7.0\n",
       "1970-01-01 21:00:00    1.0"
      ]
     },
     "execution_count": 21,
     "metadata": {},
     "output_type": "execute_result"
    }
   ],
   "source": [
    "dfl.set_index('login_time', inplace = True)\n",
    "dfl['count'] = 1\n",
    "dfl.resample('15T', how = sum).head()\n"
   ]
  },
  {
   "cell_type": "code",
   "execution_count": 211,
   "metadata": {
    "collapsed": false
   },
   "outputs": [],
   "source": [
    "with open('/Users/chintan.desai/Documents/Chintan/DataScience/Springboard/Take_Home_Challenge/ultimate_challenge/ultimate_data_challenge.json') as f:\n",
    "    \n",
    "    data = json.load(f)\n",
    "    "
   ]
  },
  {
   "cell_type": "code",
   "execution_count": 212,
   "metadata": {
    "collapsed": true
   },
   "outputs": [],
   "source": [
    "mpd = pd.DataFrame(data)"
   ]
  },
  {
   "cell_type": "code",
   "execution_count": 213,
   "metadata": {
    "collapsed": false
   },
   "outputs": [
    {
     "data": {
      "text/html": [
       "<div>\n",
       "<style>\n",
       "    .dataframe thead tr:only-child th {\n",
       "        text-align: right;\n",
       "    }\n",
       "\n",
       "    .dataframe thead th {\n",
       "        text-align: left;\n",
       "    }\n",
       "\n",
       "    .dataframe tbody tr th {\n",
       "        vertical-align: top;\n",
       "    }\n",
       "</style>\n",
       "<table border=\"1\" class=\"dataframe\">\n",
       "  <thead>\n",
       "    <tr style=\"text-align: right;\">\n",
       "      <th></th>\n",
       "      <th>avg_dist</th>\n",
       "      <th>avg_rating_by_driver</th>\n",
       "      <th>avg_rating_of_driver</th>\n",
       "      <th>avg_surge</th>\n",
       "      <th>city</th>\n",
       "      <th>last_trip_date</th>\n",
       "      <th>phone</th>\n",
       "      <th>signup_date</th>\n",
       "      <th>surge_pct</th>\n",
       "      <th>trips_in_first_30_days</th>\n",
       "      <th>ultimate_black_user</th>\n",
       "      <th>weekday_pct</th>\n",
       "    </tr>\n",
       "  </thead>\n",
       "  <tbody>\n",
       "    <tr>\n",
       "      <th>0</th>\n",
       "      <td>3.67</td>\n",
       "      <td>5.0</td>\n",
       "      <td>4.7</td>\n",
       "      <td>1.10</td>\n",
       "      <td>King's Landing</td>\n",
       "      <td>2014-06-17</td>\n",
       "      <td>iPhone</td>\n",
       "      <td>2014-01-25</td>\n",
       "      <td>15.4</td>\n",
       "      <td>4</td>\n",
       "      <td>True</td>\n",
       "      <td>46.2</td>\n",
       "    </tr>\n",
       "    <tr>\n",
       "      <th>1</th>\n",
       "      <td>8.26</td>\n",
       "      <td>5.0</td>\n",
       "      <td>5.0</td>\n",
       "      <td>1.00</td>\n",
       "      <td>Astapor</td>\n",
       "      <td>2014-05-05</td>\n",
       "      <td>Android</td>\n",
       "      <td>2014-01-29</td>\n",
       "      <td>0.0</td>\n",
       "      <td>0</td>\n",
       "      <td>False</td>\n",
       "      <td>50.0</td>\n",
       "    </tr>\n",
       "    <tr>\n",
       "      <th>2</th>\n",
       "      <td>0.77</td>\n",
       "      <td>5.0</td>\n",
       "      <td>4.3</td>\n",
       "      <td>1.00</td>\n",
       "      <td>Astapor</td>\n",
       "      <td>2014-01-07</td>\n",
       "      <td>iPhone</td>\n",
       "      <td>2014-01-06</td>\n",
       "      <td>0.0</td>\n",
       "      <td>3</td>\n",
       "      <td>False</td>\n",
       "      <td>100.0</td>\n",
       "    </tr>\n",
       "    <tr>\n",
       "      <th>3</th>\n",
       "      <td>2.36</td>\n",
       "      <td>4.9</td>\n",
       "      <td>4.6</td>\n",
       "      <td>1.14</td>\n",
       "      <td>King's Landing</td>\n",
       "      <td>2014-06-29</td>\n",
       "      <td>iPhone</td>\n",
       "      <td>2014-01-10</td>\n",
       "      <td>20.0</td>\n",
       "      <td>9</td>\n",
       "      <td>True</td>\n",
       "      <td>80.0</td>\n",
       "    </tr>\n",
       "    <tr>\n",
       "      <th>4</th>\n",
       "      <td>3.13</td>\n",
       "      <td>4.9</td>\n",
       "      <td>4.4</td>\n",
       "      <td>1.19</td>\n",
       "      <td>Winterfell</td>\n",
       "      <td>2014-03-15</td>\n",
       "      <td>Android</td>\n",
       "      <td>2014-01-27</td>\n",
       "      <td>11.8</td>\n",
       "      <td>14</td>\n",
       "      <td>False</td>\n",
       "      <td>82.4</td>\n",
       "    </tr>\n",
       "  </tbody>\n",
       "</table>\n",
       "</div>"
      ],
      "text/plain": [
       "   avg_dist  avg_rating_by_driver  avg_rating_of_driver  avg_surge  \\\n",
       "0      3.67                   5.0                   4.7       1.10   \n",
       "1      8.26                   5.0                   5.0       1.00   \n",
       "2      0.77                   5.0                   4.3       1.00   \n",
       "3      2.36                   4.9                   4.6       1.14   \n",
       "4      3.13                   4.9                   4.4       1.19   \n",
       "\n",
       "             city last_trip_date    phone signup_date  surge_pct  \\\n",
       "0  King's Landing     2014-06-17   iPhone  2014-01-25       15.4   \n",
       "1         Astapor     2014-05-05  Android  2014-01-29        0.0   \n",
       "2         Astapor     2014-01-07   iPhone  2014-01-06        0.0   \n",
       "3  King's Landing     2014-06-29   iPhone  2014-01-10       20.0   \n",
       "4      Winterfell     2014-03-15  Android  2014-01-27       11.8   \n",
       "\n",
       "   trips_in_first_30_days  ultimate_black_user  weekday_pct  \n",
       "0                       4                 True         46.2  \n",
       "1                       0                False         50.0  \n",
       "2                       3                False        100.0  \n",
       "3                       9                 True         80.0  \n",
       "4                      14                False         82.4  "
      ]
     },
     "execution_count": 213,
     "metadata": {},
     "output_type": "execute_result"
    }
   ],
   "source": [
    "mpd.head()"
   ]
  },
  {
   "cell_type": "code",
   "execution_count": 112,
   "metadata": {
    "collapsed": false
   },
   "outputs": [
    {
     "data": {
      "text/plain": [
       "avg_dist                          float64\n",
       "avg_rating_by_driver              float64\n",
       "avg_rating_of_driver              float64\n",
       "avg_surge                         float64\n",
       "city                               object\n",
       "last_trip_date                     object\n",
       "phone                              object\n",
       "signup_date                        object\n",
       "surge_pct                         float64\n",
       "trips_in_first_30_days              int64\n",
       "ultimate_black_user                  bool\n",
       "weekday_pct                       float64\n",
       "last_trip_date_dt          datetime64[ns]\n",
       "signup_date_dt             datetime64[ns]\n",
       "date_diff                 timedelta64[ns]\n",
       "daysdiffnum                       float64\n",
       "active                            float64\n",
       "dtype: object"
      ]
     },
     "execution_count": 112,
     "metadata": {},
     "output_type": "execute_result"
    }
   ],
   "source": [
    "#check if the user is active or not\n",
    "mpd.dtypes"
   ]
  },
  {
   "cell_type": "code",
   "execution_count": 214,
   "metadata": {
    "collapsed": true
   },
   "outputs": [],
   "source": [
    "mpd['last_trip_date_dt'] = pd.to_datetime(mpd['last_trip_date'])"
   ]
  },
  {
   "cell_type": "code",
   "execution_count": 41,
   "metadata": {
    "collapsed": false
   },
   "outputs": [
    {
     "data": {
      "text/html": [
       "<div>\n",
       "<style>\n",
       "    .dataframe thead tr:only-child th {\n",
       "        text-align: right;\n",
       "    }\n",
       "\n",
       "    .dataframe thead th {\n",
       "        text-align: left;\n",
       "    }\n",
       "\n",
       "    .dataframe tbody tr th {\n",
       "        vertical-align: top;\n",
       "    }\n",
       "</style>\n",
       "<table border=\"1\" class=\"dataframe\">\n",
       "  <thead>\n",
       "    <tr style=\"text-align: right;\">\n",
       "      <th></th>\n",
       "      <th>avg_dist</th>\n",
       "      <th>avg_rating_by_driver</th>\n",
       "      <th>avg_rating_of_driver</th>\n",
       "      <th>avg_surge</th>\n",
       "      <th>city</th>\n",
       "      <th>last_trip_date</th>\n",
       "      <th>phone</th>\n",
       "      <th>signup_date</th>\n",
       "      <th>surge_pct</th>\n",
       "      <th>trips_in_first_30_days</th>\n",
       "      <th>ultimate_black_user</th>\n",
       "      <th>weekday_pct</th>\n",
       "      <th>last_trip_date_dt</th>\n",
       "    </tr>\n",
       "  </thead>\n",
       "  <tbody>\n",
       "    <tr>\n",
       "      <th>0</th>\n",
       "      <td>3.67</td>\n",
       "      <td>5.0</td>\n",
       "      <td>4.7</td>\n",
       "      <td>1.10</td>\n",
       "      <td>King's Landing</td>\n",
       "      <td>2014-06-17</td>\n",
       "      <td>iPhone</td>\n",
       "      <td>2014-01-25</td>\n",
       "      <td>15.4</td>\n",
       "      <td>4</td>\n",
       "      <td>True</td>\n",
       "      <td>46.2</td>\n",
       "      <td>2014-06-17</td>\n",
       "    </tr>\n",
       "    <tr>\n",
       "      <th>1</th>\n",
       "      <td>8.26</td>\n",
       "      <td>5.0</td>\n",
       "      <td>5.0</td>\n",
       "      <td>1.00</td>\n",
       "      <td>Astapor</td>\n",
       "      <td>2014-05-05</td>\n",
       "      <td>Android</td>\n",
       "      <td>2014-01-29</td>\n",
       "      <td>0.0</td>\n",
       "      <td>0</td>\n",
       "      <td>False</td>\n",
       "      <td>50.0</td>\n",
       "      <td>2014-05-05</td>\n",
       "    </tr>\n",
       "    <tr>\n",
       "      <th>2</th>\n",
       "      <td>0.77</td>\n",
       "      <td>5.0</td>\n",
       "      <td>4.3</td>\n",
       "      <td>1.00</td>\n",
       "      <td>Astapor</td>\n",
       "      <td>2014-01-07</td>\n",
       "      <td>iPhone</td>\n",
       "      <td>2014-01-06</td>\n",
       "      <td>0.0</td>\n",
       "      <td>3</td>\n",
       "      <td>False</td>\n",
       "      <td>100.0</td>\n",
       "      <td>2014-01-07</td>\n",
       "    </tr>\n",
       "    <tr>\n",
       "      <th>3</th>\n",
       "      <td>2.36</td>\n",
       "      <td>4.9</td>\n",
       "      <td>4.6</td>\n",
       "      <td>1.14</td>\n",
       "      <td>King's Landing</td>\n",
       "      <td>2014-06-29</td>\n",
       "      <td>iPhone</td>\n",
       "      <td>2014-01-10</td>\n",
       "      <td>20.0</td>\n",
       "      <td>9</td>\n",
       "      <td>True</td>\n",
       "      <td>80.0</td>\n",
       "      <td>2014-06-29</td>\n",
       "    </tr>\n",
       "    <tr>\n",
       "      <th>4</th>\n",
       "      <td>3.13</td>\n",
       "      <td>4.9</td>\n",
       "      <td>4.4</td>\n",
       "      <td>1.19</td>\n",
       "      <td>Winterfell</td>\n",
       "      <td>2014-03-15</td>\n",
       "      <td>Android</td>\n",
       "      <td>2014-01-27</td>\n",
       "      <td>11.8</td>\n",
       "      <td>14</td>\n",
       "      <td>False</td>\n",
       "      <td>82.4</td>\n",
       "      <td>2014-03-15</td>\n",
       "    </tr>\n",
       "  </tbody>\n",
       "</table>\n",
       "</div>"
      ],
      "text/plain": [
       "   avg_dist  avg_rating_by_driver  avg_rating_of_driver  avg_surge  \\\n",
       "0      3.67                   5.0                   4.7       1.10   \n",
       "1      8.26                   5.0                   5.0       1.00   \n",
       "2      0.77                   5.0                   4.3       1.00   \n",
       "3      2.36                   4.9                   4.6       1.14   \n",
       "4      3.13                   4.9                   4.4       1.19   \n",
       "\n",
       "             city last_trip_date    phone signup_date  surge_pct  \\\n",
       "0  King's Landing     2014-06-17   iPhone  2014-01-25       15.4   \n",
       "1         Astapor     2014-05-05  Android  2014-01-29        0.0   \n",
       "2         Astapor     2014-01-07   iPhone  2014-01-06        0.0   \n",
       "3  King's Landing     2014-06-29   iPhone  2014-01-10       20.0   \n",
       "4      Winterfell     2014-03-15  Android  2014-01-27       11.8   \n",
       "\n",
       "   trips_in_first_30_days  ultimate_black_user  weekday_pct last_trip_date_dt  \n",
       "0                       4                 True         46.2        2014-06-17  \n",
       "1                       0                False         50.0        2014-05-05  \n",
       "2                       3                False        100.0        2014-01-07  \n",
       "3                       9                 True         80.0        2014-06-29  \n",
       "4                      14                False         82.4        2014-03-15  "
      ]
     },
     "execution_count": 41,
     "metadata": {},
     "output_type": "execute_result"
    }
   ],
   "source": [
    "mpd.head()"
   ]
  },
  {
   "cell_type": "code",
   "execution_count": 215,
   "metadata": {
    "collapsed": true
   },
   "outputs": [],
   "source": [
    "mpd['signup_date_dt'] = pd.to_datetime(mpd['signup_date'])"
   ]
  },
  {
   "cell_type": "code",
   "execution_count": 43,
   "metadata": {
    "collapsed": false
   },
   "outputs": [
    {
     "data": {
      "text/plain": [
       "avg_dist                         float64\n",
       "avg_rating_by_driver             float64\n",
       "avg_rating_of_driver             float64\n",
       "avg_surge                        float64\n",
       "city                              object\n",
       "last_trip_date                    object\n",
       "phone                             object\n",
       "signup_date                       object\n",
       "surge_pct                        float64\n",
       "trips_in_first_30_days             int64\n",
       "ultimate_black_user                 bool\n",
       "weekday_pct                      float64\n",
       "last_trip_date_dt         datetime64[ns]\n",
       "signup_date_dt            datetime64[ns]\n",
       "dtype: object"
      ]
     },
     "execution_count": 43,
     "metadata": {},
     "output_type": "execute_result"
    }
   ],
   "source": [
    "mpd.dtypes"
   ]
  },
  {
   "cell_type": "code",
   "execution_count": 49,
   "metadata": {
    "collapsed": false
   },
   "outputs": [
    {
     "data": {
      "text/plain": [
       "avg_dist                                 3.67\n",
       "avg_rating_by_driver                        5\n",
       "avg_rating_of_driver                      4.7\n",
       "avg_surge                                 1.1\n",
       "city                           King's Landing\n",
       "last_trip_date                     2014-06-17\n",
       "phone                                  iPhone\n",
       "signup_date                        2014-01-25\n",
       "surge_pct                                15.4\n",
       "trips_in_first_30_days                      4\n",
       "ultimate_black_user                      True\n",
       "weekday_pct                              46.2\n",
       "last_trip_date_dt         2014-06-17 00:00:00\n",
       "signup_date_dt            2014-01-25 00:00:00\n",
       "Name: 0, dtype: object"
      ]
     },
     "execution_count": 49,
     "metadata": {},
     "output_type": "execute_result"
    }
   ],
   "source": [
    "mpd.iloc[0]"
   ]
  },
  {
   "cell_type": "code",
   "execution_count": 55,
   "metadata": {
    "collapsed": false
   },
   "outputs": [],
   "source": [
    "diff2 = (mpd.iloc[0].last_trip_date_dt-mpd.iloc[0].signup_date_dt).days"
   ]
  },
  {
   "cell_type": "code",
   "execution_count": 56,
   "metadata": {
    "collapsed": false
   },
   "outputs": [
    {
     "data": {
      "text/plain": [
       "143"
      ]
     },
     "execution_count": 56,
     "metadata": {},
     "output_type": "execute_result"
    }
   ],
   "source": [
    "diff2"
   ]
  },
  {
   "cell_type": "code",
   "execution_count": 52,
   "metadata": {
    "collapsed": false
   },
   "outputs": [
    {
     "data": {
      "text/plain": [
       "143"
      ]
     },
     "execution_count": 52,
     "metadata": {},
     "output_type": "execute_result"
    }
   ],
   "source": [
    "diff.days"
   ]
  },
  {
   "cell_type": "code",
   "execution_count": 216,
   "metadata": {
    "collapsed": false
   },
   "outputs": [],
   "source": [
    "mpd['date_diff'] = mpd.last_trip_date_dt-mpd.signup_date_dt"
   ]
  },
  {
   "cell_type": "code",
   "execution_count": 68,
   "metadata": {
    "collapsed": false
   },
   "outputs": [
    {
     "data": {
      "text/plain": [
       "avg_dist                                 3.67\n",
       "avg_rating_by_driver                        5\n",
       "avg_rating_of_driver                      4.7\n",
       "avg_surge                                 1.1\n",
       "city                           King's Landing\n",
       "last_trip_date                     2014-06-17\n",
       "phone                                  iPhone\n",
       "signup_date                        2014-01-25\n",
       "surge_pct                                15.4\n",
       "trips_in_first_30_days                      4\n",
       "ultimate_black_user                      True\n",
       "weekday_pct                              46.2\n",
       "last_trip_date_dt         2014-06-17 00:00:00\n",
       "signup_date_dt            2014-01-25 00:00:00\n",
       "date_diff                   143 days 00:00:00\n",
       "Name: 0, dtype: object"
      ]
     },
     "execution_count": 68,
     "metadata": {},
     "output_type": "execute_result"
    }
   ],
   "source": [
    "mpd.iloc[0]"
   ]
  },
  {
   "cell_type": "code",
   "execution_count": 217,
   "metadata": {
    "collapsed": false
   },
   "outputs": [],
   "source": [
    "#daysdiffnum = difference in days between 'Sign up date' and 'last trip date'\n",
    "for index, row in mpd.iterrows():\n",
    "           daysdiff = row['date_diff'].days\n",
    "           mpd.loc[index,'daysdiffnum']=daysdiff\n",
    "        "
   ]
  },
  {
   "cell_type": "code",
   "execution_count": 103,
   "metadata": {
    "collapsed": false
   },
   "outputs": [
    {
     "data": {
      "text/plain": [
       "avg_dist                                 3.67\n",
       "avg_rating_by_driver                        5\n",
       "avg_rating_of_driver                      4.7\n",
       "avg_surge                                 1.1\n",
       "city                           King's Landing\n",
       "last_trip_date                     2014-06-17\n",
       "phone                                  iPhone\n",
       "signup_date                        2014-01-25\n",
       "surge_pct                                15.4\n",
       "trips_in_first_30_days                      4\n",
       "ultimate_black_user                      True\n",
       "weekday_pct                              46.2\n",
       "last_trip_date_dt         2014-06-17 00:00:00\n",
       "signup_date_dt            2014-01-25 00:00:00\n",
       "date_diff                   143 days 00:00:00\n",
       "daysdiffnum                               143\n",
       "Name: 0, dtype: object"
      ]
     },
     "execution_count": 103,
     "metadata": {},
     "output_type": "execute_result"
    }
   ],
   "source": [
    "mpd.iloc[0]"
   ]
  },
  {
   "cell_type": "code",
   "execution_count": 218,
   "metadata": {
    "collapsed": false
   },
   "outputs": [],
   "source": [
    "for index, row in mpd.iterrows():\n",
    "        if row['trips_in_first_30_days'] >= 1:\n",
    "                mpd.loc[index,'active']=1 \n",
    "        else:\n",
    "                mpd.loc[index,'active']=0\n",
    "        "
   ]
  },
  {
   "cell_type": "code",
   "execution_count": 105,
   "metadata": {
    "collapsed": false
   },
   "outputs": [],
   "source": [
    "not_retained = mpd.loc[mpd['active']==0,:]"
   ]
  },
  {
   "cell_type": "code",
   "execution_count": 176,
   "metadata": {
    "collapsed": false
   },
   "outputs": [],
   "source": [
    "not_retained = note_retained['active'].count()"
   ]
  },
  {
   "cell_type": "code",
   "execution_count": 177,
   "metadata": {
    "collapsed": false
   },
   "outputs": [
    {
     "data": {
      "text/plain": [
       "15390"
      ]
     },
     "execution_count": 177,
     "metadata": {},
     "output_type": "execute_result"
    }
   ],
   "source": [
    "not_retained"
   ]
  },
  {
   "cell_type": "code",
   "execution_count": 178,
   "metadata": {
    "collapsed": false
   },
   "outputs": [],
   "source": [
    "total_active = mpd['active'].count()"
   ]
  },
  {
   "cell_type": "code",
   "execution_count": 179,
   "metadata": {
    "collapsed": false
   },
   "outputs": [
    {
     "data": {
      "text/plain": [
       "50000"
      ]
     },
     "execution_count": 179,
     "metadata": {},
     "output_type": "execute_result"
    }
   ],
   "source": [
    "total_active"
   ]
  },
  {
   "cell_type": "code",
   "execution_count": 180,
   "metadata": {
    "collapsed": false
   },
   "outputs": [],
   "source": [
    "retained_fraction = (total_active-not_retained)/(total_active)"
   ]
  },
  {
   "cell_type": "code",
   "execution_count": 181,
   "metadata": {
    "collapsed": false
   },
   "outputs": [
    {
     "data": {
      "text/plain": [
       "0.69220000000000004"
      ]
     },
     "execution_count": 181,
     "metadata": {},
     "output_type": "execute_result"
    }
   ],
   "source": [
    "retained_fraction"
   ]
  },
  {
   "cell_type": "markdown",
   "metadata": {},
   "source": [
    "### Retention Rate = 69%"
   ]
  },
  {
   "cell_type": "code",
   "execution_count": 84,
   "metadata": {
    "collapsed": false
   },
   "outputs": [
    {
     "name": "stdout",
     "output_type": "stream",
     "text": [
      "<class 'pandas.core.frame.DataFrame'>\n",
      "RangeIndex: 50000 entries, 0 to 49999\n",
      "Data columns (total 17 columns):\n",
      "avg_dist                  50000 non-null float64\n",
      "avg_rating_by_driver      49799 non-null float64\n",
      "avg_rating_of_driver      41878 non-null float64\n",
      "avg_surge                 50000 non-null float64\n",
      "city                      50000 non-null object\n",
      "last_trip_date            50000 non-null object\n",
      "phone                     49604 non-null object\n",
      "signup_date               50000 non-null object\n",
      "surge_pct                 50000 non-null float64\n",
      "trips_in_first_30_days    50000 non-null int64\n",
      "ultimate_black_user       50000 non-null bool\n",
      "weekday_pct               50000 non-null float64\n",
      "last_trip_date_dt         50000 non-null datetime64[ns]\n",
      "signup_date_dt            50000 non-null datetime64[ns]\n",
      "date_diff                 50000 non-null timedelta64[ns]\n",
      "daysdiffnum               50000 non-null float64\n",
      "active                    50000 non-null float64\n",
      "dtypes: bool(1), datetime64[ns](2), float64(8), int64(1), object(4), timedelta64[ns](1)\n",
      "memory usage: 6.2+ MB\n"
     ]
    }
   ],
   "source": [
    "mpd.info()"
   ]
  },
  {
   "cell_type": "code",
   "execution_count": 219,
   "metadata": {
    "collapsed": true
   },
   "outputs": [],
   "source": [
    "for index, row in mpd.iterrows():\n",
    "        if row['daysdiffnum'] >= 180:\n",
    "                mpd.loc[index,'active_after_sixmnth']=1 \n",
    "        else:\n",
    "                mpd.loc[index,'active_after_sixmnth']=0\n",
    "        "
   ]
  },
  {
   "cell_type": "code",
   "execution_count": 87,
   "metadata": {
    "collapsed": false
   },
   "outputs": [
    {
     "data": {
      "text/plain": [
       "avg_dist                                 2.04\n",
       "avg_rating_by_driver                        5\n",
       "avg_rating_of_driver                        5\n",
       "avg_surge                                   1\n",
       "city                               Winterfell\n",
       "last_trip_date                     2014-01-29\n",
       "phone                                  iPhone\n",
       "signup_date                        2014-01-28\n",
       "surge_pct                                   0\n",
       "trips_in_first_30_days                      2\n",
       "ultimate_black_user                     False\n",
       "weekday_pct                               100\n",
       "last_trip_date_dt         2014-01-29 00:00:00\n",
       "signup_date_dt            2014-01-28 00:00:00\n",
       "date_diff                     1 days 00:00:00\n",
       "daysdiffnum                                 1\n",
       "active                                      1\n",
       "active_after_sixmnth                        0\n",
       "Name: 7, dtype: object"
      ]
     },
     "execution_count": 87,
     "metadata": {},
     "output_type": "execute_result"
    }
   ],
   "source": [
    "mpd.iloc[7]"
   ]
  },
  {
   "cell_type": "code",
   "execution_count": 267,
   "metadata": {
    "collapsed": false
   },
   "outputs": [],
   "source": [
    "six_month_active = mpd.loc[mpd['active_after_sixmnth']==1,:]"
   ]
  },
  {
   "cell_type": "code",
   "execution_count": 271,
   "metadata": {
    "collapsed": false
   },
   "outputs": [],
   "source": [
    "six_month_active_cnt = six_month_active['active_after_sixmnth'].count()"
   ]
  },
  {
   "cell_type": "code",
   "execution_count": 272,
   "metadata": {
    "collapsed": false
   },
   "outputs": [],
   "source": [
    "fraction_of_user_active_sixmonths = six_month_active_cnt/(total_active)"
   ]
  },
  {
   "cell_type": "code",
   "execution_count": 273,
   "metadata": {
    "collapsed": false
   },
   "outputs": [
    {
     "data": {
      "text/plain": [
       "0.0016999999999999999"
      ]
     },
     "execution_count": 273,
     "metadata": {},
     "output_type": "execute_result"
    }
   ],
   "source": [
    "fraction_of_user_active_sixmonths"
   ]
  },
  {
   "cell_type": "code",
   "execution_count": 220,
   "metadata": {
    "collapsed": false
   },
   "outputs": [],
   "source": [
    "\n",
    "for index, row in mpd.iterrows():\n",
    "            dt = row['signup_date_dt']\n",
    "            mpd.loc[index,'signup_day_of_week'] = dt.weekday()\n",
    "            \n",
    "        "
   ]
  },
  {
   "cell_type": "code",
   "execution_count": 141,
   "metadata": {
    "collapsed": true
   },
   "outputs": [],
   "source": [
    "'''\n",
    "\n",
    "\n",
    "for index, row in mpd.iterrows():\n",
    "            dt = row['signup_date_dt']\n",
    "            mpd.loc[index,'signup_month_of_year'] = dt.month\n",
    "'''            \n",
    "        \n"
   ]
  },
  {
   "cell_type": "code",
   "execution_count": 185,
   "metadata": {
    "collapsed": false
   },
   "outputs": [
    {
     "data": {
      "text/html": [
       "<div>\n",
       "<style>\n",
       "    .dataframe thead tr:only-child th {\n",
       "        text-align: right;\n",
       "    }\n",
       "\n",
       "    .dataframe thead th {\n",
       "        text-align: left;\n",
       "    }\n",
       "\n",
       "    .dataframe tbody tr th {\n",
       "        vertical-align: top;\n",
       "    }\n",
       "</style>\n",
       "<table border=\"1\" class=\"dataframe\">\n",
       "  <thead>\n",
       "    <tr style=\"text-align: right;\">\n",
       "      <th></th>\n",
       "      <th>avg_dist</th>\n",
       "      <th>avg_rating_by_driver</th>\n",
       "      <th>avg_rating_of_driver</th>\n",
       "      <th>avg_surge</th>\n",
       "      <th>city</th>\n",
       "      <th>last_trip_date</th>\n",
       "      <th>phone</th>\n",
       "      <th>signup_date</th>\n",
       "      <th>surge_pct</th>\n",
       "      <th>trips_in_first_30_days</th>\n",
       "      <th>ultimate_black_user</th>\n",
       "      <th>weekday_pct</th>\n",
       "      <th>last_trip_date_dt</th>\n",
       "      <th>signup_date_dt</th>\n",
       "      <th>date_diff</th>\n",
       "      <th>daysdiffnum</th>\n",
       "      <th>active</th>\n",
       "      <th>active_after_sixmnth</th>\n",
       "      <th>signup_day_of_week</th>\n",
       "    </tr>\n",
       "  </thead>\n",
       "  <tbody>\n",
       "    <tr>\n",
       "      <th>0</th>\n",
       "      <td>3.67</td>\n",
       "      <td>5.0</td>\n",
       "      <td>4.7</td>\n",
       "      <td>1.10</td>\n",
       "      <td>King's Landing</td>\n",
       "      <td>2014-06-17</td>\n",
       "      <td>iPhone</td>\n",
       "      <td>2014-01-25</td>\n",
       "      <td>15.4</td>\n",
       "      <td>4</td>\n",
       "      <td>True</td>\n",
       "      <td>46.2</td>\n",
       "      <td>2014-06-17</td>\n",
       "      <td>2014-01-25</td>\n",
       "      <td>143 days</td>\n",
       "      <td>143.0</td>\n",
       "      <td>1.0</td>\n",
       "      <td>0.0</td>\n",
       "      <td>5.0</td>\n",
       "    </tr>\n",
       "    <tr>\n",
       "      <th>1</th>\n",
       "      <td>8.26</td>\n",
       "      <td>5.0</td>\n",
       "      <td>5.0</td>\n",
       "      <td>1.00</td>\n",
       "      <td>Astapor</td>\n",
       "      <td>2014-05-05</td>\n",
       "      <td>Android</td>\n",
       "      <td>2014-01-29</td>\n",
       "      <td>0.0</td>\n",
       "      <td>0</td>\n",
       "      <td>False</td>\n",
       "      <td>50.0</td>\n",
       "      <td>2014-05-05</td>\n",
       "      <td>2014-01-29</td>\n",
       "      <td>96 days</td>\n",
       "      <td>96.0</td>\n",
       "      <td>0.0</td>\n",
       "      <td>0.0</td>\n",
       "      <td>2.0</td>\n",
       "    </tr>\n",
       "    <tr>\n",
       "      <th>2</th>\n",
       "      <td>0.77</td>\n",
       "      <td>5.0</td>\n",
       "      <td>4.3</td>\n",
       "      <td>1.00</td>\n",
       "      <td>Astapor</td>\n",
       "      <td>2014-01-07</td>\n",
       "      <td>iPhone</td>\n",
       "      <td>2014-01-06</td>\n",
       "      <td>0.0</td>\n",
       "      <td>3</td>\n",
       "      <td>False</td>\n",
       "      <td>100.0</td>\n",
       "      <td>2014-01-07</td>\n",
       "      <td>2014-01-06</td>\n",
       "      <td>1 days</td>\n",
       "      <td>1.0</td>\n",
       "      <td>1.0</td>\n",
       "      <td>0.0</td>\n",
       "      <td>0.0</td>\n",
       "    </tr>\n",
       "    <tr>\n",
       "      <th>3</th>\n",
       "      <td>2.36</td>\n",
       "      <td>4.9</td>\n",
       "      <td>4.6</td>\n",
       "      <td>1.14</td>\n",
       "      <td>King's Landing</td>\n",
       "      <td>2014-06-29</td>\n",
       "      <td>iPhone</td>\n",
       "      <td>2014-01-10</td>\n",
       "      <td>20.0</td>\n",
       "      <td>9</td>\n",
       "      <td>True</td>\n",
       "      <td>80.0</td>\n",
       "      <td>2014-06-29</td>\n",
       "      <td>2014-01-10</td>\n",
       "      <td>170 days</td>\n",
       "      <td>170.0</td>\n",
       "      <td>1.0</td>\n",
       "      <td>0.0</td>\n",
       "      <td>4.0</td>\n",
       "    </tr>\n",
       "    <tr>\n",
       "      <th>4</th>\n",
       "      <td>3.13</td>\n",
       "      <td>4.9</td>\n",
       "      <td>4.4</td>\n",
       "      <td>1.19</td>\n",
       "      <td>Winterfell</td>\n",
       "      <td>2014-03-15</td>\n",
       "      <td>Android</td>\n",
       "      <td>2014-01-27</td>\n",
       "      <td>11.8</td>\n",
       "      <td>14</td>\n",
       "      <td>False</td>\n",
       "      <td>82.4</td>\n",
       "      <td>2014-03-15</td>\n",
       "      <td>2014-01-27</td>\n",
       "      <td>47 days</td>\n",
       "      <td>47.0</td>\n",
       "      <td>1.0</td>\n",
       "      <td>0.0</td>\n",
       "      <td>0.0</td>\n",
       "    </tr>\n",
       "  </tbody>\n",
       "</table>\n",
       "</div>"
      ],
      "text/plain": [
       "   avg_dist  avg_rating_by_driver  avg_rating_of_driver  avg_surge  \\\n",
       "0      3.67                   5.0                   4.7       1.10   \n",
       "1      8.26                   5.0                   5.0       1.00   \n",
       "2      0.77                   5.0                   4.3       1.00   \n",
       "3      2.36                   4.9                   4.6       1.14   \n",
       "4      3.13                   4.9                   4.4       1.19   \n",
       "\n",
       "             city last_trip_date    phone signup_date  surge_pct  \\\n",
       "0  King's Landing     2014-06-17   iPhone  2014-01-25       15.4   \n",
       "1         Astapor     2014-05-05  Android  2014-01-29        0.0   \n",
       "2         Astapor     2014-01-07   iPhone  2014-01-06        0.0   \n",
       "3  King's Landing     2014-06-29   iPhone  2014-01-10       20.0   \n",
       "4      Winterfell     2014-03-15  Android  2014-01-27       11.8   \n",
       "\n",
       "   trips_in_first_30_days  ultimate_black_user  weekday_pct last_trip_date_dt  \\\n",
       "0                       4                 True         46.2        2014-06-17   \n",
       "1                       0                False         50.0        2014-05-05   \n",
       "2                       3                False        100.0        2014-01-07   \n",
       "3                       9                 True         80.0        2014-06-29   \n",
       "4                      14                False         82.4        2014-03-15   \n",
       "\n",
       "  signup_date_dt date_diff  daysdiffnum  active  active_after_sixmnth  \\\n",
       "0     2014-01-25  143 days        143.0     1.0                   0.0   \n",
       "1     2014-01-29   96 days         96.0     0.0                   0.0   \n",
       "2     2014-01-06    1 days          1.0     1.0                   0.0   \n",
       "3     2014-01-10  170 days        170.0     1.0                   0.0   \n",
       "4     2014-01-27   47 days         47.0     1.0                   0.0   \n",
       "\n",
       "   signup_day_of_week  \n",
       "0                 5.0  \n",
       "1                 2.0  \n",
       "2                 0.0  \n",
       "3                 4.0  \n",
       "4                 0.0  "
      ]
     },
     "execution_count": 185,
     "metadata": {},
     "output_type": "execute_result"
    }
   ],
   "source": [
    "mpd.head()"
   ]
  },
  {
   "cell_type": "markdown",
   "metadata": {},
   "source": [
    "#### Avg_rating_by_driver "
   ]
  },
  {
   "cell_type": "code",
   "execution_count": 113,
   "metadata": {
    "collapsed": false
   },
   "outputs": [
    {
     "data": {
      "text/plain": [
       "array([ 5. ,  4.9,  4. ,  3. ,  4.8,  4.7,  4.5,  4.2,  nan,  4.4,  4.6,\n",
       "        3.7,  4.3,  3.5,  2. ,  3.8,  2.5,  4.1,  3.9,  1. ,  3.3,  3.4,\n",
       "        3.6,  3.2,  2.3,  2.8,  1.5,  2.7])"
      ]
     },
     "execution_count": 113,
     "metadata": {},
     "output_type": "execute_result"
    }
   ],
   "source": [
    "mpd.avg_rating_by_driver.unique()"
   ]
  },
  {
   "cell_type": "code",
   "execution_count": 114,
   "metadata": {
    "collapsed": false
   },
   "outputs": [
    {
     "data": {
      "text/html": [
       "<div>\n",
       "<style>\n",
       "    .dataframe thead tr:only-child th {\n",
       "        text-align: right;\n",
       "    }\n",
       "\n",
       "    .dataframe thead th {\n",
       "        text-align: left;\n",
       "    }\n",
       "\n",
       "    .dataframe tbody tr th {\n",
       "        vertical-align: top;\n",
       "    }\n",
       "</style>\n",
       "<table border=\"1\" class=\"dataframe\">\n",
       "  <thead>\n",
       "    <tr style=\"text-align: right;\">\n",
       "      <th></th>\n",
       "      <th>avg_dist</th>\n",
       "      <th>avg_rating_by_driver</th>\n",
       "      <th>avg_rating_of_driver</th>\n",
       "      <th>avg_surge</th>\n",
       "      <th>city</th>\n",
       "      <th>last_trip_date</th>\n",
       "      <th>phone</th>\n",
       "      <th>signup_date</th>\n",
       "      <th>surge_pct</th>\n",
       "      <th>trips_in_first_30_days</th>\n",
       "      <th>ultimate_black_user</th>\n",
       "      <th>weekday_pct</th>\n",
       "      <th>last_trip_date_dt</th>\n",
       "      <th>signup_date_dt</th>\n",
       "      <th>date_diff</th>\n",
       "      <th>daysdiffnum</th>\n",
       "      <th>active</th>\n",
       "    </tr>\n",
       "  </thead>\n",
       "  <tbody>\n",
       "    <tr>\n",
       "      <th>90</th>\n",
       "      <td>6.28</td>\n",
       "      <td>NaN</td>\n",
       "      <td>5.0</td>\n",
       "      <td>1.00</td>\n",
       "      <td>Winterfell</td>\n",
       "      <td>2014-02-09</td>\n",
       "      <td>iPhone</td>\n",
       "      <td>2014-01-10</td>\n",
       "      <td>0.0</td>\n",
       "      <td>1</td>\n",
       "      <td>False</td>\n",
       "      <td>0.0</td>\n",
       "      <td>2014-02-09</td>\n",
       "      <td>2014-01-10</td>\n",
       "      <td>30 days</td>\n",
       "      <td>30.0</td>\n",
       "      <td>1.0</td>\n",
       "    </tr>\n",
       "    <tr>\n",
       "      <th>274</th>\n",
       "      <td>6.00</td>\n",
       "      <td>NaN</td>\n",
       "      <td>2.0</td>\n",
       "      <td>4.00</td>\n",
       "      <td>Astapor</td>\n",
       "      <td>2014-02-09</td>\n",
       "      <td>iPhone</td>\n",
       "      <td>2014-01-25</td>\n",
       "      <td>100.0</td>\n",
       "      <td>1</td>\n",
       "      <td>False</td>\n",
       "      <td>0.0</td>\n",
       "      <td>2014-02-09</td>\n",
       "      <td>2014-01-25</td>\n",
       "      <td>15 days</td>\n",
       "      <td>15.0</td>\n",
       "      <td>1.0</td>\n",
       "    </tr>\n",
       "    <tr>\n",
       "      <th>277</th>\n",
       "      <td>1.82</td>\n",
       "      <td>NaN</td>\n",
       "      <td>NaN</td>\n",
       "      <td>1.00</td>\n",
       "      <td>Winterfell</td>\n",
       "      <td>2014-01-26</td>\n",
       "      <td>iPhone</td>\n",
       "      <td>2014-01-25</td>\n",
       "      <td>0.0</td>\n",
       "      <td>1</td>\n",
       "      <td>False</td>\n",
       "      <td>0.0</td>\n",
       "      <td>2014-01-26</td>\n",
       "      <td>2014-01-25</td>\n",
       "      <td>1 days</td>\n",
       "      <td>1.0</td>\n",
       "      <td>1.0</td>\n",
       "    </tr>\n",
       "    <tr>\n",
       "      <th>536</th>\n",
       "      <td>1.41</td>\n",
       "      <td>NaN</td>\n",
       "      <td>5.0</td>\n",
       "      <td>1.00</td>\n",
       "      <td>Winterfell</td>\n",
       "      <td>2014-02-08</td>\n",
       "      <td>Android</td>\n",
       "      <td>2014-01-18</td>\n",
       "      <td>0.0</td>\n",
       "      <td>1</td>\n",
       "      <td>False</td>\n",
       "      <td>100.0</td>\n",
       "      <td>2014-02-08</td>\n",
       "      <td>2014-01-18</td>\n",
       "      <td>21 days</td>\n",
       "      <td>21.0</td>\n",
       "      <td>1.0</td>\n",
       "    </tr>\n",
       "    <tr>\n",
       "      <th>857</th>\n",
       "      <td>0.42</td>\n",
       "      <td>NaN</td>\n",
       "      <td>4.0</td>\n",
       "      <td>1.00</td>\n",
       "      <td>Winterfell</td>\n",
       "      <td>2014-03-16</td>\n",
       "      <td>iPhone</td>\n",
       "      <td>2014-01-11</td>\n",
       "      <td>0.0</td>\n",
       "      <td>0</td>\n",
       "      <td>False</td>\n",
       "      <td>0.0</td>\n",
       "      <td>2014-03-16</td>\n",
       "      <td>2014-01-11</td>\n",
       "      <td>64 days</td>\n",
       "      <td>64.0</td>\n",
       "      <td>0.0</td>\n",
       "    </tr>\n",
       "    <tr>\n",
       "      <th>1021</th>\n",
       "      <td>2.33</td>\n",
       "      <td>NaN</td>\n",
       "      <td>NaN</td>\n",
       "      <td>1.75</td>\n",
       "      <td>King's Landing</td>\n",
       "      <td>2014-06-13</td>\n",
       "      <td>iPhone</td>\n",
       "      <td>2014-01-23</td>\n",
       "      <td>100.0</td>\n",
       "      <td>0</td>\n",
       "      <td>True</td>\n",
       "      <td>100.0</td>\n",
       "      <td>2014-06-13</td>\n",
       "      <td>2014-01-23</td>\n",
       "      <td>141 days</td>\n",
       "      <td>141.0</td>\n",
       "      <td>0.0</td>\n",
       "    </tr>\n",
       "    <tr>\n",
       "      <th>1073</th>\n",
       "      <td>9.21</td>\n",
       "      <td>NaN</td>\n",
       "      <td>5.0</td>\n",
       "      <td>1.00</td>\n",
       "      <td>King's Landing</td>\n",
       "      <td>2014-04-27</td>\n",
       "      <td>Android</td>\n",
       "      <td>2014-01-19</td>\n",
       "      <td>0.0</td>\n",
       "      <td>0</td>\n",
       "      <td>False</td>\n",
       "      <td>0.0</td>\n",
       "      <td>2014-04-27</td>\n",
       "      <td>2014-01-19</td>\n",
       "      <td>98 days</td>\n",
       "      <td>98.0</td>\n",
       "      <td>0.0</td>\n",
       "    </tr>\n",
       "    <tr>\n",
       "      <th>1164</th>\n",
       "      <td>2.57</td>\n",
       "      <td>NaN</td>\n",
       "      <td>2.0</td>\n",
       "      <td>1.00</td>\n",
       "      <td>Winterfell</td>\n",
       "      <td>2014-01-25</td>\n",
       "      <td>Android</td>\n",
       "      <td>2014-01-24</td>\n",
       "      <td>0.0</td>\n",
       "      <td>1</td>\n",
       "      <td>True</td>\n",
       "      <td>100.0</td>\n",
       "      <td>2014-01-25</td>\n",
       "      <td>2014-01-24</td>\n",
       "      <td>1 days</td>\n",
       "      <td>1.0</td>\n",
       "      <td>1.0</td>\n",
       "    </tr>\n",
       "    <tr>\n",
       "      <th>1181</th>\n",
       "      <td>24.91</td>\n",
       "      <td>NaN</td>\n",
       "      <td>3.0</td>\n",
       "      <td>1.00</td>\n",
       "      <td>Winterfell</td>\n",
       "      <td>2014-01-25</td>\n",
       "      <td>Android</td>\n",
       "      <td>2014-01-25</td>\n",
       "      <td>0.0</td>\n",
       "      <td>1</td>\n",
       "      <td>False</td>\n",
       "      <td>0.0</td>\n",
       "      <td>2014-01-25</td>\n",
       "      <td>2014-01-25</td>\n",
       "      <td>0 days</td>\n",
       "      <td>0.0</td>\n",
       "      <td>1.0</td>\n",
       "    </tr>\n",
       "    <tr>\n",
       "      <th>1205</th>\n",
       "      <td>8.94</td>\n",
       "      <td>NaN</td>\n",
       "      <td>NaN</td>\n",
       "      <td>1.00</td>\n",
       "      <td>Winterfell</td>\n",
       "      <td>2014-02-22</td>\n",
       "      <td>Android</td>\n",
       "      <td>2014-01-18</td>\n",
       "      <td>0.0</td>\n",
       "      <td>0</td>\n",
       "      <td>False</td>\n",
       "      <td>100.0</td>\n",
       "      <td>2014-02-22</td>\n",
       "      <td>2014-01-18</td>\n",
       "      <td>35 days</td>\n",
       "      <td>35.0</td>\n",
       "      <td>0.0</td>\n",
       "    </tr>\n",
       "    <tr>\n",
       "      <th>1364</th>\n",
       "      <td>3.60</td>\n",
       "      <td>NaN</td>\n",
       "      <td>3.0</td>\n",
       "      <td>1.00</td>\n",
       "      <td>King's Landing</td>\n",
       "      <td>2014-01-25</td>\n",
       "      <td>iPhone</td>\n",
       "      <td>2014-01-24</td>\n",
       "      <td>0.0</td>\n",
       "      <td>2</td>\n",
       "      <td>False</td>\n",
       "      <td>100.0</td>\n",
       "      <td>2014-01-25</td>\n",
       "      <td>2014-01-24</td>\n",
       "      <td>1 days</td>\n",
       "      <td>1.0</td>\n",
       "      <td>1.0</td>\n",
       "    </tr>\n",
       "    <tr>\n",
       "      <th>1420</th>\n",
       "      <td>14.77</td>\n",
       "      <td>NaN</td>\n",
       "      <td>NaN</td>\n",
       "      <td>1.00</td>\n",
       "      <td>King's Landing</td>\n",
       "      <td>2014-01-23</td>\n",
       "      <td>iPhone</td>\n",
       "      <td>2014-01-13</td>\n",
       "      <td>0.0</td>\n",
       "      <td>1</td>\n",
       "      <td>False</td>\n",
       "      <td>100.0</td>\n",
       "      <td>2014-01-23</td>\n",
       "      <td>2014-01-13</td>\n",
       "      <td>10 days</td>\n",
       "      <td>10.0</td>\n",
       "      <td>1.0</td>\n",
       "    </tr>\n",
       "    <tr>\n",
       "      <th>1679</th>\n",
       "      <td>1.99</td>\n",
       "      <td>NaN</td>\n",
       "      <td>5.0</td>\n",
       "      <td>1.00</td>\n",
       "      <td>Winterfell</td>\n",
       "      <td>2014-01-25</td>\n",
       "      <td>Android</td>\n",
       "      <td>2014-01-25</td>\n",
       "      <td>0.0</td>\n",
       "      <td>1</td>\n",
       "      <td>True</td>\n",
       "      <td>0.0</td>\n",
       "      <td>2014-01-25</td>\n",
       "      <td>2014-01-25</td>\n",
       "      <td>0 days</td>\n",
       "      <td>0.0</td>\n",
       "      <td>1.0</td>\n",
       "    </tr>\n",
       "    <tr>\n",
       "      <th>1726</th>\n",
       "      <td>0.94</td>\n",
       "      <td>NaN</td>\n",
       "      <td>4.0</td>\n",
       "      <td>1.00</td>\n",
       "      <td>Astapor</td>\n",
       "      <td>2014-01-26</td>\n",
       "      <td>iPhone</td>\n",
       "      <td>2014-01-25</td>\n",
       "      <td>0.0</td>\n",
       "      <td>1</td>\n",
       "      <td>True</td>\n",
       "      <td>0.0</td>\n",
       "      <td>2014-01-26</td>\n",
       "      <td>2014-01-25</td>\n",
       "      <td>1 days</td>\n",
       "      <td>1.0</td>\n",
       "      <td>1.0</td>\n",
       "    </tr>\n",
       "    <tr>\n",
       "      <th>2112</th>\n",
       "      <td>1.36</td>\n",
       "      <td>NaN</td>\n",
       "      <td>NaN</td>\n",
       "      <td>1.00</td>\n",
       "      <td>Winterfell</td>\n",
       "      <td>2014-01-25</td>\n",
       "      <td>iPhone</td>\n",
       "      <td>2014-01-18</td>\n",
       "      <td>0.0</td>\n",
       "      <td>1</td>\n",
       "      <td>False</td>\n",
       "      <td>0.0</td>\n",
       "      <td>2014-01-25</td>\n",
       "      <td>2014-01-18</td>\n",
       "      <td>7 days</td>\n",
       "      <td>7.0</td>\n",
       "      <td>1.0</td>\n",
       "    </tr>\n",
       "    <tr>\n",
       "      <th>2479</th>\n",
       "      <td>2.06</td>\n",
       "      <td>NaN</td>\n",
       "      <td>5.0</td>\n",
       "      <td>1.00</td>\n",
       "      <td>Astapor</td>\n",
       "      <td>2014-02-02</td>\n",
       "      <td>iPhone</td>\n",
       "      <td>2014-01-31</td>\n",
       "      <td>0.0</td>\n",
       "      <td>1</td>\n",
       "      <td>False</td>\n",
       "      <td>0.0</td>\n",
       "      <td>2014-02-02</td>\n",
       "      <td>2014-01-31</td>\n",
       "      <td>2 days</td>\n",
       "      <td>2.0</td>\n",
       "      <td>1.0</td>\n",
       "    </tr>\n",
       "    <tr>\n",
       "      <th>2673</th>\n",
       "      <td>1.65</td>\n",
       "      <td>NaN</td>\n",
       "      <td>NaN</td>\n",
       "      <td>1.75</td>\n",
       "      <td>Astapor</td>\n",
       "      <td>2014-05-16</td>\n",
       "      <td>iPhone</td>\n",
       "      <td>2014-01-11</td>\n",
       "      <td>100.0</td>\n",
       "      <td>0</td>\n",
       "      <td>False</td>\n",
       "      <td>100.0</td>\n",
       "      <td>2014-05-16</td>\n",
       "      <td>2014-01-11</td>\n",
       "      <td>125 days</td>\n",
       "      <td>125.0</td>\n",
       "      <td>0.0</td>\n",
       "    </tr>\n",
       "    <tr>\n",
       "      <th>3071</th>\n",
       "      <td>23.16</td>\n",
       "      <td>NaN</td>\n",
       "      <td>5.0</td>\n",
       "      <td>1.00</td>\n",
       "      <td>Winterfell</td>\n",
       "      <td>2014-02-08</td>\n",
       "      <td>iPhone</td>\n",
       "      <td>2014-01-14</td>\n",
       "      <td>0.0</td>\n",
       "      <td>1</td>\n",
       "      <td>False</td>\n",
       "      <td>100.0</td>\n",
       "      <td>2014-02-08</td>\n",
       "      <td>2014-01-14</td>\n",
       "      <td>25 days</td>\n",
       "      <td>25.0</td>\n",
       "      <td>1.0</td>\n",
       "    </tr>\n",
       "    <tr>\n",
       "      <th>3126</th>\n",
       "      <td>17.52</td>\n",
       "      <td>NaN</td>\n",
       "      <td>NaN</td>\n",
       "      <td>1.00</td>\n",
       "      <td>Winterfell</td>\n",
       "      <td>2014-06-26</td>\n",
       "      <td>iPhone</td>\n",
       "      <td>2014-01-26</td>\n",
       "      <td>0.0</td>\n",
       "      <td>0</td>\n",
       "      <td>True</td>\n",
       "      <td>100.0</td>\n",
       "      <td>2014-06-26</td>\n",
       "      <td>2014-01-26</td>\n",
       "      <td>151 days</td>\n",
       "      <td>151.0</td>\n",
       "      <td>0.0</td>\n",
       "    </tr>\n",
       "    <tr>\n",
       "      <th>3299</th>\n",
       "      <td>2.21</td>\n",
       "      <td>NaN</td>\n",
       "      <td>NaN</td>\n",
       "      <td>1.00</td>\n",
       "      <td>Winterfell</td>\n",
       "      <td>2014-01-19</td>\n",
       "      <td>Android</td>\n",
       "      <td>2014-01-18</td>\n",
       "      <td>0.0</td>\n",
       "      <td>1</td>\n",
       "      <td>False</td>\n",
       "      <td>0.0</td>\n",
       "      <td>2014-01-19</td>\n",
       "      <td>2014-01-18</td>\n",
       "      <td>1 days</td>\n",
       "      <td>1.0</td>\n",
       "      <td>1.0</td>\n",
       "    </tr>\n",
       "    <tr>\n",
       "      <th>3818</th>\n",
       "      <td>4.76</td>\n",
       "      <td>NaN</td>\n",
       "      <td>5.0</td>\n",
       "      <td>2.00</td>\n",
       "      <td>King's Landing</td>\n",
       "      <td>2014-02-09</td>\n",
       "      <td>iPhone</td>\n",
       "      <td>2014-01-19</td>\n",
       "      <td>100.0</td>\n",
       "      <td>1</td>\n",
       "      <td>False</td>\n",
       "      <td>0.0</td>\n",
       "      <td>2014-02-09</td>\n",
       "      <td>2014-01-19</td>\n",
       "      <td>21 days</td>\n",
       "      <td>21.0</td>\n",
       "      <td>1.0</td>\n",
       "    </tr>\n",
       "    <tr>\n",
       "      <th>3866</th>\n",
       "      <td>5.71</td>\n",
       "      <td>NaN</td>\n",
       "      <td>NaN</td>\n",
       "      <td>1.00</td>\n",
       "      <td>King's Landing</td>\n",
       "      <td>2014-01-25</td>\n",
       "      <td>None</td>\n",
       "      <td>2014-01-24</td>\n",
       "      <td>0.0</td>\n",
       "      <td>1</td>\n",
       "      <td>False</td>\n",
       "      <td>0.0</td>\n",
       "      <td>2014-01-25</td>\n",
       "      <td>2014-01-24</td>\n",
       "      <td>1 days</td>\n",
       "      <td>1.0</td>\n",
       "      <td>1.0</td>\n",
       "    </tr>\n",
       "    <tr>\n",
       "      <th>3958</th>\n",
       "      <td>4.69</td>\n",
       "      <td>NaN</td>\n",
       "      <td>5.0</td>\n",
       "      <td>3.00</td>\n",
       "      <td>Astapor</td>\n",
       "      <td>2014-01-26</td>\n",
       "      <td>iPhone</td>\n",
       "      <td>2014-01-25</td>\n",
       "      <td>100.0</td>\n",
       "      <td>1</td>\n",
       "      <td>False</td>\n",
       "      <td>0.0</td>\n",
       "      <td>2014-01-26</td>\n",
       "      <td>2014-01-25</td>\n",
       "      <td>1 days</td>\n",
       "      <td>1.0</td>\n",
       "      <td>1.0</td>\n",
       "    </tr>\n",
       "    <tr>\n",
       "      <th>4481</th>\n",
       "      <td>5.19</td>\n",
       "      <td>NaN</td>\n",
       "      <td>NaN</td>\n",
       "      <td>1.50</td>\n",
       "      <td>King's Landing</td>\n",
       "      <td>2014-05-19</td>\n",
       "      <td>iPhone</td>\n",
       "      <td>2014-01-22</td>\n",
       "      <td>100.0</td>\n",
       "      <td>0</td>\n",
       "      <td>False</td>\n",
       "      <td>0.0</td>\n",
       "      <td>2014-05-19</td>\n",
       "      <td>2014-01-22</td>\n",
       "      <td>117 days</td>\n",
       "      <td>117.0</td>\n",
       "      <td>0.0</td>\n",
       "    </tr>\n",
       "    <tr>\n",
       "      <th>4803</th>\n",
       "      <td>0.05</td>\n",
       "      <td>NaN</td>\n",
       "      <td>5.0</td>\n",
       "      <td>1.00</td>\n",
       "      <td>Winterfell</td>\n",
       "      <td>2014-01-16</td>\n",
       "      <td>iPhone</td>\n",
       "      <td>2014-01-16</td>\n",
       "      <td>0.0</td>\n",
       "      <td>1</td>\n",
       "      <td>False</td>\n",
       "      <td>100.0</td>\n",
       "      <td>2014-01-16</td>\n",
       "      <td>2014-01-16</td>\n",
       "      <td>0 days</td>\n",
       "      <td>0.0</td>\n",
       "      <td>1.0</td>\n",
       "    </tr>\n",
       "    <tr>\n",
       "      <th>5058</th>\n",
       "      <td>3.17</td>\n",
       "      <td>NaN</td>\n",
       "      <td>NaN</td>\n",
       "      <td>1.00</td>\n",
       "      <td>Winterfell</td>\n",
       "      <td>2014-01-26</td>\n",
       "      <td>iPhone</td>\n",
       "      <td>2014-01-26</td>\n",
       "      <td>0.0</td>\n",
       "      <td>1</td>\n",
       "      <td>True</td>\n",
       "      <td>0.0</td>\n",
       "      <td>2014-01-26</td>\n",
       "      <td>2014-01-26</td>\n",
       "      <td>0 days</td>\n",
       "      <td>0.0</td>\n",
       "      <td>1.0</td>\n",
       "    </tr>\n",
       "    <tr>\n",
       "      <th>5151</th>\n",
       "      <td>4.03</td>\n",
       "      <td>NaN</td>\n",
       "      <td>5.0</td>\n",
       "      <td>1.00</td>\n",
       "      <td>Winterfell</td>\n",
       "      <td>2014-02-08</td>\n",
       "      <td>iPhone</td>\n",
       "      <td>2014-01-04</td>\n",
       "      <td>0.0</td>\n",
       "      <td>0</td>\n",
       "      <td>False</td>\n",
       "      <td>0.0</td>\n",
       "      <td>2014-02-08</td>\n",
       "      <td>2014-01-04</td>\n",
       "      <td>35 days</td>\n",
       "      <td>35.0</td>\n",
       "      <td>0.0</td>\n",
       "    </tr>\n",
       "    <tr>\n",
       "      <th>5611</th>\n",
       "      <td>0.90</td>\n",
       "      <td>NaN</td>\n",
       "      <td>5.0</td>\n",
       "      <td>1.00</td>\n",
       "      <td>King's Landing</td>\n",
       "      <td>2014-05-29</td>\n",
       "      <td>iPhone</td>\n",
       "      <td>2014-01-04</td>\n",
       "      <td>0.0</td>\n",
       "      <td>0</td>\n",
       "      <td>False</td>\n",
       "      <td>100.0</td>\n",
       "      <td>2014-05-29</td>\n",
       "      <td>2014-01-04</td>\n",
       "      <td>145 days</td>\n",
       "      <td>145.0</td>\n",
       "      <td>0.0</td>\n",
       "    </tr>\n",
       "    <tr>\n",
       "      <th>5641</th>\n",
       "      <td>2.42</td>\n",
       "      <td>NaN</td>\n",
       "      <td>5.0</td>\n",
       "      <td>1.00</td>\n",
       "      <td>Winterfell</td>\n",
       "      <td>2014-06-27</td>\n",
       "      <td>Android</td>\n",
       "      <td>2014-01-22</td>\n",
       "      <td>0.0</td>\n",
       "      <td>0</td>\n",
       "      <td>True</td>\n",
       "      <td>100.0</td>\n",
       "      <td>2014-06-27</td>\n",
       "      <td>2014-01-22</td>\n",
       "      <td>156 days</td>\n",
       "      <td>156.0</td>\n",
       "      <td>0.0</td>\n",
       "    </tr>\n",
       "    <tr>\n",
       "      <th>5820</th>\n",
       "      <td>3.35</td>\n",
       "      <td>NaN</td>\n",
       "      <td>5.0</td>\n",
       "      <td>2.00</td>\n",
       "      <td>King's Landing</td>\n",
       "      <td>2014-06-02</td>\n",
       "      <td>iPhone</td>\n",
       "      <td>2014-01-05</td>\n",
       "      <td>100.0</td>\n",
       "      <td>0</td>\n",
       "      <td>False</td>\n",
       "      <td>100.0</td>\n",
       "      <td>2014-06-02</td>\n",
       "      <td>2014-01-05</td>\n",
       "      <td>148 days</td>\n",
       "      <td>148.0</td>\n",
       "      <td>0.0</td>\n",
       "    </tr>\n",
       "    <tr>\n",
       "      <th>...</th>\n",
       "      <td>...</td>\n",
       "      <td>...</td>\n",
       "      <td>...</td>\n",
       "      <td>...</td>\n",
       "      <td>...</td>\n",
       "      <td>...</td>\n",
       "      <td>...</td>\n",
       "      <td>...</td>\n",
       "      <td>...</td>\n",
       "      <td>...</td>\n",
       "      <td>...</td>\n",
       "      <td>...</td>\n",
       "      <td>...</td>\n",
       "      <td>...</td>\n",
       "      <td>...</td>\n",
       "      <td>...</td>\n",
       "      <td>...</td>\n",
       "    </tr>\n",
       "    <tr>\n",
       "      <th>43791</th>\n",
       "      <td>1.81</td>\n",
       "      <td>NaN</td>\n",
       "      <td>5.0</td>\n",
       "      <td>1.00</td>\n",
       "      <td>Astapor</td>\n",
       "      <td>2014-02-09</td>\n",
       "      <td>iPhone</td>\n",
       "      <td>2014-01-23</td>\n",
       "      <td>0.0</td>\n",
       "      <td>1</td>\n",
       "      <td>False</td>\n",
       "      <td>0.0</td>\n",
       "      <td>2014-02-09</td>\n",
       "      <td>2014-01-23</td>\n",
       "      <td>17 days</td>\n",
       "      <td>17.0</td>\n",
       "      <td>1.0</td>\n",
       "    </tr>\n",
       "    <tr>\n",
       "      <th>43866</th>\n",
       "      <td>4.42</td>\n",
       "      <td>NaN</td>\n",
       "      <td>4.0</td>\n",
       "      <td>1.00</td>\n",
       "      <td>Winterfell</td>\n",
       "      <td>2014-02-22</td>\n",
       "      <td>iPhone</td>\n",
       "      <td>2014-01-04</td>\n",
       "      <td>0.0</td>\n",
       "      <td>0</td>\n",
       "      <td>False</td>\n",
       "      <td>100.0</td>\n",
       "      <td>2014-02-22</td>\n",
       "      <td>2014-01-04</td>\n",
       "      <td>49 days</td>\n",
       "      <td>49.0</td>\n",
       "      <td>0.0</td>\n",
       "    </tr>\n",
       "    <tr>\n",
       "      <th>44185</th>\n",
       "      <td>1.95</td>\n",
       "      <td>NaN</td>\n",
       "      <td>5.0</td>\n",
       "      <td>1.00</td>\n",
       "      <td>Winterfell</td>\n",
       "      <td>2014-01-25</td>\n",
       "      <td>Android</td>\n",
       "      <td>2014-01-24</td>\n",
       "      <td>0.0</td>\n",
       "      <td>1</td>\n",
       "      <td>True</td>\n",
       "      <td>100.0</td>\n",
       "      <td>2014-01-25</td>\n",
       "      <td>2014-01-24</td>\n",
       "      <td>1 days</td>\n",
       "      <td>1.0</td>\n",
       "      <td>1.0</td>\n",
       "    </tr>\n",
       "    <tr>\n",
       "      <th>44188</th>\n",
       "      <td>1.79</td>\n",
       "      <td>NaN</td>\n",
       "      <td>5.0</td>\n",
       "      <td>1.00</td>\n",
       "      <td>Astapor</td>\n",
       "      <td>2014-02-08</td>\n",
       "      <td>iPhone</td>\n",
       "      <td>2014-01-26</td>\n",
       "      <td>0.0</td>\n",
       "      <td>1</td>\n",
       "      <td>False</td>\n",
       "      <td>100.0</td>\n",
       "      <td>2014-02-08</td>\n",
       "      <td>2014-01-26</td>\n",
       "      <td>13 days</td>\n",
       "      <td>13.0</td>\n",
       "      <td>1.0</td>\n",
       "    </tr>\n",
       "    <tr>\n",
       "      <th>44234</th>\n",
       "      <td>6.71</td>\n",
       "      <td>NaN</td>\n",
       "      <td>5.0</td>\n",
       "      <td>1.00</td>\n",
       "      <td>Winterfell</td>\n",
       "      <td>2014-03-30</td>\n",
       "      <td>iPhone</td>\n",
       "      <td>2014-01-23</td>\n",
       "      <td>0.0</td>\n",
       "      <td>0</td>\n",
       "      <td>False</td>\n",
       "      <td>0.0</td>\n",
       "      <td>2014-03-30</td>\n",
       "      <td>2014-01-23</td>\n",
       "      <td>66 days</td>\n",
       "      <td>66.0</td>\n",
       "      <td>0.0</td>\n",
       "    </tr>\n",
       "    <tr>\n",
       "      <th>44329</th>\n",
       "      <td>5.68</td>\n",
       "      <td>NaN</td>\n",
       "      <td>5.0</td>\n",
       "      <td>1.00</td>\n",
       "      <td>Astapor</td>\n",
       "      <td>2014-01-31</td>\n",
       "      <td>Android</td>\n",
       "      <td>2014-01-27</td>\n",
       "      <td>0.0</td>\n",
       "      <td>1</td>\n",
       "      <td>False</td>\n",
       "      <td>100.0</td>\n",
       "      <td>2014-01-31</td>\n",
       "      <td>2014-01-27</td>\n",
       "      <td>4 days</td>\n",
       "      <td>4.0</td>\n",
       "      <td>1.0</td>\n",
       "    </tr>\n",
       "    <tr>\n",
       "      <th>44332</th>\n",
       "      <td>0.92</td>\n",
       "      <td>NaN</td>\n",
       "      <td>NaN</td>\n",
       "      <td>2.00</td>\n",
       "      <td>King's Landing</td>\n",
       "      <td>2014-06-15</td>\n",
       "      <td>iPhone</td>\n",
       "      <td>2014-01-17</td>\n",
       "      <td>100.0</td>\n",
       "      <td>1</td>\n",
       "      <td>False</td>\n",
       "      <td>0.0</td>\n",
       "      <td>2014-06-15</td>\n",
       "      <td>2014-01-17</td>\n",
       "      <td>149 days</td>\n",
       "      <td>149.0</td>\n",
       "      <td>1.0</td>\n",
       "    </tr>\n",
       "    <tr>\n",
       "      <th>44471</th>\n",
       "      <td>5.05</td>\n",
       "      <td>NaN</td>\n",
       "      <td>NaN</td>\n",
       "      <td>1.00</td>\n",
       "      <td>Winterfell</td>\n",
       "      <td>2014-01-03</td>\n",
       "      <td>iPhone</td>\n",
       "      <td>2014-01-03</td>\n",
       "      <td>0.0</td>\n",
       "      <td>1</td>\n",
       "      <td>False</td>\n",
       "      <td>100.0</td>\n",
       "      <td>2014-01-03</td>\n",
       "      <td>2014-01-03</td>\n",
       "      <td>0 days</td>\n",
       "      <td>0.0</td>\n",
       "      <td>1.0</td>\n",
       "    </tr>\n",
       "    <tr>\n",
       "      <th>44630</th>\n",
       "      <td>1.63</td>\n",
       "      <td>NaN</td>\n",
       "      <td>NaN</td>\n",
       "      <td>1.00</td>\n",
       "      <td>King's Landing</td>\n",
       "      <td>2014-06-17</td>\n",
       "      <td>Android</td>\n",
       "      <td>2014-01-26</td>\n",
       "      <td>0.0</td>\n",
       "      <td>2</td>\n",
       "      <td>False</td>\n",
       "      <td>100.0</td>\n",
       "      <td>2014-06-17</td>\n",
       "      <td>2014-01-26</td>\n",
       "      <td>142 days</td>\n",
       "      <td>142.0</td>\n",
       "      <td>1.0</td>\n",
       "    </tr>\n",
       "    <tr>\n",
       "      <th>44809</th>\n",
       "      <td>2.53</td>\n",
       "      <td>NaN</td>\n",
       "      <td>NaN</td>\n",
       "      <td>1.00</td>\n",
       "      <td>King's Landing</td>\n",
       "      <td>2014-06-28</td>\n",
       "      <td>iPhone</td>\n",
       "      <td>2014-01-17</td>\n",
       "      <td>0.0</td>\n",
       "      <td>0</td>\n",
       "      <td>True</td>\n",
       "      <td>100.0</td>\n",
       "      <td>2014-06-28</td>\n",
       "      <td>2014-01-17</td>\n",
       "      <td>162 days</td>\n",
       "      <td>162.0</td>\n",
       "      <td>0.0</td>\n",
       "    </tr>\n",
       "    <tr>\n",
       "      <th>45262</th>\n",
       "      <td>5.37</td>\n",
       "      <td>NaN</td>\n",
       "      <td>5.0</td>\n",
       "      <td>2.00</td>\n",
       "      <td>Astapor</td>\n",
       "      <td>2014-06-26</td>\n",
       "      <td>iPhone</td>\n",
       "      <td>2014-01-26</td>\n",
       "      <td>100.0</td>\n",
       "      <td>0</td>\n",
       "      <td>True</td>\n",
       "      <td>100.0</td>\n",
       "      <td>2014-06-26</td>\n",
       "      <td>2014-01-26</td>\n",
       "      <td>151 days</td>\n",
       "      <td>151.0</td>\n",
       "      <td>0.0</td>\n",
       "    </tr>\n",
       "    <tr>\n",
       "      <th>45340</th>\n",
       "      <td>6.29</td>\n",
       "      <td>NaN</td>\n",
       "      <td>5.0</td>\n",
       "      <td>1.00</td>\n",
       "      <td>Winterfell</td>\n",
       "      <td>2014-01-25</td>\n",
       "      <td>Android</td>\n",
       "      <td>2014-01-24</td>\n",
       "      <td>0.0</td>\n",
       "      <td>1</td>\n",
       "      <td>False</td>\n",
       "      <td>100.0</td>\n",
       "      <td>2014-01-25</td>\n",
       "      <td>2014-01-24</td>\n",
       "      <td>1 days</td>\n",
       "      <td>1.0</td>\n",
       "      <td>1.0</td>\n",
       "    </tr>\n",
       "    <tr>\n",
       "      <th>45676</th>\n",
       "      <td>15.76</td>\n",
       "      <td>NaN</td>\n",
       "      <td>4.0</td>\n",
       "      <td>1.00</td>\n",
       "      <td>Winterfell</td>\n",
       "      <td>2014-01-25</td>\n",
       "      <td>iPhone</td>\n",
       "      <td>2014-01-21</td>\n",
       "      <td>0.0</td>\n",
       "      <td>1</td>\n",
       "      <td>True</td>\n",
       "      <td>100.0</td>\n",
       "      <td>2014-01-25</td>\n",
       "      <td>2014-01-21</td>\n",
       "      <td>4 days</td>\n",
       "      <td>4.0</td>\n",
       "      <td>1.0</td>\n",
       "    </tr>\n",
       "    <tr>\n",
       "      <th>45727</th>\n",
       "      <td>7.81</td>\n",
       "      <td>NaN</td>\n",
       "      <td>2.0</td>\n",
       "      <td>1.00</td>\n",
       "      <td>Winterfell</td>\n",
       "      <td>2014-05-30</td>\n",
       "      <td>Android</td>\n",
       "      <td>2014-01-07</td>\n",
       "      <td>0.0</td>\n",
       "      <td>0</td>\n",
       "      <td>False</td>\n",
       "      <td>100.0</td>\n",
       "      <td>2014-05-30</td>\n",
       "      <td>2014-01-07</td>\n",
       "      <td>143 days</td>\n",
       "      <td>143.0</td>\n",
       "      <td>0.0</td>\n",
       "    </tr>\n",
       "    <tr>\n",
       "      <th>46387</th>\n",
       "      <td>1.25</td>\n",
       "      <td>NaN</td>\n",
       "      <td>5.0</td>\n",
       "      <td>1.00</td>\n",
       "      <td>Astapor</td>\n",
       "      <td>2014-02-08</td>\n",
       "      <td>Android</td>\n",
       "      <td>2014-01-28</td>\n",
       "      <td>0.0</td>\n",
       "      <td>1</td>\n",
       "      <td>False</td>\n",
       "      <td>100.0</td>\n",
       "      <td>2014-02-08</td>\n",
       "      <td>2014-01-28</td>\n",
       "      <td>11 days</td>\n",
       "      <td>11.0</td>\n",
       "      <td>1.0</td>\n",
       "    </tr>\n",
       "    <tr>\n",
       "      <th>46487</th>\n",
       "      <td>14.70</td>\n",
       "      <td>NaN</td>\n",
       "      <td>4.0</td>\n",
       "      <td>1.00</td>\n",
       "      <td>Winterfell</td>\n",
       "      <td>2014-02-06</td>\n",
       "      <td>iPhone</td>\n",
       "      <td>2014-01-20</td>\n",
       "      <td>0.0</td>\n",
       "      <td>1</td>\n",
       "      <td>False</td>\n",
       "      <td>100.0</td>\n",
       "      <td>2014-02-06</td>\n",
       "      <td>2014-01-20</td>\n",
       "      <td>17 days</td>\n",
       "      <td>17.0</td>\n",
       "      <td>1.0</td>\n",
       "    </tr>\n",
       "    <tr>\n",
       "      <th>46652</th>\n",
       "      <td>7.70</td>\n",
       "      <td>NaN</td>\n",
       "      <td>5.0</td>\n",
       "      <td>1.00</td>\n",
       "      <td>Astapor</td>\n",
       "      <td>2014-01-25</td>\n",
       "      <td>Android</td>\n",
       "      <td>2014-01-24</td>\n",
       "      <td>0.0</td>\n",
       "      <td>1</td>\n",
       "      <td>False</td>\n",
       "      <td>100.0</td>\n",
       "      <td>2014-01-25</td>\n",
       "      <td>2014-01-24</td>\n",
       "      <td>1 days</td>\n",
       "      <td>1.0</td>\n",
       "      <td>1.0</td>\n",
       "    </tr>\n",
       "    <tr>\n",
       "      <th>46938</th>\n",
       "      <td>1.58</td>\n",
       "      <td>NaN</td>\n",
       "      <td>NaN</td>\n",
       "      <td>1.00</td>\n",
       "      <td>Winterfell</td>\n",
       "      <td>2014-01-13</td>\n",
       "      <td>iPhone</td>\n",
       "      <td>2014-01-09</td>\n",
       "      <td>0.0</td>\n",
       "      <td>1</td>\n",
       "      <td>False</td>\n",
       "      <td>0.0</td>\n",
       "      <td>2014-01-13</td>\n",
       "      <td>2014-01-09</td>\n",
       "      <td>4 days</td>\n",
       "      <td>4.0</td>\n",
       "      <td>1.0</td>\n",
       "    </tr>\n",
       "    <tr>\n",
       "      <th>47017</th>\n",
       "      <td>10.44</td>\n",
       "      <td>NaN</td>\n",
       "      <td>5.0</td>\n",
       "      <td>1.00</td>\n",
       "      <td>Astapor</td>\n",
       "      <td>2014-04-13</td>\n",
       "      <td>Android</td>\n",
       "      <td>2014-01-18</td>\n",
       "      <td>0.0</td>\n",
       "      <td>0</td>\n",
       "      <td>False</td>\n",
       "      <td>0.0</td>\n",
       "      <td>2014-04-13</td>\n",
       "      <td>2014-01-18</td>\n",
       "      <td>85 days</td>\n",
       "      <td>85.0</td>\n",
       "      <td>0.0</td>\n",
       "    </tr>\n",
       "    <tr>\n",
       "      <th>47031</th>\n",
       "      <td>0.00</td>\n",
       "      <td>NaN</td>\n",
       "      <td>NaN</td>\n",
       "      <td>1.00</td>\n",
       "      <td>Winterfell</td>\n",
       "      <td>2014-06-07</td>\n",
       "      <td>iPhone</td>\n",
       "      <td>2014-01-26</td>\n",
       "      <td>0.0</td>\n",
       "      <td>0</td>\n",
       "      <td>False</td>\n",
       "      <td>0.0</td>\n",
       "      <td>2014-06-07</td>\n",
       "      <td>2014-01-26</td>\n",
       "      <td>132 days</td>\n",
       "      <td>132.0</td>\n",
       "      <td>0.0</td>\n",
       "    </tr>\n",
       "    <tr>\n",
       "      <th>47106</th>\n",
       "      <td>1.53</td>\n",
       "      <td>NaN</td>\n",
       "      <td>NaN</td>\n",
       "      <td>1.00</td>\n",
       "      <td>Astapor</td>\n",
       "      <td>2014-06-13</td>\n",
       "      <td>iPhone</td>\n",
       "      <td>2014-01-16</td>\n",
       "      <td>0.0</td>\n",
       "      <td>0</td>\n",
       "      <td>True</td>\n",
       "      <td>100.0</td>\n",
       "      <td>2014-06-13</td>\n",
       "      <td>2014-01-16</td>\n",
       "      <td>148 days</td>\n",
       "      <td>148.0</td>\n",
       "      <td>0.0</td>\n",
       "    </tr>\n",
       "    <tr>\n",
       "      <th>47439</th>\n",
       "      <td>5.40</td>\n",
       "      <td>NaN</td>\n",
       "      <td>5.0</td>\n",
       "      <td>1.00</td>\n",
       "      <td>Astapor</td>\n",
       "      <td>2014-01-13</td>\n",
       "      <td>Android</td>\n",
       "      <td>2014-01-10</td>\n",
       "      <td>0.0</td>\n",
       "      <td>1</td>\n",
       "      <td>False</td>\n",
       "      <td>100.0</td>\n",
       "      <td>2014-01-13</td>\n",
       "      <td>2014-01-10</td>\n",
       "      <td>3 days</td>\n",
       "      <td>3.0</td>\n",
       "      <td>1.0</td>\n",
       "    </tr>\n",
       "    <tr>\n",
       "      <th>48022</th>\n",
       "      <td>2.24</td>\n",
       "      <td>NaN</td>\n",
       "      <td>5.0</td>\n",
       "      <td>1.00</td>\n",
       "      <td>Winterfell</td>\n",
       "      <td>2014-05-18</td>\n",
       "      <td>iPhone</td>\n",
       "      <td>2014-01-19</td>\n",
       "      <td>0.0</td>\n",
       "      <td>1</td>\n",
       "      <td>True</td>\n",
       "      <td>0.0</td>\n",
       "      <td>2014-05-18</td>\n",
       "      <td>2014-01-19</td>\n",
       "      <td>119 days</td>\n",
       "      <td>119.0</td>\n",
       "      <td>1.0</td>\n",
       "    </tr>\n",
       "    <tr>\n",
       "      <th>48346</th>\n",
       "      <td>0.85</td>\n",
       "      <td>NaN</td>\n",
       "      <td>NaN</td>\n",
       "      <td>1.00</td>\n",
       "      <td>King's Landing</td>\n",
       "      <td>2014-06-29</td>\n",
       "      <td>iPhone</td>\n",
       "      <td>2014-01-11</td>\n",
       "      <td>0.0</td>\n",
       "      <td>0</td>\n",
       "      <td>True</td>\n",
       "      <td>0.0</td>\n",
       "      <td>2014-06-29</td>\n",
       "      <td>2014-01-11</td>\n",
       "      <td>169 days</td>\n",
       "      <td>169.0</td>\n",
       "      <td>0.0</td>\n",
       "    </tr>\n",
       "    <tr>\n",
       "      <th>49192</th>\n",
       "      <td>4.67</td>\n",
       "      <td>NaN</td>\n",
       "      <td>5.0</td>\n",
       "      <td>1.00</td>\n",
       "      <td>Winterfell</td>\n",
       "      <td>2014-03-28</td>\n",
       "      <td>iPhone</td>\n",
       "      <td>2014-01-19</td>\n",
       "      <td>0.0</td>\n",
       "      <td>0</td>\n",
       "      <td>False</td>\n",
       "      <td>100.0</td>\n",
       "      <td>2014-03-28</td>\n",
       "      <td>2014-01-19</td>\n",
       "      <td>68 days</td>\n",
       "      <td>68.0</td>\n",
       "      <td>0.0</td>\n",
       "    </tr>\n",
       "    <tr>\n",
       "      <th>49249</th>\n",
       "      <td>4.60</td>\n",
       "      <td>NaN</td>\n",
       "      <td>5.0</td>\n",
       "      <td>1.00</td>\n",
       "      <td>King's Landing</td>\n",
       "      <td>2014-06-19</td>\n",
       "      <td>iPhone</td>\n",
       "      <td>2014-01-14</td>\n",
       "      <td>0.0</td>\n",
       "      <td>0</td>\n",
       "      <td>True</td>\n",
       "      <td>100.0</td>\n",
       "      <td>2014-06-19</td>\n",
       "      <td>2014-01-14</td>\n",
       "      <td>156 days</td>\n",
       "      <td>156.0</td>\n",
       "      <td>0.0</td>\n",
       "    </tr>\n",
       "    <tr>\n",
       "      <th>49376</th>\n",
       "      <td>3.01</td>\n",
       "      <td>NaN</td>\n",
       "      <td>4.0</td>\n",
       "      <td>1.00</td>\n",
       "      <td>Astapor</td>\n",
       "      <td>2014-01-24</td>\n",
       "      <td>iPhone</td>\n",
       "      <td>2014-01-20</td>\n",
       "      <td>0.0</td>\n",
       "      <td>1</td>\n",
       "      <td>False</td>\n",
       "      <td>100.0</td>\n",
       "      <td>2014-01-24</td>\n",
       "      <td>2014-01-20</td>\n",
       "      <td>4 days</td>\n",
       "      <td>4.0</td>\n",
       "      <td>1.0</td>\n",
       "    </tr>\n",
       "    <tr>\n",
       "      <th>49504</th>\n",
       "      <td>0.75</td>\n",
       "      <td>NaN</td>\n",
       "      <td>5.0</td>\n",
       "      <td>1.00</td>\n",
       "      <td>Winterfell</td>\n",
       "      <td>2014-01-25</td>\n",
       "      <td>Android</td>\n",
       "      <td>2014-01-24</td>\n",
       "      <td>0.0</td>\n",
       "      <td>2</td>\n",
       "      <td>False</td>\n",
       "      <td>100.0</td>\n",
       "      <td>2014-01-25</td>\n",
       "      <td>2014-01-24</td>\n",
       "      <td>1 days</td>\n",
       "      <td>1.0</td>\n",
       "      <td>1.0</td>\n",
       "    </tr>\n",
       "    <tr>\n",
       "      <th>49599</th>\n",
       "      <td>2.48</td>\n",
       "      <td>NaN</td>\n",
       "      <td>5.0</td>\n",
       "      <td>1.00</td>\n",
       "      <td>King's Landing</td>\n",
       "      <td>2014-02-08</td>\n",
       "      <td>iPhone</td>\n",
       "      <td>2014-01-14</td>\n",
       "      <td>0.0</td>\n",
       "      <td>1</td>\n",
       "      <td>False</td>\n",
       "      <td>100.0</td>\n",
       "      <td>2014-02-08</td>\n",
       "      <td>2014-01-14</td>\n",
       "      <td>25 days</td>\n",
       "      <td>25.0</td>\n",
       "      <td>1.0</td>\n",
       "    </tr>\n",
       "    <tr>\n",
       "      <th>49626</th>\n",
       "      <td>6.00</td>\n",
       "      <td>NaN</td>\n",
       "      <td>5.0</td>\n",
       "      <td>1.00</td>\n",
       "      <td>Winterfell</td>\n",
       "      <td>2014-01-12</td>\n",
       "      <td>iPhone</td>\n",
       "      <td>2014-01-11</td>\n",
       "      <td>0.0</td>\n",
       "      <td>1</td>\n",
       "      <td>False</td>\n",
       "      <td>0.0</td>\n",
       "      <td>2014-01-12</td>\n",
       "      <td>2014-01-11</td>\n",
       "      <td>1 days</td>\n",
       "      <td>1.0</td>\n",
       "      <td>1.0</td>\n",
       "    </tr>\n",
       "  </tbody>\n",
       "</table>\n",
       "<p>201 rows × 17 columns</p>\n",
       "</div>"
      ],
      "text/plain": [
       "       avg_dist  avg_rating_by_driver  avg_rating_of_driver  avg_surge  \\\n",
       "90         6.28                   NaN                   5.0       1.00   \n",
       "274        6.00                   NaN                   2.0       4.00   \n",
       "277        1.82                   NaN                   NaN       1.00   \n",
       "536        1.41                   NaN                   5.0       1.00   \n",
       "857        0.42                   NaN                   4.0       1.00   \n",
       "1021       2.33                   NaN                   NaN       1.75   \n",
       "1073       9.21                   NaN                   5.0       1.00   \n",
       "1164       2.57                   NaN                   2.0       1.00   \n",
       "1181      24.91                   NaN                   3.0       1.00   \n",
       "1205       8.94                   NaN                   NaN       1.00   \n",
       "1364       3.60                   NaN                   3.0       1.00   \n",
       "1420      14.77                   NaN                   NaN       1.00   \n",
       "1679       1.99                   NaN                   5.0       1.00   \n",
       "1726       0.94                   NaN                   4.0       1.00   \n",
       "2112       1.36                   NaN                   NaN       1.00   \n",
       "2479       2.06                   NaN                   5.0       1.00   \n",
       "2673       1.65                   NaN                   NaN       1.75   \n",
       "3071      23.16                   NaN                   5.0       1.00   \n",
       "3126      17.52                   NaN                   NaN       1.00   \n",
       "3299       2.21                   NaN                   NaN       1.00   \n",
       "3818       4.76                   NaN                   5.0       2.00   \n",
       "3866       5.71                   NaN                   NaN       1.00   \n",
       "3958       4.69                   NaN                   5.0       3.00   \n",
       "4481       5.19                   NaN                   NaN       1.50   \n",
       "4803       0.05                   NaN                   5.0       1.00   \n",
       "5058       3.17                   NaN                   NaN       1.00   \n",
       "5151       4.03                   NaN                   5.0       1.00   \n",
       "5611       0.90                   NaN                   5.0       1.00   \n",
       "5641       2.42                   NaN                   5.0       1.00   \n",
       "5820       3.35                   NaN                   5.0       2.00   \n",
       "...         ...                   ...                   ...        ...   \n",
       "43791      1.81                   NaN                   5.0       1.00   \n",
       "43866      4.42                   NaN                   4.0       1.00   \n",
       "44185      1.95                   NaN                   5.0       1.00   \n",
       "44188      1.79                   NaN                   5.0       1.00   \n",
       "44234      6.71                   NaN                   5.0       1.00   \n",
       "44329      5.68                   NaN                   5.0       1.00   \n",
       "44332      0.92                   NaN                   NaN       2.00   \n",
       "44471      5.05                   NaN                   NaN       1.00   \n",
       "44630      1.63                   NaN                   NaN       1.00   \n",
       "44809      2.53                   NaN                   NaN       1.00   \n",
       "45262      5.37                   NaN                   5.0       2.00   \n",
       "45340      6.29                   NaN                   5.0       1.00   \n",
       "45676     15.76                   NaN                   4.0       1.00   \n",
       "45727      7.81                   NaN                   2.0       1.00   \n",
       "46387      1.25                   NaN                   5.0       1.00   \n",
       "46487     14.70                   NaN                   4.0       1.00   \n",
       "46652      7.70                   NaN                   5.0       1.00   \n",
       "46938      1.58                   NaN                   NaN       1.00   \n",
       "47017     10.44                   NaN                   5.0       1.00   \n",
       "47031      0.00                   NaN                   NaN       1.00   \n",
       "47106      1.53                   NaN                   NaN       1.00   \n",
       "47439      5.40                   NaN                   5.0       1.00   \n",
       "48022      2.24                   NaN                   5.0       1.00   \n",
       "48346      0.85                   NaN                   NaN       1.00   \n",
       "49192      4.67                   NaN                   5.0       1.00   \n",
       "49249      4.60                   NaN                   5.0       1.00   \n",
       "49376      3.01                   NaN                   4.0       1.00   \n",
       "49504      0.75                   NaN                   5.0       1.00   \n",
       "49599      2.48                   NaN                   5.0       1.00   \n",
       "49626      6.00                   NaN                   5.0       1.00   \n",
       "\n",
       "                 city last_trip_date    phone signup_date  surge_pct  \\\n",
       "90         Winterfell     2014-02-09   iPhone  2014-01-10        0.0   \n",
       "274           Astapor     2014-02-09   iPhone  2014-01-25      100.0   \n",
       "277        Winterfell     2014-01-26   iPhone  2014-01-25        0.0   \n",
       "536        Winterfell     2014-02-08  Android  2014-01-18        0.0   \n",
       "857        Winterfell     2014-03-16   iPhone  2014-01-11        0.0   \n",
       "1021   King's Landing     2014-06-13   iPhone  2014-01-23      100.0   \n",
       "1073   King's Landing     2014-04-27  Android  2014-01-19        0.0   \n",
       "1164       Winterfell     2014-01-25  Android  2014-01-24        0.0   \n",
       "1181       Winterfell     2014-01-25  Android  2014-01-25        0.0   \n",
       "1205       Winterfell     2014-02-22  Android  2014-01-18        0.0   \n",
       "1364   King's Landing     2014-01-25   iPhone  2014-01-24        0.0   \n",
       "1420   King's Landing     2014-01-23   iPhone  2014-01-13        0.0   \n",
       "1679       Winterfell     2014-01-25  Android  2014-01-25        0.0   \n",
       "1726          Astapor     2014-01-26   iPhone  2014-01-25        0.0   \n",
       "2112       Winterfell     2014-01-25   iPhone  2014-01-18        0.0   \n",
       "2479          Astapor     2014-02-02   iPhone  2014-01-31        0.0   \n",
       "2673          Astapor     2014-05-16   iPhone  2014-01-11      100.0   \n",
       "3071       Winterfell     2014-02-08   iPhone  2014-01-14        0.0   \n",
       "3126       Winterfell     2014-06-26   iPhone  2014-01-26        0.0   \n",
       "3299       Winterfell     2014-01-19  Android  2014-01-18        0.0   \n",
       "3818   King's Landing     2014-02-09   iPhone  2014-01-19      100.0   \n",
       "3866   King's Landing     2014-01-25     None  2014-01-24        0.0   \n",
       "3958          Astapor     2014-01-26   iPhone  2014-01-25      100.0   \n",
       "4481   King's Landing     2014-05-19   iPhone  2014-01-22      100.0   \n",
       "4803       Winterfell     2014-01-16   iPhone  2014-01-16        0.0   \n",
       "5058       Winterfell     2014-01-26   iPhone  2014-01-26        0.0   \n",
       "5151       Winterfell     2014-02-08   iPhone  2014-01-04        0.0   \n",
       "5611   King's Landing     2014-05-29   iPhone  2014-01-04        0.0   \n",
       "5641       Winterfell     2014-06-27  Android  2014-01-22        0.0   \n",
       "5820   King's Landing     2014-06-02   iPhone  2014-01-05      100.0   \n",
       "...               ...            ...      ...         ...        ...   \n",
       "43791         Astapor     2014-02-09   iPhone  2014-01-23        0.0   \n",
       "43866      Winterfell     2014-02-22   iPhone  2014-01-04        0.0   \n",
       "44185      Winterfell     2014-01-25  Android  2014-01-24        0.0   \n",
       "44188         Astapor     2014-02-08   iPhone  2014-01-26        0.0   \n",
       "44234      Winterfell     2014-03-30   iPhone  2014-01-23        0.0   \n",
       "44329         Astapor     2014-01-31  Android  2014-01-27        0.0   \n",
       "44332  King's Landing     2014-06-15   iPhone  2014-01-17      100.0   \n",
       "44471      Winterfell     2014-01-03   iPhone  2014-01-03        0.0   \n",
       "44630  King's Landing     2014-06-17  Android  2014-01-26        0.0   \n",
       "44809  King's Landing     2014-06-28   iPhone  2014-01-17        0.0   \n",
       "45262         Astapor     2014-06-26   iPhone  2014-01-26      100.0   \n",
       "45340      Winterfell     2014-01-25  Android  2014-01-24        0.0   \n",
       "45676      Winterfell     2014-01-25   iPhone  2014-01-21        0.0   \n",
       "45727      Winterfell     2014-05-30  Android  2014-01-07        0.0   \n",
       "46387         Astapor     2014-02-08  Android  2014-01-28        0.0   \n",
       "46487      Winterfell     2014-02-06   iPhone  2014-01-20        0.0   \n",
       "46652         Astapor     2014-01-25  Android  2014-01-24        0.0   \n",
       "46938      Winterfell     2014-01-13   iPhone  2014-01-09        0.0   \n",
       "47017         Astapor     2014-04-13  Android  2014-01-18        0.0   \n",
       "47031      Winterfell     2014-06-07   iPhone  2014-01-26        0.0   \n",
       "47106         Astapor     2014-06-13   iPhone  2014-01-16        0.0   \n",
       "47439         Astapor     2014-01-13  Android  2014-01-10        0.0   \n",
       "48022      Winterfell     2014-05-18   iPhone  2014-01-19        0.0   \n",
       "48346  King's Landing     2014-06-29   iPhone  2014-01-11        0.0   \n",
       "49192      Winterfell     2014-03-28   iPhone  2014-01-19        0.0   \n",
       "49249  King's Landing     2014-06-19   iPhone  2014-01-14        0.0   \n",
       "49376         Astapor     2014-01-24   iPhone  2014-01-20        0.0   \n",
       "49504      Winterfell     2014-01-25  Android  2014-01-24        0.0   \n",
       "49599  King's Landing     2014-02-08   iPhone  2014-01-14        0.0   \n",
       "49626      Winterfell     2014-01-12   iPhone  2014-01-11        0.0   \n",
       "\n",
       "       trips_in_first_30_days  ultimate_black_user  weekday_pct  \\\n",
       "90                          1                False          0.0   \n",
       "274                         1                False          0.0   \n",
       "277                         1                False          0.0   \n",
       "536                         1                False        100.0   \n",
       "857                         0                False          0.0   \n",
       "1021                        0                 True        100.0   \n",
       "1073                        0                False          0.0   \n",
       "1164                        1                 True        100.0   \n",
       "1181                        1                False          0.0   \n",
       "1205                        0                False        100.0   \n",
       "1364                        2                False        100.0   \n",
       "1420                        1                False        100.0   \n",
       "1679                        1                 True          0.0   \n",
       "1726                        1                 True          0.0   \n",
       "2112                        1                False          0.0   \n",
       "2479                        1                False          0.0   \n",
       "2673                        0                False        100.0   \n",
       "3071                        1                False        100.0   \n",
       "3126                        0                 True        100.0   \n",
       "3299                        1                False          0.0   \n",
       "3818                        1                False          0.0   \n",
       "3866                        1                False          0.0   \n",
       "3958                        1                False          0.0   \n",
       "4481                        0                False          0.0   \n",
       "4803                        1                False        100.0   \n",
       "5058                        1                 True          0.0   \n",
       "5151                        0                False          0.0   \n",
       "5611                        0                False        100.0   \n",
       "5641                        0                 True        100.0   \n",
       "5820                        0                False        100.0   \n",
       "...                       ...                  ...          ...   \n",
       "43791                       1                False          0.0   \n",
       "43866                       0                False        100.0   \n",
       "44185                       1                 True        100.0   \n",
       "44188                       1                False        100.0   \n",
       "44234                       0                False          0.0   \n",
       "44329                       1                False        100.0   \n",
       "44332                       1                False          0.0   \n",
       "44471                       1                False        100.0   \n",
       "44630                       2                False        100.0   \n",
       "44809                       0                 True        100.0   \n",
       "45262                       0                 True        100.0   \n",
       "45340                       1                False        100.0   \n",
       "45676                       1                 True        100.0   \n",
       "45727                       0                False        100.0   \n",
       "46387                       1                False        100.0   \n",
       "46487                       1                False        100.0   \n",
       "46652                       1                False        100.0   \n",
       "46938                       1                False          0.0   \n",
       "47017                       0                False          0.0   \n",
       "47031                       0                False          0.0   \n",
       "47106                       0                 True        100.0   \n",
       "47439                       1                False        100.0   \n",
       "48022                       1                 True          0.0   \n",
       "48346                       0                 True          0.0   \n",
       "49192                       0                False        100.0   \n",
       "49249                       0                 True        100.0   \n",
       "49376                       1                False        100.0   \n",
       "49504                       2                False        100.0   \n",
       "49599                       1                False        100.0   \n",
       "49626                       1                False          0.0   \n",
       "\n",
       "      last_trip_date_dt signup_date_dt date_diff  daysdiffnum  active  \n",
       "90           2014-02-09     2014-01-10   30 days         30.0     1.0  \n",
       "274          2014-02-09     2014-01-25   15 days         15.0     1.0  \n",
       "277          2014-01-26     2014-01-25    1 days          1.0     1.0  \n",
       "536          2014-02-08     2014-01-18   21 days         21.0     1.0  \n",
       "857          2014-03-16     2014-01-11   64 days         64.0     0.0  \n",
       "1021         2014-06-13     2014-01-23  141 days        141.0     0.0  \n",
       "1073         2014-04-27     2014-01-19   98 days         98.0     0.0  \n",
       "1164         2014-01-25     2014-01-24    1 days          1.0     1.0  \n",
       "1181         2014-01-25     2014-01-25    0 days          0.0     1.0  \n",
       "1205         2014-02-22     2014-01-18   35 days         35.0     0.0  \n",
       "1364         2014-01-25     2014-01-24    1 days          1.0     1.0  \n",
       "1420         2014-01-23     2014-01-13   10 days         10.0     1.0  \n",
       "1679         2014-01-25     2014-01-25    0 days          0.0     1.0  \n",
       "1726         2014-01-26     2014-01-25    1 days          1.0     1.0  \n",
       "2112         2014-01-25     2014-01-18    7 days          7.0     1.0  \n",
       "2479         2014-02-02     2014-01-31    2 days          2.0     1.0  \n",
       "2673         2014-05-16     2014-01-11  125 days        125.0     0.0  \n",
       "3071         2014-02-08     2014-01-14   25 days         25.0     1.0  \n",
       "3126         2014-06-26     2014-01-26  151 days        151.0     0.0  \n",
       "3299         2014-01-19     2014-01-18    1 days          1.0     1.0  \n",
       "3818         2014-02-09     2014-01-19   21 days         21.0     1.0  \n",
       "3866         2014-01-25     2014-01-24    1 days          1.0     1.0  \n",
       "3958         2014-01-26     2014-01-25    1 days          1.0     1.0  \n",
       "4481         2014-05-19     2014-01-22  117 days        117.0     0.0  \n",
       "4803         2014-01-16     2014-01-16    0 days          0.0     1.0  \n",
       "5058         2014-01-26     2014-01-26    0 days          0.0     1.0  \n",
       "5151         2014-02-08     2014-01-04   35 days         35.0     0.0  \n",
       "5611         2014-05-29     2014-01-04  145 days        145.0     0.0  \n",
       "5641         2014-06-27     2014-01-22  156 days        156.0     0.0  \n",
       "5820         2014-06-02     2014-01-05  148 days        148.0     0.0  \n",
       "...                 ...            ...       ...          ...     ...  \n",
       "43791        2014-02-09     2014-01-23   17 days         17.0     1.0  \n",
       "43866        2014-02-22     2014-01-04   49 days         49.0     0.0  \n",
       "44185        2014-01-25     2014-01-24    1 days          1.0     1.0  \n",
       "44188        2014-02-08     2014-01-26   13 days         13.0     1.0  \n",
       "44234        2014-03-30     2014-01-23   66 days         66.0     0.0  \n",
       "44329        2014-01-31     2014-01-27    4 days          4.0     1.0  \n",
       "44332        2014-06-15     2014-01-17  149 days        149.0     1.0  \n",
       "44471        2014-01-03     2014-01-03    0 days          0.0     1.0  \n",
       "44630        2014-06-17     2014-01-26  142 days        142.0     1.0  \n",
       "44809        2014-06-28     2014-01-17  162 days        162.0     0.0  \n",
       "45262        2014-06-26     2014-01-26  151 days        151.0     0.0  \n",
       "45340        2014-01-25     2014-01-24    1 days          1.0     1.0  \n",
       "45676        2014-01-25     2014-01-21    4 days          4.0     1.0  \n",
       "45727        2014-05-30     2014-01-07  143 days        143.0     0.0  \n",
       "46387        2014-02-08     2014-01-28   11 days         11.0     1.0  \n",
       "46487        2014-02-06     2014-01-20   17 days         17.0     1.0  \n",
       "46652        2014-01-25     2014-01-24    1 days          1.0     1.0  \n",
       "46938        2014-01-13     2014-01-09    4 days          4.0     1.0  \n",
       "47017        2014-04-13     2014-01-18   85 days         85.0     0.0  \n",
       "47031        2014-06-07     2014-01-26  132 days        132.0     0.0  \n",
       "47106        2014-06-13     2014-01-16  148 days        148.0     0.0  \n",
       "47439        2014-01-13     2014-01-10    3 days          3.0     1.0  \n",
       "48022        2014-05-18     2014-01-19  119 days        119.0     1.0  \n",
       "48346        2014-06-29     2014-01-11  169 days        169.0     0.0  \n",
       "49192        2014-03-28     2014-01-19   68 days         68.0     0.0  \n",
       "49249        2014-06-19     2014-01-14  156 days        156.0     0.0  \n",
       "49376        2014-01-24     2014-01-20    4 days          4.0     1.0  \n",
       "49504        2014-01-25     2014-01-24    1 days          1.0     1.0  \n",
       "49599        2014-02-08     2014-01-14   25 days         25.0     1.0  \n",
       "49626        2014-01-12     2014-01-11    1 days          1.0     1.0  \n",
       "\n",
       "[201 rows x 17 columns]"
      ]
     },
     "execution_count": 114,
     "metadata": {},
     "output_type": "execute_result"
    }
   ],
   "source": [
    "mpd.loc[mpd['avg_rating_by_driver'].isnull(),:]"
   ]
  },
  {
   "cell_type": "code",
   "execution_count": 221,
   "metadata": {
    "collapsed": true
   },
   "outputs": [],
   "source": [
    "mpd['avg_rating_by_driver']=mpd['avg_rating_by_driver'].fillna(round(mpd['avg_rating_by_driver'].mean(),2))"
   ]
  },
  {
   "cell_type": "code",
   "execution_count": 187,
   "metadata": {
    "collapsed": false
   },
   "outputs": [
    {
     "data": {
      "text/plain": [
       "array([ 5.  ,  4.9 ,  4.  ,  3.  ,  4.8 ,  4.7 ,  4.5 ,  4.2 ,  4.78,\n",
       "        4.4 ,  4.6 ,  3.7 ,  4.3 ,  3.5 ,  2.  ,  3.8 ,  2.5 ,  4.1 ,\n",
       "        3.9 ,  1.  ,  3.3 ,  3.4 ,  3.6 ,  3.2 ,  2.3 ,  2.8 ,  1.5 ,  2.7 ])"
      ]
     },
     "execution_count": 187,
     "metadata": {},
     "output_type": "execute_result"
    }
   ],
   "source": [
    "mpd.avg_rating_by_driver.unique()"
   ]
  },
  {
   "cell_type": "code",
   "execution_count": 129,
   "metadata": {
    "collapsed": false
   },
   "outputs": [
    {
     "data": {
      "text/plain": [
       "<matplotlib.axes._subplots.AxesSubplot at 0x1186056a0>"
      ]
     },
     "execution_count": 129,
     "metadata": {},
     "output_type": "execute_result"
    },
    {
     "data": {
      "image/png": "[encoded data removed]",
      "text/plain": [
       "<matplotlib.figure.Figure at 0x1141354e0>"
      ]
     },
     "metadata": {},
     "output_type": "display_data"
    }
   ],
   "source": [
    "sns.boxplot(x='avg_rating_by_driver', data=mpd)"
   ]
  },
  {
   "cell_type": "markdown",
   "metadata": {},
   "source": [
    "#### avg_dist"
   ]
  },
  {
   "cell_type": "code",
   "execution_count": 130,
   "metadata": {
    "collapsed": false
   },
   "outputs": [
    {
     "data": {
      "text/plain": [
       "array([  3.67,   8.26,   0.77, ...,  38.72,  27.47,  30.39])"
      ]
     },
     "execution_count": 130,
     "metadata": {},
     "output_type": "execute_result"
    }
   ],
   "source": [
    "mpd.avg_dist.unique()"
   ]
  },
  {
   "cell_type": "code",
   "execution_count": 131,
   "metadata": {
    "collapsed": false
   },
   "outputs": [
    {
     "data": {
      "text/plain": [
       "<matplotlib.axes._subplots.AxesSubplot at 0x1180b2be0>"
      ]
     },
     "execution_count": 131,
     "metadata": {},
     "output_type": "execute_result"
    },
    {
     "data": {
      "image/png": "[encoded data removed]",
      "text/plain": [
       "<matplotlib.figure.Figure at 0x1180d3cf8>"
      ]
     },
     "metadata": {},
     "output_type": "display_data"
    }
   ],
   "source": [
    "sns.boxplot(x='avg_dist', data=mpd)"
   ]
  },
  {
   "cell_type": "code",
   "execution_count": 132,
   "metadata": {
    "collapsed": false
   },
   "outputs": [
    {
     "data": {
      "text/html": [
       "<div>\n",
       "<style>\n",
       "    .dataframe thead tr:only-child th {\n",
       "        text-align: right;\n",
       "    }\n",
       "\n",
       "    .dataframe thead th {\n",
       "        text-align: left;\n",
       "    }\n",
       "\n",
       "    .dataframe tbody tr th {\n",
       "        vertical-align: top;\n",
       "    }\n",
       "</style>\n",
       "<table border=\"1\" class=\"dataframe\">\n",
       "  <thead>\n",
       "    <tr style=\"text-align: right;\">\n",
       "      <th></th>\n",
       "      <th>avg_dist</th>\n",
       "      <th>avg_rating_by_driver</th>\n",
       "      <th>avg_rating_of_driver</th>\n",
       "      <th>avg_surge</th>\n",
       "      <th>city</th>\n",
       "      <th>last_trip_date</th>\n",
       "      <th>phone</th>\n",
       "      <th>signup_date</th>\n",
       "      <th>surge_pct</th>\n",
       "      <th>trips_in_first_30_days</th>\n",
       "      <th>ultimate_black_user</th>\n",
       "      <th>weekday_pct</th>\n",
       "      <th>last_trip_date_dt</th>\n",
       "      <th>signup_date_dt</th>\n",
       "      <th>date_diff</th>\n",
       "      <th>daysdiffnum</th>\n",
       "      <th>active</th>\n",
       "      <th>active_after_sixmnth</th>\n",
       "    </tr>\n",
       "  </thead>\n",
       "  <tbody>\n",
       "  </tbody>\n",
       "</table>\n",
       "</div>"
      ],
      "text/plain": [
       "Empty DataFrame\n",
       "Columns: [avg_dist, avg_rating_by_driver, avg_rating_of_driver, avg_surge, city, last_trip_date, phone, signup_date, surge_pct, trips_in_first_30_days, ultimate_black_user, weekday_pct, last_trip_date_dt, signup_date_dt, date_diff, daysdiffnum, active, active_after_sixmnth]\n",
       "Index: []"
      ]
     },
     "execution_count": 132,
     "metadata": {},
     "output_type": "execute_result"
    }
   ],
   "source": [
    "mpd.loc[mpd['avg_dist'].isnull(),:]"
   ]
  },
  {
   "cell_type": "markdown",
   "metadata": {},
   "source": [
    "#### Avg_rating_of_driver"
   ]
  },
  {
   "cell_type": "code",
   "execution_count": 133,
   "metadata": {
    "collapsed": false
   },
   "outputs": [
    {
     "data": {
      "text/plain": [
       "array([ 4.7,  5. ,  4.3,  4.6,  4.4,  3.5,  nan,  4.5,  4. ,  3.9,  4.9,\n",
       "        4.8,  2.5,  3.7,  1. ,  4.1,  4.2,  3. ,  3.8,  2. ,  2.7,  3.3,\n",
       "        2.8,  3.6,  3.4,  3.2,  2.6,  3.1,  2.9,  1.7,  1.8,  1.5,  2.3,\n",
       "        1.9,  2.1,  2.4,  1.6,  2.2])"
      ]
     },
     "execution_count": 133,
     "metadata": {},
     "output_type": "execute_result"
    }
   ],
   "source": [
    "mpd.avg_rating_of_driver.unique()"
   ]
  },
  {
   "cell_type": "code",
   "execution_count": 222,
   "metadata": {
    "collapsed": true
   },
   "outputs": [],
   "source": [
    "mpd['avg_rating_of_driver']=mpd['avg_rating_of_driver'].fillna(round(mpd['avg_rating_of_driver'].mean(),2))"
   ]
  },
  {
   "cell_type": "code",
   "execution_count": 189,
   "metadata": {
    "collapsed": false
   },
   "outputs": [
    {
     "data": {
      "text/plain": [
       "array([ 4.7,  5. ,  4.3,  4.6,  4.4,  3.5,  4.5,  4. ,  3.9,  4.9,  4.8,\n",
       "        2.5,  3.7,  1. ,  4.1,  4.2,  3. ,  3.8,  2. ,  2.7,  3.3,  2.8,\n",
       "        3.6,  3.4,  3.2,  2.6,  3.1,  2.9,  1.7,  1.8,  1.5,  2.3,  1.9,\n",
       "        2.1,  2.4,  1.6,  2.2])"
      ]
     },
     "execution_count": 189,
     "metadata": {},
     "output_type": "execute_result"
    }
   ],
   "source": [
    "mpd.avg_rating_of_driver.unique()"
   ]
  },
  {
   "cell_type": "code",
   "execution_count": 136,
   "metadata": {
    "collapsed": false
   },
   "outputs": [
    {
     "data": {
      "text/plain": [
       "<matplotlib.axes._subplots.AxesSubplot at 0x1193d1908>"
      ]
     },
     "execution_count": 136,
     "metadata": {},
     "output_type": "execute_result"
    },
    {
     "data": {
      "image/png": "[encoded data removed]",
      "text/plain": [
       "<matplotlib.figure.Figure at 0x1185d0160>"
      ]
     },
     "metadata": {},
     "output_type": "display_data"
    }
   ],
   "source": [
    "sns.boxplot(x='avg_rating_of_driver', data=mpd)"
   ]
  },
  {
   "cell_type": "markdown",
   "metadata": {},
   "source": [
    "#### Avg_Surge"
   ]
  },
  {
   "cell_type": "code",
   "execution_count": 143,
   "metadata": {
    "collapsed": false
   },
   "outputs": [
    {
     "data": {
      "text/plain": [
       "array([ 1.1 ,  1.  ,  1.14,  1.19,  1.38,  1.21,  1.17,  1.02,  1.05,\n",
       "        1.5 ,  2.  ,  1.25,  1.04,  1.88,  1.33,  1.56,  1.06,  1.03,\n",
       "        1.09,  1.35,  3.5 ,  1.11,  1.63,  2.5 ,  1.32,  1.3 ,  1.75,\n",
       "        2.25,  1.2 ,  1.13,  1.08,  1.15,  4.  ,  1.12,  1.22,  1.29,\n",
       "        1.23,  1.01,  1.07,  1.18,  1.45,  2.75,  2.63,  1.46,  2.07,\n",
       "        1.27,  3.  ,  1.36,  1.96,  1.42,  1.44,  1.54,  1.16,  1.31,\n",
       "        1.58,  1.92,  1.67,  1.26,  4.75,  1.41,  3.25,  1.24,  2.13,\n",
       "        1.6 ,  1.57,  1.34,  1.52,  1.69,  5.  ,  1.4 ,  1.37,  1.7 ,\n",
       "        1.78,  1.43,  1.94,  1.64,  1.83,  1.28,  1.85,  1.55,  1.48,\n",
       "        1.39,  2.88,  4.25,  1.47,  1.51,  1.9 ,  1.68,  4.5 ,  1.66,\n",
       "        2.33,  1.65,  1.71,  2.17,  2.38,  1.61,  2.08,  3.75,  8.  ,\n",
       "        1.77,  1.49,  2.42,  1.59,  1.8 ,  2.19,  1.53,  1.81,  5.75,\n",
       "        1.79,  2.44,  2.67,  2.31,  2.1 ,  2.2 ,  3.63])"
      ]
     },
     "execution_count": 143,
     "metadata": {},
     "output_type": "execute_result"
    }
   ],
   "source": [
    "mpd.avg_surge.unique()"
   ]
  },
  {
   "cell_type": "markdown",
   "metadata": {},
   "source": [
    "#### City"
   ]
  },
  {
   "cell_type": "code",
   "execution_count": 144,
   "metadata": {
    "collapsed": false
   },
   "outputs": [
    {
     "data": {
      "text/plain": [
       "array([\"King's Landing\", 'Astapor', 'Winterfell'], dtype=object)"
      ]
     },
     "execution_count": 144,
     "metadata": {},
     "output_type": "execute_result"
    }
   ],
   "source": [
    "mpd.city.unique()"
   ]
  },
  {
   "cell_type": "code",
   "execution_count": 145,
   "metadata": {
    "collapsed": false
   },
   "outputs": [
    {
     "data": {
      "text/plain": [
       "array(['2014-06-17', '2014-05-05', '2014-01-07', '2014-06-29',\n",
       "       '2014-03-15', '2014-06-06', '2014-01-25', '2014-01-29',\n",
       "       '2014-02-01', '2014-01-05', '2014-05-30', '2014-01-10',\n",
       "       '2014-03-12', '2014-06-08', '2014-01-28', '2014-01-16',\n",
       "       '2014-06-28', '2014-07-01', '2014-06-24', '2014-06-03',\n",
       "       '2014-03-16', '2014-04-29', '2014-05-02', '2014-06-13',\n",
       "       '2014-05-18', '2014-01-03', '2014-01-22', '2014-03-05',\n",
       "       '2014-02-27', '2014-02-07', '2014-06-14', '2014-06-10',\n",
       "       '2014-02-28', '2014-01-17', '2014-02-21', '2014-06-25',\n",
       "       '2014-04-26', '2014-06-30', '2014-06-23', '2014-05-10',\n",
       "       '2014-01-26', '2014-03-17', '2014-06-18', '2014-04-19',\n",
       "       '2014-01-19', '2014-06-19', '2014-02-15', '2014-06-01',\n",
       "       '2014-05-16', '2014-06-15', '2014-03-10', '2014-04-20',\n",
       "       '2014-03-29', '2014-02-02', '2014-05-09', '2014-05-04',\n",
       "       '2014-03-19', '2014-04-23', '2014-01-01', '2014-01-08',\n",
       "       '2014-04-27', '2014-01-30', '2014-02-03', '2014-05-03',\n",
       "       '2014-02-05', '2014-06-20', '2014-04-28', '2014-05-25',\n",
       "       '2014-02-09', '2014-06-26', '2014-06-27', '2014-05-28',\n",
       "       '2014-01-18', '2014-01-23', '2014-01-11', '2014-06-02',\n",
       "       '2014-06-22', '2014-04-06', '2014-04-14', '2014-06-11',\n",
       "       '2014-04-09', '2014-04-17', '2014-01-12', '2014-05-23',\n",
       "       '2014-04-03', '2014-06-05', '2014-03-27', '2014-05-31',\n",
       "       '2014-06-21', '2014-03-28', '2014-05-21', '2014-06-16',\n",
       "       '2014-05-24', '2014-04-10', '2014-01-27', '2014-01-04',\n",
       "       '2014-02-22', '2014-01-31', '2014-03-14', '2014-01-15',\n",
       "       '2014-03-18', '2014-02-25', '2014-05-06', '2014-01-14',\n",
       "       '2014-05-17', '2014-03-02', '2014-03-03', '2014-05-20',\n",
       "       '2014-05-12', '2014-05-27', '2014-05-14', '2014-02-10',\n",
       "       '2014-01-24', '2014-02-16', '2014-03-31', '2014-05-22',\n",
       "       '2014-01-06', '2014-06-12', '2014-04-30', '2014-03-26',\n",
       "       '2014-04-16', '2014-05-26', '2014-01-09', '2014-04-24',\n",
       "       '2014-05-19', '2014-05-11', '2014-03-06', '2014-01-13',\n",
       "       '2014-04-01', '2014-06-09', '2014-01-20', '2014-02-18',\n",
       "       '2014-06-04', '2014-04-02', '2014-03-23', '2014-04-11',\n",
       "       '2014-03-24', '2014-04-04', '2014-06-07', '2014-03-20',\n",
       "       '2014-03-25', '2014-02-06', '2014-02-08', '2014-03-07',\n",
       "       '2014-01-02', '2014-02-20', '2014-03-30', '2014-03-21',\n",
       "       '2014-04-12', '2014-04-07', '2014-04-05', '2014-04-18',\n",
       "       '2014-03-09', '2014-02-23', '2014-02-12', '2014-02-11',\n",
       "       '2014-05-01', '2014-05-15', '2014-03-22', '2014-02-17',\n",
       "       '2014-01-21', '2014-03-01', '2014-04-25', '2014-04-15',\n",
       "       '2014-05-08', '2014-04-13', '2014-02-26', '2014-03-13',\n",
       "       '2014-02-19', '2014-05-29', '2014-04-08', '2014-04-21',\n",
       "       '2014-03-11', '2014-02-14', '2014-05-07', '2014-02-24',\n",
       "       '2014-02-04', '2014-04-22', '2014-03-08', '2014-02-13',\n",
       "       '2014-03-04', '2014-05-13'], dtype=object)"
      ]
     },
     "execution_count": 145,
     "metadata": {},
     "output_type": "execute_result"
    }
   ],
   "source": [
    "mpd.last_trip_date.unique()"
   ]
  },
  {
   "cell_type": "markdown",
   "metadata": {},
   "source": [
    "#### Phone"
   ]
  },
  {
   "cell_type": "code",
   "execution_count": 146,
   "metadata": {
    "collapsed": false
   },
   "outputs": [
    {
     "data": {
      "text/plain": [
       "array(['iPhone', 'Android', None], dtype=object)"
      ]
     },
     "execution_count": 146,
     "metadata": {},
     "output_type": "execute_result"
    }
   ],
   "source": [
    "mpd.phone.unique()"
   ]
  },
  {
   "cell_type": "code",
   "execution_count": 147,
   "metadata": {
    "collapsed": false
   },
   "outputs": [
    {
     "data": {
      "text/plain": [
       "<matplotlib.axes._subplots.AxesSubplot at 0x11d674a90>"
      ]
     },
     "execution_count": 147,
     "metadata": {},
     "output_type": "execute_result"
    },
    {
     "data": {
      "image/png": "[encoded data removed]",
      "text/plain": [
       "<matplotlib.figure.Figure at 0x11cb41dd8>"
      ]
     },
     "metadata": {},
     "output_type": "display_data"
    }
   ],
   "source": [
    "sns.set_style('whitegrid')\n",
    "sns.countplot(y=mpd['phone'],data=mpd,palette='RdBu_r')"
   ]
  },
  {
   "cell_type": "markdown",
   "metadata": {},
   "source": [
    "#### Signup_date"
   ]
  },
  {
   "cell_type": "code",
   "execution_count": 148,
   "metadata": {
    "collapsed": false
   },
   "outputs": [
    {
     "data": {
      "text/plain": [
       "array(['2014-01-25', '2014-01-29', '2014-01-06', '2014-01-10',\n",
       "       '2014-01-27', '2014-01-09', '2014-01-24', '2014-01-28',\n",
       "       '2014-01-21', '2014-01-03', '2014-01-13', '2014-01-15',\n",
       "       '2014-01-11', '2014-01-12', '2014-01-02', '2014-01-31',\n",
       "       '2014-01-19', '2014-01-16', '2014-01-26', '2014-01-05',\n",
       "       '2014-01-17', '2014-01-22', '2014-01-18', '2014-01-20',\n",
       "       '2014-01-04', '2014-01-30', '2014-01-07', '2014-01-01',\n",
       "       '2014-01-08', '2014-01-23', '2014-01-14'], dtype=object)"
      ]
     },
     "execution_count": 148,
     "metadata": {},
     "output_type": "execute_result"
    }
   ],
   "source": [
    "mpd.signup_date.unique()"
   ]
  },
  {
   "cell_type": "markdown",
   "metadata": {},
   "source": [
    "#### Surge_pct"
   ]
  },
  {
   "cell_type": "code",
   "execution_count": 149,
   "metadata": {
    "collapsed": false
   },
   "outputs": [
    {
     "data": {
      "text/plain": [
       "array([  15.4,    0. ,   20. ,   11.8,   50. ,   30.8,   33.3,    9.1,\n",
       "        100. ,    5.8,   22.2,   25. ,    5.4,   10.5,   36. ,   18.2,\n",
       "          5.3,    1.9,   10. ,   16.7,   15.9,   11.1,    8.3,    2.3,\n",
       "          3.8,   21.4,   22.9,    3.5,   14.3,   66.7,    2.7,   26.1,\n",
       "          7.1,    7.7,    4.9,   12.5,   42.9,   17.6,   14.8,   27.3,\n",
       "         20.9,    1.7,   11.7,   13. ,    8.6,    3. ,    6.5,   40. ,\n",
       "         21.1,    8.1,   10.1,   15.8,    2.4,   36.6,   71.4,    3.7,\n",
       "          2. ,    5.7,   61.5,    4.3,   34.8,    3.6,   18.8,    7.5,\n",
       "          6.3,    6.7,   13.5,   19.7,    4.2,   57.1,   14. ,    4.5,\n",
       "         24.7,    0.9,    5. ,    3.3,   22.6,   12. ,    4.8,   15. ,\n",
       "         37.5,    5.9,    8.5,    6.8,    2.9,   23.8,   28.6,    1.6,\n",
       "         12.3,   10.3,   13.3,   27.1,   26.7,   13.6,   11.4,    8. ,\n",
       "         38.5,    2.6,   17.2,    3.2,   21.7,    9.5,   19.4,   13.8,\n",
       "         55.6,    8.8,    8.9,   16. ,   18. ,    7.9,    4. ,   23.1,\n",
       "         37.2,   11.6,   60. ,   18.5,   26.3,    5.6,   12.1,    4.4,\n",
       "         25.3,   10.4,   16.9,   45.1,    2.1,    1.8,   44.4,   12.9,\n",
       "         10.9,   24. ,    7.4,   27.8,   19. ,   17.9,   20.5,   11.5,\n",
       "         18.4,    6.1,   28.1,   29.2,   14.6,   23.9,   10.6,   20.6,\n",
       "         21. ,   19.5,   14.5,   46.2,   13.9,   31.3,   15.2,   16.1,\n",
       "         38.1,    0.8,    9. ,    5.1,   16.2,   12.2,   23.3,   36.4,\n",
       "         21.9,    9.8,    9.2,   30. ,   26.2,   10.7,   15.6,    7.3,\n",
       "          6. ,    2.2,   23.5,   35.3,   43.8,   19.2,    6.9,   31.4,\n",
       "         24.1,   11.3,    4.7,   14.7,   17.1,   24.4,   31.8,    8.2,\n",
       "         35.7,   31.6,   38.9,   21.6,   22.7,    8.7,    1.3,    2.5,\n",
       "         18.9,   10.8,   24.6,   19.6,    7.8,   26.5,    1.5,    5.5,\n",
       "         16.3,    3.1,    5.2,   45.5,    1. ,   10.2,    2.8,    7. ,\n",
       "         30.2,   23.4,   22.5,   24.2,   17.4,    9.7,    3.4,    9.4,\n",
       "         13.1,   32.4,   20.7,    4.1,    1.4,   25.6,   20.2,   83.3,\n",
       "         12.7,   29.4,    6.6,    0.7,   15.7,   64.7,   30.3,   12.8,\n",
       "         47.1,   17.8,   80. ,    9.6,    1.1,   26.4,   16.4,   32. ,\n",
       "         21.2,   20.8,   29.1,   29.6,    6.4,   75. ,   13.7,   36.8,\n",
       "         26.9,   22. ,   38.7,   16.8,   33.6,   29.7,   41.7,   27. ,\n",
       "          4.6,   25.5,   47.8,   18.6,   11.9,   22.1,   54.5,    9.3,\n",
       "          6.2,   19.8,   31.9,   53.3,   40.7,   53.8,   19.1,   14.1,\n",
       "         16.5,   12.6,   26.8,   45. ,   31.7,   20.4,    3.9,   34.7,\n",
       "         13.2,   15.5,   34.3,   13.4,   22.4,   34.6,   26. ,   28.2,\n",
       "         28. ,   52.9,   18.7,   31. ,   18.1,   45.2,   45.8,   15.3,\n",
       "         39. ,   24.3,   32.1,   14.4,   23.2,   25.4,   17.5,    0.6,\n",
       "         38.2,   21.5,   33.7,    8.4,   29.5,   17. ,   25.8,   22.8,\n",
       "         37.9,   23. ,   21.3,   41.2,   35.5,   27.7,    1.2,   35.1,\n",
       "         27.5,   35. ,    7.6,   34.1,   42.1,   48.1,   30.4,   27.6,\n",
       "         24.5,   14.9,    7.2,   42.4,    0.4,   30.6,   28.3,   37. ,\n",
       "         62.5,   17.3,   23.7,   28.9,   11. ,    0.5,   30.9,    9.9,\n",
       "         59.5,   36.1,   28.8,   27.9,   25.9,   58.3,   19.3,   32.3,\n",
       "         17.7,   59.1,   43.5,   23.6,   12.4,   29.3,   85.7,   29. ,\n",
       "         56.3,   18.3,   25.7,   55. ,   52.2,   63.6,   35.2])"
      ]
     },
     "execution_count": 149,
     "metadata": {},
     "output_type": "execute_result"
    }
   ],
   "source": [
    "mpd.surge_pct.unique()"
   ]
  },
  {
   "cell_type": "code",
   "execution_count": 150,
   "metadata": {
    "collapsed": false
   },
   "outputs": [
    {
     "data": {
      "text/plain": [
       "<matplotlib.axes._subplots.AxesSubplot at 0x1279e5c88>"
      ]
     },
     "execution_count": 150,
     "metadata": {},
     "output_type": "execute_result"
    },
    {
     "data": {
      "image/png": "[encoded data removed]",
      "text/plain": [
       "<matplotlib.figure.Figure at 0x1193d1898>"
      ]
     },
     "metadata": {},
     "output_type": "display_data"
    }
   ],
   "source": [
    "sns.boxplot(x='surge_pct', data=mpd)"
   ]
  },
  {
   "cell_type": "markdown",
   "metadata": {},
   "source": [
    "#### trips_in_first_30_days"
   ]
  },
  {
   "cell_type": "code",
   "execution_count": 151,
   "metadata": {
    "collapsed": false
   },
   "outputs": [
    {
     "data": {
      "text/plain": [
       "<matplotlib.axes._subplots.AxesSubplot at 0x126f6f2e8>"
      ]
     },
     "execution_count": 151,
     "metadata": {},
     "output_type": "execute_result"
    },
    {
     "data": {
      "image/png": "[encoded data removed]",
      "text/plain": [
       "<matplotlib.figure.Figure at 0x126f64b70>"
      ]
     },
     "metadata": {},
     "output_type": "display_data"
    }
   ],
   "source": [
    "sns.boxplot(x='trips_in_first_30_days', data=mpd)"
   ]
  },
  {
   "cell_type": "markdown",
   "metadata": {},
   "source": [
    "#### ultimate_black_user"
   ]
  },
  {
   "cell_type": "code",
   "execution_count": 160,
   "metadata": {
    "collapsed": false
   },
   "outputs": [
    {
     "data": {
      "text/plain": [
       "array([ True, False], dtype=bool)"
      ]
     },
     "execution_count": 160,
     "metadata": {},
     "output_type": "execute_result"
    }
   ],
   "source": [
    "\n",
    "mpd.ultimate_black_user.unique()"
   ]
  },
  {
   "cell_type": "markdown",
   "metadata": {},
   "source": [
    "#### weekday_pct"
   ]
  },
  {
   "cell_type": "code",
   "execution_count": 153,
   "metadata": {
    "collapsed": false
   },
   "outputs": [
    {
     "data": {
      "text/plain": [
       "array([  46.2,   50. ,  100. ,   80. ,   82.4,    0. ,   95.2,   80.8,\n",
       "         66.7,   36.4,   25. ,   40. ,   61.6,   71.4,   52.4,   22.2,\n",
       "         75. ,   54.1,   63.2,   84. ,   81.8,   67.6,   42.9,   55.2,\n",
       "         76.9,   90. ,   89.7,   33.3,   63.6,   85.7,   88.9,   41.2,\n",
       "         20. ,   37.5,   43.8,   45.5,   16.7,   41.7,   10. ,   57.5,\n",
       "         57.7,   28.6,   62.9,   30. ,   69. ,   62.5,   83.8,   57.1,\n",
       "         52.2,   72.2,   39.1,   46.3,   87.5,   83.3,   44.4,   55.6,\n",
       "         69.2,   14.3,   76.5,   78.6,   88.3,   56.7,   70.9,   60. ,\n",
       "         23.1,   65.2,   93.1,   64. ,   61.5,   12.5,    7.1,   79.2,\n",
       "         54.8,   31. ,   92.9,   56.1,   46.7,   94.4,   91.9,   84.2,\n",
       "         71.1,   61.9,   70. ,   70.6,   94.7,   21.4,   92.6,    7.7,\n",
       "         51.3,   58.3,   77.8,   74.3,   47.4,   84.6,   56.5,   47.8,\n",
       "         60.7,   31.3,   77.1,   90.9,   81.3,   88.2,   82.5,   53.3,\n",
       "         71.6,   49.3,   54.2,   91.7,   84.9,   54.5,   73.3,   68.9,\n",
       "         76.4,   78. ,   55. ,   42.1,   23.5,   57.4,   30.8,   69.8,\n",
       "         70.4,   69.3,   31.4,   90.5,   75.8,   73.4,   72.7,   64.3,\n",
       "         72.4,   78.9,   59.5,   59.3,   85.2,   85. ,   31.8,   48.6,\n",
       "         92. ,   75.3,   61.1,    8.3,   66.2,   15.4,   38.5,   72. ,\n",
       "         46.4,   79.3,   76. ,   48.4,   74.1,   55.9,   69.6,   36.8,\n",
       "         39.6,   76.2,   52.9,   84.3,   56. ,   73.7,   86.1,   65.5,\n",
       "         92.3,   18.8,   51.1,   51.9,   95.5,   32. ,   71.2,   82.1,\n",
       "         74.6,   86.7,   64.4,   58.6,   68. ,   45.8,   62.1,   52. ,\n",
       "         36.5,   25.6,   87. ,   60.5,   73. ,   57.9,   90.6,   56.9,\n",
       "         91.1,   69.7,   48. ,   67.4,   72.9,   75.7,   40.7,   64.7,\n",
       "         89.4,   37. ,   93.3,   59.1,   39.3,   45.7,   53.8,   67.7,\n",
       "         68.4,   26.7,   94.1,   60.9,   86.9,   96.3,   35.3,   38.9,\n",
       "         42.3,   74.4,   56.3,   45. ,   55.1,   56.8,   68.2,   43.3,\n",
       "         86. ,   74.7,   27.3,   58.8,   93. ,   51.2,   77.4,   99. ,\n",
       "         11.1,   57.8,   66. ,   91.2,   59.7,   96. ,   38. ,   83.9,\n",
       "         65.9,   69.1,   76.1,   80.6,   70.8,   57.6,   75.6,   71.3,\n",
       "         94.9,   91.5,   36. ,   73.8,   65. ,   70.7,   47.9,   68.8,\n",
       "         61.4,   26.1,   65.4,   70.2,    9.1,   85.9,   70.3,   47.1,\n",
       "         76.3,   27.8,   59.4,   47.5,   24.2,   78.2,   88.6,   54.3,\n",
       "         79.6,   77.5,   30.4,   48.1,   35.7,   86.2,   52.1,   45.9,\n",
       "         83.7,   87.9,   73.1,   64.9,   26.9,   93.4,   18.2,   87.1,\n",
       "         79.7,   47.2,   65.3,   81.5,   51.4,   84.8,   73.5,   78.4,\n",
       "         59. ,   73.9,   77.7,   73.2,   31.6,   52.8,   74.2,   89.2,\n",
       "         63. ,   96.4,   81.1,   93.8,   75.5,   52.6,   48.8,   78.3,\n",
       "         89.5,   15.7,   23.3,   54.9,   65.1,   64.1,   68.3,   95. ,\n",
       "         66.9,   71.8,   65.6,   61. ,   67.9,   97.1,   66.3,   81. ,\n",
       "         54.4,   83.6,   46.8,   55.8,   52.5,   46.5,   66.4,   44.8,\n",
       "         71.9,   39.4,   62.7,   68.1,   79.1,   97.4,   41.4,   77.3,\n",
       "         55.7,   61.8,   51.6,   26.3,   32.4,   57.3,   47.6,   53.6,\n",
       "         15.8,   69.4,    6.7,   63.9,   43.6,   56.6,   79.4,   79.5,\n",
       "         50.9,   44. ,   36.7,   61.3,   56.4,   63.4,   86.4,   41. ,\n",
       "         19.4,   97.3,   67.3,   36.1,   58.9,   29.4,   93.2,   43.5,\n",
       "         44.7,   81.4,    5. ,   78.1,   72.1,   62.2,   68.6,   37.1,\n",
       "         80.2,   60.6,   81.7,   95.7,   38.2,   76.7,   34.5,   34.8,\n",
       "         90.3,   17.6,   43.4,   59.6,   88.5,   24.1,   82.6,   91.8,\n",
       "         53.1,   71. ,   65.8,   38.1,   86.8,   67.5,   45.2,   44.1,\n",
       "         85.5,   75.9,   89.1,   97.6,   68.7,   89. ,   86.5,   78.7,\n",
       "         67.1,   89.3,   25.9,   84.1,   87.3,   88. ,   82.9,   70.5,\n",
       "         12.9,   63.5,   46.9,   94.8,   48.5,   82. ,   87.2,   98. ,\n",
       "         63.3,   72.3,   48.9,   71.7,   58.1,   77.6,   51.7,   35.9,\n",
       "         87.8,   40.9,   42.6,   13. ,   65.7,   91.3,   58.5,   23.8,\n",
       "         62.3,   59.2,   47.3,   76.8,   94.3,    4. ,   48.3,   34.6,\n",
       "         26.2,   53.7,   84.4,   84.5,   63.8,   64.2,   97. ,   96.2,\n",
       "         76.6,   15. ,   62. ,   29.6,   60.8,   28.2,   35. ,   23.7,\n",
       "         85.6,   64.8,   31.7,   53.2,   30.3,   61.2,   75.2,   35.5,\n",
       "         63.7,   74. ,   60.3,   58. ,   68.5,   62.8,   67. ,   82.2,\n",
       "         74.5,   95.8,   78.8,   64.5,   72.5,   29.5,   55.3,   51. ,\n",
       "         66.1,   32.1,   51.8,   63.1,   96.6,   52.3,   80.3,   85.3,\n",
       "         86.3,   93.5,   41.8,   28. ,    8. ,   53.5,   46. ,   51.5,\n",
       "         98.1,   97.8,   13.3,   34.3,   96.9,   21.1,   87.4,   89.8,\n",
       "         41.5,   82.7,   61.7,   22.7,   48.7,   40.3,   80.4,   93.9,\n",
       "         44.2,   81.2,   85.1,   82.8,   42.4,   90.2,   34. ,   18.5,\n",
       "         41.9,   95.1,   67.2,   70.1,   60.4,   96.7,   73.6,   98.2,\n",
       "         69.9,   74.8,   47.7,   92.1,   83.5,   94.6,   40.4,   98.9,\n",
       "         81.6,   67.8,   50.8,   54.7,   98.5,   88.1,   27.5,   42. ,\n",
       "         40.5,   50.7,   37.9,   77.2,   58.4,   88.7,   95.4,   64.6,\n",
       "         84.7,   83. ,   20.8,   38.7,   58.7,   18.4,   27.7,   90.7,\n",
       "         71.5,   39.5,   28.1,   40.8,   34.2,   49.1,   32.3,   79. ,\n",
       "         11.5,   43.1,   16. ,   94. ,   50.5,   93.6,   80.5,   45.6,\n",
       "         86.6,   96.5,   29.7,   97.5,   72.6,   53. ,   95.9,   98.3,\n",
       "         27. ,   97.2,   72.8,   96.8,   91.6,   97.7,   69.5,   19. ,\n",
       "         19.2,   80.9,   66.5,   49.4,   89.6,   22.9,   55.4,   91.4,\n",
       "         25.8,   53.4,   21.7,   75.4,   22.6,   94.5,   58.2,   27.6,\n",
       "         85.4,   80.7,    6.3,   11.8,   15.2,   54.6,   49.2,   79.8,\n",
       "         95.3,   40.6,   39. ,   88.4,   79.9,   87.7,   35.4,   37.7,\n",
       "         45.3,   96.1,   77.9,   98.4,   30.1,   82.3,   25.7,   92.2,\n",
       "         83.1,   92.7,   35.1,   91. ,    5.9,   42.2,   13.8,   90.4,\n",
       "         43.9,   62.4,   26.5,   37.3,   29.2,   21.9,    9.5,   78.5,\n",
       "         77. ,   13.6,   12. ,   36.6,   34.4,   95.6,   43.2,   52.7,\n",
       "         81.9,   10.7])"
      ]
     },
     "execution_count": 153,
     "metadata": {},
     "output_type": "execute_result"
    }
   ],
   "source": [
    "mpd.weekday_pct.unique()"
   ]
  },
  {
   "cell_type": "code",
   "execution_count": 154,
   "metadata": {
    "collapsed": false
   },
   "outputs": [
    {
     "data": {
      "text/plain": [
       "<matplotlib.axes._subplots.AxesSubplot at 0x11d225a90>"
      ]
     },
     "execution_count": 154,
     "metadata": {},
     "output_type": "execute_result"
    },
    {
     "data": {
      "image/png": "[encoded data removed]",
      "text/plain": [
       "<matplotlib.figure.Figure at 0x126e37978>"
      ]
     },
     "metadata": {},
     "output_type": "display_data"
    }
   ],
   "source": [
    "sns.boxplot(x='weekday_pct', data=mpd)"
   ]
  },
  {
   "cell_type": "code",
   "execution_count": 223,
   "metadata": {
    "collapsed": true
   },
   "outputs": [],
   "source": [
    "mpd_orig = mpd"
   ]
  },
  {
   "cell_type": "code",
   "execution_count": 224,
   "metadata": {
    "collapsed": false
   },
   "outputs": [
    {
     "data": {
      "text/html": [
       "<div>\n",
       "<style>\n",
       "    .dataframe thead tr:only-child th {\n",
       "        text-align: right;\n",
       "    }\n",
       "\n",
       "    .dataframe thead th {\n",
       "        text-align: left;\n",
       "    }\n",
       "\n",
       "    .dataframe tbody tr th {\n",
       "        vertical-align: top;\n",
       "    }\n",
       "</style>\n",
       "<table border=\"1\" class=\"dataframe\">\n",
       "  <thead>\n",
       "    <tr style=\"text-align: right;\">\n",
       "      <th></th>\n",
       "      <th>avg_dist</th>\n",
       "      <th>avg_rating_by_driver</th>\n",
       "      <th>avg_rating_of_driver</th>\n",
       "      <th>avg_surge</th>\n",
       "      <th>surge_pct</th>\n",
       "      <th>trips_in_first_30_days</th>\n",
       "      <th>weekday_pct</th>\n",
       "      <th>date_diff</th>\n",
       "      <th>daysdiffnum</th>\n",
       "      <th>active</th>\n",
       "      <th>active_after_sixmnth</th>\n",
       "      <th>signup_day_of_week</th>\n",
       "    </tr>\n",
       "  </thead>\n",
       "  <tbody>\n",
       "    <tr>\n",
       "      <th>count</th>\n",
       "      <td>50000.000000</td>\n",
       "      <td>50000.000000</td>\n",
       "      <td>50000.000000</td>\n",
       "      <td>50000.000000</td>\n",
       "      <td>50000.000000</td>\n",
       "      <td>50000.000000</td>\n",
       "      <td>50000.000000</td>\n",
       "      <td>50000</td>\n",
       "      <td>50000.000000</td>\n",
       "      <td>50000.000000</td>\n",
       "      <td>50000.000000</td>\n",
       "      <td>50000.000000</td>\n",
       "    </tr>\n",
       "    <tr>\n",
       "      <th>mean</th>\n",
       "      <td>5.796827</td>\n",
       "      <td>4.778166</td>\n",
       "      <td>4.601306</td>\n",
       "      <td>1.074764</td>\n",
       "      <td>8.849536</td>\n",
       "      <td>2.278200</td>\n",
       "      <td>60.926084</td>\n",
       "      <td>92 days 18:57:44.640000</td>\n",
       "      <td>92.790100</td>\n",
       "      <td>0.692200</td>\n",
       "      <td>0.001700</td>\n",
       "      <td>3.309620</td>\n",
       "    </tr>\n",
       "    <tr>\n",
       "      <th>std</th>\n",
       "      <td>5.707357</td>\n",
       "      <td>0.445753</td>\n",
       "      <td>0.564977</td>\n",
       "      <td>0.222336</td>\n",
       "      <td>19.958811</td>\n",
       "      <td>3.792684</td>\n",
       "      <td>37.081503</td>\n",
       "      <td>62 days 03:06:56.580842</td>\n",
       "      <td>62.129822</td>\n",
       "      <td>0.461588</td>\n",
       "      <td>0.041196</td>\n",
       "      <td>1.880666</td>\n",
       "    </tr>\n",
       "    <tr>\n",
       "      <th>min</th>\n",
       "      <td>0.000000</td>\n",
       "      <td>1.000000</td>\n",
       "      <td>1.000000</td>\n",
       "      <td>1.000000</td>\n",
       "      <td>0.000000</td>\n",
       "      <td>0.000000</td>\n",
       "      <td>0.000000</td>\n",
       "      <td>0 days 00:00:00</td>\n",
       "      <td>0.000000</td>\n",
       "      <td>0.000000</td>\n",
       "      <td>0.000000</td>\n",
       "      <td>0.000000</td>\n",
       "    </tr>\n",
       "    <tr>\n",
       "      <th>25%</th>\n",
       "      <td>2.420000</td>\n",
       "      <td>4.700000</td>\n",
       "      <td>4.500000</td>\n",
       "      <td>1.000000</td>\n",
       "      <td>0.000000</td>\n",
       "      <td>0.000000</td>\n",
       "      <td>33.300000</td>\n",
       "      <td>27 days 00:00:00</td>\n",
       "      <td>27.000000</td>\n",
       "      <td>0.000000</td>\n",
       "      <td>0.000000</td>\n",
       "      <td>2.000000</td>\n",
       "    </tr>\n",
       "    <tr>\n",
       "      <th>50%</th>\n",
       "      <td>3.880000</td>\n",
       "      <td>5.000000</td>\n",
       "      <td>4.700000</td>\n",
       "      <td>1.000000</td>\n",
       "      <td>0.000000</td>\n",
       "      <td>1.000000</td>\n",
       "      <td>66.700000</td>\n",
       "      <td>110 days 00:00:00</td>\n",
       "      <td>110.000000</td>\n",
       "      <td>1.000000</td>\n",
       "      <td>0.000000</td>\n",
       "      <td>4.000000</td>\n",
       "    </tr>\n",
       "    <tr>\n",
       "      <th>75%</th>\n",
       "      <td>6.940000</td>\n",
       "      <td>5.000000</td>\n",
       "      <td>5.000000</td>\n",
       "      <td>1.050000</td>\n",
       "      <td>8.600000</td>\n",
       "      <td>3.000000</td>\n",
       "      <td>100.000000</td>\n",
       "      <td>150 days 00:00:00</td>\n",
       "      <td>150.000000</td>\n",
       "      <td>1.000000</td>\n",
       "      <td>0.000000</td>\n",
       "      <td>5.000000</td>\n",
       "    </tr>\n",
       "    <tr>\n",
       "      <th>max</th>\n",
       "      <td>160.960000</td>\n",
       "      <td>5.000000</td>\n",
       "      <td>5.000000</td>\n",
       "      <td>8.000000</td>\n",
       "      <td>100.000000</td>\n",
       "      <td>125.000000</td>\n",
       "      <td>100.000000</td>\n",
       "      <td>181 days 00:00:00</td>\n",
       "      <td>181.000000</td>\n",
       "      <td>1.000000</td>\n",
       "      <td>1.000000</td>\n",
       "      <td>6.000000</td>\n",
       "    </tr>\n",
       "  </tbody>\n",
       "</table>\n",
       "</div>"
      ],
      "text/plain": [
       "           avg_dist  avg_rating_by_driver  avg_rating_of_driver     avg_surge  \\\n",
       "count  50000.000000          50000.000000          50000.000000  50000.000000   \n",
       "mean       5.796827              4.778166              4.601306      1.074764   \n",
       "std        5.707357              0.445753              0.564977      0.222336   \n",
       "min        0.000000              1.000000              1.000000      1.000000   \n",
       "25%        2.420000              4.700000              4.500000      1.000000   \n",
       "50%        3.880000              5.000000              4.700000      1.000000   \n",
       "75%        6.940000              5.000000              5.000000      1.050000   \n",
       "max      160.960000              5.000000              5.000000      8.000000   \n",
       "\n",
       "          surge_pct  trips_in_first_30_days   weekday_pct  \\\n",
       "count  50000.000000            50000.000000  50000.000000   \n",
       "mean       8.849536                2.278200     60.926084   \n",
       "std       19.958811                3.792684     37.081503   \n",
       "min        0.000000                0.000000      0.000000   \n",
       "25%        0.000000                0.000000     33.300000   \n",
       "50%        0.000000                1.000000     66.700000   \n",
       "75%        8.600000                3.000000    100.000000   \n",
       "max      100.000000              125.000000    100.000000   \n",
       "\n",
       "                     date_diff   daysdiffnum        active  \\\n",
       "count                    50000  50000.000000  50000.000000   \n",
       "mean   92 days 18:57:44.640000     92.790100      0.692200   \n",
       "std    62 days 03:06:56.580842     62.129822      0.461588   \n",
       "min            0 days 00:00:00      0.000000      0.000000   \n",
       "25%           27 days 00:00:00     27.000000      0.000000   \n",
       "50%          110 days 00:00:00    110.000000      1.000000   \n",
       "75%          150 days 00:00:00    150.000000      1.000000   \n",
       "max          181 days 00:00:00    181.000000      1.000000   \n",
       "\n",
       "       active_after_sixmnth  signup_day_of_week  \n",
       "count          50000.000000        50000.000000  \n",
       "mean               0.001700            3.309620  \n",
       "std                0.041196            1.880666  \n",
       "min                0.000000            0.000000  \n",
       "25%                0.000000            2.000000  \n",
       "50%                0.000000            4.000000  \n",
       "75%                0.000000            5.000000  \n",
       "max                1.000000            6.000000  "
      ]
     },
     "execution_count": 224,
     "metadata": {},
     "output_type": "execute_result"
    }
   ],
   "source": [
    "mpd.describe()"
   ]
  },
  {
   "cell_type": "markdown",
   "metadata": {},
   "source": [
    "####  We will drop Categorical variable 'Phone' and will keep the variable 'City'\n"
   ]
  },
  {
   "cell_type": "code",
   "execution_count": 225,
   "metadata": {
    "collapsed": false
   },
   "outputs": [],
   "source": [
    "mpd_final_one = mpd.drop(['phone'],axis=1)"
   ]
  },
  {
   "cell_type": "code",
   "execution_count": 226,
   "metadata": {
    "collapsed": true
   },
   "outputs": [],
   "source": [
    "mpd_final_one = mpd_final_one.drop(['date_diff'],axis=1)"
   ]
  },
  {
   "cell_type": "code",
   "execution_count": 192,
   "metadata": {
    "collapsed": false
   },
   "outputs": [
    {
     "data": {
      "text/html": [
       "<div>\n",
       "<style>\n",
       "    .dataframe thead tr:only-child th {\n",
       "        text-align: right;\n",
       "    }\n",
       "\n",
       "    .dataframe thead th {\n",
       "        text-align: left;\n",
       "    }\n",
       "\n",
       "    .dataframe tbody tr th {\n",
       "        vertical-align: top;\n",
       "    }\n",
       "</style>\n",
       "<table border=\"1\" class=\"dataframe\">\n",
       "  <thead>\n",
       "    <tr style=\"text-align: right;\">\n",
       "      <th></th>\n",
       "      <th>avg_dist</th>\n",
       "      <th>avg_rating_by_driver</th>\n",
       "      <th>avg_rating_of_driver</th>\n",
       "      <th>avg_surge</th>\n",
       "      <th>city</th>\n",
       "      <th>last_trip_date</th>\n",
       "      <th>signup_date</th>\n",
       "      <th>surge_pct</th>\n",
       "      <th>trips_in_first_30_days</th>\n",
       "      <th>ultimate_black_user</th>\n",
       "      <th>weekday_pct</th>\n",
       "      <th>last_trip_date_dt</th>\n",
       "      <th>signup_date_dt</th>\n",
       "      <th>daysdiffnum</th>\n",
       "      <th>active</th>\n",
       "      <th>active_after_sixmnth</th>\n",
       "      <th>signup_day_of_week</th>\n",
       "    </tr>\n",
       "  </thead>\n",
       "  <tbody>\n",
       "    <tr>\n",
       "      <th>0</th>\n",
       "      <td>3.67</td>\n",
       "      <td>5.0</td>\n",
       "      <td>4.7</td>\n",
       "      <td>1.10</td>\n",
       "      <td>King's Landing</td>\n",
       "      <td>2014-06-17</td>\n",
       "      <td>2014-01-25</td>\n",
       "      <td>15.4</td>\n",
       "      <td>4</td>\n",
       "      <td>True</td>\n",
       "      <td>46.2</td>\n",
       "      <td>2014-06-17</td>\n",
       "      <td>2014-01-25</td>\n",
       "      <td>143.0</td>\n",
       "      <td>1.0</td>\n",
       "      <td>0.0</td>\n",
       "      <td>5.0</td>\n",
       "    </tr>\n",
       "    <tr>\n",
       "      <th>1</th>\n",
       "      <td>8.26</td>\n",
       "      <td>5.0</td>\n",
       "      <td>5.0</td>\n",
       "      <td>1.00</td>\n",
       "      <td>Astapor</td>\n",
       "      <td>2014-05-05</td>\n",
       "      <td>2014-01-29</td>\n",
       "      <td>0.0</td>\n",
       "      <td>0</td>\n",
       "      <td>False</td>\n",
       "      <td>50.0</td>\n",
       "      <td>2014-05-05</td>\n",
       "      <td>2014-01-29</td>\n",
       "      <td>96.0</td>\n",
       "      <td>0.0</td>\n",
       "      <td>0.0</td>\n",
       "      <td>2.0</td>\n",
       "    </tr>\n",
       "    <tr>\n",
       "      <th>2</th>\n",
       "      <td>0.77</td>\n",
       "      <td>5.0</td>\n",
       "      <td>4.3</td>\n",
       "      <td>1.00</td>\n",
       "      <td>Astapor</td>\n",
       "      <td>2014-01-07</td>\n",
       "      <td>2014-01-06</td>\n",
       "      <td>0.0</td>\n",
       "      <td>3</td>\n",
       "      <td>False</td>\n",
       "      <td>100.0</td>\n",
       "      <td>2014-01-07</td>\n",
       "      <td>2014-01-06</td>\n",
       "      <td>1.0</td>\n",
       "      <td>1.0</td>\n",
       "      <td>0.0</td>\n",
       "      <td>0.0</td>\n",
       "    </tr>\n",
       "    <tr>\n",
       "      <th>3</th>\n",
       "      <td>2.36</td>\n",
       "      <td>4.9</td>\n",
       "      <td>4.6</td>\n",
       "      <td>1.14</td>\n",
       "      <td>King's Landing</td>\n",
       "      <td>2014-06-29</td>\n",
       "      <td>2014-01-10</td>\n",
       "      <td>20.0</td>\n",
       "      <td>9</td>\n",
       "      <td>True</td>\n",
       "      <td>80.0</td>\n",
       "      <td>2014-06-29</td>\n",
       "      <td>2014-01-10</td>\n",
       "      <td>170.0</td>\n",
       "      <td>1.0</td>\n",
       "      <td>0.0</td>\n",
       "      <td>4.0</td>\n",
       "    </tr>\n",
       "    <tr>\n",
       "      <th>4</th>\n",
       "      <td>3.13</td>\n",
       "      <td>4.9</td>\n",
       "      <td>4.4</td>\n",
       "      <td>1.19</td>\n",
       "      <td>Winterfell</td>\n",
       "      <td>2014-03-15</td>\n",
       "      <td>2014-01-27</td>\n",
       "      <td>11.8</td>\n",
       "      <td>14</td>\n",
       "      <td>False</td>\n",
       "      <td>82.4</td>\n",
       "      <td>2014-03-15</td>\n",
       "      <td>2014-01-27</td>\n",
       "      <td>47.0</td>\n",
       "      <td>1.0</td>\n",
       "      <td>0.0</td>\n",
       "      <td>0.0</td>\n",
       "    </tr>\n",
       "  </tbody>\n",
       "</table>\n",
       "</div>"
      ],
      "text/plain": [
       "   avg_dist  avg_rating_by_driver  avg_rating_of_driver  avg_surge  \\\n",
       "0      3.67                   5.0                   4.7       1.10   \n",
       "1      8.26                   5.0                   5.0       1.00   \n",
       "2      0.77                   5.0                   4.3       1.00   \n",
       "3      2.36                   4.9                   4.6       1.14   \n",
       "4      3.13                   4.9                   4.4       1.19   \n",
       "\n",
       "             city last_trip_date signup_date  surge_pct  \\\n",
       "0  King's Landing     2014-06-17  2014-01-25       15.4   \n",
       "1         Astapor     2014-05-05  2014-01-29        0.0   \n",
       "2         Astapor     2014-01-07  2014-01-06        0.0   \n",
       "3  King's Landing     2014-06-29  2014-01-10       20.0   \n",
       "4      Winterfell     2014-03-15  2014-01-27       11.8   \n",
       "\n",
       "   trips_in_first_30_days  ultimate_black_user  weekday_pct last_trip_date_dt  \\\n",
       "0                       4                 True         46.2        2014-06-17   \n",
       "1                       0                False         50.0        2014-05-05   \n",
       "2                       3                False        100.0        2014-01-07   \n",
       "3                       9                 True         80.0        2014-06-29   \n",
       "4                      14                False         82.4        2014-03-15   \n",
       "\n",
       "  signup_date_dt  daysdiffnum  active  active_after_sixmnth  \\\n",
       "0     2014-01-25        143.0     1.0                   0.0   \n",
       "1     2014-01-29         96.0     0.0                   0.0   \n",
       "2     2014-01-06          1.0     1.0                   0.0   \n",
       "3     2014-01-10        170.0     1.0                   0.0   \n",
       "4     2014-01-27         47.0     1.0                   0.0   \n",
       "\n",
       "   signup_day_of_week  \n",
       "0                 5.0  \n",
       "1                 2.0  \n",
       "2                 0.0  \n",
       "3                 4.0  \n",
       "4                 0.0  "
      ]
     },
     "execution_count": 192,
     "metadata": {},
     "output_type": "execute_result"
    }
   ],
   "source": [
    "mpd_final_one.head()"
   ]
  },
  {
   "cell_type": "code",
   "execution_count": 227,
   "metadata": {
    "collapsed": false
   },
   "outputs": [],
   "source": [
    "#dropping the dates field\n",
    "mpd_final_one = mpd_final_one.drop(['last_trip_date','signup_date','last_trip_date_dt','signup_date_dt'],axis=1)\n"
   ]
  },
  {
   "cell_type": "code",
   "execution_count": 228,
   "metadata": {
    "collapsed": false
   },
   "outputs": [
    {
     "data": {
      "text/html": [
       "<div>\n",
       "<style>\n",
       "    .dataframe thead tr:only-child th {\n",
       "        text-align: right;\n",
       "    }\n",
       "\n",
       "    .dataframe thead th {\n",
       "        text-align: left;\n",
       "    }\n",
       "\n",
       "    .dataframe tbody tr th {\n",
       "        vertical-align: top;\n",
       "    }\n",
       "</style>\n",
       "<table border=\"1\" class=\"dataframe\">\n",
       "  <thead>\n",
       "    <tr style=\"text-align: right;\">\n",
       "      <th></th>\n",
       "      <th>avg_dist</th>\n",
       "      <th>avg_rating_by_driver</th>\n",
       "      <th>avg_rating_of_driver</th>\n",
       "      <th>avg_surge</th>\n",
       "      <th>city</th>\n",
       "      <th>surge_pct</th>\n",
       "      <th>trips_in_first_30_days</th>\n",
       "      <th>ultimate_black_user</th>\n",
       "      <th>weekday_pct</th>\n",
       "      <th>daysdiffnum</th>\n",
       "      <th>active</th>\n",
       "      <th>active_after_sixmnth</th>\n",
       "      <th>signup_day_of_week</th>\n",
       "    </tr>\n",
       "  </thead>\n",
       "  <tbody>\n",
       "    <tr>\n",
       "      <th>0</th>\n",
       "      <td>3.67</td>\n",
       "      <td>5.0</td>\n",
       "      <td>4.7</td>\n",
       "      <td>1.10</td>\n",
       "      <td>King's Landing</td>\n",
       "      <td>15.4</td>\n",
       "      <td>4</td>\n",
       "      <td>True</td>\n",
       "      <td>46.2</td>\n",
       "      <td>143.0</td>\n",
       "      <td>1.0</td>\n",
       "      <td>0.0</td>\n",
       "      <td>5.0</td>\n",
       "    </tr>\n",
       "    <tr>\n",
       "      <th>1</th>\n",
       "      <td>8.26</td>\n",
       "      <td>5.0</td>\n",
       "      <td>5.0</td>\n",
       "      <td>1.00</td>\n",
       "      <td>Astapor</td>\n",
       "      <td>0.0</td>\n",
       "      <td>0</td>\n",
       "      <td>False</td>\n",
       "      <td>50.0</td>\n",
       "      <td>96.0</td>\n",
       "      <td>0.0</td>\n",
       "      <td>0.0</td>\n",
       "      <td>2.0</td>\n",
       "    </tr>\n",
       "    <tr>\n",
       "      <th>2</th>\n",
       "      <td>0.77</td>\n",
       "      <td>5.0</td>\n",
       "      <td>4.3</td>\n",
       "      <td>1.00</td>\n",
       "      <td>Astapor</td>\n",
       "      <td>0.0</td>\n",
       "      <td>3</td>\n",
       "      <td>False</td>\n",
       "      <td>100.0</td>\n",
       "      <td>1.0</td>\n",
       "      <td>1.0</td>\n",
       "      <td>0.0</td>\n",
       "      <td>0.0</td>\n",
       "    </tr>\n",
       "    <tr>\n",
       "      <th>3</th>\n",
       "      <td>2.36</td>\n",
       "      <td>4.9</td>\n",
       "      <td>4.6</td>\n",
       "      <td>1.14</td>\n",
       "      <td>King's Landing</td>\n",
       "      <td>20.0</td>\n",
       "      <td>9</td>\n",
       "      <td>True</td>\n",
       "      <td>80.0</td>\n",
       "      <td>170.0</td>\n",
       "      <td>1.0</td>\n",
       "      <td>0.0</td>\n",
       "      <td>4.0</td>\n",
       "    </tr>\n",
       "    <tr>\n",
       "      <th>4</th>\n",
       "      <td>3.13</td>\n",
       "      <td>4.9</td>\n",
       "      <td>4.4</td>\n",
       "      <td>1.19</td>\n",
       "      <td>Winterfell</td>\n",
       "      <td>11.8</td>\n",
       "      <td>14</td>\n",
       "      <td>False</td>\n",
       "      <td>82.4</td>\n",
       "      <td>47.0</td>\n",
       "      <td>1.0</td>\n",
       "      <td>0.0</td>\n",
       "      <td>0.0</td>\n",
       "    </tr>\n",
       "  </tbody>\n",
       "</table>\n",
       "</div>"
      ],
      "text/plain": [
       "   avg_dist  avg_rating_by_driver  avg_rating_of_driver  avg_surge  \\\n",
       "0      3.67                   5.0                   4.7       1.10   \n",
       "1      8.26                   5.0                   5.0       1.00   \n",
       "2      0.77                   5.0                   4.3       1.00   \n",
       "3      2.36                   4.9                   4.6       1.14   \n",
       "4      3.13                   4.9                   4.4       1.19   \n",
       "\n",
       "             city  surge_pct  trips_in_first_30_days  ultimate_black_user  \\\n",
       "0  King's Landing       15.4                       4                 True   \n",
       "1         Astapor        0.0                       0                False   \n",
       "2         Astapor        0.0                       3                False   \n",
       "3  King's Landing       20.0                       9                 True   \n",
       "4      Winterfell       11.8                      14                False   \n",
       "\n",
       "   weekday_pct  daysdiffnum  active  active_after_sixmnth  signup_day_of_week  \n",
       "0         46.2        143.0     1.0                   0.0                 5.0  \n",
       "1         50.0         96.0     0.0                   0.0                 2.0  \n",
       "2        100.0          1.0     1.0                   0.0                 0.0  \n",
       "3         80.0        170.0     1.0                   0.0                 4.0  \n",
       "4         82.4         47.0     1.0                   0.0                 0.0  "
      ]
     },
     "execution_count": 228,
     "metadata": {},
     "output_type": "execute_result"
    }
   ],
   "source": [
    "mpd_final_one.head()"
   ]
  },
  {
   "cell_type": "code",
   "execution_count": 193,
   "metadata": {
    "collapsed": false
   },
   "outputs": [
    {
     "data": {
      "text/html": [
       "<div>\n",
       "<style>\n",
       "    .dataframe thead tr:only-child th {\n",
       "        text-align: right;\n",
       "    }\n",
       "\n",
       "    .dataframe thead th {\n",
       "        text-align: left;\n",
       "    }\n",
       "\n",
       "    .dataframe tbody tr th {\n",
       "        vertical-align: top;\n",
       "    }\n",
       "</style>\n",
       "<table border=\"1\" class=\"dataframe\">\n",
       "  <thead>\n",
       "    <tr style=\"text-align: right;\">\n",
       "      <th></th>\n",
       "      <th>avg_dist</th>\n",
       "      <th>avg_rating_by_driver</th>\n",
       "      <th>avg_rating_of_driver</th>\n",
       "      <th>avg_surge</th>\n",
       "      <th>surge_pct</th>\n",
       "      <th>trips_in_first_30_days</th>\n",
       "      <th>weekday_pct</th>\n",
       "      <th>daysdiffnum</th>\n",
       "      <th>active</th>\n",
       "      <th>active_after_sixmnth</th>\n",
       "      <th>signup_day_of_week</th>\n",
       "    </tr>\n",
       "  </thead>\n",
       "  <tbody>\n",
       "    <tr>\n",
       "      <th>count</th>\n",
       "      <td>50000.000000</td>\n",
       "      <td>50000.000000</td>\n",
       "      <td>50000.000000</td>\n",
       "      <td>50000.000000</td>\n",
       "      <td>50000.000000</td>\n",
       "      <td>50000.000000</td>\n",
       "      <td>50000.000000</td>\n",
       "      <td>50000.000000</td>\n",
       "      <td>50000.000000</td>\n",
       "      <td>50000.000000</td>\n",
       "      <td>50000.000000</td>\n",
       "    </tr>\n",
       "    <tr>\n",
       "      <th>mean</th>\n",
       "      <td>5.796827</td>\n",
       "      <td>4.778166</td>\n",
       "      <td>4.601306</td>\n",
       "      <td>1.074764</td>\n",
       "      <td>8.849536</td>\n",
       "      <td>2.278200</td>\n",
       "      <td>60.926084</td>\n",
       "      <td>92.790100</td>\n",
       "      <td>0.692200</td>\n",
       "      <td>0.001700</td>\n",
       "      <td>3.309620</td>\n",
       "    </tr>\n",
       "    <tr>\n",
       "      <th>std</th>\n",
       "      <td>5.707357</td>\n",
       "      <td>0.445753</td>\n",
       "      <td>0.564977</td>\n",
       "      <td>0.222336</td>\n",
       "      <td>19.958811</td>\n",
       "      <td>3.792684</td>\n",
       "      <td>37.081503</td>\n",
       "      <td>62.129822</td>\n",
       "      <td>0.461588</td>\n",
       "      <td>0.041196</td>\n",
       "      <td>1.880666</td>\n",
       "    </tr>\n",
       "    <tr>\n",
       "      <th>min</th>\n",
       "      <td>0.000000</td>\n",
       "      <td>1.000000</td>\n",
       "      <td>1.000000</td>\n",
       "      <td>1.000000</td>\n",
       "      <td>0.000000</td>\n",
       "      <td>0.000000</td>\n",
       "      <td>0.000000</td>\n",
       "      <td>0.000000</td>\n",
       "      <td>0.000000</td>\n",
       "      <td>0.000000</td>\n",
       "      <td>0.000000</td>\n",
       "    </tr>\n",
       "    <tr>\n",
       "      <th>25%</th>\n",
       "      <td>2.420000</td>\n",
       "      <td>4.700000</td>\n",
       "      <td>4.500000</td>\n",
       "      <td>1.000000</td>\n",
       "      <td>0.000000</td>\n",
       "      <td>0.000000</td>\n",
       "      <td>33.300000</td>\n",
       "      <td>27.000000</td>\n",
       "      <td>0.000000</td>\n",
       "      <td>0.000000</td>\n",
       "      <td>2.000000</td>\n",
       "    </tr>\n",
       "    <tr>\n",
       "      <th>50%</th>\n",
       "      <td>3.880000</td>\n",
       "      <td>5.000000</td>\n",
       "      <td>4.700000</td>\n",
       "      <td>1.000000</td>\n",
       "      <td>0.000000</td>\n",
       "      <td>1.000000</td>\n",
       "      <td>66.700000</td>\n",
       "      <td>110.000000</td>\n",
       "      <td>1.000000</td>\n",
       "      <td>0.000000</td>\n",
       "      <td>4.000000</td>\n",
       "    </tr>\n",
       "    <tr>\n",
       "      <th>75%</th>\n",
       "      <td>6.940000</td>\n",
       "      <td>5.000000</td>\n",
       "      <td>5.000000</td>\n",
       "      <td>1.050000</td>\n",
       "      <td>8.600000</td>\n",
       "      <td>3.000000</td>\n",
       "      <td>100.000000</td>\n",
       "      <td>150.000000</td>\n",
       "      <td>1.000000</td>\n",
       "      <td>0.000000</td>\n",
       "      <td>5.000000</td>\n",
       "    </tr>\n",
       "    <tr>\n",
       "      <th>max</th>\n",
       "      <td>160.960000</td>\n",
       "      <td>5.000000</td>\n",
       "      <td>5.000000</td>\n",
       "      <td>8.000000</td>\n",
       "      <td>100.000000</td>\n",
       "      <td>125.000000</td>\n",
       "      <td>100.000000</td>\n",
       "      <td>181.000000</td>\n",
       "      <td>1.000000</td>\n",
       "      <td>1.000000</td>\n",
       "      <td>6.000000</td>\n",
       "    </tr>\n",
       "  </tbody>\n",
       "</table>\n",
       "</div>"
      ],
      "text/plain": [
       "           avg_dist  avg_rating_by_driver  avg_rating_of_driver     avg_surge  \\\n",
       "count  50000.000000          50000.000000          50000.000000  50000.000000   \n",
       "mean       5.796827              4.778166              4.601306      1.074764   \n",
       "std        5.707357              0.445753              0.564977      0.222336   \n",
       "min        0.000000              1.000000              1.000000      1.000000   \n",
       "25%        2.420000              4.700000              4.500000      1.000000   \n",
       "50%        3.880000              5.000000              4.700000      1.000000   \n",
       "75%        6.940000              5.000000              5.000000      1.050000   \n",
       "max      160.960000              5.000000              5.000000      8.000000   \n",
       "\n",
       "          surge_pct  trips_in_first_30_days   weekday_pct   daysdiffnum  \\\n",
       "count  50000.000000            50000.000000  50000.000000  50000.000000   \n",
       "mean       8.849536                2.278200     60.926084     92.790100   \n",
       "std       19.958811                3.792684     37.081503     62.129822   \n",
       "min        0.000000                0.000000      0.000000      0.000000   \n",
       "25%        0.000000                0.000000     33.300000     27.000000   \n",
       "50%        0.000000                1.000000     66.700000    110.000000   \n",
       "75%        8.600000                3.000000    100.000000    150.000000   \n",
       "max      100.000000              125.000000    100.000000    181.000000   \n",
       "\n",
       "             active  active_after_sixmnth  signup_day_of_week  \n",
       "count  50000.000000          50000.000000        50000.000000  \n",
       "mean       0.692200              0.001700            3.309620  \n",
       "std        0.461588              0.041196            1.880666  \n",
       "min        0.000000              0.000000            0.000000  \n",
       "25%        0.000000              0.000000            2.000000  \n",
       "50%        1.000000              0.000000            4.000000  \n",
       "75%        1.000000              0.000000            5.000000  \n",
       "max        1.000000              1.000000            6.000000  "
      ]
     },
     "execution_count": 193,
     "metadata": {},
     "output_type": "execute_result"
    }
   ],
   "source": [
    "mpd_final_one.describe()"
   ]
  },
  {
   "cell_type": "code",
   "execution_count": 229,
   "metadata": {
    "collapsed": true
   },
   "outputs": [],
   "source": [
    "mpd_final = pd.get_dummies(mpd_final_one,drop_first=True)"
   ]
  },
  {
   "cell_type": "code",
   "execution_count": 230,
   "metadata": {
    "collapsed": false
   },
   "outputs": [
    {
     "data": {
      "text/html": [
       "<div>\n",
       "<style>\n",
       "    .dataframe thead tr:only-child th {\n",
       "        text-align: right;\n",
       "    }\n",
       "\n",
       "    .dataframe thead th {\n",
       "        text-align: left;\n",
       "    }\n",
       "\n",
       "    .dataframe tbody tr th {\n",
       "        vertical-align: top;\n",
       "    }\n",
       "</style>\n",
       "<table border=\"1\" class=\"dataframe\">\n",
       "  <thead>\n",
       "    <tr style=\"text-align: right;\">\n",
       "      <th></th>\n",
       "      <th>avg_dist</th>\n",
       "      <th>avg_rating_by_driver</th>\n",
       "      <th>avg_rating_of_driver</th>\n",
       "      <th>avg_surge</th>\n",
       "      <th>surge_pct</th>\n",
       "      <th>trips_in_first_30_days</th>\n",
       "      <th>ultimate_black_user</th>\n",
       "      <th>weekday_pct</th>\n",
       "      <th>daysdiffnum</th>\n",
       "      <th>active</th>\n",
       "      <th>active_after_sixmnth</th>\n",
       "      <th>signup_day_of_week</th>\n",
       "      <th>city_King's Landing</th>\n",
       "      <th>city_Winterfell</th>\n",
       "    </tr>\n",
       "  </thead>\n",
       "  <tbody>\n",
       "    <tr>\n",
       "      <th>0</th>\n",
       "      <td>3.67</td>\n",
       "      <td>5.0</td>\n",
       "      <td>4.7</td>\n",
       "      <td>1.10</td>\n",
       "      <td>15.4</td>\n",
       "      <td>4</td>\n",
       "      <td>True</td>\n",
       "      <td>46.2</td>\n",
       "      <td>143.0</td>\n",
       "      <td>1.0</td>\n",
       "      <td>0.0</td>\n",
       "      <td>5.0</td>\n",
       "      <td>1</td>\n",
       "      <td>0</td>\n",
       "    </tr>\n",
       "    <tr>\n",
       "      <th>1</th>\n",
       "      <td>8.26</td>\n",
       "      <td>5.0</td>\n",
       "      <td>5.0</td>\n",
       "      <td>1.00</td>\n",
       "      <td>0.0</td>\n",
       "      <td>0</td>\n",
       "      <td>False</td>\n",
       "      <td>50.0</td>\n",
       "      <td>96.0</td>\n",
       "      <td>0.0</td>\n",
       "      <td>0.0</td>\n",
       "      <td>2.0</td>\n",
       "      <td>0</td>\n",
       "      <td>0</td>\n",
       "    </tr>\n",
       "    <tr>\n",
       "      <th>2</th>\n",
       "      <td>0.77</td>\n",
       "      <td>5.0</td>\n",
       "      <td>4.3</td>\n",
       "      <td>1.00</td>\n",
       "      <td>0.0</td>\n",
       "      <td>3</td>\n",
       "      <td>False</td>\n",
       "      <td>100.0</td>\n",
       "      <td>1.0</td>\n",
       "      <td>1.0</td>\n",
       "      <td>0.0</td>\n",
       "      <td>0.0</td>\n",
       "      <td>0</td>\n",
       "      <td>0</td>\n",
       "    </tr>\n",
       "    <tr>\n",
       "      <th>3</th>\n",
       "      <td>2.36</td>\n",
       "      <td>4.9</td>\n",
       "      <td>4.6</td>\n",
       "      <td>1.14</td>\n",
       "      <td>20.0</td>\n",
       "      <td>9</td>\n",
       "      <td>True</td>\n",
       "      <td>80.0</td>\n",
       "      <td>170.0</td>\n",
       "      <td>1.0</td>\n",
       "      <td>0.0</td>\n",
       "      <td>4.0</td>\n",
       "      <td>1</td>\n",
       "      <td>0</td>\n",
       "    </tr>\n",
       "    <tr>\n",
       "      <th>4</th>\n",
       "      <td>3.13</td>\n",
       "      <td>4.9</td>\n",
       "      <td>4.4</td>\n",
       "      <td>1.19</td>\n",
       "      <td>11.8</td>\n",
       "      <td>14</td>\n",
       "      <td>False</td>\n",
       "      <td>82.4</td>\n",
       "      <td>47.0</td>\n",
       "      <td>1.0</td>\n",
       "      <td>0.0</td>\n",
       "      <td>0.0</td>\n",
       "      <td>0</td>\n",
       "      <td>1</td>\n",
       "    </tr>\n",
       "  </tbody>\n",
       "</table>\n",
       "</div>"
      ],
      "text/plain": [
       "   avg_dist  avg_rating_by_driver  avg_rating_of_driver  avg_surge  surge_pct  \\\n",
       "0      3.67                   5.0                   4.7       1.10       15.4   \n",
       "1      8.26                   5.0                   5.0       1.00        0.0   \n",
       "2      0.77                   5.0                   4.3       1.00        0.0   \n",
       "3      2.36                   4.9                   4.6       1.14       20.0   \n",
       "4      3.13                   4.9                   4.4       1.19       11.8   \n",
       "\n",
       "   trips_in_first_30_days  ultimate_black_user  weekday_pct  daysdiffnum  \\\n",
       "0                       4                 True         46.2        143.0   \n",
       "1                       0                False         50.0         96.0   \n",
       "2                       3                False        100.0          1.0   \n",
       "3                       9                 True         80.0        170.0   \n",
       "4                      14                False         82.4         47.0   \n",
       "\n",
       "   active  active_after_sixmnth  signup_day_of_week  city_King's Landing  \\\n",
       "0     1.0                   0.0                 5.0                    1   \n",
       "1     0.0                   0.0                 2.0                    0   \n",
       "2     1.0                   0.0                 0.0                    0   \n",
       "3     1.0                   0.0                 4.0                    1   \n",
       "4     1.0                   0.0                 0.0                    0   \n",
       "\n",
       "   city_Winterfell  \n",
       "0                0  \n",
       "1                0  \n",
       "2                0  \n",
       "3                0  \n",
       "4                1  "
      ]
     },
     "execution_count": 230,
     "metadata": {},
     "output_type": "execute_result"
    }
   ],
   "source": [
    "mpd_final.head()"
   ]
  },
  {
   "cell_type": "code",
   "execution_count": 232,
   "metadata": {
    "collapsed": false
   },
   "outputs": [],
   "source": [
    "\n",
    "#converting boolean to string\n",
    "\n",
    "booleandf = mpd_final.select_dtypes(include=[bool])\n",
    "booleanDictionary = {True: 'TRUE', False: 'FALSE'}\n",
    "\n",
    "#loop by df is loop by columns, same as for column in booleandf.columns:\n",
    "for column in booleandf:\n",
    "    if column == 'ultimate_black_user':\n",
    "        mpd_final[column] = mpd_final[column].map(booleanDictionary)\n"
   ]
  },
  {
   "cell_type": "code",
   "execution_count": 233,
   "metadata": {
    "collapsed": false
   },
   "outputs": [
    {
     "data": {
      "text/html": [
       "<div>\n",
       "<style>\n",
       "    .dataframe thead tr:only-child th {\n",
       "        text-align: right;\n",
       "    }\n",
       "\n",
       "    .dataframe thead th {\n",
       "        text-align: left;\n",
       "    }\n",
       "\n",
       "    .dataframe tbody tr th {\n",
       "        vertical-align: top;\n",
       "    }\n",
       "</style>\n",
       "<table border=\"1\" class=\"dataframe\">\n",
       "  <thead>\n",
       "    <tr style=\"text-align: right;\">\n",
       "      <th></th>\n",
       "      <th>avg_dist</th>\n",
       "      <th>avg_rating_by_driver</th>\n",
       "      <th>avg_rating_of_driver</th>\n",
       "      <th>avg_surge</th>\n",
       "      <th>surge_pct</th>\n",
       "      <th>trips_in_first_30_days</th>\n",
       "      <th>ultimate_black_user</th>\n",
       "      <th>weekday_pct</th>\n",
       "      <th>daysdiffnum</th>\n",
       "      <th>active</th>\n",
       "      <th>active_after_sixmnth</th>\n",
       "      <th>signup_day_of_week</th>\n",
       "      <th>city_King's Landing</th>\n",
       "      <th>city_Winterfell</th>\n",
       "    </tr>\n",
       "  </thead>\n",
       "  <tbody>\n",
       "    <tr>\n",
       "      <th>0</th>\n",
       "      <td>3.67</td>\n",
       "      <td>5.0</td>\n",
       "      <td>4.7</td>\n",
       "      <td>1.10</td>\n",
       "      <td>15.4</td>\n",
       "      <td>4</td>\n",
       "      <td>TRUE</td>\n",
       "      <td>46.2</td>\n",
       "      <td>143.0</td>\n",
       "      <td>1.0</td>\n",
       "      <td>0.0</td>\n",
       "      <td>5.0</td>\n",
       "      <td>1</td>\n",
       "      <td>0</td>\n",
       "    </tr>\n",
       "    <tr>\n",
       "      <th>1</th>\n",
       "      <td>8.26</td>\n",
       "      <td>5.0</td>\n",
       "      <td>5.0</td>\n",
       "      <td>1.00</td>\n",
       "      <td>0.0</td>\n",
       "      <td>0</td>\n",
       "      <td>FALSE</td>\n",
       "      <td>50.0</td>\n",
       "      <td>96.0</td>\n",
       "      <td>0.0</td>\n",
       "      <td>0.0</td>\n",
       "      <td>2.0</td>\n",
       "      <td>0</td>\n",
       "      <td>0</td>\n",
       "    </tr>\n",
       "    <tr>\n",
       "      <th>2</th>\n",
       "      <td>0.77</td>\n",
       "      <td>5.0</td>\n",
       "      <td>4.3</td>\n",
       "      <td>1.00</td>\n",
       "      <td>0.0</td>\n",
       "      <td>3</td>\n",
       "      <td>FALSE</td>\n",
       "      <td>100.0</td>\n",
       "      <td>1.0</td>\n",
       "      <td>1.0</td>\n",
       "      <td>0.0</td>\n",
       "      <td>0.0</td>\n",
       "      <td>0</td>\n",
       "      <td>0</td>\n",
       "    </tr>\n",
       "    <tr>\n",
       "      <th>3</th>\n",
       "      <td>2.36</td>\n",
       "      <td>4.9</td>\n",
       "      <td>4.6</td>\n",
       "      <td>1.14</td>\n",
       "      <td>20.0</td>\n",
       "      <td>9</td>\n",
       "      <td>TRUE</td>\n",
       "      <td>80.0</td>\n",
       "      <td>170.0</td>\n",
       "      <td>1.0</td>\n",
       "      <td>0.0</td>\n",
       "      <td>4.0</td>\n",
       "      <td>1</td>\n",
       "      <td>0</td>\n",
       "    </tr>\n",
       "    <tr>\n",
       "      <th>4</th>\n",
       "      <td>3.13</td>\n",
       "      <td>4.9</td>\n",
       "      <td>4.4</td>\n",
       "      <td>1.19</td>\n",
       "      <td>11.8</td>\n",
       "      <td>14</td>\n",
       "      <td>FALSE</td>\n",
       "      <td>82.4</td>\n",
       "      <td>47.0</td>\n",
       "      <td>1.0</td>\n",
       "      <td>0.0</td>\n",
       "      <td>0.0</td>\n",
       "      <td>0</td>\n",
       "      <td>1</td>\n",
       "    </tr>\n",
       "  </tbody>\n",
       "</table>\n",
       "</div>"
      ],
      "text/plain": [
       "   avg_dist  avg_rating_by_driver  avg_rating_of_driver  avg_surge  surge_pct  \\\n",
       "0      3.67                   5.0                   4.7       1.10       15.4   \n",
       "1      8.26                   5.0                   5.0       1.00        0.0   \n",
       "2      0.77                   5.0                   4.3       1.00        0.0   \n",
       "3      2.36                   4.9                   4.6       1.14       20.0   \n",
       "4      3.13                   4.9                   4.4       1.19       11.8   \n",
       "\n",
       "   trips_in_first_30_days ultimate_black_user  weekday_pct  daysdiffnum  \\\n",
       "0                       4                TRUE         46.2        143.0   \n",
       "1                       0               FALSE         50.0         96.0   \n",
       "2                       3               FALSE        100.0          1.0   \n",
       "3                       9                TRUE         80.0        170.0   \n",
       "4                      14               FALSE         82.4         47.0   \n",
       "\n",
       "   active  active_after_sixmnth  signup_day_of_week  city_King's Landing  \\\n",
       "0     1.0                   0.0                 5.0                    1   \n",
       "1     0.0                   0.0                 2.0                    0   \n",
       "2     1.0                   0.0                 0.0                    0   \n",
       "3     1.0                   0.0                 4.0                    1   \n",
       "4     1.0                   0.0                 0.0                    0   \n",
       "\n",
       "   city_Winterfell  \n",
       "0                0  \n",
       "1                0  \n",
       "2                0  \n",
       "3                0  \n",
       "4                1  "
      ]
     },
     "execution_count": 233,
     "metadata": {},
     "output_type": "execute_result"
    }
   ],
   "source": [
    "mpd_final.head()"
   ]
  },
  {
   "cell_type": "code",
   "execution_count": 234,
   "metadata": {
    "collapsed": true
   },
   "outputs": [],
   "source": [
    "#For 'ultimate_black_user' replacing True with '1' and False with '0'\n",
    "\n",
    "mpd_final['ultimate_black_user_nm'] = mpd_final['ultimate_black_user'].map({'TRUE': 1, 'FALSE': 0})"
   ]
  },
  {
   "cell_type": "code",
   "execution_count": 235,
   "metadata": {
    "collapsed": false
   },
   "outputs": [
    {
     "data": {
      "text/html": [
       "<div>\n",
       "<style>\n",
       "    .dataframe thead tr:only-child th {\n",
       "        text-align: right;\n",
       "    }\n",
       "\n",
       "    .dataframe thead th {\n",
       "        text-align: left;\n",
       "    }\n",
       "\n",
       "    .dataframe tbody tr th {\n",
       "        vertical-align: top;\n",
       "    }\n",
       "</style>\n",
       "<table border=\"1\" class=\"dataframe\">\n",
       "  <thead>\n",
       "    <tr style=\"text-align: right;\">\n",
       "      <th></th>\n",
       "      <th>avg_dist</th>\n",
       "      <th>avg_rating_by_driver</th>\n",
       "      <th>avg_rating_of_driver</th>\n",
       "      <th>avg_surge</th>\n",
       "      <th>surge_pct</th>\n",
       "      <th>trips_in_first_30_days</th>\n",
       "      <th>ultimate_black_user</th>\n",
       "      <th>weekday_pct</th>\n",
       "      <th>daysdiffnum</th>\n",
       "      <th>active</th>\n",
       "      <th>active_after_sixmnth</th>\n",
       "      <th>signup_day_of_week</th>\n",
       "      <th>city_King's Landing</th>\n",
       "      <th>city_Winterfell</th>\n",
       "      <th>ultimate_black_user_nm</th>\n",
       "    </tr>\n",
       "  </thead>\n",
       "  <tbody>\n",
       "    <tr>\n",
       "      <th>0</th>\n",
       "      <td>3.67</td>\n",
       "      <td>5.0</td>\n",
       "      <td>4.7</td>\n",
       "      <td>1.10</td>\n",
       "      <td>15.4</td>\n",
       "      <td>4</td>\n",
       "      <td>TRUE</td>\n",
       "      <td>46.2</td>\n",
       "      <td>143.0</td>\n",
       "      <td>1.0</td>\n",
       "      <td>0.0</td>\n",
       "      <td>5.0</td>\n",
       "      <td>1</td>\n",
       "      <td>0</td>\n",
       "      <td>1</td>\n",
       "    </tr>\n",
       "    <tr>\n",
       "      <th>1</th>\n",
       "      <td>8.26</td>\n",
       "      <td>5.0</td>\n",
       "      <td>5.0</td>\n",
       "      <td>1.00</td>\n",
       "      <td>0.0</td>\n",
       "      <td>0</td>\n",
       "      <td>FALSE</td>\n",
       "      <td>50.0</td>\n",
       "      <td>96.0</td>\n",
       "      <td>0.0</td>\n",
       "      <td>0.0</td>\n",
       "      <td>2.0</td>\n",
       "      <td>0</td>\n",
       "      <td>0</td>\n",
       "      <td>0</td>\n",
       "    </tr>\n",
       "    <tr>\n",
       "      <th>2</th>\n",
       "      <td>0.77</td>\n",
       "      <td>5.0</td>\n",
       "      <td>4.3</td>\n",
       "      <td>1.00</td>\n",
       "      <td>0.0</td>\n",
       "      <td>3</td>\n",
       "      <td>FALSE</td>\n",
       "      <td>100.0</td>\n",
       "      <td>1.0</td>\n",
       "      <td>1.0</td>\n",
       "      <td>0.0</td>\n",
       "      <td>0.0</td>\n",
       "      <td>0</td>\n",
       "      <td>0</td>\n",
       "      <td>0</td>\n",
       "    </tr>\n",
       "    <tr>\n",
       "      <th>3</th>\n",
       "      <td>2.36</td>\n",
       "      <td>4.9</td>\n",
       "      <td>4.6</td>\n",
       "      <td>1.14</td>\n",
       "      <td>20.0</td>\n",
       "      <td>9</td>\n",
       "      <td>TRUE</td>\n",
       "      <td>80.0</td>\n",
       "      <td>170.0</td>\n",
       "      <td>1.0</td>\n",
       "      <td>0.0</td>\n",
       "      <td>4.0</td>\n",
       "      <td>1</td>\n",
       "      <td>0</td>\n",
       "      <td>1</td>\n",
       "    </tr>\n",
       "    <tr>\n",
       "      <th>4</th>\n",
       "      <td>3.13</td>\n",
       "      <td>4.9</td>\n",
       "      <td>4.4</td>\n",
       "      <td>1.19</td>\n",
       "      <td>11.8</td>\n",
       "      <td>14</td>\n",
       "      <td>FALSE</td>\n",
       "      <td>82.4</td>\n",
       "      <td>47.0</td>\n",
       "      <td>1.0</td>\n",
       "      <td>0.0</td>\n",
       "      <td>0.0</td>\n",
       "      <td>0</td>\n",
       "      <td>1</td>\n",
       "      <td>0</td>\n",
       "    </tr>\n",
       "  </tbody>\n",
       "</table>\n",
       "</div>"
      ],
      "text/plain": [
       "   avg_dist  avg_rating_by_driver  avg_rating_of_driver  avg_surge  surge_pct  \\\n",
       "0      3.67                   5.0                   4.7       1.10       15.4   \n",
       "1      8.26                   5.0                   5.0       1.00        0.0   \n",
       "2      0.77                   5.0                   4.3       1.00        0.0   \n",
       "3      2.36                   4.9                   4.6       1.14       20.0   \n",
       "4      3.13                   4.9                   4.4       1.19       11.8   \n",
       "\n",
       "   trips_in_first_30_days ultimate_black_user  weekday_pct  daysdiffnum  \\\n",
       "0                       4                TRUE         46.2        143.0   \n",
       "1                       0               FALSE         50.0         96.0   \n",
       "2                       3               FALSE        100.0          1.0   \n",
       "3                       9                TRUE         80.0        170.0   \n",
       "4                      14               FALSE         82.4         47.0   \n",
       "\n",
       "   active  active_after_sixmnth  signup_day_of_week  city_King's Landing  \\\n",
       "0     1.0                   0.0                 5.0                    1   \n",
       "1     0.0                   0.0                 2.0                    0   \n",
       "2     1.0                   0.0                 0.0                    0   \n",
       "3     1.0                   0.0                 4.0                    1   \n",
       "4     1.0                   0.0                 0.0                    0   \n",
       "\n",
       "   city_Winterfell  ultimate_black_user_nm  \n",
       "0                0                       1  \n",
       "1                0                       0  \n",
       "2                0                       0  \n",
       "3                0                       1  \n",
       "4                1                       0  "
      ]
     },
     "execution_count": 235,
     "metadata": {},
     "output_type": "execute_result"
    }
   ],
   "source": [
    "mpd_final.head()"
   ]
  },
  {
   "cell_type": "code",
   "execution_count": 236,
   "metadata": {
    "collapsed": true
   },
   "outputs": [],
   "source": [
    "mpd_final = mpd_final.drop(['ultimate_black_user'],axis=1)"
   ]
  },
  {
   "cell_type": "code",
   "execution_count": 237,
   "metadata": {
    "collapsed": false
   },
   "outputs": [
    {
     "data": {
      "text/html": [
       "<div>\n",
       "<style>\n",
       "    .dataframe thead tr:only-child th {\n",
       "        text-align: right;\n",
       "    }\n",
       "\n",
       "    .dataframe thead th {\n",
       "        text-align: left;\n",
       "    }\n",
       "\n",
       "    .dataframe tbody tr th {\n",
       "        vertical-align: top;\n",
       "    }\n",
       "</style>\n",
       "<table border=\"1\" class=\"dataframe\">\n",
       "  <thead>\n",
       "    <tr style=\"text-align: right;\">\n",
       "      <th></th>\n",
       "      <th>avg_dist</th>\n",
       "      <th>avg_rating_by_driver</th>\n",
       "      <th>avg_rating_of_driver</th>\n",
       "      <th>avg_surge</th>\n",
       "      <th>surge_pct</th>\n",
       "      <th>trips_in_first_30_days</th>\n",
       "      <th>weekday_pct</th>\n",
       "      <th>daysdiffnum</th>\n",
       "      <th>active</th>\n",
       "      <th>active_after_sixmnth</th>\n",
       "      <th>signup_day_of_week</th>\n",
       "      <th>city_King's Landing</th>\n",
       "      <th>city_Winterfell</th>\n",
       "      <th>ultimate_black_user_nm</th>\n",
       "    </tr>\n",
       "  </thead>\n",
       "  <tbody>\n",
       "    <tr>\n",
       "      <th>0</th>\n",
       "      <td>3.67</td>\n",
       "      <td>5.0</td>\n",
       "      <td>4.7</td>\n",
       "      <td>1.10</td>\n",
       "      <td>15.4</td>\n",
       "      <td>4</td>\n",
       "      <td>46.2</td>\n",
       "      <td>143.0</td>\n",
       "      <td>1.0</td>\n",
       "      <td>0.0</td>\n",
       "      <td>5.0</td>\n",
       "      <td>1</td>\n",
       "      <td>0</td>\n",
       "      <td>1</td>\n",
       "    </tr>\n",
       "    <tr>\n",
       "      <th>1</th>\n",
       "      <td>8.26</td>\n",
       "      <td>5.0</td>\n",
       "      <td>5.0</td>\n",
       "      <td>1.00</td>\n",
       "      <td>0.0</td>\n",
       "      <td>0</td>\n",
       "      <td>50.0</td>\n",
       "      <td>96.0</td>\n",
       "      <td>0.0</td>\n",
       "      <td>0.0</td>\n",
       "      <td>2.0</td>\n",
       "      <td>0</td>\n",
       "      <td>0</td>\n",
       "      <td>0</td>\n",
       "    </tr>\n",
       "    <tr>\n",
       "      <th>2</th>\n",
       "      <td>0.77</td>\n",
       "      <td>5.0</td>\n",
       "      <td>4.3</td>\n",
       "      <td>1.00</td>\n",
       "      <td>0.0</td>\n",
       "      <td>3</td>\n",
       "      <td>100.0</td>\n",
       "      <td>1.0</td>\n",
       "      <td>1.0</td>\n",
       "      <td>0.0</td>\n",
       "      <td>0.0</td>\n",
       "      <td>0</td>\n",
       "      <td>0</td>\n",
       "      <td>0</td>\n",
       "    </tr>\n",
       "    <tr>\n",
       "      <th>3</th>\n",
       "      <td>2.36</td>\n",
       "      <td>4.9</td>\n",
       "      <td>4.6</td>\n",
       "      <td>1.14</td>\n",
       "      <td>20.0</td>\n",
       "      <td>9</td>\n",
       "      <td>80.0</td>\n",
       "      <td>170.0</td>\n",
       "      <td>1.0</td>\n",
       "      <td>0.0</td>\n",
       "      <td>4.0</td>\n",
       "      <td>1</td>\n",
       "      <td>0</td>\n",
       "      <td>1</td>\n",
       "    </tr>\n",
       "    <tr>\n",
       "      <th>4</th>\n",
       "      <td>3.13</td>\n",
       "      <td>4.9</td>\n",
       "      <td>4.4</td>\n",
       "      <td>1.19</td>\n",
       "      <td>11.8</td>\n",
       "      <td>14</td>\n",
       "      <td>82.4</td>\n",
       "      <td>47.0</td>\n",
       "      <td>1.0</td>\n",
       "      <td>0.0</td>\n",
       "      <td>0.0</td>\n",
       "      <td>0</td>\n",
       "      <td>1</td>\n",
       "      <td>0</td>\n",
       "    </tr>\n",
       "  </tbody>\n",
       "</table>\n",
       "</div>"
      ],
      "text/plain": [
       "   avg_dist  avg_rating_by_driver  avg_rating_of_driver  avg_surge  surge_pct  \\\n",
       "0      3.67                   5.0                   4.7       1.10       15.4   \n",
       "1      8.26                   5.0                   5.0       1.00        0.0   \n",
       "2      0.77                   5.0                   4.3       1.00        0.0   \n",
       "3      2.36                   4.9                   4.6       1.14       20.0   \n",
       "4      3.13                   4.9                   4.4       1.19       11.8   \n",
       "\n",
       "   trips_in_first_30_days  weekday_pct  daysdiffnum  active  \\\n",
       "0                       4         46.2        143.0     1.0   \n",
       "1                       0         50.0         96.0     0.0   \n",
       "2                       3        100.0          1.0     1.0   \n",
       "3                       9         80.0        170.0     1.0   \n",
       "4                      14         82.4         47.0     1.0   \n",
       "\n",
       "   active_after_sixmnth  signup_day_of_week  city_King's Landing  \\\n",
       "0                   0.0                 5.0                    1   \n",
       "1                   0.0                 2.0                    0   \n",
       "2                   0.0                 0.0                    0   \n",
       "3                   0.0                 4.0                    1   \n",
       "4                   0.0                 0.0                    0   \n",
       "\n",
       "   city_Winterfell  ultimate_black_user_nm  \n",
       "0                0                       1  \n",
       "1                0                       0  \n",
       "2                0                       0  \n",
       "3                0                       1  \n",
       "4                1                       0  "
      ]
     },
     "execution_count": 237,
     "metadata": {},
     "output_type": "execute_result"
    }
   ],
   "source": [
    "mpd_final.head()"
   ]
  },
  {
   "cell_type": "code",
   "execution_count": 238,
   "metadata": {
    "collapsed": false
   },
   "outputs": [
    {
     "data": {
      "text/plain": [
       "Index(['avg_dist', 'avg_rating_by_driver', 'avg_rating_of_driver', 'avg_surge',\n",
       "       'surge_pct', 'trips_in_first_30_days', 'weekday_pct', 'daysdiffnum',\n",
       "       'active', 'active_after_sixmnth', 'signup_day_of_week',\n",
       "       'city_King's Landing', 'city_Winterfell', 'ultimate_black_user_nm'],\n",
       "      dtype='object')"
      ]
     },
     "execution_count": 238,
     "metadata": {},
     "output_type": "execute_result"
    }
   ],
   "source": [
    "mpd_final.columns"
   ]
  },
  {
   "cell_type": "code",
   "execution_count": 239,
   "metadata": {
    "collapsed": true
   },
   "outputs": [],
   "source": [
    "mpd_final.rename(columns={'city_King\\'s Landing': 'city_KingsLanding'}, inplace=True)"
   ]
  },
  {
   "cell_type": "code",
   "execution_count": 240,
   "metadata": {
    "collapsed": false
   },
   "outputs": [
    {
     "data": {
      "text/html": [
       "<div>\n",
       "<style>\n",
       "    .dataframe thead tr:only-child th {\n",
       "        text-align: right;\n",
       "    }\n",
       "\n",
       "    .dataframe thead th {\n",
       "        text-align: left;\n",
       "    }\n",
       "\n",
       "    .dataframe tbody tr th {\n",
       "        vertical-align: top;\n",
       "    }\n",
       "</style>\n",
       "<table border=\"1\" class=\"dataframe\">\n",
       "  <thead>\n",
       "    <tr style=\"text-align: right;\">\n",
       "      <th></th>\n",
       "      <th>avg_dist</th>\n",
       "      <th>avg_rating_by_driver</th>\n",
       "      <th>avg_rating_of_driver</th>\n",
       "      <th>avg_surge</th>\n",
       "      <th>surge_pct</th>\n",
       "      <th>trips_in_first_30_days</th>\n",
       "      <th>weekday_pct</th>\n",
       "      <th>daysdiffnum</th>\n",
       "      <th>active</th>\n",
       "      <th>active_after_sixmnth</th>\n",
       "      <th>signup_day_of_week</th>\n",
       "      <th>city_KingsLanding</th>\n",
       "      <th>city_Winterfell</th>\n",
       "      <th>ultimate_black_user_nm</th>\n",
       "    </tr>\n",
       "  </thead>\n",
       "  <tbody>\n",
       "    <tr>\n",
       "      <th>0</th>\n",
       "      <td>3.67</td>\n",
       "      <td>5.0</td>\n",
       "      <td>4.7</td>\n",
       "      <td>1.10</td>\n",
       "      <td>15.4</td>\n",
       "      <td>4</td>\n",
       "      <td>46.2</td>\n",
       "      <td>143.0</td>\n",
       "      <td>1.0</td>\n",
       "      <td>0.0</td>\n",
       "      <td>5.0</td>\n",
       "      <td>1</td>\n",
       "      <td>0</td>\n",
       "      <td>1</td>\n",
       "    </tr>\n",
       "    <tr>\n",
       "      <th>1</th>\n",
       "      <td>8.26</td>\n",
       "      <td>5.0</td>\n",
       "      <td>5.0</td>\n",
       "      <td>1.00</td>\n",
       "      <td>0.0</td>\n",
       "      <td>0</td>\n",
       "      <td>50.0</td>\n",
       "      <td>96.0</td>\n",
       "      <td>0.0</td>\n",
       "      <td>0.0</td>\n",
       "      <td>2.0</td>\n",
       "      <td>0</td>\n",
       "      <td>0</td>\n",
       "      <td>0</td>\n",
       "    </tr>\n",
       "    <tr>\n",
       "      <th>2</th>\n",
       "      <td>0.77</td>\n",
       "      <td>5.0</td>\n",
       "      <td>4.3</td>\n",
       "      <td>1.00</td>\n",
       "      <td>0.0</td>\n",
       "      <td>3</td>\n",
       "      <td>100.0</td>\n",
       "      <td>1.0</td>\n",
       "      <td>1.0</td>\n",
       "      <td>0.0</td>\n",
       "      <td>0.0</td>\n",
       "      <td>0</td>\n",
       "      <td>0</td>\n",
       "      <td>0</td>\n",
       "    </tr>\n",
       "    <tr>\n",
       "      <th>3</th>\n",
       "      <td>2.36</td>\n",
       "      <td>4.9</td>\n",
       "      <td>4.6</td>\n",
       "      <td>1.14</td>\n",
       "      <td>20.0</td>\n",
       "      <td>9</td>\n",
       "      <td>80.0</td>\n",
       "      <td>170.0</td>\n",
       "      <td>1.0</td>\n",
       "      <td>0.0</td>\n",
       "      <td>4.0</td>\n",
       "      <td>1</td>\n",
       "      <td>0</td>\n",
       "      <td>1</td>\n",
       "    </tr>\n",
       "    <tr>\n",
       "      <th>4</th>\n",
       "      <td>3.13</td>\n",
       "      <td>4.9</td>\n",
       "      <td>4.4</td>\n",
       "      <td>1.19</td>\n",
       "      <td>11.8</td>\n",
       "      <td>14</td>\n",
       "      <td>82.4</td>\n",
       "      <td>47.0</td>\n",
       "      <td>1.0</td>\n",
       "      <td>0.0</td>\n",
       "      <td>0.0</td>\n",
       "      <td>0</td>\n",
       "      <td>1</td>\n",
       "      <td>0</td>\n",
       "    </tr>\n",
       "  </tbody>\n",
       "</table>\n",
       "</div>"
      ],
      "text/plain": [
       "   avg_dist  avg_rating_by_driver  avg_rating_of_driver  avg_surge  surge_pct  \\\n",
       "0      3.67                   5.0                   4.7       1.10       15.4   \n",
       "1      8.26                   5.0                   5.0       1.00        0.0   \n",
       "2      0.77                   5.0                   4.3       1.00        0.0   \n",
       "3      2.36                   4.9                   4.6       1.14       20.0   \n",
       "4      3.13                   4.9                   4.4       1.19       11.8   \n",
       "\n",
       "   trips_in_first_30_days  weekday_pct  daysdiffnum  active  \\\n",
       "0                       4         46.2        143.0     1.0   \n",
       "1                       0         50.0         96.0     0.0   \n",
       "2                       3        100.0          1.0     1.0   \n",
       "3                       9         80.0        170.0     1.0   \n",
       "4                      14         82.4         47.0     1.0   \n",
       "\n",
       "   active_after_sixmnth  signup_day_of_week  city_KingsLanding  \\\n",
       "0                   0.0                 5.0                  1   \n",
       "1                   0.0                 2.0                  0   \n",
       "2                   0.0                 0.0                  0   \n",
       "3                   0.0                 4.0                  1   \n",
       "4                   0.0                 0.0                  0   \n",
       "\n",
       "   city_Winterfell  ultimate_black_user_nm  \n",
       "0                0                       1  \n",
       "1                0                       0  \n",
       "2                0                       0  \n",
       "3                0                       1  \n",
       "4                1                       0  "
      ]
     },
     "execution_count": 240,
     "metadata": {},
     "output_type": "execute_result"
    }
   ],
   "source": [
    "mpd_final.head()"
   ]
  },
  {
   "cell_type": "code",
   "execution_count": 241,
   "metadata": {
    "collapsed": false
   },
   "outputs": [
    {
     "data": {
      "text/plain": [
       "<matplotlib.axes._subplots.AxesSubplot at 0x1270059b0>"
      ]
     },
     "execution_count": 241,
     "metadata": {},
     "output_type": "execute_result"
    },
    {
     "data": {
      "image/png": "[encoded data removed]",
      "text/plain": [
       "<matplotlib.figure.Figure at 0x12978aa90>"
      ]
     },
     "metadata": {},
     "output_type": "display_data"
    }
   ],
   "source": [
    "sns.heatmap(mpd_final.corr())"
   ]
  },
  {
   "cell_type": "code",
   "execution_count": 242,
   "metadata": {
    "collapsed": true
   },
   "outputs": [],
   "source": [
    "#removing the highly co-related features\n",
    "#removing avg_surge and trips_in_first_30_days\n",
    "mpd_final = mpd_final.drop(['avg_surge','trips_in_first_30_days'],axis=1)\n"
   ]
  },
  {
   "cell_type": "code",
   "execution_count": 243,
   "metadata": {
    "collapsed": false
   },
   "outputs": [
    {
     "data": {
      "text/plain": [
       "<matplotlib.axes._subplots.AxesSubplot at 0x12b686da0>"
      ]
     },
     "execution_count": 243,
     "metadata": {},
     "output_type": "execute_result"
    },
    {
     "data": {
      "image/png": "[encoded data removed]",
      "text/plain": [
       "<matplotlib.figure.Figure at 0x12b3aabe0>"
      ]
     },
     "metadata": {},
     "output_type": "display_data"
    }
   ],
   "source": [
    "sns.heatmap(mpd_final.corr())"
   ]
  },
  {
   "cell_type": "code",
   "execution_count": 244,
   "metadata": {
    "collapsed": false
   },
   "outputs": [
    {
     "data": {
      "text/plain": [
       "Index(['avg_dist', 'avg_rating_by_driver', 'avg_rating_of_driver', 'surge_pct',\n",
       "       'weekday_pct', 'daysdiffnum', 'active', 'active_after_sixmnth',\n",
       "       'signup_day_of_week', 'city_KingsLanding', 'city_Winterfell',\n",
       "       'ultimate_black_user_nm'],\n",
       "      dtype='object')"
      ]
     },
     "execution_count": 244,
     "metadata": {},
     "output_type": "execute_result"
    }
   ],
   "source": [
    "mpd_final.columns"
   ]
  },
  {
   "cell_type": "code",
   "execution_count": 274,
   "metadata": {
    "collapsed": true
   },
   "outputs": [],
   "source": [
    "dataset_Y = mpd_final['active_after_sixmnth']\n",
    "dataset_X = mpd_final[['avg_dist','avg_rating_by_driver','avg_rating_of_driver','surge_pct','weekday_pct','daysdiffnum','active','city_KingsLanding','city_Winterfell','ultimate_black_user_nm']]\n"
   ]
  },
  {
   "cell_type": "code",
   "execution_count": 275,
   "metadata": {
    "collapsed": false
   },
   "outputs": [
    {
     "name": "stdout",
     "output_type": "stream",
     "text": [
      "Optimization terminated successfully.\n",
      "         Current function value: 0.010801\n",
      "         Iterations 12\n"
     ]
    },
    {
     "data": {
      "text/html": [
       "<table class=\"simpletable\">\n",
       "<caption>Logit Regression Results</caption>\n",
       "<tr>\n",
       "  <th>Dep. Variable:</th> <td>active_after_sixmnth</td> <th>  No. Observations:  </th>  <td> 50000</td>  \n",
       "</tr>\n",
       "<tr>\n",
       "  <th>Model:</th>                 <td>Logit</td>        <th>  Df Residuals:      </th>  <td> 49990</td>  \n",
       "</tr>\n",
       "<tr>\n",
       "  <th>Method:</th>                 <td>MLE</td>         <th>  Df Model:          </th>  <td>     9</td>  \n",
       "</tr>\n",
       "<tr>\n",
       "  <th>Date:</th>            <td>Mon, 30 Jul 2018</td>   <th>  Pseudo R-squ.:     </th>  <td>0.1387</td>  \n",
       "</tr>\n",
       "<tr>\n",
       "  <th>Time:</th>                <td>23:54:19</td>       <th>  Log-Likelihood:    </th> <td> -540.05</td> \n",
       "</tr>\n",
       "<tr>\n",
       "  <th>converged:</th>             <td>True</td>         <th>  LL-Null:           </th> <td> -626.98</td> \n",
       "</tr>\n",
       "<tr>\n",
       "  <th> </th>                        <td> </td>          <th>  LLR p-value:       </th> <td>9.624e-33</td>\n",
       "</tr>\n",
       "</table>\n",
       "<table class=\"simpletable\">\n",
       "<tr>\n",
       "             <td></td>               <th>coef</th>     <th>std err</th>      <th>z</th>      <th>P>|z|</th>  <th>[0.025</th>    <th>0.975]</th>  \n",
       "</tr>\n",
       "<tr>\n",
       "  <th>avg_dist</th>               <td>   -0.0880</td> <td>    0.034</td> <td>   -2.552</td> <td> 0.011</td> <td>   -0.156</td> <td>   -0.020</td>\n",
       "</tr>\n",
       "<tr>\n",
       "  <th>avg_rating_by_driver</th>   <td>   -1.3410</td> <td>    0.102</td> <td>  -13.118</td> <td> 0.000</td> <td>   -1.541</td> <td>   -1.141</td>\n",
       "</tr>\n",
       "<tr>\n",
       "  <th>avg_rating_of_driver</th>   <td>   -0.9848</td> <td>    0.092</td> <td>  -10.757</td> <td> 0.000</td> <td>   -1.164</td> <td>   -0.805</td>\n",
       "</tr>\n",
       "<tr>\n",
       "  <th>surge_pct</th>              <td>   -0.0025</td> <td>    0.006</td> <td>   -0.422</td> <td> 0.673</td> <td>   -0.014</td> <td>    0.009</td>\n",
       "</tr>\n",
       "<tr>\n",
       "  <th>weekday_pct</th>            <td>   -0.0085</td> <td>    0.003</td> <td>   -2.790</td> <td> 0.005</td> <td>   -0.014</td> <td>   -0.003</td>\n",
       "</tr>\n",
       "<tr>\n",
       "  <th>daysdiffnum</th>            <td>    0.0393</td> <td>    0.004</td> <td>   10.640</td> <td> 0.000</td> <td>    0.032</td> <td>    0.047</td>\n",
       "</tr>\n",
       "<tr>\n",
       "  <th>active</th>                 <td>   -0.2273</td> <td>    0.226</td> <td>   -1.007</td> <td> 0.314</td> <td>   -0.670</td> <td>    0.215</td>\n",
       "</tr>\n",
       "<tr>\n",
       "  <th>city_KingsLanding</th>      <td>    0.4845</td> <td>    0.281</td> <td>    1.722</td> <td> 0.085</td> <td>   -0.067</td> <td>    1.036</td>\n",
       "</tr>\n",
       "<tr>\n",
       "  <th>city_Winterfell</th>        <td>   -0.2831</td> <td>    0.262</td> <td>   -1.082</td> <td> 0.279</td> <td>   -0.796</td> <td>    0.230</td>\n",
       "</tr>\n",
       "<tr>\n",
       "  <th>ultimate_black_user_nm</th> <td>   -0.3327</td> <td>    0.218</td> <td>   -1.528</td> <td> 0.127</td> <td>   -0.760</td> <td>    0.094</td>\n",
       "</tr>\n",
       "</table>"
      ],
      "text/plain": [
       "<class 'statsmodels.iolib.summary.Summary'>\n",
       "\"\"\"\n",
       "                            Logit Regression Results                            \n",
       "================================================================================\n",
       "Dep. Variable:     active_after_sixmnth   No. Observations:                50000\n",
       "Model:                            Logit   Df Residuals:                    49990\n",
       "Method:                             MLE   Df Model:                            9\n",
       "Date:                  Mon, 30 Jul 2018   Pseudo R-squ.:                  0.1387\n",
       "Time:                          23:54:19   Log-Likelihood:                -540.05\n",
       "converged:                         True   LL-Null:                       -626.98\n",
       "                                          LLR p-value:                 9.624e-33\n",
       "==========================================================================================\n",
       "                             coef    std err          z      P>|z|      [0.025      0.975]\n",
       "------------------------------------------------------------------------------------------\n",
       "avg_dist                  -0.0880      0.034     -2.552      0.011      -0.156      -0.020\n",
       "avg_rating_by_driver      -1.3410      0.102    -13.118      0.000      -1.541      -1.141\n",
       "avg_rating_of_driver      -0.9848      0.092    -10.757      0.000      -1.164      -0.805\n",
       "surge_pct                 -0.0025      0.006     -0.422      0.673      -0.014       0.009\n",
       "weekday_pct               -0.0085      0.003     -2.790      0.005      -0.014      -0.003\n",
       "daysdiffnum                0.0393      0.004     10.640      0.000       0.032       0.047\n",
       "active                    -0.2273      0.226     -1.007      0.314      -0.670       0.215\n",
       "city_KingsLanding          0.4845      0.281      1.722      0.085      -0.067       1.036\n",
       "city_Winterfell           -0.2831      0.262     -1.082      0.279      -0.796       0.230\n",
       "ultimate_black_user_nm    -0.3327      0.218     -1.528      0.127      -0.760       0.094\n",
       "==========================================================================================\n",
       "\n",
       "Possibly complete quasi-separation: A fraction 0.39 of observations can be\n",
       "perfectly predicted. This might indicate that there is complete\n",
       "quasi-separation. In this case some parameters will not be identified.\n",
       "\"\"\""
      ]
     },
     "execution_count": 275,
     "metadata": {},
     "output_type": "execute_result"
    }
   ],
   "source": [
    "import statsmodels.api as sm\n",
    "logit = sm.Logit(dataset_Y, dataset_X)\n",
    "result = logit.fit()\n",
    "result.summary()"
   ]
  },
  {
   "cell_type": "code",
   "execution_count": 248,
   "metadata": {
    "collapsed": true
   },
   "outputs": [],
   "source": [
    "from sklearn.linear_model import LogisticRegression\n",
    "from sklearn import metrics\n",
    "from sklearn.model_selection import train_test_split"
   ]
  },
  {
   "cell_type": "code",
   "execution_count": 276,
   "metadata": {
    "collapsed": false
   },
   "outputs": [
    {
     "data": {
      "text/plain": [
       "LogisticRegression(C=1.0, class_weight=None, dual=False, fit_intercept=True,\n",
       "          intercept_scaling=1, max_iter=100, multi_class='ovr', n_jobs=1,\n",
       "          penalty='l2', random_state=None, solver='liblinear', tol=0.0001,\n",
       "          verbose=0, warm_start=False)"
      ]
     },
     "execution_count": 276,
     "metadata": {},
     "output_type": "execute_result"
    }
   ],
   "source": [
    "X_train, X_test, y_train, y_test = train_test_split(dataset_X,dataset_Y, test_size=0.3, random_state=0)\n",
    "\n",
    "logreg = LogisticRegression()\n",
    "logreg.fit(X_train, y_train)"
   ]
  },
  {
   "cell_type": "code",
   "execution_count": 277,
   "metadata": {
    "collapsed": false
   },
   "outputs": [
    {
     "name": "stdout",
     "output_type": "stream",
     "text": [
      "Accuracy of logistic regression classifier on test set: 1.00\n"
     ]
    }
   ],
   "source": [
    "y_pred = logreg.predict(X_test)\n",
    "print('Accuracy of logistic regression classifier on test set: {:.2f}'.format(logreg.score(X_test, y_test)))"
   ]
  },
  {
   "cell_type": "code",
   "execution_count": 278,
   "metadata": {
    "collapsed": false
   },
   "outputs": [
    {
     "name": "stdout",
     "output_type": "stream",
     "text": [
      "10-fold cross validation average accuracy: 0.998\n"
     ]
    }
   ],
   "source": [
    "from sklearn import model_selection\n",
    "from sklearn.model_selection import cross_val_score\n",
    "kfold = model_selection.KFold(n_splits=10, random_state=7)\n",
    "modelCV = LogisticRegression()\n",
    "scoring = 'accuracy'\n",
    "results = model_selection.cross_val_score(modelCV, X_train, y_train, cv=kfold, scoring=scoring)\n",
    "print(\"10-fold cross validation average accuracy: %.3f\" % (results.mean()))"
   ]
  },
  {
   "cell_type": "code",
   "execution_count": 279,
   "metadata": {
    "collapsed": false
   },
   "outputs": [
    {
     "name": "stdout",
     "output_type": "stream",
     "text": [
      "             precision    recall  f1-score   support\n",
      "\n",
      "        0.0       1.00      1.00      1.00     14978\n",
      "        1.0       0.00      0.00      0.00        22\n",
      "\n",
      "avg / total       1.00      1.00      1.00     15000\n",
      "\n"
     ]
    }
   ],
   "source": [
    "from sklearn.metrics import classification_report\n",
    "print(classification_report(y_test, y_pred))"
   ]
  },
  {
   "cell_type": "code",
   "execution_count": 255,
   "metadata": {
    "collapsed": false
   },
   "outputs": [
    {
     "name": "stderr",
     "output_type": "stream",
     "text": [
      "//anaconda/envs/py36/lib/python3.6/site-packages/sklearn/cross_validation.py:44: DeprecationWarning: This module was deprecated in version 0.18 in favor of the model_selection module into which all the refactored classes and functions are moved. Also note that the interface of the new CV iterators are different from that of this module. This module will be removed in 0.20.\n",
      "  \"This module will be removed in 0.20.\", DeprecationWarning)\n"
     ]
    }
   ],
   "source": [
    "from sklearn.ensemble import RandomForestClassifier\n",
    "from sklearn.cross_validation import ShuffleSplit\n",
    "from sklearn.metrics import make_scorer\n",
    "from sklearn.model_selection import train_test_split\n",
    "from sklearn.metrics import classification_report,confusion_matrix,roc_auc_score\n",
    "from sklearn.cross_validation import ShuffleSplit\n",
    "from sklearn.tree import DecisionTreeClassifier\n",
    "from sklearn.metrics import make_scorer\n",
    "from sklearn.model_selection import GridSearchCV"
   ]
  },
  {
   "cell_type": "code",
   "execution_count": 259,
   "metadata": {
    "collapsed": true
   },
   "outputs": [],
   "source": [
    "from sklearn.metrics import r2_score\n",
    "\n",
    "def performance_metric(y_true, y_predict):\n",
    " \n",
    "    score = r2_score(y_true, y_predict)\n",
    " \n",
    "    return score"
   ]
  },
  {
   "cell_type": "code",
   "execution_count": 256,
   "metadata": {
    "collapsed": true
   },
   "outputs": [],
   "source": [
    "def fit_model_rf(X, y):\n",
    "    \"\"\" Performs grid search over the 'max_depth' parameter for a \n",
    "        decision tree regressor trained on the input data [X, y]. \"\"\"\n",
    "    \n",
    "    # Create cross-validation sets from the training data\n",
    "    cv_sets = ShuffleSplit(X.shape[0], n_iter = 10, test_size = 0.20, random_state = 0) #validation/holdout size=0.20\n",
    "\n",
    "    #   Create a decision tree regressor object\n",
    "    classifier = RandomForestClassifier()\n",
    "\n",
    "    #  Create a dictionary for the parameter 'max_depth' with a range from 1 to 10\n",
    "    #params = {'max_depth': range(1, 11),'max_leaf_nodes':[200,300],'n_estimators':[5,10,20]}\n",
    "    \n",
    "    params = {'max_depth': [2,4,8],'n_estimators':[10,50,100,150]}\n",
    "    \n",
    "    \n",
    "    '''\n",
    "       params = {\n",
    "                'bootstrap': [True], #check with False\n",
    "                'max_depth': [80, 90, 100, 110], # 2,4,8 small trees with random forest ,\n",
    "                will give us overfitting with large trees, use very simple trees but many of them\n",
    "                'max_features': [2, 3], # keep wide range , 10,100\n",
    "                'min_samples_leaf': [3, 4, 5], #can avoid it\n",
    "                'min_samples_split': [8, 10, 12], #use small numbers 4,40\n",
    "                'n_estimators': [100, 200, 300, 1000] #this is important 10,50,100,150\n",
    "                }\n",
    "\n",
    "    \n",
    "    '''\n",
    "    \n",
    "\n",
    "    #  Transform 'performance_metric' into a scoring function using 'make_scorer' \n",
    "    scoring_fnc = make_scorer(performance_metric)\n",
    "\n",
    "    #  Create the grid search object\n",
    "    grid = GridSearchCV(classifier, params, scoring_fnc, cv=cv_sets)\n",
    "\n",
    "    # Fit the grid search object to the data to compute the optimal model\n",
    "    grid = grid.fit(X, y)\n",
    "\n",
    "    # Return the optimal model after fitting the data\n",
    "    return grid.best_estimator_"
   ]
  },
  {
   "cell_type": "code",
   "execution_count": 257,
   "metadata": {
    "collapsed": false
   },
   "outputs": [
    {
     "data": {
      "text/html": [
       "<div>\n",
       "<style>\n",
       "    .dataframe thead tr:only-child th {\n",
       "        text-align: right;\n",
       "    }\n",
       "\n",
       "    .dataframe thead th {\n",
       "        text-align: left;\n",
       "    }\n",
       "\n",
       "    .dataframe tbody tr th {\n",
       "        vertical-align: top;\n",
       "    }\n",
       "</style>\n",
       "<table border=\"1\" class=\"dataframe\">\n",
       "  <thead>\n",
       "    <tr style=\"text-align: right;\">\n",
       "      <th></th>\n",
       "      <th>avg_dist</th>\n",
       "      <th>avg_rating_by_driver</th>\n",
       "      <th>avg_rating_of_driver</th>\n",
       "      <th>surge_pct</th>\n",
       "      <th>weekday_pct</th>\n",
       "      <th>daysdiffnum</th>\n",
       "      <th>active</th>\n",
       "      <th>signup_day_of_week</th>\n",
       "      <th>city_KingsLanding</th>\n",
       "      <th>city_Winterfell</th>\n",
       "      <th>ultimate_black_user_nm</th>\n",
       "    </tr>\n",
       "  </thead>\n",
       "  <tbody>\n",
       "    <tr>\n",
       "      <th>0</th>\n",
       "      <td>3.67</td>\n",
       "      <td>5.0</td>\n",
       "      <td>4.7</td>\n",
       "      <td>15.4</td>\n",
       "      <td>46.2</td>\n",
       "      <td>143.0</td>\n",
       "      <td>1.0</td>\n",
       "      <td>5.0</td>\n",
       "      <td>1</td>\n",
       "      <td>0</td>\n",
       "      <td>1</td>\n",
       "    </tr>\n",
       "    <tr>\n",
       "      <th>1</th>\n",
       "      <td>8.26</td>\n",
       "      <td>5.0</td>\n",
       "      <td>5.0</td>\n",
       "      <td>0.0</td>\n",
       "      <td>50.0</td>\n",
       "      <td>96.0</td>\n",
       "      <td>0.0</td>\n",
       "      <td>2.0</td>\n",
       "      <td>0</td>\n",
       "      <td>0</td>\n",
       "      <td>0</td>\n",
       "    </tr>\n",
       "    <tr>\n",
       "      <th>2</th>\n",
       "      <td>0.77</td>\n",
       "      <td>5.0</td>\n",
       "      <td>4.3</td>\n",
       "      <td>0.0</td>\n",
       "      <td>100.0</td>\n",
       "      <td>1.0</td>\n",
       "      <td>1.0</td>\n",
       "      <td>0.0</td>\n",
       "      <td>0</td>\n",
       "      <td>0</td>\n",
       "      <td>0</td>\n",
       "    </tr>\n",
       "    <tr>\n",
       "      <th>3</th>\n",
       "      <td>2.36</td>\n",
       "      <td>4.9</td>\n",
       "      <td>4.6</td>\n",
       "      <td>20.0</td>\n",
       "      <td>80.0</td>\n",
       "      <td>170.0</td>\n",
       "      <td>1.0</td>\n",
       "      <td>4.0</td>\n",
       "      <td>1</td>\n",
       "      <td>0</td>\n",
       "      <td>1</td>\n",
       "    </tr>\n",
       "    <tr>\n",
       "      <th>4</th>\n",
       "      <td>3.13</td>\n",
       "      <td>4.9</td>\n",
       "      <td>4.4</td>\n",
       "      <td>11.8</td>\n",
       "      <td>82.4</td>\n",
       "      <td>47.0</td>\n",
       "      <td>1.0</td>\n",
       "      <td>0.0</td>\n",
       "      <td>0</td>\n",
       "      <td>1</td>\n",
       "      <td>0</td>\n",
       "    </tr>\n",
       "  </tbody>\n",
       "</table>\n",
       "</div>"
      ],
      "text/plain": [
       "   avg_dist  avg_rating_by_driver  avg_rating_of_driver  surge_pct  \\\n",
       "0      3.67                   5.0                   4.7       15.4   \n",
       "1      8.26                   5.0                   5.0        0.0   \n",
       "2      0.77                   5.0                   4.3        0.0   \n",
       "3      2.36                   4.9                   4.6       20.0   \n",
       "4      3.13                   4.9                   4.4       11.8   \n",
       "\n",
       "   weekday_pct  daysdiffnum  active  signup_day_of_week  city_KingsLanding  \\\n",
       "0         46.2        143.0     1.0                 5.0                  1   \n",
       "1         50.0         96.0     0.0                 2.0                  0   \n",
       "2        100.0          1.0     1.0                 0.0                  0   \n",
       "3         80.0        170.0     1.0                 4.0                  1   \n",
       "4         82.4         47.0     1.0                 0.0                  0   \n",
       "\n",
       "   city_Winterfell  ultimate_black_user_nm  \n",
       "0                0                       1  \n",
       "1                0                       0  \n",
       "2                0                       0  \n",
       "3                0                       1  \n",
       "4                1                       0  "
      ]
     },
     "execution_count": 257,
     "metadata": {},
     "output_type": "execute_result"
    }
   ],
   "source": [
    "dataset_X.head()"
   ]
  },
  {
   "cell_type": "code",
   "execution_count": 258,
   "metadata": {
    "collapsed": false
   },
   "outputs": [
    {
     "data": {
      "text/plain": [
       "0    0.0\n",
       "1    0.0\n",
       "2    0.0\n",
       "3    0.0\n",
       "4    0.0\n",
       "Name: active_after_sixmnth, dtype: float64"
      ]
     },
     "execution_count": 258,
     "metadata": {},
     "output_type": "execute_result"
    }
   ],
   "source": [
    "dataset_Y.head()"
   ]
  },
  {
   "cell_type": "code",
   "execution_count": 280,
   "metadata": {
    "collapsed": false
   },
   "outputs": [
    {
     "name": "stdout",
     "output_type": "stream",
     "text": [
      "RandomForestClassifier(bootstrap=True, class_weight=None, criterion='gini',\n",
      "            max_depth=4, max_features='auto', max_leaf_nodes=None,\n",
      "            min_impurity_split=1e-07, min_samples_leaf=1,\n",
      "            min_samples_split=2, min_weight_fraction_leaf=0.0,\n",
      "            n_estimators=50, n_jobs=1, oob_score=False, random_state=None,\n",
      "            verbose=0, warm_start=False)\n"
     ]
    }
   ],
   "source": [
    "Xtrain, Xtest, ytrain, ytest = train_test_split(dataset_X,dataset_Y,train_size=0.8)\n",
    "\n",
    "\n",
    "clf6 = fit_model_rf(Xtrain, ytrain)\n",
    "\n",
    "print(clf6)\n",
    "\n",
    "predictions = clf6.predict(Xtest)"
   ]
  },
  {
   "cell_type": "code",
   "execution_count": 281,
   "metadata": {
    "collapsed": false
   },
   "outputs": [
    {
     "name": "stdout",
     "output_type": "stream",
     "text": [
      "             precision    recall  f1-score   support\n",
      "\n",
      "        0.0       1.00      1.00      1.00      9982\n",
      "        1.0       1.00      1.00      1.00        18\n",
      "\n",
      "avg / total       1.00      1.00      1.00     10000\n",
      "\n"
     ]
    }
   ],
   "source": [
    "from sklearn.metrics import classification_report\n",
    "print(classification_report(ytest, predictions))"
   ]
  },
  {
   "cell_type": "code",
   "execution_count": 282,
   "metadata": {
    "collapsed": false
   },
   "outputs": [],
   "source": [
    "feature_list = np.array(dataset_X.columns.values)"
   ]
  },
  {
   "cell_type": "code",
   "execution_count": 283,
   "metadata": {
    "collapsed": false
   },
   "outputs": [
    {
     "name": "stdout",
     "output_type": "stream",
     "text": [
      "Variable: daysdiffnum          Importance: 0.94\n",
      "Variable: avg_dist             Importance: 0.03\n",
      "Variable: avg_rating_of_driver Importance: 0.01\n",
      "Variable: surge_pct            Importance: 0.01\n",
      "Variable: weekday_pct          Importance: 0.01\n",
      "Variable: avg_rating_by_driver Importance: 0.0\n",
      "Variable: active               Importance: 0.0\n",
      "Variable: city_KingsLanding    Importance: 0.0\n",
      "Variable: city_Winterfell      Importance: 0.0\n",
      "Variable: ultimate_black_user_nm Importance: 0.0\n"
     ]
    }
   ],
   "source": [
    "# Get numerical feature importances\n",
    "importances = list(clf6.feature_importances_)\n",
    "\n",
    "# List of tuples with variable and importance\n",
    "feature_importances = [(feature, round(importance, 2)) for feature, importance in zip(feature_list, importances)]\n",
    "\n",
    "# Sort the feature importances by most important first\n",
    "feature_importances = sorted(feature_importances, key = lambda x: x[1], reverse = True)\n",
    "\n",
    "# Print out the feature and importances \n",
    "[print('Variable: {:20} Importance: {}'.format(*pair)) for pair in feature_importances];"
   ]
  },
  {
   "cell_type": "markdown",
   "metadata": {},
   "source": [
    "#### Note that we have a little impbalanced data since we dont have enough training data for long term (> six months) users , having more training data on the users who are active after six months would have really helped Build a predictive model to help Ultimate determine whether or not a user will be active in their 6th month on the system"
   ]
  },
  {
   "cell_type": "markdown",
   "metadata": {},
   "source": [
    "#### Based on the analysis above we can clearly see that 'avg_dist','weekday_pct' , 'avg_rating_of_driver','surge_pct'  are the most important factors "
   ]
  },
  {
   "cell_type": "markdown",
   "metadata": {},
   "source": [
    "#### Thus the Ultimate should focus more on improving the user experience in the first 30 days tomake sure 'avg_dist' is high ,weekday ridership as well as average rating of driver along with attracting more business during Surge hours are very important factors in order to retain the driver beyond six months\n"
   ]
  },
  {
   "cell_type": "code",
   "execution_count": null,
   "metadata": {
    "collapsed": true
   },
   "outputs": [],
   "source": []
  }
 ],
 "metadata": {
  "anaconda-cloud": {},
  "kernelspec": {
   "display_name": "Python [conda env:py36]",
   "language": "python",
   "name": "conda-env-py36-py"
  },
  "language_info": {
   "codemirror_mode": {
    "name": "ipython",
    "version": 3
   },
   "file_extension": ".py",
   "mimetype": "text/x-python",
   "name": "python",
   "nbconvert_exporter": "python",
   "pygments_lexer": "ipython3",
   "version": "3.6.1"
  }
 },
 "nbformat": 4,
 "nbformat_minor": 2
}
