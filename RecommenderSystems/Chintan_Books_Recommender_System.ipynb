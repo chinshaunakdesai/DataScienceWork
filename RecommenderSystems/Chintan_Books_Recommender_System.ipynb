{
 "cells": [
  {
   "cell_type": "code",
   "execution_count": 3,
   "metadata": {
    "collapsed": true
   },
   "outputs": [],
   "source": [
    "import pandas as pd\n",
    "import numpy as np\n",
    "import matplotlib.pyplot as plt\n",
    "import seaborn as sns\n",
    "from scipy import stats\n",
    "import pylab\n",
    "%matplotlib inline"
   ]
  },
  {
   "cell_type": "code",
   "execution_count": 4,
   "metadata": {
    "collapsed": false
   },
   "outputs": [
    {
     "name": "stderr",
     "output_type": "stream",
     "text": [
      "b'Skipping line 6452: expected 8 fields, saw 9\\nSkipping line 43667: expected 8 fields, saw 10\\nSkipping line 51751: expected 8 fields, saw 9\\nSkipping line 92038: expected 8 fields, saw 9\\nSkipping line 104319: expected 8 fields, saw 9\\nSkipping line 121768: expected 8 fields, saw 9\\nSkipping line 144058: expected 8 fields, saw 9\\nSkipping line 150789: expected 8 fields, saw 9\\nSkipping line 157128: expected 8 fields, saw 9\\nSkipping line 180189: expected 8 fields, saw 9\\nSkipping line 185738: expected 8 fields, saw 9\\nSkipping line 209388: expected 8 fields, saw 9\\nSkipping line 220626: expected 8 fields, saw 9\\nSkipping line 227933: expected 8 fields, saw 11\\nSkipping line 228957: expected 8 fields, saw 10\\nSkipping line 245933: expected 8 fields, saw 9\\nSkipping line 251296: expected 8 fields, saw 9\\nSkipping line 259941: expected 8 fields, saw 9\\nSkipping line 261529: expected 8 fields, saw 9\\n'\n"
     ]
    }
   ],
   "source": [
    "books = pd.read_csv('/Users/chintan.desai/Documents/Chintan/DataScience/Springboard/CapstoneProject_2/Data/BX-Books.csv',sep=';',error_bad_lines=False,encoding=\"latin-1\",low_memory=False)\n",
    "books.columns = ['ISBN','bookTitle','bookAuthor','yearOfPublication','publisher','imageUrlS','imageUrlM','imageUrlL']"
   ]
  },
  {
   "cell_type": "code",
   "execution_count": 5,
   "metadata": {
    "collapsed": true
   },
   "outputs": [],
   "source": [
    "users = pd.read_csv('/Users/chintan.desai/Documents/Chintan/DataScience/Springboard/CapstoneProject_2/Data/BX-Users.csv',sep=';',error_bad_lines=False,encoding=\"latin-1\",low_memory=False)\n",
    "user_book_ratings = pd.read_csv('/Users/chintan.desai/Documents/Chintan/DataScience/Springboard/CapstoneProject_2/Data/BX-Book-Ratings.csv',sep=';',error_bad_lines=False,encoding=\"latin-1\",low_memory=False)\n"
   ]
  },
  {
   "cell_type": "code",
   "execution_count": 6,
   "metadata": {
    "collapsed": false
   },
   "outputs": [
    {
     "data": {
      "text/plain": [
       "(271360, 8)"
      ]
     },
     "execution_count": 6,
     "metadata": {},
     "output_type": "execute_result"
    }
   ],
   "source": [
    "books.shape"
   ]
  },
  {
   "cell_type": "code",
   "execution_count": 6,
   "metadata": {
    "collapsed": false
   },
   "outputs": [
    {
     "data": {
      "text/plain": [
       "(278858, 3)"
      ]
     },
     "execution_count": 6,
     "metadata": {},
     "output_type": "execute_result"
    }
   ],
   "source": [
    "users.shape"
   ]
  },
  {
   "cell_type": "code",
   "execution_count": 7,
   "metadata": {
    "collapsed": false
   },
   "outputs": [
    {
     "data": {
      "text/plain": [
       "(1149780, 3)"
      ]
     },
     "execution_count": 7,
     "metadata": {},
     "output_type": "execute_result"
    }
   ],
   "source": [
    "user_book_ratings.shape"
   ]
  },
  {
   "cell_type": "code",
   "execution_count": 8,
   "metadata": {
    "collapsed": false
   },
   "outputs": [
    {
     "data": {
      "text/html": [
       "<div>\n",
       "<table border=\"1\" class=\"dataframe\">\n",
       "  <thead>\n",
       "    <tr style=\"text-align: right;\">\n",
       "      <th></th>\n",
       "      <th>ISBN</th>\n",
       "      <th>bookTitle</th>\n",
       "      <th>bookAuthor</th>\n",
       "      <th>yearOfPublication</th>\n",
       "      <th>publisher</th>\n",
       "      <th>imageUrlS</th>\n",
       "      <th>imageUrlM</th>\n",
       "      <th>imageUrlL</th>\n",
       "    </tr>\n",
       "  </thead>\n",
       "  <tbody>\n",
       "    <tr>\n",
       "      <th>0</th>\n",
       "      <td>0195153448</td>\n",
       "      <td>Classical Mythology</td>\n",
       "      <td>Mark P. O. Morford</td>\n",
       "      <td>2002</td>\n",
       "      <td>Oxford University Press</td>\n",
       "      <td>http://images.amazon.com/images/P/0195153448.0...</td>\n",
       "      <td>http://images.amazon.com/images/P/0195153448.0...</td>\n",
       "      <td>http://images.amazon.com/images/P/0195153448.0...</td>\n",
       "    </tr>\n",
       "    <tr>\n",
       "      <th>1</th>\n",
       "      <td>0002005018</td>\n",
       "      <td>Clara Callan</td>\n",
       "      <td>Richard Bruce Wright</td>\n",
       "      <td>2001</td>\n",
       "      <td>HarperFlamingo Canada</td>\n",
       "      <td>http://images.amazon.com/images/P/0002005018.0...</td>\n",
       "      <td>http://images.amazon.com/images/P/0002005018.0...</td>\n",
       "      <td>http://images.amazon.com/images/P/0002005018.0...</td>\n",
       "    </tr>\n",
       "    <tr>\n",
       "      <th>2</th>\n",
       "      <td>0060973129</td>\n",
       "      <td>Decision in Normandy</td>\n",
       "      <td>Carlo D'Este</td>\n",
       "      <td>1991</td>\n",
       "      <td>HarperPerennial</td>\n",
       "      <td>http://images.amazon.com/images/P/0060973129.0...</td>\n",
       "      <td>http://images.amazon.com/images/P/0060973129.0...</td>\n",
       "      <td>http://images.amazon.com/images/P/0060973129.0...</td>\n",
       "    </tr>\n",
       "    <tr>\n",
       "      <th>3</th>\n",
       "      <td>0374157065</td>\n",
       "      <td>Flu: The Story of the Great Influenza Pandemic...</td>\n",
       "      <td>Gina Bari Kolata</td>\n",
       "      <td>1999</td>\n",
       "      <td>Farrar Straus Giroux</td>\n",
       "      <td>http://images.amazon.com/images/P/0374157065.0...</td>\n",
       "      <td>http://images.amazon.com/images/P/0374157065.0...</td>\n",
       "      <td>http://images.amazon.com/images/P/0374157065.0...</td>\n",
       "    </tr>\n",
       "    <tr>\n",
       "      <th>4</th>\n",
       "      <td>0393045218</td>\n",
       "      <td>The Mummies of Urumchi</td>\n",
       "      <td>E. J. W. Barber</td>\n",
       "      <td>1999</td>\n",
       "      <td>W. W. Norton &amp;amp; Company</td>\n",
       "      <td>http://images.amazon.com/images/P/0393045218.0...</td>\n",
       "      <td>http://images.amazon.com/images/P/0393045218.0...</td>\n",
       "      <td>http://images.amazon.com/images/P/0393045218.0...</td>\n",
       "    </tr>\n",
       "  </tbody>\n",
       "</table>\n",
       "</div>"
      ],
      "text/plain": [
       "         ISBN                                          bookTitle  \\\n",
       "0  0195153448                                Classical Mythology   \n",
       "1  0002005018                                       Clara Callan   \n",
       "2  0060973129                               Decision in Normandy   \n",
       "3  0374157065  Flu: The Story of the Great Influenza Pandemic...   \n",
       "4  0393045218                             The Mummies of Urumchi   \n",
       "\n",
       "             bookAuthor yearOfPublication                   publisher  \\\n",
       "0    Mark P. O. Morford              2002     Oxford University Press   \n",
       "1  Richard Bruce Wright              2001       HarperFlamingo Canada   \n",
       "2          Carlo D'Este              1991             HarperPerennial   \n",
       "3      Gina Bari Kolata              1999        Farrar Straus Giroux   \n",
       "4       E. J. W. Barber              1999  W. W. Norton &amp; Company   \n",
       "\n",
       "                                           imageUrlS  \\\n",
       "0  http://images.amazon.com/images/P/0195153448.0...   \n",
       "1  http://images.amazon.com/images/P/0002005018.0...   \n",
       "2  http://images.amazon.com/images/P/0060973129.0...   \n",
       "3  http://images.amazon.com/images/P/0374157065.0...   \n",
       "4  http://images.amazon.com/images/P/0393045218.0...   \n",
       "\n",
       "                                           imageUrlM  \\\n",
       "0  http://images.amazon.com/images/P/0195153448.0...   \n",
       "1  http://images.amazon.com/images/P/0002005018.0...   \n",
       "2  http://images.amazon.com/images/P/0060973129.0...   \n",
       "3  http://images.amazon.com/images/P/0374157065.0...   \n",
       "4  http://images.amazon.com/images/P/0393045218.0...   \n",
       "\n",
       "                                           imageUrlL  \n",
       "0  http://images.amazon.com/images/P/0195153448.0...  \n",
       "1  http://images.amazon.com/images/P/0002005018.0...  \n",
       "2  http://images.amazon.com/images/P/0060973129.0...  \n",
       "3  http://images.amazon.com/images/P/0374157065.0...  \n",
       "4  http://images.amazon.com/images/P/0393045218.0...  "
      ]
     },
     "execution_count": 8,
     "metadata": {},
     "output_type": "execute_result"
    }
   ],
   "source": [
    "books.head()"
   ]
  },
  {
   "cell_type": "code",
   "execution_count": 17,
   "metadata": {
    "collapsed": false
   },
   "outputs": [
    {
     "data": {
      "text/html": [
       "<div>\n",
       "<style>\n",
       "    .dataframe thead tr:only-child th {\n",
       "        text-align: right;\n",
       "    }\n",
       "\n",
       "    .dataframe thead th {\n",
       "        text-align: left;\n",
       "    }\n",
       "\n",
       "    .dataframe tbody tr th {\n",
       "        vertical-align: top;\n",
       "    }\n",
       "</style>\n",
       "<table border=\"1\" class=\"dataframe\">\n",
       "  <thead>\n",
       "    <tr style=\"text-align: right;\">\n",
       "      <th></th>\n",
       "      <th>User-ID</th>\n",
       "      <th>Location</th>\n",
       "      <th>Age</th>\n",
       "    </tr>\n",
       "  </thead>\n",
       "  <tbody>\n",
       "    <tr>\n",
       "      <th>0</th>\n",
       "      <td>1</td>\n",
       "      <td>nyc, new york, usa</td>\n",
       "      <td>NaN</td>\n",
       "    </tr>\n",
       "    <tr>\n",
       "      <th>1</th>\n",
       "      <td>2</td>\n",
       "      <td>stockton, california, usa</td>\n",
       "      <td>18.0</td>\n",
       "    </tr>\n",
       "    <tr>\n",
       "      <th>2</th>\n",
       "      <td>3</td>\n",
       "      <td>moscow, yukon territory, russia</td>\n",
       "      <td>NaN</td>\n",
       "    </tr>\n",
       "    <tr>\n",
       "      <th>3</th>\n",
       "      <td>4</td>\n",
       "      <td>porto, v.n.gaia, portugal</td>\n",
       "      <td>17.0</td>\n",
       "    </tr>\n",
       "    <tr>\n",
       "      <th>4</th>\n",
       "      <td>5</td>\n",
       "      <td>farnborough, hants, united kingdom</td>\n",
       "      <td>NaN</td>\n",
       "    </tr>\n",
       "  </tbody>\n",
       "</table>\n",
       "</div>"
      ],
      "text/plain": [
       "   User-ID                            Location   Age\n",
       "0        1                  nyc, new york, usa   NaN\n",
       "1        2           stockton, california, usa  18.0\n",
       "2        3     moscow, yukon territory, russia   NaN\n",
       "3        4           porto, v.n.gaia, portugal  17.0\n",
       "4        5  farnborough, hants, united kingdom   NaN"
      ]
     },
     "execution_count": 17,
     "metadata": {},
     "output_type": "execute_result"
    }
   ],
   "source": [
    "users.head()"
   ]
  },
  {
   "cell_type": "code",
   "execution_count": 18,
   "metadata": {
    "collapsed": false
   },
   "outputs": [
    {
     "data": {
      "text/html": [
       "<div>\n",
       "<style>\n",
       "    .dataframe thead tr:only-child th {\n",
       "        text-align: right;\n",
       "    }\n",
       "\n",
       "    .dataframe thead th {\n",
       "        text-align: left;\n",
       "    }\n",
       "\n",
       "    .dataframe tbody tr th {\n",
       "        vertical-align: top;\n",
       "    }\n",
       "</style>\n",
       "<table border=\"1\" class=\"dataframe\">\n",
       "  <thead>\n",
       "    <tr style=\"text-align: right;\">\n",
       "      <th></th>\n",
       "      <th>User-ID</th>\n",
       "      <th>ISBN</th>\n",
       "      <th>Book-Rating</th>\n",
       "    </tr>\n",
       "  </thead>\n",
       "  <tbody>\n",
       "    <tr>\n",
       "      <th>0</th>\n",
       "      <td>276725</td>\n",
       "      <td>034545104X</td>\n",
       "      <td>0</td>\n",
       "    </tr>\n",
       "    <tr>\n",
       "      <th>1</th>\n",
       "      <td>276726</td>\n",
       "      <td>0155061224</td>\n",
       "      <td>5</td>\n",
       "    </tr>\n",
       "    <tr>\n",
       "      <th>2</th>\n",
       "      <td>276727</td>\n",
       "      <td>0446520802</td>\n",
       "      <td>0</td>\n",
       "    </tr>\n",
       "    <tr>\n",
       "      <th>3</th>\n",
       "      <td>276729</td>\n",
       "      <td>052165615X</td>\n",
       "      <td>3</td>\n",
       "    </tr>\n",
       "    <tr>\n",
       "      <th>4</th>\n",
       "      <td>276729</td>\n",
       "      <td>0521795028</td>\n",
       "      <td>6</td>\n",
       "    </tr>\n",
       "  </tbody>\n",
       "</table>\n",
       "</div>"
      ],
      "text/plain": [
       "   User-ID        ISBN  Book-Rating\n",
       "0   276725  034545104X            0\n",
       "1   276726  0155061224            5\n",
       "2   276727  0446520802            0\n",
       "3   276729  052165615X            3\n",
       "4   276729  0521795028            6"
      ]
     },
     "execution_count": 18,
     "metadata": {},
     "output_type": "execute_result"
    }
   ],
   "source": [
    "user_book_ratings.head()"
   ]
  },
  {
   "cell_type": "markdown",
   "metadata": {},
   "source": [
    "### Books data set EDA"
   ]
  },
  {
   "cell_type": "markdown",
   "metadata": {},
   "source": [
    "##### Dropping the Image Columns"
   ]
  },
  {
   "cell_type": "code",
   "execution_count": 7,
   "metadata": {
    "collapsed": true
   },
   "outputs": [],
   "source": [
    "books.drop(['imageUrlS','imageUrlM','imageUrlL'],axis=1,inplace=True)"
   ]
  },
  {
   "cell_type": "code",
   "execution_count": 10,
   "metadata": {
    "collapsed": false
   },
   "outputs": [
    {
     "data": {
      "text/html": [
       "<div>\n",
       "<table border=\"1\" class=\"dataframe\">\n",
       "  <thead>\n",
       "    <tr style=\"text-align: right;\">\n",
       "      <th></th>\n",
       "      <th>ISBN</th>\n",
       "      <th>bookTitle</th>\n",
       "      <th>bookAuthor</th>\n",
       "      <th>yearOfPublication</th>\n",
       "      <th>publisher</th>\n",
       "    </tr>\n",
       "  </thead>\n",
       "  <tbody>\n",
       "    <tr>\n",
       "      <th>0</th>\n",
       "      <td>0195153448</td>\n",
       "      <td>Classical Mythology</td>\n",
       "      <td>Mark P. O. Morford</td>\n",
       "      <td>2002</td>\n",
       "      <td>Oxford University Press</td>\n",
       "    </tr>\n",
       "    <tr>\n",
       "      <th>1</th>\n",
       "      <td>0002005018</td>\n",
       "      <td>Clara Callan</td>\n",
       "      <td>Richard Bruce Wright</td>\n",
       "      <td>2001</td>\n",
       "      <td>HarperFlamingo Canada</td>\n",
       "    </tr>\n",
       "    <tr>\n",
       "      <th>2</th>\n",
       "      <td>0060973129</td>\n",
       "      <td>Decision in Normandy</td>\n",
       "      <td>Carlo D'Este</td>\n",
       "      <td>1991</td>\n",
       "      <td>HarperPerennial</td>\n",
       "    </tr>\n",
       "    <tr>\n",
       "      <th>3</th>\n",
       "      <td>0374157065</td>\n",
       "      <td>Flu: The Story of the Great Influenza Pandemic...</td>\n",
       "      <td>Gina Bari Kolata</td>\n",
       "      <td>1999</td>\n",
       "      <td>Farrar Straus Giroux</td>\n",
       "    </tr>\n",
       "    <tr>\n",
       "      <th>4</th>\n",
       "      <td>0393045218</td>\n",
       "      <td>The Mummies of Urumchi</td>\n",
       "      <td>E. J. W. Barber</td>\n",
       "      <td>1999</td>\n",
       "      <td>W. W. Norton &amp;amp; Company</td>\n",
       "    </tr>\n",
       "  </tbody>\n",
       "</table>\n",
       "</div>"
      ],
      "text/plain": [
       "         ISBN                                          bookTitle  \\\n",
       "0  0195153448                                Classical Mythology   \n",
       "1  0002005018                                       Clara Callan   \n",
       "2  0060973129                               Decision in Normandy   \n",
       "3  0374157065  Flu: The Story of the Great Influenza Pandemic...   \n",
       "4  0393045218                             The Mummies of Urumchi   \n",
       "\n",
       "             bookAuthor yearOfPublication                   publisher  \n",
       "0    Mark P. O. Morford              2002     Oxford University Press  \n",
       "1  Richard Bruce Wright              2001       HarperFlamingo Canada  \n",
       "2          Carlo D'Este              1991             HarperPerennial  \n",
       "3      Gina Bari Kolata              1999        Farrar Straus Giroux  \n",
       "4       E. J. W. Barber              1999  W. W. Norton &amp; Company  "
      ]
     },
     "execution_count": 10,
     "metadata": {},
     "output_type": "execute_result"
    }
   ],
   "source": [
    "books.head()"
   ]
  },
  {
   "cell_type": "code",
   "execution_count": 43,
   "metadata": {
    "collapsed": false
   },
   "outputs": [],
   "source": [
    "#setting the column display to wide to better visualise the column contents\n",
    "#books.set_option('display.max_colwidth',-1)\n",
    "#books.set_option('display.width', 1000)\n",
    "pd.set_option('display.max_colwidth',-1)\n"
   ]
  },
  {
   "cell_type": "code",
   "execution_count": 25,
   "metadata": {
    "collapsed": false
   },
   "outputs": [
    {
     "data": {
      "text/html": [
       "<div>\n",
       "<style>\n",
       "    .dataframe thead tr:only-child th {\n",
       "        text-align: right;\n",
       "    }\n",
       "\n",
       "    .dataframe thead th {\n",
       "        text-align: left;\n",
       "    }\n",
       "\n",
       "    .dataframe tbody tr th {\n",
       "        vertical-align: top;\n",
       "    }\n",
       "</style>\n",
       "<table border=\"1\" class=\"dataframe\">\n",
       "  <thead>\n",
       "    <tr style=\"text-align: right;\">\n",
       "      <th></th>\n",
       "      <th>ISBN</th>\n",
       "      <th>bookTitle</th>\n",
       "      <th>bookAuthor</th>\n",
       "      <th>yearOfPublication</th>\n",
       "      <th>publisher</th>\n",
       "    </tr>\n",
       "  </thead>\n",
       "  <tbody>\n",
       "    <tr>\n",
       "      <th>0</th>\n",
       "      <td>0195153448</td>\n",
       "      <td>Classical Mythology</td>\n",
       "      <td>Mark P. O. Morford</td>\n",
       "      <td>2002</td>\n",
       "      <td>Oxford University Press</td>\n",
       "    </tr>\n",
       "    <tr>\n",
       "      <th>1</th>\n",
       "      <td>0002005018</td>\n",
       "      <td>Clara Callan</td>\n",
       "      <td>Richard Bruce Wright</td>\n",
       "      <td>2001</td>\n",
       "      <td>HarperFlamingo Canada</td>\n",
       "    </tr>\n",
       "    <tr>\n",
       "      <th>2</th>\n",
       "      <td>0060973129</td>\n",
       "      <td>Decision in Normandy</td>\n",
       "      <td>Carlo D'Este</td>\n",
       "      <td>1991</td>\n",
       "      <td>HarperPerennial</td>\n",
       "    </tr>\n",
       "    <tr>\n",
       "      <th>3</th>\n",
       "      <td>0374157065</td>\n",
       "      <td>Flu: The Story of the Great Influenza Pandemic of 1918 and the Search for the Virus That Caused It</td>\n",
       "      <td>Gina Bari Kolata</td>\n",
       "      <td>1999</td>\n",
       "      <td>Farrar Straus Giroux</td>\n",
       "    </tr>\n",
       "    <tr>\n",
       "      <th>4</th>\n",
       "      <td>0393045218</td>\n",
       "      <td>The Mummies of Urumchi</td>\n",
       "      <td>E. J. W. Barber</td>\n",
       "      <td>1999</td>\n",
       "      <td>W. W. Norton &amp;amp; Company</td>\n",
       "    </tr>\n",
       "  </tbody>\n",
       "</table>\n",
       "</div>"
      ],
      "text/plain": [
       "         ISBN  \\\n",
       "0  0195153448   \n",
       "1  0002005018   \n",
       "2  0060973129   \n",
       "3  0374157065   \n",
       "4  0393045218   \n",
       "\n",
       "                                                                                            bookTitle  \\\n",
       "0  Classical Mythology                                                                                  \n",
       "1  Clara Callan                                                                                         \n",
       "2  Decision in Normandy                                                                                 \n",
       "3  Flu: The Story of the Great Influenza Pandemic of 1918 and the Search for the Virus That Caused It   \n",
       "4  The Mummies of Urumchi                                                                               \n",
       "\n",
       "             bookAuthor yearOfPublication                   publisher  \n",
       "0  Mark P. O. Morford    2002              Oxford University Press     \n",
       "1  Richard Bruce Wright  2001              HarperFlamingo Canada       \n",
       "2  Carlo D'Este          1991              HarperPerennial             \n",
       "3  Gina Bari Kolata      1999              Farrar Straus Giroux        \n",
       "4  E. J. W. Barber       1999              W. W. Norton &amp; Company  "
      ]
     },
     "execution_count": 25,
     "metadata": {},
     "output_type": "execute_result"
    }
   ],
   "source": [
    "books.head()"
   ]
  },
  {
   "cell_type": "markdown",
   "metadata": {},
   "source": [
    "#### EDA on 'yearsOfPublication'"
   ]
  },
  {
   "cell_type": "code",
   "execution_count": 8,
   "metadata": {
    "collapsed": false
   },
   "outputs": [
    {
     "data": {
      "text/plain": [
       "array(['2002', '2001', '1991', '1999', '2000', '1993', '1996', '1988',\n",
       "       '2004', '1998', '1994', '2003', '1997', '1983', '1979', '1995',\n",
       "       '1982', '1985', '1992', '1986', '1978', '1980', '1952', '1987',\n",
       "       '1990', '1981', '1989', '1984', '0', '1968', '1961', '1958', '1974',\n",
       "       '1976', '1971', '1977', '1975', '1965', '1941', '1970', '1962',\n",
       "       '1973', '1972', '1960', '1966', '1920', '1956', '1959', '1953',\n",
       "       '1951', '1942', '1963', '1964', '1969', '1954', '1950', '1967',\n",
       "       '2005', '1957', '1940', '1937', '1955', '1946', '1936', '1930',\n",
       "       '2011', '1925', '1948', '1943', '1947', '1945', '1923', '2020',\n",
       "       '1939', '1926', '1938', '2030', '1911', '1904', '1949', '1932',\n",
       "       '1928', '1929', '1927', '1931', '1914', '2050', '1934', '1910',\n",
       "       '1933', '1902', '1924', '1921', '1900', '2038', '2026', '1944',\n",
       "       '1917', '1901', '2010', '1908', '1906', '1935', '1806', '2021',\n",
       "       '2012', '2006', 'DK Publishing Inc', 'Gallimard', '1909', '2008',\n",
       "       '1378', '1919', '1922', '1897', '2024', '1376', '2037'], dtype=object)"
      ]
     },
     "execution_count": 8,
     "metadata": {},
     "output_type": "execute_result"
    }
   ],
   "source": [
    "#checking yearOfPublication\n",
    "books.yearOfPublication.unique()"
   ]
  },
  {
   "cell_type": "code",
   "execution_count": 44,
   "metadata": {
    "collapsed": false
   },
   "outputs": [
    {
     "data": {
      "text/html": [
       "<div>\n",
       "<style>\n",
       "    .dataframe thead tr:only-child th {\n",
       "        text-align: right;\n",
       "    }\n",
       "\n",
       "    .dataframe thead th {\n",
       "        text-align: left;\n",
       "    }\n",
       "\n",
       "    .dataframe tbody tr th {\n",
       "        vertical-align: top;\n",
       "    }\n",
       "</style>\n",
       "<table border=\"1\" class=\"dataframe\">\n",
       "  <thead>\n",
       "    <tr style=\"text-align: right;\">\n",
       "      <th></th>\n",
       "      <th>ISBN</th>\n",
       "      <th>bookTitle</th>\n",
       "      <th>bookAuthor</th>\n",
       "      <th>yearOfPublication</th>\n",
       "      <th>publisher</th>\n",
       "    </tr>\n",
       "  </thead>\n",
       "  <tbody>\n",
       "    <tr>\n",
       "      <th>209538</th>\n",
       "      <td>078946697X</td>\n",
       "      <td>DK Readers: Creating the X-Men, How It All Began (Level 4: Proficient Readers)\\\";Michael Teitelbaum\"</td>\n",
       "      <td>2000</td>\n",
       "      <td>DK Publishing Inc</td>\n",
       "      <td>http://images.amazon.com/images/P/078946697X.01.THUMBZZZ.jpg</td>\n",
       "    </tr>\n",
       "    <tr>\n",
       "      <th>221678</th>\n",
       "      <td>0789466953</td>\n",
       "      <td>DK Readers: Creating the X-Men, How Comic Books Come to Life (Level 4: Proficient Readers)\\\";James Buckley\"</td>\n",
       "      <td>2000</td>\n",
       "      <td>DK Publishing Inc</td>\n",
       "      <td>http://images.amazon.com/images/P/0789466953.01.THUMBZZZ.jpg</td>\n",
       "    </tr>\n",
       "  </tbody>\n",
       "</table>\n",
       "</div>"
      ],
      "text/plain": [
       "              ISBN  \\\n",
       "209538  078946697X   \n",
       "221678  0789466953   \n",
       "\n",
       "                                                                                                          bookTitle  \\\n",
       "209538  DK Readers: Creating the X-Men, How It All Began (Level 4: Proficient Readers)\\\";Michael Teitelbaum\"          \n",
       "221678  DK Readers: Creating the X-Men, How Comic Books Come to Life (Level 4: Proficient Readers)\\\";James Buckley\"   \n",
       "\n",
       "       bookAuthor  yearOfPublication  \\\n",
       "209538  2000       DK Publishing Inc   \n",
       "221678  2000       DK Publishing Inc   \n",
       "\n",
       "                                                           publisher  \n",
       "209538  http://images.amazon.com/images/P/078946697X.01.THUMBZZZ.jpg  \n",
       "221678  http://images.amazon.com/images/P/0789466953.01.THUMBZZZ.jpg  "
      ]
     },
     "execution_count": 44,
     "metadata": {},
     "output_type": "execute_result"
    }
   ],
   "source": [
    "#lets correct all the wrong entries where we see name instead of a year \n",
    "#lets correct 'DK Publishing Inc' \n",
    "books.loc[books['yearOfPublication'] == 'DK Publishing Inc',:]"
   ]
  },
  {
   "cell_type": "code",
   "execution_count": 8,
   "metadata": {
    "collapsed": false
   },
   "outputs": [],
   "source": [
    "#correcting the two rows above\n",
    "books.loc[books['ISBN'] == '078946697X','bookAuthor'] = 'Michael Teitelbaum'\n",
    "books.loc[books['ISBN'] == '078946697X','yearOfPublication'] = '2000'\n",
    "books.loc[books['ISBN'] == '078946697X','publisher'] = 'DK Publishing Inc'\n",
    "\n",
    "\n",
    "\n",
    "books.loc[books['ISBN'] == '0789466953','bookAuthor'] = 'James Buckley'\n",
    "books.loc[books['ISBN'] == '0789466953','yearOfPublication'] = '2000'\n",
    "books.loc[books['ISBN'] == '0789466953','publisher'] = 'DK Publishing Inc'\n",
    "\n"
   ]
  },
  {
   "cell_type": "code",
   "execution_count": 46,
   "metadata": {
    "collapsed": false
   },
   "outputs": [
    {
     "data": {
      "text/html": [
       "<div>\n",
       "<style>\n",
       "    .dataframe thead tr:only-child th {\n",
       "        text-align: right;\n",
       "    }\n",
       "\n",
       "    .dataframe thead th {\n",
       "        text-align: left;\n",
       "    }\n",
       "\n",
       "    .dataframe tbody tr th {\n",
       "        vertical-align: top;\n",
       "    }\n",
       "</style>\n",
       "<table border=\"1\" class=\"dataframe\">\n",
       "  <thead>\n",
       "    <tr style=\"text-align: right;\">\n",
       "      <th></th>\n",
       "      <th>ISBN</th>\n",
       "      <th>bookTitle</th>\n",
       "      <th>bookAuthor</th>\n",
       "      <th>yearOfPublication</th>\n",
       "      <th>publisher</th>\n",
       "    </tr>\n",
       "  </thead>\n",
       "  <tbody>\n",
       "    <tr>\n",
       "      <th>209538</th>\n",
       "      <td>078946697X</td>\n",
       "      <td>DK Readers: Creating the X-Men, How It All Began (Level 4: Proficient Readers)\\\";Michael Teitelbaum\"</td>\n",
       "      <td>Michael Teitelbaum</td>\n",
       "      <td>2000</td>\n",
       "      <td>DK Publishing Inc</td>\n",
       "    </tr>\n",
       "  </tbody>\n",
       "</table>\n",
       "</div>"
      ],
      "text/plain": [
       "              ISBN  \\\n",
       "209538  078946697X   \n",
       "\n",
       "                                                                                                   bookTitle  \\\n",
       "209538  DK Readers: Creating the X-Men, How It All Began (Level 4: Proficient Readers)\\\";Michael Teitelbaum\"   \n",
       "\n",
       "                bookAuthor yearOfPublication          publisher  \n",
       "209538  Michael Teitelbaum  2000              DK Publishing Inc  "
      ]
     },
     "execution_count": 46,
     "metadata": {},
     "output_type": "execute_result"
    }
   ],
   "source": [
    "books.loc[books['ISBN'] == '078946697X',:]"
   ]
  },
  {
   "cell_type": "code",
   "execution_count": 40,
   "metadata": {
    "collapsed": false
   },
   "outputs": [
    {
     "data": {
      "text/html": [
       "<div>\n",
       "<style>\n",
       "    .dataframe thead tr:only-child th {\n",
       "        text-align: right;\n",
       "    }\n",
       "\n",
       "    .dataframe thead th {\n",
       "        text-align: left;\n",
       "    }\n",
       "\n",
       "    .dataframe tbody tr th {\n",
       "        vertical-align: top;\n",
       "    }\n",
       "</style>\n",
       "<table border=\"1\" class=\"dataframe\">\n",
       "  <thead>\n",
       "    <tr style=\"text-align: right;\">\n",
       "      <th></th>\n",
       "      <th>ISBN</th>\n",
       "      <th>bookTitle</th>\n",
       "      <th>bookAuthor</th>\n",
       "      <th>yearOfPublication</th>\n",
       "      <th>publisher</th>\n",
       "    </tr>\n",
       "  </thead>\n",
       "  <tbody>\n",
       "    <tr>\n",
       "      <th>221678</th>\n",
       "      <td>0789466953</td>\n",
       "      <td>DK Readers: Creating the X-Men, How Comic Books Come to Life (Level 4: Proficient Readers)\\\";James Buckley\"</td>\n",
       "      <td>James Buckley</td>\n",
       "      <td>2000</td>\n",
       "      <td>DK Publishing Inc</td>\n",
       "    </tr>\n",
       "  </tbody>\n",
       "</table>\n",
       "</div>"
      ],
      "text/plain": [
       "              ISBN  \\\n",
       "221678  0789466953   \n",
       "\n",
       "                                                                                                          bookTitle  \\\n",
       "221678  DK Readers: Creating the X-Men, How Comic Books Come to Life (Level 4: Proficient Readers)\\\";James Buckley\"   \n",
       "\n",
       "           bookAuthor yearOfPublication          publisher  \n",
       "221678  James Buckley  2000              DK Publishing Inc  "
      ]
     },
     "execution_count": 40,
     "metadata": {},
     "output_type": "execute_result"
    }
   ],
   "source": [
    "books.loc[books.ISBN == '0789466953',:]"
   ]
  },
  {
   "cell_type": "code",
   "execution_count": 12,
   "metadata": {
    "collapsed": false
   },
   "outputs": [
    {
     "data": {
      "text/html": [
       "<div>\n",
       "<table border=\"1\" class=\"dataframe\">\n",
       "  <thead>\n",
       "    <tr style=\"text-align: right;\">\n",
       "      <th></th>\n",
       "      <th>ISBN</th>\n",
       "      <th>bookTitle</th>\n",
       "      <th>bookAuthor</th>\n",
       "      <th>yearOfPublication</th>\n",
       "      <th>publisher</th>\n",
       "    </tr>\n",
       "  </thead>\n",
       "  <tbody>\n",
       "    <tr>\n",
       "      <th>220731</th>\n",
       "      <td>2070426769</td>\n",
       "      <td>Peuple du ciel, suivi de 'Les Bergers\\\";Jean-M...</td>\n",
       "      <td>2003</td>\n",
       "      <td>Gallimard</td>\n",
       "      <td>http://images.amazon.com/images/P/2070426769.0...</td>\n",
       "    </tr>\n",
       "  </tbody>\n",
       "</table>\n",
       "</div>"
      ],
      "text/plain": [
       "              ISBN                                          bookTitle  \\\n",
       "220731  2070426769  Peuple du ciel, suivi de 'Les Bergers\\\";Jean-M...   \n",
       "\n",
       "       bookAuthor yearOfPublication  \\\n",
       "220731       2003         Gallimard   \n",
       "\n",
       "                                                publisher  \n",
       "220731  http://images.amazon.com/images/P/2070426769.0...  "
      ]
     },
     "execution_count": 12,
     "metadata": {},
     "output_type": "execute_result"
    }
   ],
   "source": [
    "#lets correct 'Gallimard'\n",
    "\n",
    "books.loc[books['yearOfPublication'] == 'Gallimard',:]"
   ]
  },
  {
   "cell_type": "code",
   "execution_count": 9,
   "metadata": {
    "collapsed": true
   },
   "outputs": [],
   "source": [
    "#correcting the row above\n",
    "books.loc[books['ISBN'] == '2070426769','bookAuthor'] = 'ean-Marie Gustave Le'\n",
    "books.loc[books['ISBN'] == '2070426769','yearOfPublication'] = '2003'\n",
    "books.loc[books['ISBN'] == '2070426769','publisher'] = 'Gallimard'\n",
    "books.loc[books['ISBN'] == '2070426769','bookTitle'] = 'Peuple du ciel, suivi de \\'Les Bergers'\n"
   ]
  },
  {
   "cell_type": "code",
   "execution_count": 14,
   "metadata": {
    "collapsed": false
   },
   "outputs": [
    {
     "data": {
      "text/html": [
       "<div>\n",
       "<table border=\"1\" class=\"dataframe\">\n",
       "  <thead>\n",
       "    <tr style=\"text-align: right;\">\n",
       "      <th></th>\n",
       "      <th>ISBN</th>\n",
       "      <th>bookTitle</th>\n",
       "      <th>bookAuthor</th>\n",
       "      <th>yearOfPublication</th>\n",
       "      <th>publisher</th>\n",
       "    </tr>\n",
       "  </thead>\n",
       "  <tbody>\n",
       "    <tr>\n",
       "      <th>220731</th>\n",
       "      <td>2070426769</td>\n",
       "      <td>Peuple du ciel, suivi de 'Les Bergers</td>\n",
       "      <td>ean-Marie Gustave Le</td>\n",
       "      <td>2003</td>\n",
       "      <td>Gallimard</td>\n",
       "    </tr>\n",
       "  </tbody>\n",
       "</table>\n",
       "</div>"
      ],
      "text/plain": [
       "              ISBN                              bookTitle  \\\n",
       "220731  2070426769  Peuple du ciel, suivi de 'Les Bergers   \n",
       "\n",
       "                  bookAuthor yearOfPublication  publisher  \n",
       "220731  ean-Marie Gustave Le              2003  Gallimard  "
      ]
     },
     "execution_count": 14,
     "metadata": {},
     "output_type": "execute_result"
    }
   ],
   "source": [
    "books.loc[books['ISBN'] == '2070426769',:]"
   ]
  },
  {
   "cell_type": "code",
   "execution_count": 50,
   "metadata": {
    "collapsed": false
   },
   "outputs": [
    {
     "data": {
      "text/plain": [
       "array(['2002', '2001', '1991', '1999', '2000', '1993', '1996', '1988',\n",
       "       '2004', '1998', '1994', '2003', '1997', '1983', '1979', '1995',\n",
       "       '1982', '1985', '1992', '1986', '1978', '1980', '1952', '1987',\n",
       "       '1990', '1981', '1989', '1984', '0', '1968', '1961', '1958', '1974',\n",
       "       '1976', '1971', '1977', '1975', '1965', '1941', '1970', '1962',\n",
       "       '1973', '1972', '1960', '1966', '1920', '1956', '1959', '1953',\n",
       "       '1951', '1942', '1963', '1964', '1969', '1954', '1950', '1967',\n",
       "       '2005', '1957', '1940', '1937', '1955', '1946', '1936', '1930',\n",
       "       '2011', '1925', '1948', '1943', '1947', '1945', '1923', '2020',\n",
       "       '1939', '1926', '1938', '2030', '1911', '1904', '1949', '1932',\n",
       "       '1928', '1929', '1927', '1931', '1914', '2050', '1934', '1910',\n",
       "       '1933', '1902', '1924', '1921', '1900', '2038', '2026', '1944',\n",
       "       '1917', '1901', '2010', '1908', '1906', '1935', '1806', '2021',\n",
       "       '2012', '2006', '1909', '2008', '1378', '1919', '1922', '1897',\n",
       "       '2024', '1376', '2037'], dtype=object)"
      ]
     },
     "execution_count": 50,
     "metadata": {},
     "output_type": "execute_result"
    }
   ],
   "source": [
    "books['yearOfPublication'].unique()"
   ]
  },
  {
   "cell_type": "code",
   "execution_count": 51,
   "metadata": {
    "collapsed": false
   },
   "outputs": [
    {
     "data": {
      "text/plain": [
       "ISBN                 object\n",
       "bookTitle            object\n",
       "bookAuthor           object\n",
       "yearOfPublication    object\n",
       "publisher            object\n",
       "dtype: object"
      ]
     },
     "execution_count": 51,
     "metadata": {},
     "output_type": "execute_result"
    }
   ],
   "source": [
    "books.dtypes"
   ]
  },
  {
   "cell_type": "code",
   "execution_count": 10,
   "metadata": {
    "collapsed": false
   },
   "outputs": [],
   "source": [
    "#Converting the yearOfPublication to int\n",
    "\n",
    "books['yearOfPublication'] = pd.to_numeric(books.yearOfPublication)"
   ]
  },
  {
   "cell_type": "code",
   "execution_count": 53,
   "metadata": {
    "collapsed": false
   },
   "outputs": [
    {
     "data": {
      "text/plain": [
       "ISBN                 object\n",
       "bookTitle            object\n",
       "bookAuthor           object\n",
       "yearOfPublication    int64 \n",
       "publisher            object\n",
       "dtype: object"
      ]
     },
     "execution_count": 53,
     "metadata": {},
     "output_type": "execute_result"
    }
   ],
   "source": [
    "books.dtypes"
   ]
  },
  {
   "cell_type": "code",
   "execution_count": 54,
   "metadata": {
    "collapsed": true
   },
   "outputs": [],
   "source": []
  },
  {
   "cell_type": "code",
   "execution_count": 55,
   "metadata": {
    "collapsed": false
   },
   "outputs": [
    {
     "data": {
      "text/plain": [
       "ISBN                 object\n",
       "bookTitle            object\n",
       "bookAuthor           object\n",
       "yearOfPublication    int32 \n",
       "publisher            object\n",
       "dtype: object"
      ]
     },
     "execution_count": 55,
     "metadata": {},
     "output_type": "execute_result"
    }
   ],
   "source": [
    "books.dtypes"
   ]
  },
  {
   "cell_type": "code",
   "execution_count": 56,
   "metadata": {
    "collapsed": false
   },
   "outputs": [
    {
     "data": {
      "text/html": [
       "<div>\n",
       "<style>\n",
       "    .dataframe thead tr:only-child th {\n",
       "        text-align: right;\n",
       "    }\n",
       "\n",
       "    .dataframe thead th {\n",
       "        text-align: left;\n",
       "    }\n",
       "\n",
       "    .dataframe tbody tr th {\n",
       "        vertical-align: top;\n",
       "    }\n",
       "</style>\n",
       "<table border=\"1\" class=\"dataframe\">\n",
       "  <thead>\n",
       "    <tr style=\"text-align: right;\">\n",
       "      <th></th>\n",
       "      <th>ISBN</th>\n",
       "      <th>bookTitle</th>\n",
       "      <th>bookAuthor</th>\n",
       "      <th>yearOfPublication</th>\n",
       "      <th>publisher</th>\n",
       "    </tr>\n",
       "  </thead>\n",
       "  <tbody>\n",
       "    <tr>\n",
       "      <th>0</th>\n",
       "      <td>0195153448</td>\n",
       "      <td>Classical Mythology</td>\n",
       "      <td>Mark P. O. Morford</td>\n",
       "      <td>2002</td>\n",
       "      <td>Oxford University Press</td>\n",
       "    </tr>\n",
       "    <tr>\n",
       "      <th>1</th>\n",
       "      <td>0002005018</td>\n",
       "      <td>Clara Callan</td>\n",
       "      <td>Richard Bruce Wright</td>\n",
       "      <td>2001</td>\n",
       "      <td>HarperFlamingo Canada</td>\n",
       "    </tr>\n",
       "    <tr>\n",
       "      <th>2</th>\n",
       "      <td>0060973129</td>\n",
       "      <td>Decision in Normandy</td>\n",
       "      <td>Carlo D'Este</td>\n",
       "      <td>1991</td>\n",
       "      <td>HarperPerennial</td>\n",
       "    </tr>\n",
       "    <tr>\n",
       "      <th>3</th>\n",
       "      <td>0374157065</td>\n",
       "      <td>Flu: The Story of the Great Influenza Pandemic of 1918 and the Search for the Virus That Caused It</td>\n",
       "      <td>Gina Bari Kolata</td>\n",
       "      <td>1999</td>\n",
       "      <td>Farrar Straus Giroux</td>\n",
       "    </tr>\n",
       "    <tr>\n",
       "      <th>4</th>\n",
       "      <td>0393045218</td>\n",
       "      <td>The Mummies of Urumchi</td>\n",
       "      <td>E. J. W. Barber</td>\n",
       "      <td>1999</td>\n",
       "      <td>W. W. Norton &amp;amp; Company</td>\n",
       "    </tr>\n",
       "  </tbody>\n",
       "</table>\n",
       "</div>"
      ],
      "text/plain": [
       "         ISBN  \\\n",
       "0  0195153448   \n",
       "1  0002005018   \n",
       "2  0060973129   \n",
       "3  0374157065   \n",
       "4  0393045218   \n",
       "\n",
       "                                                                                            bookTitle  \\\n",
       "0  Classical Mythology                                                                                  \n",
       "1  Clara Callan                                                                                         \n",
       "2  Decision in Normandy                                                                                 \n",
       "3  Flu: The Story of the Great Influenza Pandemic of 1918 and the Search for the Virus That Caused It   \n",
       "4  The Mummies of Urumchi                                                                               \n",
       "\n",
       "             bookAuthor  yearOfPublication                   publisher  \n",
       "0  Mark P. O. Morford    2002               Oxford University Press     \n",
       "1  Richard Bruce Wright  2001               HarperFlamingo Canada       \n",
       "2  Carlo D'Este          1991               HarperPerennial             \n",
       "3  Gina Bari Kolata      1999               Farrar Straus Giroux        \n",
       "4  E. J. W. Barber       1999               W. W. Norton &amp; Company  "
      ]
     },
     "execution_count": 56,
     "metadata": {},
     "output_type": "execute_result"
    }
   ],
   "source": [
    "books.head()"
   ]
  },
  {
   "cell_type": "code",
   "execution_count": 57,
   "metadata": {
    "collapsed": false
   },
   "outputs": [
    {
     "data": {
      "text/plain": [
       "array([2002, 2001, 1991, 1999, 2000, 1993, 1996, 1988, 2004, 1998, 1994,\n",
       "       2003, 1997, 1983, 1979, 1995, 1982, 1985, 1992, 1986, 1978, 1980,\n",
       "       1952, 1987, 1990, 1981, 1989, 1984,    0, 1968, 1961, 1958, 1974,\n",
       "       1976, 1971, 1977, 1975, 1965, 1941, 1970, 1962, 1973, 1972, 1960,\n",
       "       1966, 1920, 1956, 1959, 1953, 1951, 1942, 1963, 1964, 1969, 1954,\n",
       "       1950, 1967, 2005, 1957, 1940, 1937, 1955, 1946, 1936, 1930, 2011,\n",
       "       1925, 1948, 1943, 1947, 1945, 1923, 2020, 1939, 1926, 1938, 2030,\n",
       "       1911, 1904, 1949, 1932, 1928, 1929, 1927, 1931, 1914, 2050, 1934,\n",
       "       1910, 1933, 1902, 1924, 1921, 1900, 2038, 2026, 1944, 1917, 1901,\n",
       "       2010, 1908, 1906, 1935, 1806, 2021, 2012, 2006, 1909, 2008, 1378,\n",
       "       1919, 1922, 1897, 2024, 1376, 2037])"
      ]
     },
     "execution_count": 57,
     "metadata": {},
     "output_type": "execute_result"
    }
   ],
   "source": [
    "books['yearOfPublication'].unique()"
   ]
  },
  {
   "cell_type": "markdown",
   "metadata": {},
   "source": [
    "#### We still see some values in 'yearOfPublication' that are '0' or 1378' or '2030'\n",
    "#### lets replace everything before 1900 and evertyhing after 2010 with the average  value "
   ]
  },
  {
   "cell_type": "code",
   "execution_count": 16,
   "metadata": {
    "collapsed": false
   },
   "outputs": [
    {
     "data": {
      "text/plain": [
       "1959.7612728478773"
      ]
     },
     "execution_count": 16,
     "metadata": {},
     "output_type": "execute_result"
    }
   ],
   "source": [
    "books.yearOfPublication.mean()"
   ]
  },
  {
   "cell_type": "code",
   "execution_count": 59,
   "metadata": {
    "collapsed": false
   },
   "outputs": [
    {
     "data": {
      "text/plain": [
       "(1900, 2010)"
      ]
     },
     "execution_count": 59,
     "metadata": {},
     "output_type": "execute_result"
    },
    {
     "data": {
      "image/png": "[encoded data removed]",
      "text/plain": [
       "<matplotlib.figure.Figure at 0x11757b438>"
      ]
     },
     "metadata": {},
     "output_type": "display_data"
    }
   ],
   "source": [
    "sns.boxplot(x='yearOfPublication', data=books)\n",
    "plt.xlim(1900, 2010)"
   ]
  },
  {
   "cell_type": "code",
   "execution_count": 11,
   "metadata": {
    "collapsed": true
   },
   "outputs": [],
   "source": [
    "# Impute outliers function\n",
    "def impute_outliers(df, column , minimum, maximum):\n",
    "    col_values = df[column].values\n",
    "    df[column] = np.where(np.logical_or(col_values<minimum, col_values>maximum), col_values.mean(), col_values)\n",
    "    return df"
   ]
  },
  {
   "cell_type": "code",
   "execution_count": 12,
   "metadata": {
    "collapsed": true
   },
   "outputs": [],
   "source": [
    "books_new = impute_outliers(df=books, column='yearOfPublication' , minimum=1900, maximum=2010)\n"
   ]
  },
  {
   "cell_type": "code",
   "execution_count": 62,
   "metadata": {
    "collapsed": false
   },
   "outputs": [
    {
     "data": {
      "text/html": [
       "<div>\n",
       "<style>\n",
       "    .dataframe thead tr:only-child th {\n",
       "        text-align: right;\n",
       "    }\n",
       "\n",
       "    .dataframe thead th {\n",
       "        text-align: left;\n",
       "    }\n",
       "\n",
       "    .dataframe tbody tr th {\n",
       "        vertical-align: top;\n",
       "    }\n",
       "</style>\n",
       "<table border=\"1\" class=\"dataframe\">\n",
       "  <thead>\n",
       "    <tr style=\"text-align: right;\">\n",
       "      <th></th>\n",
       "      <th>ISBN</th>\n",
       "      <th>bookTitle</th>\n",
       "      <th>bookAuthor</th>\n",
       "      <th>yearOfPublication</th>\n",
       "      <th>publisher</th>\n",
       "    </tr>\n",
       "  </thead>\n",
       "  <tbody>\n",
       "    <tr>\n",
       "      <th>0</th>\n",
       "      <td>0195153448</td>\n",
       "      <td>Classical Mythology</td>\n",
       "      <td>Mark P. O. Morford</td>\n",
       "      <td>2002.0</td>\n",
       "      <td>Oxford University Press</td>\n",
       "    </tr>\n",
       "    <tr>\n",
       "      <th>1</th>\n",
       "      <td>0002005018</td>\n",
       "      <td>Clara Callan</td>\n",
       "      <td>Richard Bruce Wright</td>\n",
       "      <td>2001.0</td>\n",
       "      <td>HarperFlamingo Canada</td>\n",
       "    </tr>\n",
       "    <tr>\n",
       "      <th>2</th>\n",
       "      <td>0060973129</td>\n",
       "      <td>Decision in Normandy</td>\n",
       "      <td>Carlo D'Este</td>\n",
       "      <td>1991.0</td>\n",
       "      <td>HarperPerennial</td>\n",
       "    </tr>\n",
       "    <tr>\n",
       "      <th>3</th>\n",
       "      <td>0374157065</td>\n",
       "      <td>Flu: The Story of the Great Influenza Pandemic of 1918 and the Search for the Virus That Caused It</td>\n",
       "      <td>Gina Bari Kolata</td>\n",
       "      <td>1999.0</td>\n",
       "      <td>Farrar Straus Giroux</td>\n",
       "    </tr>\n",
       "    <tr>\n",
       "      <th>4</th>\n",
       "      <td>0393045218</td>\n",
       "      <td>The Mummies of Urumchi</td>\n",
       "      <td>E. J. W. Barber</td>\n",
       "      <td>1999.0</td>\n",
       "      <td>W. W. Norton &amp;amp; Company</td>\n",
       "    </tr>\n",
       "  </tbody>\n",
       "</table>\n",
       "</div>"
      ],
      "text/plain": [
       "         ISBN  \\\n",
       "0  0195153448   \n",
       "1  0002005018   \n",
       "2  0060973129   \n",
       "3  0374157065   \n",
       "4  0393045218   \n",
       "\n",
       "                                                                                            bookTitle  \\\n",
       "0  Classical Mythology                                                                                  \n",
       "1  Clara Callan                                                                                         \n",
       "2  Decision in Normandy                                                                                 \n",
       "3  Flu: The Story of the Great Influenza Pandemic of 1918 and the Search for the Virus That Caused It   \n",
       "4  The Mummies of Urumchi                                                                               \n",
       "\n",
       "             bookAuthor  yearOfPublication                   publisher  \n",
       "0  Mark P. O. Morford    2002.0             Oxford University Press     \n",
       "1  Richard Bruce Wright  2001.0             HarperFlamingo Canada       \n",
       "2  Carlo D'Este          1991.0             HarperPerennial             \n",
       "3  Gina Bari Kolata      1999.0             Farrar Straus Giroux        \n",
       "4  E. J. W. Barber       1999.0             W. W. Norton &amp; Company  "
      ]
     },
     "execution_count": 62,
     "metadata": {},
     "output_type": "execute_result"
    }
   ],
   "source": [
    "books_new.head()"
   ]
  },
  {
   "cell_type": "code",
   "execution_count": 13,
   "metadata": {
    "collapsed": true
   },
   "outputs": [],
   "source": [
    "#lets convert 'yearsOfPublication' to int32 to get ridoff decimal \n",
    "\n",
    "\n",
    "books['yearOfPublication'] = books['yearOfPublication'].astype(np.int32)"
   ]
  },
  {
   "cell_type": "code",
   "execution_count": 20,
   "metadata": {
    "collapsed": false
   },
   "outputs": [
    {
     "data": {
      "text/html": [
       "<div>\n",
       "<table border=\"1\" class=\"dataframe\">\n",
       "  <thead>\n",
       "    <tr style=\"text-align: right;\">\n",
       "      <th></th>\n",
       "      <th>ISBN</th>\n",
       "      <th>bookTitle</th>\n",
       "      <th>bookAuthor</th>\n",
       "      <th>yearOfPublication</th>\n",
       "      <th>publisher</th>\n",
       "    </tr>\n",
       "  </thead>\n",
       "  <tbody>\n",
       "    <tr>\n",
       "      <th>0</th>\n",
       "      <td>0195153448</td>\n",
       "      <td>Classical Mythology</td>\n",
       "      <td>Mark P. O. Morford</td>\n",
       "      <td>2002</td>\n",
       "      <td>Oxford University Press</td>\n",
       "    </tr>\n",
       "    <tr>\n",
       "      <th>1</th>\n",
       "      <td>0002005018</td>\n",
       "      <td>Clara Callan</td>\n",
       "      <td>Richard Bruce Wright</td>\n",
       "      <td>2001</td>\n",
       "      <td>HarperFlamingo Canada</td>\n",
       "    </tr>\n",
       "    <tr>\n",
       "      <th>2</th>\n",
       "      <td>0060973129</td>\n",
       "      <td>Decision in Normandy</td>\n",
       "      <td>Carlo D'Este</td>\n",
       "      <td>1991</td>\n",
       "      <td>HarperPerennial</td>\n",
       "    </tr>\n",
       "    <tr>\n",
       "      <th>3</th>\n",
       "      <td>0374157065</td>\n",
       "      <td>Flu: The Story of the Great Influenza Pandemic...</td>\n",
       "      <td>Gina Bari Kolata</td>\n",
       "      <td>1999</td>\n",
       "      <td>Farrar Straus Giroux</td>\n",
       "    </tr>\n",
       "    <tr>\n",
       "      <th>4</th>\n",
       "      <td>0393045218</td>\n",
       "      <td>The Mummies of Urumchi</td>\n",
       "      <td>E. J. W. Barber</td>\n",
       "      <td>1999</td>\n",
       "      <td>W. W. Norton &amp;amp; Company</td>\n",
       "    </tr>\n",
       "  </tbody>\n",
       "</table>\n",
       "</div>"
      ],
      "text/plain": [
       "         ISBN                                          bookTitle  \\\n",
       "0  0195153448                                Classical Mythology   \n",
       "1  0002005018                                       Clara Callan   \n",
       "2  0060973129                               Decision in Normandy   \n",
       "3  0374157065  Flu: The Story of the Great Influenza Pandemic...   \n",
       "4  0393045218                             The Mummies of Urumchi   \n",
       "\n",
       "             bookAuthor  yearOfPublication                   publisher  \n",
       "0    Mark P. O. Morford               2002     Oxford University Press  \n",
       "1  Richard Bruce Wright               2001       HarperFlamingo Canada  \n",
       "2          Carlo D'Este               1991             HarperPerennial  \n",
       "3      Gina Bari Kolata               1999        Farrar Straus Giroux  \n",
       "4       E. J. W. Barber               1999  W. W. Norton &amp; Company  "
      ]
     },
     "execution_count": 20,
     "metadata": {},
     "output_type": "execute_result"
    }
   ],
   "source": [
    "books_new.head()"
   ]
  },
  {
   "cell_type": "code",
   "execution_count": 65,
   "metadata": {
    "collapsed": false
   },
   "outputs": [
    {
     "data": {
      "text/plain": [
       "array([2002, 2001, 1991, 1999, 2000, 1993, 1996, 1988, 2004, 1998, 1994,\n",
       "       2003, 1997, 1983, 1979, 1995, 1982, 1985, 1992, 1986, 1978, 1980,\n",
       "       1952, 1987, 1990, 1981, 1989, 1984, 1959, 1968, 1961, 1958, 1974,\n",
       "       1976, 1971, 1977, 1975, 1965, 1941, 1970, 1962, 1973, 1972, 1960,\n",
       "       1966, 1920, 1956, 1953, 1951, 1942, 1963, 1964, 1969, 1954, 1950,\n",
       "       1967, 2005, 1957, 1940, 1937, 1955, 1946, 1936, 1930, 1925, 1948,\n",
       "       1943, 1947, 1945, 1923, 1939, 1926, 1938, 1911, 1904, 1949, 1932,\n",
       "       1928, 1929, 1927, 1931, 1914, 1934, 1910, 1933, 1902, 1924, 1921,\n",
       "       1900, 1944, 1917, 1901, 2010, 1908, 1906, 1935, 2006, 1909, 2008,\n",
       "       1919, 1922])"
      ]
     },
     "execution_count": 65,
     "metadata": {},
     "output_type": "execute_result"
    }
   ],
   "source": [
    "books_new['yearOfPublication'].unique()"
   ]
  },
  {
   "cell_type": "code",
   "execution_count": 66,
   "metadata": {
    "collapsed": false
   },
   "outputs": [
    {
     "data": {
      "text/html": [
       "<div>\n",
       "<style>\n",
       "    .dataframe thead tr:only-child th {\n",
       "        text-align: right;\n",
       "    }\n",
       "\n",
       "    .dataframe thead th {\n",
       "        text-align: left;\n",
       "    }\n",
       "\n",
       "    .dataframe tbody tr th {\n",
       "        vertical-align: top;\n",
       "    }\n",
       "</style>\n",
       "<table border=\"1\" class=\"dataframe\">\n",
       "  <thead>\n",
       "    <tr style=\"text-align: right;\">\n",
       "      <th></th>\n",
       "      <th>ISBN</th>\n",
       "      <th>bookTitle</th>\n",
       "      <th>bookAuthor</th>\n",
       "      <th>yearOfPublication</th>\n",
       "      <th>publisher</th>\n",
       "    </tr>\n",
       "  </thead>\n",
       "  <tbody>\n",
       "  </tbody>\n",
       "</table>\n",
       "</div>"
      ],
      "text/plain": [
       "Empty DataFrame\n",
       "Columns: [ISBN, bookTitle, bookAuthor, yearOfPublication, publisher]\n",
       "Index: []"
      ]
     },
     "execution_count": 66,
     "metadata": {},
     "output_type": "execute_result"
    }
   ],
   "source": [
    "books_new.loc[books_new['yearOfPublication'].isnull(),:]"
   ]
  },
  {
   "cell_type": "markdown",
   "metadata": {},
   "source": [
    "#### EDA on 'publisher' feature"
   ]
  },
  {
   "cell_type": "code",
   "execution_count": 34,
   "metadata": {
    "collapsed": false
   },
   "outputs": [
    {
     "data": {
      "text/html": [
       "<div>\n",
       "<style>\n",
       "    .dataframe thead tr:only-child th {\n",
       "        text-align: right;\n",
       "    }\n",
       "\n",
       "    .dataframe thead th {\n",
       "        text-align: left;\n",
       "    }\n",
       "\n",
       "    .dataframe tbody tr th {\n",
       "        vertical-align: top;\n",
       "    }\n",
       "</style>\n",
       "<table border=\"1\" class=\"dataframe\">\n",
       "  <thead>\n",
       "    <tr style=\"text-align: right;\">\n",
       "      <th></th>\n",
       "      <th>ISBN</th>\n",
       "      <th>bookTitle</th>\n",
       "      <th>bookAuthor</th>\n",
       "      <th>yearOfPublication</th>\n",
       "      <th>publisher</th>\n",
       "    </tr>\n",
       "  </thead>\n",
       "  <tbody>\n",
       "    <tr>\n",
       "      <th>128890</th>\n",
       "      <td>193169656X</td>\n",
       "      <td>Tyrant Moon</td>\n",
       "      <td>Elaine Corvidae</td>\n",
       "      <td>2002</td>\n",
       "      <td>NaN</td>\n",
       "    </tr>\n",
       "    <tr>\n",
       "      <th>129037</th>\n",
       "      <td>1931696993</td>\n",
       "      <td>Finders Keepers</td>\n",
       "      <td>Linnea Sinclair</td>\n",
       "      <td>2001</td>\n",
       "      <td>NaN</td>\n",
       "    </tr>\n",
       "  </tbody>\n",
       "</table>\n",
       "</div>"
      ],
      "text/plain": [
       "              ISBN        bookTitle       bookAuthor  yearOfPublication  \\\n",
       "128890  193169656X  Tyrant Moon      Elaine Corvidae  2002                \n",
       "129037  1931696993  Finders Keepers  Linnea Sinclair  2001                \n",
       "\n",
       "       publisher  \n",
       "128890  NaN       \n",
       "129037  NaN       "
      ]
     },
     "execution_count": 34,
     "metadata": {},
     "output_type": "execute_result"
    }
   ],
   "source": [
    "books_new.loc[books_new['publisher'].isnull(),:]"
   ]
  },
  {
   "cell_type": "code",
   "execution_count": 14,
   "metadata": {
    "collapsed": true
   },
   "outputs": [],
   "source": [
    "#lets correct the columns without any values by replacing with 'unknown'\n",
    "books_new.loc[books_new.ISBN == '193169656X','publisher'] = 'UnKnown'\n",
    "books_new.loc[books_new.ISBN == '1931696993','publisher'] = 'UnKnown'"
   ]
  },
  {
   "cell_type": "code",
   "execution_count": 22,
   "metadata": {
    "collapsed": false
   },
   "outputs": [
    {
     "data": {
      "text/html": [
       "<div>\n",
       "<table border=\"1\" class=\"dataframe\">\n",
       "  <thead>\n",
       "    <tr style=\"text-align: right;\">\n",
       "      <th></th>\n",
       "      <th>ISBN</th>\n",
       "      <th>bookTitle</th>\n",
       "      <th>bookAuthor</th>\n",
       "      <th>yearOfPublication</th>\n",
       "      <th>publisher</th>\n",
       "    </tr>\n",
       "  </thead>\n",
       "  <tbody>\n",
       "  </tbody>\n",
       "</table>\n",
       "</div>"
      ],
      "text/plain": [
       "Empty DataFrame\n",
       "Columns: [ISBN, bookTitle, bookAuthor, yearOfPublication, publisher]\n",
       "Index: []"
      ]
     },
     "execution_count": 22,
     "metadata": {},
     "output_type": "execute_result"
    }
   ],
   "source": [
    "books_new.loc[books_new['publisher'].isnull(),:]"
   ]
  },
  {
   "cell_type": "markdown",
   "metadata": {},
   "source": [
    "#### EDA on 'ISBN' feature"
   ]
  },
  {
   "cell_type": "code",
   "execution_count": 68,
   "metadata": {
    "collapsed": false
   },
   "outputs": [
    {
     "data": {
      "text/html": [
       "<div>\n",
       "<style>\n",
       "    .dataframe thead tr:only-child th {\n",
       "        text-align: right;\n",
       "    }\n",
       "\n",
       "    .dataframe thead th {\n",
       "        text-align: left;\n",
       "    }\n",
       "\n",
       "    .dataframe tbody tr th {\n",
       "        vertical-align: top;\n",
       "    }\n",
       "</style>\n",
       "<table border=\"1\" class=\"dataframe\">\n",
       "  <thead>\n",
       "    <tr style=\"text-align: right;\">\n",
       "      <th></th>\n",
       "      <th>ISBN</th>\n",
       "      <th>bookTitle</th>\n",
       "      <th>bookAuthor</th>\n",
       "      <th>yearOfPublication</th>\n",
       "      <th>publisher</th>\n",
       "    </tr>\n",
       "  </thead>\n",
       "  <tbody>\n",
       "  </tbody>\n",
       "</table>\n",
       "</div>"
      ],
      "text/plain": [
       "Empty DataFrame\n",
       "Columns: [ISBN, bookTitle, bookAuthor, yearOfPublication, publisher]\n",
       "Index: []"
      ]
     },
     "execution_count": 68,
     "metadata": {},
     "output_type": "execute_result"
    }
   ],
   "source": [
    "books_new.loc[books_new['ISBN'].isnull(),:]"
   ]
  },
  {
   "cell_type": "code",
   "execution_count": 69,
   "metadata": {
    "collapsed": false
   },
   "outputs": [
    {
     "data": {
      "text/plain": [
       "array(['0195153448', '0002005018', '0060973129', ..., '006008667X',\n",
       "       '0192126040', '0767409752'], dtype=object)"
      ]
     },
     "execution_count": 69,
     "metadata": {},
     "output_type": "execute_result"
    }
   ],
   "source": [
    "#Checking ISBN\n",
    "books_new['ISBN'].unique()"
   ]
  },
  {
   "cell_type": "markdown",
   "metadata": {},
   "source": [
    "### Users data set EDA"
   ]
  },
  {
   "cell_type": "code",
   "execution_count": 70,
   "metadata": {
    "collapsed": false
   },
   "outputs": [
    {
     "data": {
      "text/html": [
       "<div>\n",
       "<style>\n",
       "    .dataframe thead tr:only-child th {\n",
       "        text-align: right;\n",
       "    }\n",
       "\n",
       "    .dataframe thead th {\n",
       "        text-align: left;\n",
       "    }\n",
       "\n",
       "    .dataframe tbody tr th {\n",
       "        vertical-align: top;\n",
       "    }\n",
       "</style>\n",
       "<table border=\"1\" class=\"dataframe\">\n",
       "  <thead>\n",
       "    <tr style=\"text-align: right;\">\n",
       "      <th></th>\n",
       "      <th>User-ID</th>\n",
       "      <th>Location</th>\n",
       "      <th>Age</th>\n",
       "    </tr>\n",
       "  </thead>\n",
       "  <tbody>\n",
       "    <tr>\n",
       "      <th>0</th>\n",
       "      <td>1</td>\n",
       "      <td>nyc, new york, usa</td>\n",
       "      <td>NaN</td>\n",
       "    </tr>\n",
       "    <tr>\n",
       "      <th>1</th>\n",
       "      <td>2</td>\n",
       "      <td>stockton, california, usa</td>\n",
       "      <td>18.0</td>\n",
       "    </tr>\n",
       "    <tr>\n",
       "      <th>2</th>\n",
       "      <td>3</td>\n",
       "      <td>moscow, yukon territory, russia</td>\n",
       "      <td>NaN</td>\n",
       "    </tr>\n",
       "    <tr>\n",
       "      <th>3</th>\n",
       "      <td>4</td>\n",
       "      <td>porto, v.n.gaia, portugal</td>\n",
       "      <td>17.0</td>\n",
       "    </tr>\n",
       "    <tr>\n",
       "      <th>4</th>\n",
       "      <td>5</td>\n",
       "      <td>farnborough, hants, united kingdom</td>\n",
       "      <td>NaN</td>\n",
       "    </tr>\n",
       "  </tbody>\n",
       "</table>\n",
       "</div>"
      ],
      "text/plain": [
       "   User-ID                            Location   Age\n",
       "0  1        nyc, new york, usa                 NaN  \n",
       "1  2        stockton, california, usa           18.0\n",
       "2  3        moscow, yukon territory, russia    NaN  \n",
       "3  4        porto, v.n.gaia, portugal           17.0\n",
       "4  5        farnborough, hants, united kingdom NaN  "
      ]
     },
     "execution_count": 70,
     "metadata": {},
     "output_type": "execute_result"
    }
   ],
   "source": [
    "users.head()"
   ]
  },
  {
   "cell_type": "code",
   "execution_count": 72,
   "metadata": {
    "collapsed": false
   },
   "outputs": [
    {
     "data": {
      "text/plain": [
       "User-ID     int64  \n",
       "Location    object \n",
       "Age         float64\n",
       "dtype: object"
      ]
     },
     "execution_count": 72,
     "metadata": {},
     "output_type": "execute_result"
    }
   ],
   "source": [
    "users.dtypes"
   ]
  },
  {
   "cell_type": "markdown",
   "metadata": {},
   "source": [
    "#### EDA on 'Age' feature"
   ]
  },
  {
   "cell_type": "code",
   "execution_count": 73,
   "metadata": {
    "collapsed": false
   },
   "outputs": [
    {
     "data": {
      "text/html": [
       "<div>\n",
       "<style>\n",
       "    .dataframe thead tr:only-child th {\n",
       "        text-align: right;\n",
       "    }\n",
       "\n",
       "    .dataframe thead th {\n",
       "        text-align: left;\n",
       "    }\n",
       "\n",
       "    .dataframe tbody tr th {\n",
       "        vertical-align: top;\n",
       "    }\n",
       "</style>\n",
       "<table border=\"1\" class=\"dataframe\">\n",
       "  <thead>\n",
       "    <tr style=\"text-align: right;\">\n",
       "      <th></th>\n",
       "      <th>User-ID</th>\n",
       "      <th>Location</th>\n",
       "      <th>Age</th>\n",
       "    </tr>\n",
       "  </thead>\n",
       "  <tbody>\n",
       "    <tr>\n",
       "      <th>0</th>\n",
       "      <td>1</td>\n",
       "      <td>nyc, new york, usa</td>\n",
       "      <td>NaN</td>\n",
       "    </tr>\n",
       "    <tr>\n",
       "      <th>2</th>\n",
       "      <td>3</td>\n",
       "      <td>moscow, yukon territory, russia</td>\n",
       "      <td>NaN</td>\n",
       "    </tr>\n",
       "    <tr>\n",
       "      <th>4</th>\n",
       "      <td>5</td>\n",
       "      <td>farnborough, hants, united kingdom</td>\n",
       "      <td>NaN</td>\n",
       "    </tr>\n",
       "    <tr>\n",
       "      <th>6</th>\n",
       "      <td>7</td>\n",
       "      <td>washington, dc, usa</td>\n",
       "      <td>NaN</td>\n",
       "    </tr>\n",
       "    <tr>\n",
       "      <th>7</th>\n",
       "      <td>8</td>\n",
       "      <td>timmins, ontario, canada</td>\n",
       "      <td>NaN</td>\n",
       "    </tr>\n",
       "    <tr>\n",
       "      <th>8</th>\n",
       "      <td>9</td>\n",
       "      <td>germantown, tennessee, usa</td>\n",
       "      <td>NaN</td>\n",
       "    </tr>\n",
       "    <tr>\n",
       "      <th>11</th>\n",
       "      <td>12</td>\n",
       "      <td>fort bragg, california, usa</td>\n",
       "      <td>NaN</td>\n",
       "    </tr>\n",
       "    <tr>\n",
       "      <th>13</th>\n",
       "      <td>14</td>\n",
       "      <td>mediapolis, iowa, usa</td>\n",
       "      <td>NaN</td>\n",
       "    </tr>\n",
       "    <tr>\n",
       "      <th>14</th>\n",
       "      <td>15</td>\n",
       "      <td>calgary, alberta, canada</td>\n",
       "      <td>NaN</td>\n",
       "    </tr>\n",
       "    <tr>\n",
       "      <th>15</th>\n",
       "      <td>16</td>\n",
       "      <td>albuquerque, new mexico, usa</td>\n",
       "      <td>NaN</td>\n",
       "    </tr>\n",
       "    <tr>\n",
       "      <th>16</th>\n",
       "      <td>17</td>\n",
       "      <td>chesapeake, virginia, usa</td>\n",
       "      <td>NaN</td>\n",
       "    </tr>\n",
       "    <tr>\n",
       "      <th>21</th>\n",
       "      <td>22</td>\n",
       "      <td>erfurt, thueringen, germany</td>\n",
       "      <td>NaN</td>\n",
       "    </tr>\n",
       "    <tr>\n",
       "      <th>22</th>\n",
       "      <td>23</td>\n",
       "      <td>philadelphia, pennsylvania, usa</td>\n",
       "      <td>NaN</td>\n",
       "    </tr>\n",
       "    <tr>\n",
       "      <th>25</th>\n",
       "      <td>26</td>\n",
       "      <td>bellevue, washington, usa</td>\n",
       "      <td>NaN</td>\n",
       "    </tr>\n",
       "    <tr>\n",
       "      <th>31</th>\n",
       "      <td>32</td>\n",
       "      <td>portland, oregon, usa</td>\n",
       "      <td>NaN</td>\n",
       "    </tr>\n",
       "    <tr>\n",
       "      <th>33</th>\n",
       "      <td>34</td>\n",
       "      <td>london, england, united kingdom</td>\n",
       "      <td>NaN</td>\n",
       "    </tr>\n",
       "    <tr>\n",
       "      <th>38</th>\n",
       "      <td>39</td>\n",
       "      <td>cary, north carolina, usa</td>\n",
       "      <td>NaN</td>\n",
       "    </tr>\n",
       "    <tr>\n",
       "      <th>42</th>\n",
       "      <td>43</td>\n",
       "      <td>méxico, méxico city, distrito federal</td>\n",
       "      <td>NaN</td>\n",
       "    </tr>\n",
       "    <tr>\n",
       "      <th>44</th>\n",
       "      <td>45</td>\n",
       "      <td>berlin, n/a, germany</td>\n",
       "      <td>NaN</td>\n",
       "    </tr>\n",
       "    <tr>\n",
       "      <th>47</th>\n",
       "      <td>48</td>\n",
       "      <td>chicago, illinois, usa</td>\n",
       "      <td>NaN</td>\n",
       "    </tr>\n",
       "    <tr>\n",
       "      <th>48</th>\n",
       "      <td>49</td>\n",
       "      <td>rome, rome, italy</td>\n",
       "      <td>NaN</td>\n",
       "    </tr>\n",
       "    <tr>\n",
       "      <th>51</th>\n",
       "      <td>52</td>\n",
       "      <td>braunschweig, niedersachsen, germany</td>\n",
       "      <td>NaN</td>\n",
       "    </tr>\n",
       "    <tr>\n",
       "      <th>52</th>\n",
       "      <td>53</td>\n",
       "      <td>tacoma, washington, usa</td>\n",
       "      <td>NaN</td>\n",
       "    </tr>\n",
       "    <tr>\n",
       "      <th>54</th>\n",
       "      <td>55</td>\n",
       "      <td>calgary, alberta, canada</td>\n",
       "      <td>NaN</td>\n",
       "    </tr>\n",
       "    <tr>\n",
       "      <th>56</th>\n",
       "      <td>57</td>\n",
       "      <td>roma, lazio, italy</td>\n",
       "      <td>NaN</td>\n",
       "    </tr>\n",
       "    <tr>\n",
       "      <th>57</th>\n",
       "      <td>58</td>\n",
       "      <td>edmonton, alberta, canada</td>\n",
       "      <td>NaN</td>\n",
       "    </tr>\n",
       "    <tr>\n",
       "      <th>59</th>\n",
       "      <td>60</td>\n",
       "      <td>trieste, friuli venezia giulia, italy</td>\n",
       "      <td>NaN</td>\n",
       "    </tr>\n",
       "    <tr>\n",
       "      <th>61</th>\n",
       "      <td>62</td>\n",
       "      <td>kennewick, washington, usa</td>\n",
       "      <td>NaN</td>\n",
       "    </tr>\n",
       "    <tr>\n",
       "      <th>64</th>\n",
       "      <td>65</td>\n",
       "      <td>n/a, n/a, australia</td>\n",
       "      <td>NaN</td>\n",
       "    </tr>\n",
       "    <tr>\n",
       "      <th>67</th>\n",
       "      <td>68</td>\n",
       "      <td>montreal, quebec, canada</td>\n",
       "      <td>NaN</td>\n",
       "    </tr>\n",
       "    <tr>\n",
       "      <th>...</th>\n",
       "      <td>...</td>\n",
       "      <td>...</td>\n",
       "      <td>...</td>\n",
       "    </tr>\n",
       "    <tr>\n",
       "      <th>278789</th>\n",
       "      <td>278790</td>\n",
       "      <td>corpus christi, texas, usa</td>\n",
       "      <td>NaN</td>\n",
       "    </tr>\n",
       "    <tr>\n",
       "      <th>278790</th>\n",
       "      <td>278791</td>\n",
       "      <td>la plata, maryland, usa</td>\n",
       "      <td>NaN</td>\n",
       "    </tr>\n",
       "    <tr>\n",
       "      <th>278792</th>\n",
       "      <td>278793</td>\n",
       "      <td>bury, england, united kingdom</td>\n",
       "      <td>NaN</td>\n",
       "    </tr>\n",
       "    <tr>\n",
       "      <th>278796</th>\n",
       "      <td>278797</td>\n",
       "      <td>urbana, illinois, usa</td>\n",
       "      <td>NaN</td>\n",
       "    </tr>\n",
       "    <tr>\n",
       "      <th>278798</th>\n",
       "      <td>278799</td>\n",
       "      <td>hamburg, germany, germany</td>\n",
       "      <td>NaN</td>\n",
       "    </tr>\n",
       "    <tr>\n",
       "      <th>278800</th>\n",
       "      <td>278801</td>\n",
       "      <td>moorpark, california, usa</td>\n",
       "      <td>NaN</td>\n",
       "    </tr>\n",
       "    <tr>\n",
       "      <th>278801</th>\n",
       "      <td>278802</td>\n",
       "      <td>chappell hill, texas, usa</td>\n",
       "      <td>NaN</td>\n",
       "    </tr>\n",
       "    <tr>\n",
       "      <th>278803</th>\n",
       "      <td>278804</td>\n",
       "      <td>la jolla, california, usa</td>\n",
       "      <td>NaN</td>\n",
       "    </tr>\n",
       "    <tr>\n",
       "      <th>278805</th>\n",
       "      <td>278806</td>\n",
       "      <td>la jolla, california, usa</td>\n",
       "      <td>NaN</td>\n",
       "    </tr>\n",
       "    <tr>\n",
       "      <th>278812</th>\n",
       "      <td>278813</td>\n",
       "      <td>phoenix, arizona, usa</td>\n",
       "      <td>NaN</td>\n",
       "    </tr>\n",
       "    <tr>\n",
       "      <th>278815</th>\n",
       "      <td>278816</td>\n",
       "      <td>athens, ohio, usa</td>\n",
       "      <td>NaN</td>\n",
       "    </tr>\n",
       "    <tr>\n",
       "      <th>278822</th>\n",
       "      <td>278823</td>\n",
       "      <td>new westminster, british columbia, canada</td>\n",
       "      <td>NaN</td>\n",
       "    </tr>\n",
       "    <tr>\n",
       "      <th>278824</th>\n",
       "      <td>278825</td>\n",
       "      <td>portland, oregon, usa</td>\n",
       "      <td>NaN</td>\n",
       "    </tr>\n",
       "    <tr>\n",
       "      <th>278826</th>\n",
       "      <td>278827</td>\n",
       "      <td>schaumburg, illinois, usa</td>\n",
       "      <td>NaN</td>\n",
       "    </tr>\n",
       "    <tr>\n",
       "      <th>278827</th>\n",
       "      <td>278828</td>\n",
       "      <td>germantown, illinois, usa</td>\n",
       "      <td>NaN</td>\n",
       "    </tr>\n",
       "    <tr>\n",
       "      <th>278828</th>\n",
       "      <td>278829</td>\n",
       "      <td>boise, idaho, usa</td>\n",
       "      <td>NaN</td>\n",
       "    </tr>\n",
       "    <tr>\n",
       "      <th>278830</th>\n",
       "      <td>278831</td>\n",
       "      <td>anchorage, alaska, usa</td>\n",
       "      <td>NaN</td>\n",
       "    </tr>\n",
       "    <tr>\n",
       "      <th>278833</th>\n",
       "      <td>278834</td>\n",
       "      <td>essen, england, germany</td>\n",
       "      <td>NaN</td>\n",
       "    </tr>\n",
       "    <tr>\n",
       "      <th>278836</th>\n",
       "      <td>278837</td>\n",
       "      <td>taiyuan, shanxi, china</td>\n",
       "      <td>NaN</td>\n",
       "    </tr>\n",
       "    <tr>\n",
       "      <th>278838</th>\n",
       "      <td>278839</td>\n",
       "      <td>austin, texas, usa</td>\n",
       "      <td>NaN</td>\n",
       "    </tr>\n",
       "    <tr>\n",
       "      <th>278840</th>\n",
       "      <td>278841</td>\n",
       "      <td>llangollen, denbighshire county, united kingdom.</td>\n",
       "      <td>NaN</td>\n",
       "    </tr>\n",
       "    <tr>\n",
       "      <th>278841</th>\n",
       "      <td>278842</td>\n",
       "      <td>perth, western australia, australia</td>\n",
       "      <td>NaN</td>\n",
       "    </tr>\n",
       "    <tr>\n",
       "      <th>278844</th>\n",
       "      <td>278845</td>\n",
       "      <td>järvenpää, uusimaa, finland</td>\n",
       "      <td>NaN</td>\n",
       "    </tr>\n",
       "    <tr>\n",
       "      <th>278846</th>\n",
       "      <td>278847</td>\n",
       "      <td>brooklyn, new york, usa</td>\n",
       "      <td>NaN</td>\n",
       "    </tr>\n",
       "    <tr>\n",
       "      <th>278847</th>\n",
       "      <td>278848</td>\n",
       "      <td>köln, nordrhein-westfalen, germany</td>\n",
       "      <td>NaN</td>\n",
       "    </tr>\n",
       "    <tr>\n",
       "      <th>278849</th>\n",
       "      <td>278850</td>\n",
       "      <td>sergnano, lombardia, italy</td>\n",
       "      <td>NaN</td>\n",
       "    </tr>\n",
       "    <tr>\n",
       "      <th>278853</th>\n",
       "      <td>278854</td>\n",
       "      <td>portland, oregon, usa</td>\n",
       "      <td>NaN</td>\n",
       "    </tr>\n",
       "    <tr>\n",
       "      <th>278855</th>\n",
       "      <td>278856</td>\n",
       "      <td>brampton, ontario, canada</td>\n",
       "      <td>NaN</td>\n",
       "    </tr>\n",
       "    <tr>\n",
       "      <th>278856</th>\n",
       "      <td>278857</td>\n",
       "      <td>knoxville, tennessee, usa</td>\n",
       "      <td>NaN</td>\n",
       "    </tr>\n",
       "    <tr>\n",
       "      <th>278857</th>\n",
       "      <td>278858</td>\n",
       "      <td>dublin, n/a, ireland</td>\n",
       "      <td>NaN</td>\n",
       "    </tr>\n",
       "  </tbody>\n",
       "</table>\n",
       "<p>110762 rows × 3 columns</p>\n",
       "</div>"
      ],
      "text/plain": [
       "        User-ID                                          Location  Age\n",
       "0       1        nyc, new york, usa                               NaN \n",
       "2       3        moscow, yukon territory, russia                  NaN \n",
       "4       5        farnborough, hants, united kingdom               NaN \n",
       "6       7        washington, dc, usa                              NaN \n",
       "7       8        timmins, ontario, canada                         NaN \n",
       "8       9        germantown, tennessee, usa                       NaN \n",
       "11      12       fort bragg, california, usa                      NaN \n",
       "13      14       mediapolis, iowa, usa                            NaN \n",
       "14      15       calgary, alberta, canada                         NaN \n",
       "15      16       albuquerque, new mexico, usa                     NaN \n",
       "16      17       chesapeake, virginia, usa                        NaN \n",
       "21      22       erfurt, thueringen, germany                      NaN \n",
       "22      23       philadelphia, pennsylvania, usa                  NaN \n",
       "25      26       bellevue, washington, usa                        NaN \n",
       "31      32       portland, oregon, usa                            NaN \n",
       "33      34       london, england, united kingdom                  NaN \n",
       "38      39       cary, north carolina, usa                        NaN \n",
       "42      43       méxico, méxico city, distrito federal            NaN \n",
       "44      45       berlin, n/a, germany                             NaN \n",
       "47      48       chicago, illinois, usa                           NaN \n",
       "48      49       rome, rome, italy                                NaN \n",
       "51      52       braunschweig, niedersachsen, germany             NaN \n",
       "52      53       tacoma, washington, usa                          NaN \n",
       "54      55       calgary, alberta, canada                         NaN \n",
       "56      57       roma, lazio, italy                               NaN \n",
       "57      58       edmonton, alberta, canada                        NaN \n",
       "59      60       trieste, friuli venezia giulia, italy            NaN \n",
       "61      62       kennewick, washington, usa                       NaN \n",
       "64      65       n/a, n/a, australia                              NaN \n",
       "67      68       montreal, quebec, canada                         NaN \n",
       "...     ..                            ...                          .. \n",
       "278789  278790   corpus christi, texas, usa                       NaN \n",
       "278790  278791   la plata, maryland, usa                          NaN \n",
       "278792  278793   bury, england, united kingdom                    NaN \n",
       "278796  278797   urbana, illinois, usa                            NaN \n",
       "278798  278799   hamburg, germany, germany                        NaN \n",
       "278800  278801   moorpark, california, usa                        NaN \n",
       "278801  278802   chappell hill, texas, usa                        NaN \n",
       "278803  278804   la jolla, california, usa                        NaN \n",
       "278805  278806   la jolla, california, usa                        NaN \n",
       "278812  278813   phoenix, arizona, usa                            NaN \n",
       "278815  278816   athens, ohio, usa                                NaN \n",
       "278822  278823   new westminster, british columbia, canada        NaN \n",
       "278824  278825   portland, oregon, usa                            NaN \n",
       "278826  278827   schaumburg, illinois, usa                        NaN \n",
       "278827  278828   germantown, illinois, usa                        NaN \n",
       "278828  278829   boise, idaho, usa                                NaN \n",
       "278830  278831   anchorage, alaska, usa                           NaN \n",
       "278833  278834   essen, england, germany                          NaN \n",
       "278836  278837   taiyuan, shanxi, china                           NaN \n",
       "278838  278839   austin, texas, usa                               NaN \n",
       "278840  278841   llangollen, denbighshire county, united kingdom. NaN \n",
       "278841  278842   perth, western australia, australia              NaN \n",
       "278844  278845   järvenpää, uusimaa, finland                      NaN \n",
       "278846  278847   brooklyn, new york, usa                          NaN \n",
       "278847  278848   köln, nordrhein-westfalen, germany               NaN \n",
       "278849  278850   sergnano, lombardia, italy                       NaN \n",
       "278853  278854   portland, oregon, usa                            NaN \n",
       "278855  278856   brampton, ontario, canada                        NaN \n",
       "278856  278857   knoxville, tennessee, usa                        NaN \n",
       "278857  278858   dublin, n/a, ireland                             NaN \n",
       "\n",
       "[110762 rows x 3 columns]"
      ]
     },
     "execution_count": 73,
     "metadata": {},
     "output_type": "execute_result"
    }
   ],
   "source": [
    "users.loc[users['Age'].isnull(),:]"
   ]
  },
  {
   "cell_type": "code",
   "execution_count": 79,
   "metadata": {
    "collapsed": false
   },
   "outputs": [
    {
     "data": {
      "text/plain": [
       "<matplotlib.axes._subplots.AxesSubplot at 0x12a4247b8>"
      ]
     },
     "execution_count": 79,
     "metadata": {},
     "output_type": "execute_result"
    },
    {
     "data": {
      "image/png": "[encoded data removed]",
      "text/plain": [
       "<matplotlib.figure.Figure at 0x1125940b8>"
      ]
     },
     "metadata": {},
     "output_type": "display_data"
    }
   ],
   "source": [
    "sns.boxplot(x='Age', data=users)\n"
   ]
  },
  {
   "cell_type": "markdown",
   "metadata": {},
   "source": [
    "#### As we can see above there are lot of outliers and some high values in Age like greater than 90 years so we are going to do two things:\n",
    "##### 1> For the all the 'Age' with values NaN , replace with the Average Age\n",
    "##### 2> Replace any 'Age' less then 5 and greater then 90 with the Average Age"
   ]
  },
  {
   "cell_type": "code",
   "execution_count": 15,
   "metadata": {
    "collapsed": true
   },
   "outputs": [],
   "source": [
    "users['Age']=users['Age'].fillna(users['Age'].mean())"
   ]
  },
  {
   "cell_type": "code",
   "execution_count": 16,
   "metadata": {
    "collapsed": false
   },
   "outputs": [],
   "source": [
    "users_new = impute_outliers(df=users, column='Age' , minimum=5, maximum=90)\n"
   ]
  },
  {
   "cell_type": "code",
   "execution_count": 83,
   "metadata": {
    "collapsed": false
   },
   "outputs": [
    {
     "data": {
      "text/html": [
       "<div>\n",
       "<style>\n",
       "    .dataframe thead tr:only-child th {\n",
       "        text-align: right;\n",
       "    }\n",
       "\n",
       "    .dataframe thead th {\n",
       "        text-align: left;\n",
       "    }\n",
       "\n",
       "    .dataframe tbody tr th {\n",
       "        vertical-align: top;\n",
       "    }\n",
       "</style>\n",
       "<table border=\"1\" class=\"dataframe\">\n",
       "  <thead>\n",
       "    <tr style=\"text-align: right;\">\n",
       "      <th></th>\n",
       "      <th>User-ID</th>\n",
       "      <th>Location</th>\n",
       "      <th>Age</th>\n",
       "    </tr>\n",
       "  </thead>\n",
       "  <tbody>\n",
       "  </tbody>\n",
       "</table>\n",
       "</div>"
      ],
      "text/plain": [
       "Empty DataFrame\n",
       "Columns: [User-ID, Location, Age]\n",
       "Index: []"
      ]
     },
     "execution_count": 83,
     "metadata": {},
     "output_type": "execute_result"
    }
   ],
   "source": [
    "users_new.loc[users['Age'].isnull(),:]"
   ]
  },
  {
   "cell_type": "code",
   "execution_count": 84,
   "metadata": {
    "collapsed": false
   },
   "outputs": [
    {
     "data": {
      "text/plain": [
       "<matplotlib.axes._subplots.AxesSubplot at 0x119c76b70>"
      ]
     },
     "execution_count": 84,
     "metadata": {},
     "output_type": "execute_result"
    },
    {
     "data": {
      "image/png": "[encoded data removed]",
      "text/plain": [
       "<matplotlib.figure.Figure at 0x10b582908>"
      ]
     },
     "metadata": {},
     "output_type": "display_data"
    }
   ],
   "source": [
    "sns.boxplot(x='Age', data=users_new)"
   ]
  },
  {
   "cell_type": "code",
   "execution_count": 85,
   "metadata": {
    "collapsed": false
   },
   "outputs": [
    {
     "data": {
      "text/html": [
       "<div>\n",
       "<style>\n",
       "    .dataframe thead tr:only-child th {\n",
       "        text-align: right;\n",
       "    }\n",
       "\n",
       "    .dataframe thead th {\n",
       "        text-align: left;\n",
       "    }\n",
       "\n",
       "    .dataframe tbody tr th {\n",
       "        vertical-align: top;\n",
       "    }\n",
       "</style>\n",
       "<table border=\"1\" class=\"dataframe\">\n",
       "  <thead>\n",
       "    <tr style=\"text-align: right;\">\n",
       "      <th></th>\n",
       "      <th>User-ID</th>\n",
       "      <th>Location</th>\n",
       "      <th>Age</th>\n",
       "    </tr>\n",
       "  </thead>\n",
       "  <tbody>\n",
       "    <tr>\n",
       "      <th>0</th>\n",
       "      <td>1</td>\n",
       "      <td>nyc, new york, usa</td>\n",
       "      <td>34.72384</td>\n",
       "    </tr>\n",
       "    <tr>\n",
       "      <th>1</th>\n",
       "      <td>2</td>\n",
       "      <td>stockton, california, usa</td>\n",
       "      <td>18.00000</td>\n",
       "    </tr>\n",
       "    <tr>\n",
       "      <th>2</th>\n",
       "      <td>3</td>\n",
       "      <td>moscow, yukon territory, russia</td>\n",
       "      <td>34.72384</td>\n",
       "    </tr>\n",
       "    <tr>\n",
       "      <th>3</th>\n",
       "      <td>4</td>\n",
       "      <td>porto, v.n.gaia, portugal</td>\n",
       "      <td>17.00000</td>\n",
       "    </tr>\n",
       "    <tr>\n",
       "      <th>4</th>\n",
       "      <td>5</td>\n",
       "      <td>farnborough, hants, united kingdom</td>\n",
       "      <td>34.72384</td>\n",
       "    </tr>\n",
       "  </tbody>\n",
       "</table>\n",
       "</div>"
      ],
      "text/plain": [
       "   User-ID                            Location       Age\n",
       "0  1        nyc, new york, usa                  34.72384\n",
       "1  2        stockton, california, usa           18.00000\n",
       "2  3        moscow, yukon territory, russia     34.72384\n",
       "3  4        porto, v.n.gaia, portugal           17.00000\n",
       "4  5        farnborough, hants, united kingdom  34.72384"
      ]
     },
     "execution_count": 85,
     "metadata": {},
     "output_type": "execute_result"
    }
   ],
   "source": [
    "users.head()"
   ]
  },
  {
   "cell_type": "code",
   "execution_count": 17,
   "metadata": {
    "collapsed": true
   },
   "outputs": [],
   "source": [
    "#We see the decimal in the 'Age' so we will convert it to int32\n",
    "\n",
    "users['Age'] = users['Age'].astype(np.int32)\n"
   ]
  },
  {
   "cell_type": "code",
   "execution_count": 18,
   "metadata": {
    "collapsed": false
   },
   "outputs": [
    {
     "data": {
      "text/html": [
       "<div>\n",
       "<table border=\"1\" class=\"dataframe\">\n",
       "  <thead>\n",
       "    <tr style=\"text-align: right;\">\n",
       "      <th></th>\n",
       "      <th>User-ID</th>\n",
       "      <th>Location</th>\n",
       "      <th>Age</th>\n",
       "    </tr>\n",
       "  </thead>\n",
       "  <tbody>\n",
       "    <tr>\n",
       "      <th>0</th>\n",
       "      <td>1</td>\n",
       "      <td>nyc, new york, usa</td>\n",
       "      <td>34</td>\n",
       "    </tr>\n",
       "    <tr>\n",
       "      <th>1</th>\n",
       "      <td>2</td>\n",
       "      <td>stockton, california, usa</td>\n",
       "      <td>18</td>\n",
       "    </tr>\n",
       "    <tr>\n",
       "      <th>2</th>\n",
       "      <td>3</td>\n",
       "      <td>moscow, yukon territory, russia</td>\n",
       "      <td>34</td>\n",
       "    </tr>\n",
       "    <tr>\n",
       "      <th>3</th>\n",
       "      <td>4</td>\n",
       "      <td>porto, v.n.gaia, portugal</td>\n",
       "      <td>17</td>\n",
       "    </tr>\n",
       "    <tr>\n",
       "      <th>4</th>\n",
       "      <td>5</td>\n",
       "      <td>farnborough, hants, united kingdom</td>\n",
       "      <td>34</td>\n",
       "    </tr>\n",
       "  </tbody>\n",
       "</table>\n",
       "</div>"
      ],
      "text/plain": [
       "   User-ID                            Location  Age\n",
       "0        1                  nyc, new york, usa   34\n",
       "1        2           stockton, california, usa   18\n",
       "2        3     moscow, yukon territory, russia   34\n",
       "3        4           porto, v.n.gaia, portugal   17\n",
       "4        5  farnborough, hants, united kingdom   34"
      ]
     },
     "execution_count": 18,
     "metadata": {},
     "output_type": "execute_result"
    }
   ],
   "source": [
    "users.head()"
   ]
  },
  {
   "cell_type": "markdown",
   "metadata": {},
   "source": [
    "### Ratings data set EDA"
   ]
  },
  {
   "cell_type": "code",
   "execution_count": 26,
   "metadata": {
    "collapsed": false
   },
   "outputs": [
    {
     "data": {
      "text/plain": [
       "(1149780, 3)"
      ]
     },
     "execution_count": 26,
     "metadata": {},
     "output_type": "execute_result"
    }
   ],
   "source": [
    "user_book_ratings.shape"
   ]
  },
  {
   "cell_type": "code",
   "execution_count": 90,
   "metadata": {
    "collapsed": false
   },
   "outputs": [
    {
     "data": {
      "text/html": [
       "<div>\n",
       "<style>\n",
       "    .dataframe thead tr:only-child th {\n",
       "        text-align: right;\n",
       "    }\n",
       "\n",
       "    .dataframe thead th {\n",
       "        text-align: left;\n",
       "    }\n",
       "\n",
       "    .dataframe tbody tr th {\n",
       "        vertical-align: top;\n",
       "    }\n",
       "</style>\n",
       "<table border=\"1\" class=\"dataframe\">\n",
       "  <thead>\n",
       "    <tr style=\"text-align: right;\">\n",
       "      <th></th>\n",
       "      <th>User-ID</th>\n",
       "      <th>ISBN</th>\n",
       "      <th>Book-Rating</th>\n",
       "    </tr>\n",
       "  </thead>\n",
       "  <tbody>\n",
       "    <tr>\n",
       "      <th>0</th>\n",
       "      <td>276725</td>\n",
       "      <td>034545104X</td>\n",
       "      <td>0</td>\n",
       "    </tr>\n",
       "    <tr>\n",
       "      <th>1</th>\n",
       "      <td>276726</td>\n",
       "      <td>0155061224</td>\n",
       "      <td>5</td>\n",
       "    </tr>\n",
       "    <tr>\n",
       "      <th>2</th>\n",
       "      <td>276727</td>\n",
       "      <td>0446520802</td>\n",
       "      <td>0</td>\n",
       "    </tr>\n",
       "    <tr>\n",
       "      <th>3</th>\n",
       "      <td>276729</td>\n",
       "      <td>052165615X</td>\n",
       "      <td>3</td>\n",
       "    </tr>\n",
       "    <tr>\n",
       "      <th>4</th>\n",
       "      <td>276729</td>\n",
       "      <td>0521795028</td>\n",
       "      <td>6</td>\n",
       "    </tr>\n",
       "  </tbody>\n",
       "</table>\n",
       "</div>"
      ],
      "text/plain": [
       "   User-ID        ISBN  Book-Rating\n",
       "0  276725   034545104X  0          \n",
       "1  276726   0155061224  5          \n",
       "2  276727   0446520802  0          \n",
       "3  276729   052165615X  3          \n",
       "4  276729   0521795028  6          "
      ]
     },
     "execution_count": 90,
     "metadata": {},
     "output_type": "execute_result"
    }
   ],
   "source": [
    "user_book_ratings.head()"
   ]
  },
  {
   "cell_type": "markdown",
   "metadata": {},
   "source": [
    "#### Lets check if all the Users in the 'user_book_ratings_new' are also in 'users' table to make sure there is no stray user"
   ]
  },
  {
   "cell_type": "code",
   "execution_count": 19,
   "metadata": {
    "collapsed": false
   },
   "outputs": [],
   "source": [
    "user_book_ratings_new = user_book_ratings[user_book_ratings['User-ID'].isin(users['User-ID'])]"
   ]
  },
  {
   "cell_type": "code",
   "execution_count": 28,
   "metadata": {
    "collapsed": false
   },
   "outputs": [
    {
     "data": {
      "text/plain": [
       "(1149780, 3)"
      ]
     },
     "execution_count": 28,
     "metadata": {},
     "output_type": "execute_result"
    }
   ],
   "source": [
    "user_book_ratings_new.shape"
   ]
  },
  {
   "cell_type": "markdown",
   "metadata": {},
   "source": [
    "#### This proves that we dont have any user in the 'user_book_ratings_new' that is not part of 'users'"
   ]
  },
  {
   "cell_type": "markdown",
   "metadata": {},
   "source": [
    "#### Lets check if all the Books in the 'user_book_ratings_new' are also in 'books' table to make sure there is no stray book"
   ]
  },
  {
   "cell_type": "code",
   "execution_count": 20,
   "metadata": {
    "collapsed": true
   },
   "outputs": [],
   "source": [
    "user_book_ratings_new = user_book_ratings[user_book_ratings['ISBN'].isin(books['ISBN'])]"
   ]
  },
  {
   "cell_type": "code",
   "execution_count": 97,
   "metadata": {
    "collapsed": false
   },
   "outputs": [
    {
     "data": {
      "text/plain": [
       "(1031136, 3)"
      ]
     },
     "execution_count": 97,
     "metadata": {},
     "output_type": "execute_result"
    }
   ],
   "source": [
    "user_book_ratings_new.shape"
   ]
  },
  {
   "cell_type": "markdown",
   "metadata": {},
   "source": [
    "#### This proves that we have books in the 'user_book_ratings_new' that is not part of 'books'\n",
    "#### As shown below we just merge/join the 'user_book_ratings_new' and 'books' table to only have the books that are part of 'books'"
   ]
  },
  {
   "cell_type": "code",
   "execution_count": 21,
   "metadata": {
    "collapsed": false
   },
   "outputs": [
    {
     "data": {
      "text/html": [
       "<div>\n",
       "<table border=\"1\" class=\"dataframe\">\n",
       "  <thead>\n",
       "    <tr style=\"text-align: right;\">\n",
       "      <th></th>\n",
       "      <th>User-ID</th>\n",
       "      <th>ISBN</th>\n",
       "      <th>Book-Rating</th>\n",
       "      <th>bookTitle</th>\n",
       "      <th>bookAuthor</th>\n",
       "      <th>yearOfPublication</th>\n",
       "      <th>publisher</th>\n",
       "    </tr>\n",
       "  </thead>\n",
       "  <tbody>\n",
       "    <tr>\n",
       "      <th>0</th>\n",
       "      <td>276725</td>\n",
       "      <td>034545104X</td>\n",
       "      <td>0</td>\n",
       "      <td>Flesh Tones: A Novel</td>\n",
       "      <td>M. J. Rose</td>\n",
       "      <td>2002</td>\n",
       "      <td>Ballantine Books</td>\n",
       "    </tr>\n",
       "    <tr>\n",
       "      <th>1</th>\n",
       "      <td>2313</td>\n",
       "      <td>034545104X</td>\n",
       "      <td>5</td>\n",
       "      <td>Flesh Tones: A Novel</td>\n",
       "      <td>M. J. Rose</td>\n",
       "      <td>2002</td>\n",
       "      <td>Ballantine Books</td>\n",
       "    </tr>\n",
       "    <tr>\n",
       "      <th>2</th>\n",
       "      <td>6543</td>\n",
       "      <td>034545104X</td>\n",
       "      <td>0</td>\n",
       "      <td>Flesh Tones: A Novel</td>\n",
       "      <td>M. J. Rose</td>\n",
       "      <td>2002</td>\n",
       "      <td>Ballantine Books</td>\n",
       "    </tr>\n",
       "    <tr>\n",
       "      <th>3</th>\n",
       "      <td>8680</td>\n",
       "      <td>034545104X</td>\n",
       "      <td>5</td>\n",
       "      <td>Flesh Tones: A Novel</td>\n",
       "      <td>M. J. Rose</td>\n",
       "      <td>2002</td>\n",
       "      <td>Ballantine Books</td>\n",
       "    </tr>\n",
       "    <tr>\n",
       "      <th>4</th>\n",
       "      <td>10314</td>\n",
       "      <td>034545104X</td>\n",
       "      <td>9</td>\n",
       "      <td>Flesh Tones: A Novel</td>\n",
       "      <td>M. J. Rose</td>\n",
       "      <td>2002</td>\n",
       "      <td>Ballantine Books</td>\n",
       "    </tr>\n",
       "  </tbody>\n",
       "</table>\n",
       "</div>"
      ],
      "text/plain": [
       "   User-ID        ISBN  Book-Rating             bookTitle  bookAuthor  \\\n",
       "0   276725  034545104X            0  Flesh Tones: A Novel  M. J. Rose   \n",
       "1     2313  034545104X            5  Flesh Tones: A Novel  M. J. Rose   \n",
       "2     6543  034545104X            0  Flesh Tones: A Novel  M. J. Rose   \n",
       "3     8680  034545104X            5  Flesh Tones: A Novel  M. J. Rose   \n",
       "4    10314  034545104X            9  Flesh Tones: A Novel  M. J. Rose   \n",
       "\n",
       "   yearOfPublication         publisher  \n",
       "0               2002  Ballantine Books  \n",
       "1               2002  Ballantine Books  \n",
       "2               2002  Ballantine Books  \n",
       "3               2002  Ballantine Books  \n",
       "4               2002  Ballantine Books  "
      ]
     },
     "execution_count": 21,
     "metadata": {},
     "output_type": "execute_result"
    }
   ],
   "source": [
    "df = pd.merge(user_book_ratings,books,on='ISBN')\n",
    "df.head()"
   ]
  },
  {
   "cell_type": "code",
   "execution_count": 99,
   "metadata": {
    "collapsed": false
   },
   "outputs": [
    {
     "data": {
      "text/plain": [
       "(1031136, 7)"
      ]
     },
     "execution_count": 99,
     "metadata": {},
     "output_type": "execute_result"
    }
   ],
   "source": [
    "df.shape"
   ]
  },
  {
   "cell_type": "markdown",
   "metadata": {},
   "source": [
    "#### Lets Merge the 'user_book_ratings' with 'users'"
   ]
  },
  {
   "cell_type": "code",
   "execution_count": 22,
   "metadata": {
    "collapsed": false
   },
   "outputs": [
    {
     "data": {
      "text/html": [
       "<div>\n",
       "<table border=\"1\" class=\"dataframe\">\n",
       "  <thead>\n",
       "    <tr style=\"text-align: right;\">\n",
       "      <th></th>\n",
       "      <th>User-ID</th>\n",
       "      <th>ISBN</th>\n",
       "      <th>Book-Rating</th>\n",
       "      <th>bookTitle</th>\n",
       "      <th>bookAuthor</th>\n",
       "      <th>yearOfPublication</th>\n",
       "      <th>publisher</th>\n",
       "      <th>Location</th>\n",
       "      <th>Age</th>\n",
       "    </tr>\n",
       "  </thead>\n",
       "  <tbody>\n",
       "    <tr>\n",
       "      <th>0</th>\n",
       "      <td>276725</td>\n",
       "      <td>034545104X</td>\n",
       "      <td>0</td>\n",
       "      <td>Flesh Tones: A Novel</td>\n",
       "      <td>M. J. Rose</td>\n",
       "      <td>2002</td>\n",
       "      <td>Ballantine Books</td>\n",
       "      <td>tyler, texas, usa</td>\n",
       "      <td>34</td>\n",
       "    </tr>\n",
       "    <tr>\n",
       "      <th>1</th>\n",
       "      <td>2313</td>\n",
       "      <td>034545104X</td>\n",
       "      <td>5</td>\n",
       "      <td>Flesh Tones: A Novel</td>\n",
       "      <td>M. J. Rose</td>\n",
       "      <td>2002</td>\n",
       "      <td>Ballantine Books</td>\n",
       "      <td>cincinnati, ohio, usa</td>\n",
       "      <td>23</td>\n",
       "    </tr>\n",
       "    <tr>\n",
       "      <th>2</th>\n",
       "      <td>2313</td>\n",
       "      <td>0812533550</td>\n",
       "      <td>9</td>\n",
       "      <td>Ender's Game (Ender Wiggins Saga (Paperback))</td>\n",
       "      <td>Orson Scott Card</td>\n",
       "      <td>1986</td>\n",
       "      <td>Tor Books</td>\n",
       "      <td>cincinnati, ohio, usa</td>\n",
       "      <td>23</td>\n",
       "    </tr>\n",
       "    <tr>\n",
       "      <th>3</th>\n",
       "      <td>2313</td>\n",
       "      <td>0679745580</td>\n",
       "      <td>8</td>\n",
       "      <td>In Cold Blood (Vintage International)</td>\n",
       "      <td>TRUMAN CAPOTE</td>\n",
       "      <td>1994</td>\n",
       "      <td>Vintage</td>\n",
       "      <td>cincinnati, ohio, usa</td>\n",
       "      <td>23</td>\n",
       "    </tr>\n",
       "    <tr>\n",
       "      <th>4</th>\n",
       "      <td>2313</td>\n",
       "      <td>0060173289</td>\n",
       "      <td>9</td>\n",
       "      <td>Divine Secrets of the Ya-Ya Sisterhood : A Novel</td>\n",
       "      <td>Rebecca Wells</td>\n",
       "      <td>1996</td>\n",
       "      <td>HarperCollins</td>\n",
       "      <td>cincinnati, ohio, usa</td>\n",
       "      <td>23</td>\n",
       "    </tr>\n",
       "  </tbody>\n",
       "</table>\n",
       "</div>"
      ],
      "text/plain": [
       "   User-ID        ISBN  Book-Rating  \\\n",
       "0   276725  034545104X            0   \n",
       "1     2313  034545104X            5   \n",
       "2     2313  0812533550            9   \n",
       "3     2313  0679745580            8   \n",
       "4     2313  0060173289            9   \n",
       "\n",
       "                                          bookTitle        bookAuthor  \\\n",
       "0                              Flesh Tones: A Novel        M. J. Rose   \n",
       "1                              Flesh Tones: A Novel        M. J. Rose   \n",
       "2     Ender's Game (Ender Wiggins Saga (Paperback))  Orson Scott Card   \n",
       "3             In Cold Blood (Vintage International)     TRUMAN CAPOTE   \n",
       "4  Divine Secrets of the Ya-Ya Sisterhood : A Novel     Rebecca Wells   \n",
       "\n",
       "   yearOfPublication         publisher               Location  Age  \n",
       "0               2002  Ballantine Books      tyler, texas, usa   34  \n",
       "1               2002  Ballantine Books  cincinnati, ohio, usa   23  \n",
       "2               1986         Tor Books  cincinnati, ohio, usa   23  \n",
       "3               1994           Vintage  cincinnati, ohio, usa   23  \n",
       "4               1996     HarperCollins  cincinnati, ohio, usa   23  "
      ]
     },
     "execution_count": 22,
     "metadata": {},
     "output_type": "execute_result"
    }
   ],
   "source": [
    "df_new = pd.merge(df,users,on='User-ID')\n",
    "df_new.head()"
   ]
  },
  {
   "cell_type": "code",
   "execution_count": 32,
   "metadata": {
    "collapsed": false
   },
   "outputs": [
    {
     "data": {
      "text/plain": [
       "(1031136, 9)"
      ]
     },
     "execution_count": 32,
     "metadata": {},
     "output_type": "execute_result"
    }
   ],
   "source": [
    "df_new.shape"
   ]
  },
  {
   "cell_type": "code",
   "execution_count": 102,
   "metadata": {
    "collapsed": false
   },
   "outputs": [
    {
     "data": {
      "text/plain": [
       "bookTitle\n",
       "Wild Animus                   2502\n",
       "The Lovely Bones: A Novel     1295\n",
       "The Da Vinci Code             898 \n",
       "A Painted House               838 \n",
       "The Nanny Diaries: A Novel    828 \n",
       "Name: Book-Rating, dtype: int64"
      ]
     },
     "execution_count": 102,
     "metadata": {},
     "output_type": "execute_result"
    }
   ],
   "source": [
    "df_new.groupby('bookTitle')['Book-Rating'].count().sort_values(ascending=False).head()"
   ]
  },
  {
   "cell_type": "markdown",
   "metadata": {},
   "source": [
    "#### We will take a rating of '0' as the user has not read the book, so lets keep this out"
   ]
  },
  {
   "cell_type": "code",
   "execution_count": 23,
   "metadata": {
    "collapsed": true
   },
   "outputs": [],
   "source": [
    "df_new_explicit = df_new[df_new['Book-Rating'] != 0]"
   ]
  },
  {
   "cell_type": "code",
   "execution_count": 24,
   "metadata": {
    "collapsed": false
   },
   "outputs": [
    {
     "data": {
      "text/plain": [
       "(383842, 9)"
      ]
     },
     "execution_count": 24,
     "metadata": {},
     "output_type": "execute_result"
    }
   ],
   "source": [
    "df_new_explicit.shape"
   ]
  },
  {
   "cell_type": "code",
   "execution_count": 106,
   "metadata": {
    "collapsed": false
   },
   "outputs": [
    {
     "data": {
      "image/png": "[encoded data removed]",
      "text/plain": [
       "<matplotlib.figure.Figure at 0x11699b5f8>"
      ]
     },
     "metadata": {},
     "output_type": "display_data"
    }
   ],
   "source": [
    "sns.countplot(data=df_new_explicit,x='Book-Rating')\n",
    "plt.show()"
   ]
  },
  {
   "cell_type": "code",
   "execution_count": 110,
   "metadata": {
    "collapsed": false
   },
   "outputs": [
    {
     "data": {
      "text/plain": [
       "ISBN\n",
       "0316666343    707\n",
       "0971880107    581\n",
       "0385504209    487\n",
       "0312195516    383\n",
       "0060928336    320\n",
       "Name: Book-Rating, dtype: int64"
      ]
     },
     "execution_count": 110,
     "metadata": {},
     "output_type": "execute_result"
    }
   ],
   "source": [
    "df_new_explicit.groupby('ISBN')['Book-Rating'].count().sort_values(ascending=False).head()"
   ]
  },
  {
   "cell_type": "markdown",
   "metadata": {},
   "source": [
    "### Recommendations based on Most Popular Items "
   ]
  },
  {
   "cell_type": "code",
   "execution_count": 114,
   "metadata": {
    "collapsed": false
   },
   "outputs": [],
   "source": [
    "top_10_recommend = df_new_explicit.groupby('ISBN')['Book-Rating'].sum().sort_values(ascending=False).head(10)\n",
    "\n",
    "top_10_recommend_df = pd.DataFrame(df_new_explicit.groupby('ISBN')['Book-Rating'].sum().sort_values(ascending=False).head(10))"
   ]
  },
  {
   "cell_type": "code",
   "execution_count": 116,
   "metadata": {
    "collapsed": false
   },
   "outputs": [
    {
     "data": {
      "text/html": [
       "<div>\n",
       "<style>\n",
       "    .dataframe thead tr:only-child th {\n",
       "        text-align: right;\n",
       "    }\n",
       "\n",
       "    .dataframe thead th {\n",
       "        text-align: left;\n",
       "    }\n",
       "\n",
       "    .dataframe tbody tr th {\n",
       "        vertical-align: top;\n",
       "    }\n",
       "</style>\n",
       "<table border=\"1\" class=\"dataframe\">\n",
       "  <thead>\n",
       "    <tr style=\"text-align: right;\">\n",
       "      <th></th>\n",
       "      <th>Book-Rating</th>\n",
       "    </tr>\n",
       "    <tr>\n",
       "      <th>ISBN</th>\n",
       "      <th></th>\n",
       "    </tr>\n",
       "  </thead>\n",
       "  <tbody>\n",
       "    <tr>\n",
       "      <th>0316666343</th>\n",
       "      <td>5787</td>\n",
       "    </tr>\n",
       "    <tr>\n",
       "      <th>0385504209</th>\n",
       "      <td>4108</td>\n",
       "    </tr>\n",
       "    <tr>\n",
       "      <th>0312195516</th>\n",
       "      <td>3134</td>\n",
       "    </tr>\n",
       "    <tr>\n",
       "      <th>059035342X</th>\n",
       "      <td>2798</td>\n",
       "    </tr>\n",
       "    <tr>\n",
       "      <th>0142001740</th>\n",
       "      <td>2595</td>\n",
       "    </tr>\n",
       "  </tbody>\n",
       "</table>\n",
       "</div>"
      ],
      "text/plain": [
       "            Book-Rating\n",
       "ISBN                   \n",
       "0316666343  5787       \n",
       "0385504209  4108       \n",
       "0312195516  3134       \n",
       "059035342X  2798       \n",
       "0142001740  2595       "
      ]
     },
     "execution_count": 116,
     "metadata": {},
     "output_type": "execute_result"
    }
   ],
   "source": [
    "top_10_recommend_df.head()"
   ]
  },
  {
   "cell_type": "code",
   "execution_count": 118,
   "metadata": {
    "collapsed": false
   },
   "outputs": [],
   "source": [
    "#Note that 'ISBN' is an index in the data frame 'top_10_recomend_df' \n",
    "#So below we set the argument 'left_index=True'\n",
    "top_10_df = top_10_recommend_df.merge(books,right_on='ISBN',left_index=True) "
   ]
  },
  {
   "cell_type": "code",
   "execution_count": 123,
   "metadata": {
    "collapsed": false,
    "scrolled": true
   },
   "outputs": [
    {
     "data": {
      "text/html": [
       "<div>\n",
       "<style>\n",
       "    .dataframe thead tr:only-child th {\n",
       "        text-align: right;\n",
       "    }\n",
       "\n",
       "    .dataframe thead th {\n",
       "        text-align: left;\n",
       "    }\n",
       "\n",
       "    .dataframe tbody tr th {\n",
       "        vertical-align: top;\n",
       "    }\n",
       "</style>\n",
       "<table border=\"1\" class=\"dataframe\">\n",
       "  <thead>\n",
       "    <tr style=\"text-align: right;\">\n",
       "      <th></th>\n",
       "      <th>Book-Rating</th>\n",
       "      <th>ISBN</th>\n",
       "      <th>bookTitle</th>\n",
       "      <th>bookAuthor</th>\n",
       "      <th>yearOfPublication</th>\n",
       "      <th>publisher</th>\n",
       "    </tr>\n",
       "  </thead>\n",
       "  <tbody>\n",
       "    <tr>\n",
       "      <th>408</th>\n",
       "      <td>5787</td>\n",
       "      <td>0316666343</td>\n",
       "      <td>The Lovely Bones: A Novel</td>\n",
       "      <td>Alice Sebold</td>\n",
       "      <td>2002</td>\n",
       "      <td>Little, Brown</td>\n",
       "    </tr>\n",
       "    <tr>\n",
       "      <th>748</th>\n",
       "      <td>4108</td>\n",
       "      <td>0385504209</td>\n",
       "      <td>The Da Vinci Code</td>\n",
       "      <td>Dan Brown</td>\n",
       "      <td>2003</td>\n",
       "      <td>Doubleday</td>\n",
       "    </tr>\n",
       "    <tr>\n",
       "      <th>522</th>\n",
       "      <td>3134</td>\n",
       "      <td>0312195516</td>\n",
       "      <td>The Red Tent (Bestselling Backlist)</td>\n",
       "      <td>Anita Diamant</td>\n",
       "      <td>1998</td>\n",
       "      <td>Picador USA</td>\n",
       "    </tr>\n",
       "    <tr>\n",
       "      <th>2143</th>\n",
       "      <td>2798</td>\n",
       "      <td>059035342X</td>\n",
       "      <td>Harry Potter and the Sorcerer's Stone (Harry Potter (Paperback))</td>\n",
       "      <td>J. K. Rowling</td>\n",
       "      <td>1999</td>\n",
       "      <td>Arthur A. Levine Books</td>\n",
       "    </tr>\n",
       "    <tr>\n",
       "      <th>356</th>\n",
       "      <td>2595</td>\n",
       "      <td>0142001740</td>\n",
       "      <td>The Secret Life of Bees</td>\n",
       "      <td>Sue Monk Kidd</td>\n",
       "      <td>2003</td>\n",
       "      <td>Penguin Books</td>\n",
       "    </tr>\n",
       "    <tr>\n",
       "      <th>26</th>\n",
       "      <td>2551</td>\n",
       "      <td>0971880107</td>\n",
       "      <td>Wild Animus</td>\n",
       "      <td>Rich Shapero</td>\n",
       "      <td>2004</td>\n",
       "      <td>Too Far</td>\n",
       "    </tr>\n",
       "    <tr>\n",
       "      <th>1105</th>\n",
       "      <td>2524</td>\n",
       "      <td>0060928336</td>\n",
       "      <td>Divine Secrets of the Ya-Ya Sisterhood: A Novel</td>\n",
       "      <td>Rebecca Wells</td>\n",
       "      <td>1997</td>\n",
       "      <td>Perennial</td>\n",
       "    </tr>\n",
       "    <tr>\n",
       "      <th>706</th>\n",
       "      <td>2402</td>\n",
       "      <td>0446672211</td>\n",
       "      <td>Where the Heart Is (Oprah's Book Club (Paperback))</td>\n",
       "      <td>Billie Letts</td>\n",
       "      <td>1998</td>\n",
       "      <td>Warner Books</td>\n",
       "    </tr>\n",
       "    <tr>\n",
       "      <th>231</th>\n",
       "      <td>2219</td>\n",
       "      <td>0452282152</td>\n",
       "      <td>Girl with a Pearl Earring</td>\n",
       "      <td>Tracy Chevalier</td>\n",
       "      <td>2001</td>\n",
       "      <td>Plume Books</td>\n",
       "    </tr>\n",
       "    <tr>\n",
       "      <th>118</th>\n",
       "      <td>2179</td>\n",
       "      <td>0671027360</td>\n",
       "      <td>Angels &amp;amp; Demons</td>\n",
       "      <td>Dan Brown</td>\n",
       "      <td>2001</td>\n",
       "      <td>Pocket Star</td>\n",
       "    </tr>\n",
       "  </tbody>\n",
       "</table>\n",
       "</div>"
      ],
      "text/plain": [
       "      Book-Rating        ISBN  \\\n",
       "408   5787         0316666343   \n",
       "748   4108         0385504209   \n",
       "522   3134         0312195516   \n",
       "2143  2798         059035342X   \n",
       "356   2595         0142001740   \n",
       "26    2551         0971880107   \n",
       "1105  2524         0060928336   \n",
       "706   2402         0446672211   \n",
       "231   2219         0452282152   \n",
       "118   2179         0671027360   \n",
       "\n",
       "                                                             bookTitle  \\\n",
       "408   The Lovely Bones: A Novel                                          \n",
       "748   The Da Vinci Code                                                  \n",
       "522   The Red Tent (Bestselling Backlist)                                \n",
       "2143  Harry Potter and the Sorcerer's Stone (Harry Potter (Paperback))   \n",
       "356   The Secret Life of Bees                                            \n",
       "26    Wild Animus                                                        \n",
       "1105  Divine Secrets of the Ya-Ya Sisterhood: A Novel                    \n",
       "706   Where the Heart Is (Oprah's Book Club (Paperback))                 \n",
       "231   Girl with a Pearl Earring                                          \n",
       "118   Angels &amp; Demons                                                \n",
       "\n",
       "           bookAuthor  yearOfPublication               publisher  \n",
       "408   Alice Sebold     2002               Little, Brown           \n",
       "748   Dan Brown        2003               Doubleday               \n",
       "522   Anita Diamant    1998               Picador USA             \n",
       "2143  J. K. Rowling    1999               Arthur A. Levine Books  \n",
       "356   Sue Monk Kidd    2003               Penguin Books           \n",
       "26    Rich Shapero     2004               Too Far                 \n",
       "1105  Rebecca Wells    1997               Perennial               \n",
       "706   Billie Letts     1998               Warner Books            \n",
       "231   Tracy Chevalier  2001               Plume Books             \n",
       "118   Dan Brown        2001               Pocket Star             "
      ]
     },
     "execution_count": 123,
     "metadata": {},
     "output_type": "execute_result"
    }
   ],
   "source": [
    "top_10_df"
   ]
  },
  {
   "cell_type": "markdown",
   "metadata": {
    "collapsed": true
   },
   "source": [
    "### Recommendations based on User-User Collaborative Filtering"
   ]
  },
  {
   "cell_type": "markdown",
   "metadata": {},
   "source": [
    "### A few similarity functions\n",
    "\n",
    "These were all written to operate on two pandas Series, each one representing the rating history of two different users. You can also apply them to any two feature vectors that describe users or items. In all cases, the higher the return value, the more similar two Series are. You might need to add checks for edge cases, such as divisions by zero, etc.\n",
    "\n",
    "- Euclidean 'similarity'\n",
    "\n",
    "$$ sim(x,y) = \\frac{1}{1 + \\sqrt{\\sum (x - y)^2}}$$"
   ]
  },
  {
   "cell_type": "code",
   "execution_count": 126,
   "metadata": {
    "collapsed": true
   },
   "outputs": [],
   "source": [
    "def euclidean(s1, s2):\n",
    "    \"\"\"Take two pd.Series objects and return their euclidean 'similarity'.\"\"\"\n",
    "    diff = s1 - s2\n",
    "    return 1 / (1 + np.sqrt(np.sum(diff ** 2)))"
   ]
  },
  {
   "cell_type": "markdown",
   "metadata": {},
   "source": [
    "- Manhatten 'similarity'\n",
    "\n",
    "$$ sim(x,y) = \\frac{1}{1 +{\\sum (x - y)}}$$"
   ]
  },
  {
   "cell_type": "code",
   "execution_count": 25,
   "metadata": {
    "collapsed": true
   },
   "outputs": [],
   "source": [
    "def manhatten(s1, s2):\n",
    "    \"\"\"Take two pd.Series objects and return their euclidean 'similarity'.\"\"\"\n",
    "    diff = s1 - s2\n",
    "    return 1 / (1 + np.sum(diff))"
   ]
  },
  {
   "cell_type": "markdown",
   "metadata": {},
   "source": [
    "- Cosine similarity\n",
    "\n",
    "$$ sim(x,y) = \\frac{(x . y)}{\\sqrt{(x . x) (y . y)}} $$"
   ]
  },
  {
   "cell_type": "code",
   "execution_count": 26,
   "metadata": {
    "collapsed": true
   },
   "outputs": [],
   "source": [
    "def cosine(s1, s2):\n",
    "    \"\"\"Take two pd.Series objects and return their cosine similarity.\"\"\"\n",
    "    return np.sum(s1 * s2) / np.sqrt(np.sum(s1 ** 2) * np.sum(s2 ** 2))"
   ]
  },
  {
   "cell_type": "markdown",
   "metadata": {},
   "source": [
    "- Pearson correlation or Adjusted Cosine Similarity\n",
    "\n",
    "$$ sim(x,y) = \\frac{(x - \\bar x).(y - \\bar y)}{\\sqrt{(x - \\bar x).(x - \\bar x) * (y - \\bar y)(y - \\bar y)}} $$"
   ]
  },
  {
   "cell_type": "code",
   "execution_count": 27,
   "metadata": {
    "collapsed": true
   },
   "outputs": [],
   "source": [
    "def pearson(s1, s2):\n",
    "    \"\"\"Take two pd.Series objects and return a pearson correlation.\"\"\"\n",
    "    s1_c = s1 - s1.mean()\n",
    "    s2_c = s2 - s2.mean()\n",
    "    return np.sum(s1_c * s2_c) / np.sqrt(np.sum(s1_c ** 2) * np.sum(s2_c ** 2))"
   ]
  },
  {
   "cell_type": "markdown",
   "metadata": {},
   "source": [
    "- Jaccard similarity\n",
    "\n",
    "$$ sim(x,y) = \\frac{(x . y)}{(x . x) + (y . y) - (x . y)} $$"
   ]
  },
  {
   "cell_type": "code",
   "execution_count": 130,
   "metadata": {
    "collapsed": true
   },
   "outputs": [],
   "source": [
    "def jaccard(s1, s2):\n",
    "    dotp = np.sum(s1 * s2)\n",
    "    return dotp / (np.sum(s1 ** 2) + np.sum(s2 ** 2) - dotp)\n",
    "\n"
   ]
  },
  {
   "cell_type": "markdown",
   "metadata": {},
   "source": [
    "#### Note that the next step is to generate the User-to-Item Matrix which is going to be a sparce matrix so to make sure my porsenal computer can effectively process this matix I am going to only consider the book that has atleast 100 ratings and users who have reated atleast 100 books"
   ]
  },
  {
   "cell_type": "code",
   "execution_count": 28,
   "metadata": {
    "collapsed": false
   },
   "outputs": [],
   "source": [
    "book_counts = df_new_explicit['Book-Rating'].value_counts()"
   ]
  },
  {
   "cell_type": "code",
   "execution_count": 50,
   "metadata": {
    "collapsed": false
   },
   "outputs": [
    {
     "data": {
      "text/plain": [
       "10"
      ]
     },
     "execution_count": 50,
     "metadata": {},
     "output_type": "execute_result"
    }
   ],
   "source": [
    "book_counts.size"
   ]
  },
  {
   "cell_type": "code",
   "execution_count": 29,
   "metadata": {
    "collapsed": false
   },
   "outputs": [],
   "source": [
    "book_counts_100 = book_counts[book_counts > 100]"
   ]
  },
  {
   "cell_type": "code",
   "execution_count": 52,
   "metadata": {
    "collapsed": false
   },
   "outputs": [
    {
     "data": {
      "text/plain": [
       "10"
      ]
     },
     "execution_count": 52,
     "metadata": {},
     "output_type": "execute_result"
    }
   ],
   "source": [
    "book_counts_100.size"
   ]
  },
  {
   "cell_type": "code",
   "execution_count": 30,
   "metadata": {
    "collapsed": true
   },
   "outputs": [],
   "source": [
    "df_new_explicit_red = df_new_explicit[df_new_explicit['Book-Rating'].isin(book_counts_100.index)]"
   ]
  },
  {
   "cell_type": "code",
   "execution_count": 31,
   "metadata": {
    "collapsed": true
   },
   "outputs": [],
   "source": [
    "user_counts = df_new_explicit['User-ID'].value_counts()"
   ]
  },
  {
   "cell_type": "code",
   "execution_count": 32,
   "metadata": {
    "collapsed": true
   },
   "outputs": [],
   "source": [
    "user_counts_100 = user_counts[user_counts > 100]"
   ]
  },
  {
   "cell_type": "code",
   "execution_count": 43,
   "metadata": {
    "collapsed": false
   },
   "outputs": [
    {
     "data": {
      "text/plain": [
       "440"
      ]
     },
     "execution_count": 43,
     "metadata": {},
     "output_type": "execute_result"
    }
   ],
   "source": [
    "user_counts_100.size"
   ]
  },
  {
   "cell_type": "code",
   "execution_count": 33,
   "metadata": {
    "collapsed": false
   },
   "outputs": [],
   "source": [
    "df_new_explicit_red = df_new_explicit_red[df_new_explicit_red['User-ID'].isin(user_counts_100.index)]"
   ]
  },
  {
   "cell_type": "code",
   "execution_count": 45,
   "metadata": {
    "collapsed": false
   },
   "outputs": [
    {
     "data": {
      "text/plain": [
       "(102371, 9)"
      ]
     },
     "execution_count": 45,
     "metadata": {},
     "output_type": "execute_result"
    }
   ],
   "source": [
    "df_new_explicit_red.shape"
   ]
  },
  {
   "cell_type": "code",
   "execution_count": 46,
   "metadata": {
    "collapsed": false
   },
   "outputs": [
    {
     "data": {
      "text/html": [
       "<div>\n",
       "<table border=\"1\" class=\"dataframe\">\n",
       "  <thead>\n",
       "    <tr style=\"text-align: right;\">\n",
       "      <th></th>\n",
       "      <th>User-ID</th>\n",
       "      <th>ISBN</th>\n",
       "      <th>Book-Rating</th>\n",
       "      <th>bookTitle</th>\n",
       "      <th>bookAuthor</th>\n",
       "      <th>yearOfPublication</th>\n",
       "      <th>publisher</th>\n",
       "      <th>Location</th>\n",
       "      <th>Age</th>\n",
       "    </tr>\n",
       "  </thead>\n",
       "  <tbody>\n",
       "    <tr>\n",
       "      <th>43</th>\n",
       "      <td>6543</td>\n",
       "      <td>0446605484</td>\n",
       "      <td>10</td>\n",
       "      <td>Roses Are Red (Alex Cross Novels)</td>\n",
       "      <td>James Patterson</td>\n",
       "      <td>2001</td>\n",
       "      <td>Warner Vision</td>\n",
       "      <td>strafford, missouri, usa</td>\n",
       "      <td>34</td>\n",
       "    </tr>\n",
       "    <tr>\n",
       "      <th>47</th>\n",
       "      <td>6543</td>\n",
       "      <td>0805062971</td>\n",
       "      <td>8</td>\n",
       "      <td>Fight Club</td>\n",
       "      <td>Chuck Palahniuk</td>\n",
       "      <td>1999</td>\n",
       "      <td>Owl Books</td>\n",
       "      <td>strafford, missouri, usa</td>\n",
       "      <td>34</td>\n",
       "    </tr>\n",
       "    <tr>\n",
       "      <th>48</th>\n",
       "      <td>6543</td>\n",
       "      <td>0345342968</td>\n",
       "      <td>8</td>\n",
       "      <td>Fahrenheit 451</td>\n",
       "      <td>RAY BRADBURY</td>\n",
       "      <td>1987</td>\n",
       "      <td>Del Rey</td>\n",
       "      <td>strafford, missouri, usa</td>\n",
       "      <td>34</td>\n",
       "    </tr>\n",
       "    <tr>\n",
       "      <th>49</th>\n",
       "      <td>6543</td>\n",
       "      <td>0446610038</td>\n",
       "      <td>9</td>\n",
       "      <td>1st to Die: A Novel</td>\n",
       "      <td>James Patterson</td>\n",
       "      <td>2002</td>\n",
       "      <td>Warner Vision</td>\n",
       "      <td>strafford, missouri, usa</td>\n",
       "      <td>34</td>\n",
       "    </tr>\n",
       "    <tr>\n",
       "      <th>55</th>\n",
       "      <td>6543</td>\n",
       "      <td>0061009059</td>\n",
       "      <td>8</td>\n",
       "      <td>One for the Money (Stephanie Plum Novels (Pape...</td>\n",
       "      <td>Janet Evanovich</td>\n",
       "      <td>1995</td>\n",
       "      <td>HarperTorch</td>\n",
       "      <td>strafford, missouri, usa</td>\n",
       "      <td>34</td>\n",
       "    </tr>\n",
       "  </tbody>\n",
       "</table>\n",
       "</div>"
      ],
      "text/plain": [
       "    User-ID        ISBN  Book-Rating  \\\n",
       "43     6543  0446605484           10   \n",
       "47     6543  0805062971            8   \n",
       "48     6543  0345342968            8   \n",
       "49     6543  0446610038            9   \n",
       "55     6543  0061009059            8   \n",
       "\n",
       "                                            bookTitle       bookAuthor  \\\n",
       "43                  Roses Are Red (Alex Cross Novels)  James Patterson   \n",
       "47                                         Fight Club  Chuck Palahniuk   \n",
       "48                                     Fahrenheit 451     RAY BRADBURY   \n",
       "49                                1st to Die: A Novel  James Patterson   \n",
       "55  One for the Money (Stephanie Plum Novels (Pape...  Janet Evanovich   \n",
       "\n",
       "    yearOfPublication      publisher                  Location  Age  \n",
       "43               2001  Warner Vision  strafford, missouri, usa   34  \n",
       "47               1999      Owl Books  strafford, missouri, usa   34  \n",
       "48               1987        Del Rey  strafford, missouri, usa   34  \n",
       "49               2002  Warner Vision  strafford, missouri, usa   34  \n",
       "55               1995    HarperTorch  strafford, missouri, usa   34  "
      ]
     },
     "execution_count": 46,
     "metadata": {},
     "output_type": "execute_result"
    }
   ],
   "source": [
    "df_new_explicit_red.head()"
   ]
  },
  {
   "cell_type": "code",
   "execution_count": 34,
   "metadata": {
    "collapsed": true
   },
   "outputs": [],
   "source": [
    "booksmat = df_new_explicit_red.pivot_table(index='User-ID',columns='ISBN',values='Book-Rating')\n",
    "userID = booksmat.index\n",
    "ISBN = booksmat.columns\n"
   ]
  },
  {
   "cell_type": "code",
   "execution_count": 48,
   "metadata": {
    "collapsed": false
   },
   "outputs": [
    {
     "name": "stdout",
     "output_type": "stream",
     "text": [
      "(440, 66076)\n"
     ]
    }
   ],
   "source": [
    "print(booksmat.shape)"
   ]
  },
  {
   "cell_type": "code",
   "execution_count": 62,
   "metadata": {
    "collapsed": false
   },
   "outputs": [
    {
     "data": {
      "text/html": [
       "<div>\n",
       "<style>\n",
       "    .dataframe thead tr:only-child th {\n",
       "        text-align: right;\n",
       "    }\n",
       "\n",
       "    .dataframe thead th {\n",
       "        text-align: left;\n",
       "    }\n",
       "\n",
       "    .dataframe tbody tr th {\n",
       "        vertical-align: top;\n",
       "    }\n",
       "</style>\n",
       "<table border=\"1\" class=\"dataframe\">\n",
       "  <thead>\n",
       "    <tr style=\"text-align: right;\">\n",
       "      <th>ISBN</th>\n",
       "      <th>0000913154</th>\n",
       "      <th>0001046438</th>\n",
       "      <th>000104687X</th>\n",
       "      <th>0001047213</th>\n",
       "      <th>0001047973</th>\n",
       "      <th>000104799X</th>\n",
       "      <th>0001048082</th>\n",
       "      <th>0001053736</th>\n",
       "      <th>0001053744</th>\n",
       "      <th>0001055607</th>\n",
       "      <th>...</th>\n",
       "      <th>B000092Q0A</th>\n",
       "      <th>B00009EF82</th>\n",
       "      <th>B00009NDAN</th>\n",
       "      <th>B0000DYXID</th>\n",
       "      <th>B0000T6KHI</th>\n",
       "      <th>B0000VZEJQ</th>\n",
       "      <th>B0000X8HIE</th>\n",
       "      <th>B00013AX9E</th>\n",
       "      <th>B0001I1KOG</th>\n",
       "      <th>B000234N3A</th>\n",
       "    </tr>\n",
       "    <tr>\n",
       "      <th>User-ID</th>\n",
       "      <th></th>\n",
       "      <th></th>\n",
       "      <th></th>\n",
       "      <th></th>\n",
       "      <th></th>\n",
       "      <th></th>\n",
       "      <th></th>\n",
       "      <th></th>\n",
       "      <th></th>\n",
       "      <th></th>\n",
       "      <th></th>\n",
       "      <th></th>\n",
       "      <th></th>\n",
       "      <th></th>\n",
       "      <th></th>\n",
       "      <th></th>\n",
       "      <th></th>\n",
       "      <th></th>\n",
       "      <th></th>\n",
       "      <th></th>\n",
       "      <th></th>\n",
       "    </tr>\n",
       "  </thead>\n",
       "  <tbody>\n",
       "    <tr>\n",
       "      <th>2033</th>\n",
       "      <td>NaN</td>\n",
       "      <td>NaN</td>\n",
       "      <td>NaN</td>\n",
       "      <td>NaN</td>\n",
       "      <td>NaN</td>\n",
       "      <td>NaN</td>\n",
       "      <td>NaN</td>\n",
       "      <td>NaN</td>\n",
       "      <td>NaN</td>\n",
       "      <td>NaN</td>\n",
       "      <td>...</td>\n",
       "      <td>NaN</td>\n",
       "      <td>NaN</td>\n",
       "      <td>NaN</td>\n",
       "      <td>NaN</td>\n",
       "      <td>NaN</td>\n",
       "      <td>NaN</td>\n",
       "      <td>NaN</td>\n",
       "      <td>NaN</td>\n",
       "      <td>NaN</td>\n",
       "      <td>NaN</td>\n",
       "    </tr>\n",
       "    <tr>\n",
       "      <th>2110</th>\n",
       "      <td>NaN</td>\n",
       "      <td>NaN</td>\n",
       "      <td>NaN</td>\n",
       "      <td>NaN</td>\n",
       "      <td>NaN</td>\n",
       "      <td>NaN</td>\n",
       "      <td>NaN</td>\n",
       "      <td>NaN</td>\n",
       "      <td>NaN</td>\n",
       "      <td>NaN</td>\n",
       "      <td>...</td>\n",
       "      <td>NaN</td>\n",
       "      <td>NaN</td>\n",
       "      <td>NaN</td>\n",
       "      <td>NaN</td>\n",
       "      <td>NaN</td>\n",
       "      <td>NaN</td>\n",
       "      <td>NaN</td>\n",
       "      <td>NaN</td>\n",
       "      <td>NaN</td>\n",
       "      <td>NaN</td>\n",
       "    </tr>\n",
       "    <tr>\n",
       "      <th>2276</th>\n",
       "      <td>NaN</td>\n",
       "      <td>NaN</td>\n",
       "      <td>NaN</td>\n",
       "      <td>NaN</td>\n",
       "      <td>NaN</td>\n",
       "      <td>NaN</td>\n",
       "      <td>NaN</td>\n",
       "      <td>NaN</td>\n",
       "      <td>NaN</td>\n",
       "      <td>NaN</td>\n",
       "      <td>...</td>\n",
       "      <td>NaN</td>\n",
       "      <td>NaN</td>\n",
       "      <td>NaN</td>\n",
       "      <td>NaN</td>\n",
       "      <td>NaN</td>\n",
       "      <td>NaN</td>\n",
       "      <td>NaN</td>\n",
       "      <td>NaN</td>\n",
       "      <td>NaN</td>\n",
       "      <td>NaN</td>\n",
       "    </tr>\n",
       "    <tr>\n",
       "      <th>4017</th>\n",
       "      <td>NaN</td>\n",
       "      <td>NaN</td>\n",
       "      <td>NaN</td>\n",
       "      <td>NaN</td>\n",
       "      <td>NaN</td>\n",
       "      <td>NaN</td>\n",
       "      <td>NaN</td>\n",
       "      <td>NaN</td>\n",
       "      <td>NaN</td>\n",
       "      <td>NaN</td>\n",
       "      <td>...</td>\n",
       "      <td>NaN</td>\n",
       "      <td>NaN</td>\n",
       "      <td>NaN</td>\n",
       "      <td>NaN</td>\n",
       "      <td>NaN</td>\n",
       "      <td>NaN</td>\n",
       "      <td>NaN</td>\n",
       "      <td>NaN</td>\n",
       "      <td>NaN</td>\n",
       "      <td>NaN</td>\n",
       "    </tr>\n",
       "    <tr>\n",
       "      <th>4385</th>\n",
       "      <td>NaN</td>\n",
       "      <td>NaN</td>\n",
       "      <td>NaN</td>\n",
       "      <td>NaN</td>\n",
       "      <td>NaN</td>\n",
       "      <td>NaN</td>\n",
       "      <td>NaN</td>\n",
       "      <td>NaN</td>\n",
       "      <td>NaN</td>\n",
       "      <td>NaN</td>\n",
       "      <td>...</td>\n",
       "      <td>NaN</td>\n",
       "      <td>NaN</td>\n",
       "      <td>NaN</td>\n",
       "      <td>NaN</td>\n",
       "      <td>NaN</td>\n",
       "      <td>NaN</td>\n",
       "      <td>NaN</td>\n",
       "      <td>NaN</td>\n",
       "      <td>NaN</td>\n",
       "      <td>NaN</td>\n",
       "    </tr>\n",
       "  </tbody>\n",
       "</table>\n",
       "<p>5 rows × 66076 columns</p>\n",
       "</div>"
      ],
      "text/plain": [
       "ISBN     0000913154  0001046438  000104687X  0001047213  0001047973  \\\n",
       "User-ID                                                               \n",
       "2033            NaN         NaN         NaN         NaN         NaN   \n",
       "2110            NaN         NaN         NaN         NaN         NaN   \n",
       "2276            NaN         NaN         NaN         NaN         NaN   \n",
       "4017            NaN         NaN         NaN         NaN         NaN   \n",
       "4385            NaN         NaN         NaN         NaN         NaN   \n",
       "\n",
       "ISBN     000104799X  0001048082  0001053736  0001053744  0001055607  \\\n",
       "User-ID                                                               \n",
       "2033            NaN         NaN         NaN         NaN         NaN   \n",
       "2110            NaN         NaN         NaN         NaN         NaN   \n",
       "2276            NaN         NaN         NaN         NaN         NaN   \n",
       "4017            NaN         NaN         NaN         NaN         NaN   \n",
       "4385            NaN         NaN         NaN         NaN         NaN   \n",
       "\n",
       "ISBN        ...      B000092Q0A  B00009EF82  B00009NDAN  B0000DYXID  \\\n",
       "User-ID     ...                                                       \n",
       "2033        ...             NaN         NaN         NaN         NaN   \n",
       "2110        ...             NaN         NaN         NaN         NaN   \n",
       "2276        ...             NaN         NaN         NaN         NaN   \n",
       "4017        ...             NaN         NaN         NaN         NaN   \n",
       "4385        ...             NaN         NaN         NaN         NaN   \n",
       "\n",
       "ISBN     B0000T6KHI  B0000VZEJQ  B0000X8HIE  B00013AX9E  B0001I1KOG  \\\n",
       "User-ID                                                               \n",
       "2033            NaN         NaN         NaN         NaN         NaN   \n",
       "2110            NaN         NaN         NaN         NaN         NaN   \n",
       "2276            NaN         NaN         NaN         NaN         NaN   \n",
       "4017            NaN         NaN         NaN         NaN         NaN   \n",
       "4385            NaN         NaN         NaN         NaN         NaN   \n",
       "\n",
       "ISBN     B000234N3A  \n",
       "User-ID              \n",
       "2033            NaN  \n",
       "2110            NaN  \n",
       "2276            NaN  \n",
       "4017            NaN  \n",
       "4385            NaN  \n",
       "\n",
       "[5 rows x 66076 columns]"
      ]
     },
     "execution_count": 62,
     "metadata": {},
     "output_type": "execute_result"
    }
   ],
   "source": [
    "booksmat.head()"
   ]
  },
  {
   "cell_type": "markdown",
   "metadata": {},
   "source": [
    "#### Since NaNs cannot be handled by training algorithms, replacing these by 0, which indicates absence of ratings\n",
    "\n"
   ]
  },
  {
   "cell_type": "code",
   "execution_count": 35,
   "metadata": {
    "collapsed": true
   },
   "outputs": [],
   "source": [
    "booksmat.fillna(0, inplace = True)\n",
    "booksmat = booksmat.astype(np.int32)"
   ]
  },
  {
   "cell_type": "code",
   "execution_count": 50,
   "metadata": {
    "collapsed": false
   },
   "outputs": [
    {
     "data": {
      "text/html": [
       "<div>\n",
       "<table border=\"1\" class=\"dataframe\">\n",
       "  <thead>\n",
       "    <tr style=\"text-align: right;\">\n",
       "      <th>ISBN</th>\n",
       "      <th>0000913154</th>\n",
       "      <th>0001046438</th>\n",
       "      <th>000104687X</th>\n",
       "      <th>0001047213</th>\n",
       "      <th>0001047973</th>\n",
       "      <th>000104799X</th>\n",
       "      <th>0001048082</th>\n",
       "      <th>0001053736</th>\n",
       "      <th>0001053744</th>\n",
       "      <th>0001055607</th>\n",
       "      <th>...</th>\n",
       "      <th>B000092Q0A</th>\n",
       "      <th>B00009EF82</th>\n",
       "      <th>B00009NDAN</th>\n",
       "      <th>B0000DYXID</th>\n",
       "      <th>B0000T6KHI</th>\n",
       "      <th>B0000VZEJQ</th>\n",
       "      <th>B0000X8HIE</th>\n",
       "      <th>B00013AX9E</th>\n",
       "      <th>B0001I1KOG</th>\n",
       "      <th>B000234N3A</th>\n",
       "    </tr>\n",
       "    <tr>\n",
       "      <th>User-ID</th>\n",
       "      <th></th>\n",
       "      <th></th>\n",
       "      <th></th>\n",
       "      <th></th>\n",
       "      <th></th>\n",
       "      <th></th>\n",
       "      <th></th>\n",
       "      <th></th>\n",
       "      <th></th>\n",
       "      <th></th>\n",
       "      <th></th>\n",
       "      <th></th>\n",
       "      <th></th>\n",
       "      <th></th>\n",
       "      <th></th>\n",
       "      <th></th>\n",
       "      <th></th>\n",
       "      <th></th>\n",
       "      <th></th>\n",
       "      <th></th>\n",
       "      <th></th>\n",
       "    </tr>\n",
       "  </thead>\n",
       "  <tbody>\n",
       "    <tr>\n",
       "      <th>2033</th>\n",
       "      <td>0</td>\n",
       "      <td>0</td>\n",
       "      <td>0</td>\n",
       "      <td>0</td>\n",
       "      <td>0</td>\n",
       "      <td>0</td>\n",
       "      <td>0</td>\n",
       "      <td>0</td>\n",
       "      <td>0</td>\n",
       "      <td>0</td>\n",
       "      <td>...</td>\n",
       "      <td>0</td>\n",
       "      <td>0</td>\n",
       "      <td>0</td>\n",
       "      <td>0</td>\n",
       "      <td>0</td>\n",
       "      <td>0</td>\n",
       "      <td>0</td>\n",
       "      <td>0</td>\n",
       "      <td>0</td>\n",
       "      <td>0</td>\n",
       "    </tr>\n",
       "    <tr>\n",
       "      <th>2110</th>\n",
       "      <td>0</td>\n",
       "      <td>0</td>\n",
       "      <td>0</td>\n",
       "      <td>0</td>\n",
       "      <td>0</td>\n",
       "      <td>0</td>\n",
       "      <td>0</td>\n",
       "      <td>0</td>\n",
       "      <td>0</td>\n",
       "      <td>0</td>\n",
       "      <td>...</td>\n",
       "      <td>0</td>\n",
       "      <td>0</td>\n",
       "      <td>0</td>\n",
       "      <td>0</td>\n",
       "      <td>0</td>\n",
       "      <td>0</td>\n",
       "      <td>0</td>\n",
       "      <td>0</td>\n",
       "      <td>0</td>\n",
       "      <td>0</td>\n",
       "    </tr>\n",
       "    <tr>\n",
       "      <th>2276</th>\n",
       "      <td>0</td>\n",
       "      <td>0</td>\n",
       "      <td>0</td>\n",
       "      <td>0</td>\n",
       "      <td>0</td>\n",
       "      <td>0</td>\n",
       "      <td>0</td>\n",
       "      <td>0</td>\n",
       "      <td>0</td>\n",
       "      <td>0</td>\n",
       "      <td>...</td>\n",
       "      <td>0</td>\n",
       "      <td>0</td>\n",
       "      <td>0</td>\n",
       "      <td>0</td>\n",
       "      <td>0</td>\n",
       "      <td>0</td>\n",
       "      <td>0</td>\n",
       "      <td>0</td>\n",
       "      <td>0</td>\n",
       "      <td>0</td>\n",
       "    </tr>\n",
       "    <tr>\n",
       "      <th>4017</th>\n",
       "      <td>0</td>\n",
       "      <td>0</td>\n",
       "      <td>0</td>\n",
       "      <td>0</td>\n",
       "      <td>0</td>\n",
       "      <td>0</td>\n",
       "      <td>0</td>\n",
       "      <td>0</td>\n",
       "      <td>0</td>\n",
       "      <td>0</td>\n",
       "      <td>...</td>\n",
       "      <td>0</td>\n",
       "      <td>0</td>\n",
       "      <td>0</td>\n",
       "      <td>0</td>\n",
       "      <td>0</td>\n",
       "      <td>0</td>\n",
       "      <td>0</td>\n",
       "      <td>0</td>\n",
       "      <td>0</td>\n",
       "      <td>0</td>\n",
       "    </tr>\n",
       "    <tr>\n",
       "      <th>4385</th>\n",
       "      <td>0</td>\n",
       "      <td>0</td>\n",
       "      <td>0</td>\n",
       "      <td>0</td>\n",
       "      <td>0</td>\n",
       "      <td>0</td>\n",
       "      <td>0</td>\n",
       "      <td>0</td>\n",
       "      <td>0</td>\n",
       "      <td>0</td>\n",
       "      <td>...</td>\n",
       "      <td>0</td>\n",
       "      <td>0</td>\n",
       "      <td>0</td>\n",
       "      <td>0</td>\n",
       "      <td>0</td>\n",
       "      <td>0</td>\n",
       "      <td>0</td>\n",
       "      <td>0</td>\n",
       "      <td>0</td>\n",
       "      <td>0</td>\n",
       "    </tr>\n",
       "    <tr>\n",
       "      <th>5582</th>\n",
       "      <td>0</td>\n",
       "      <td>0</td>\n",
       "      <td>0</td>\n",
       "      <td>0</td>\n",
       "      <td>0</td>\n",
       "      <td>0</td>\n",
       "      <td>0</td>\n",
       "      <td>0</td>\n",
       "      <td>0</td>\n",
       "      <td>0</td>\n",
       "      <td>...</td>\n",
       "      <td>0</td>\n",
       "      <td>0</td>\n",
       "      <td>0</td>\n",
       "      <td>0</td>\n",
       "      <td>0</td>\n",
       "      <td>0</td>\n",
       "      <td>0</td>\n",
       "      <td>0</td>\n",
       "      <td>0</td>\n",
       "      <td>0</td>\n",
       "    </tr>\n",
       "    <tr>\n",
       "      <th>6242</th>\n",
       "      <td>0</td>\n",
       "      <td>0</td>\n",
       "      <td>0</td>\n",
       "      <td>0</td>\n",
       "      <td>0</td>\n",
       "      <td>0</td>\n",
       "      <td>0</td>\n",
       "      <td>0</td>\n",
       "      <td>0</td>\n",
       "      <td>0</td>\n",
       "      <td>...</td>\n",
       "      <td>0</td>\n",
       "      <td>0</td>\n",
       "      <td>0</td>\n",
       "      <td>0</td>\n",
       "      <td>0</td>\n",
       "      <td>0</td>\n",
       "      <td>0</td>\n",
       "      <td>0</td>\n",
       "      <td>0</td>\n",
       "      <td>0</td>\n",
       "    </tr>\n",
       "    <tr>\n",
       "      <th>6251</th>\n",
       "      <td>0</td>\n",
       "      <td>0</td>\n",
       "      <td>0</td>\n",
       "      <td>0</td>\n",
       "      <td>0</td>\n",
       "      <td>0</td>\n",
       "      <td>0</td>\n",
       "      <td>0</td>\n",
       "      <td>0</td>\n",
       "      <td>0</td>\n",
       "      <td>...</td>\n",
       "      <td>0</td>\n",
       "      <td>0</td>\n",
       "      <td>0</td>\n",
       "      <td>0</td>\n",
       "      <td>0</td>\n",
       "      <td>0</td>\n",
       "      <td>0</td>\n",
       "      <td>0</td>\n",
       "      <td>0</td>\n",
       "      <td>0</td>\n",
       "    </tr>\n",
       "    <tr>\n",
       "      <th>6543</th>\n",
       "      <td>0</td>\n",
       "      <td>0</td>\n",
       "      <td>0</td>\n",
       "      <td>0</td>\n",
       "      <td>0</td>\n",
       "      <td>0</td>\n",
       "      <td>0</td>\n",
       "      <td>0</td>\n",
       "      <td>0</td>\n",
       "      <td>0</td>\n",
       "      <td>...</td>\n",
       "      <td>0</td>\n",
       "      <td>0</td>\n",
       "      <td>0</td>\n",
       "      <td>0</td>\n",
       "      <td>0</td>\n",
       "      <td>0</td>\n",
       "      <td>0</td>\n",
       "      <td>0</td>\n",
       "      <td>0</td>\n",
       "      <td>0</td>\n",
       "    </tr>\n",
       "    <tr>\n",
       "      <th>6575</th>\n",
       "      <td>0</td>\n",
       "      <td>0</td>\n",
       "      <td>0</td>\n",
       "      <td>0</td>\n",
       "      <td>0</td>\n",
       "      <td>0</td>\n",
       "      <td>0</td>\n",
       "      <td>0</td>\n",
       "      <td>0</td>\n",
       "      <td>0</td>\n",
       "      <td>...</td>\n",
       "      <td>0</td>\n",
       "      <td>0</td>\n",
       "      <td>0</td>\n",
       "      <td>0</td>\n",
       "      <td>0</td>\n",
       "      <td>0</td>\n",
       "      <td>0</td>\n",
       "      <td>0</td>\n",
       "      <td>0</td>\n",
       "      <td>0</td>\n",
       "    </tr>\n",
       "  </tbody>\n",
       "</table>\n",
       "<p>10 rows × 66076 columns</p>\n",
       "</div>"
      ],
      "text/plain": [
       "ISBN     0000913154  0001046438  000104687X  0001047213  0001047973  \\\n",
       "User-ID                                                               \n",
       "2033              0           0           0           0           0   \n",
       "2110              0           0           0           0           0   \n",
       "2276              0           0           0           0           0   \n",
       "4017              0           0           0           0           0   \n",
       "4385              0           0           0           0           0   \n",
       "5582              0           0           0           0           0   \n",
       "6242              0           0           0           0           0   \n",
       "6251              0           0           0           0           0   \n",
       "6543              0           0           0           0           0   \n",
       "6575              0           0           0           0           0   \n",
       "\n",
       "ISBN     000104799X  0001048082  0001053736  0001053744  0001055607  \\\n",
       "User-ID                                                               \n",
       "2033              0           0           0           0           0   \n",
       "2110              0           0           0           0           0   \n",
       "2276              0           0           0           0           0   \n",
       "4017              0           0           0           0           0   \n",
       "4385              0           0           0           0           0   \n",
       "5582              0           0           0           0           0   \n",
       "6242              0           0           0           0           0   \n",
       "6251              0           0           0           0           0   \n",
       "6543              0           0           0           0           0   \n",
       "6575              0           0           0           0           0   \n",
       "\n",
       "ISBN        ...      B000092Q0A  B00009EF82  B00009NDAN  B0000DYXID  \\\n",
       "User-ID     ...                                                       \n",
       "2033        ...               0           0           0           0   \n",
       "2110        ...               0           0           0           0   \n",
       "2276        ...               0           0           0           0   \n",
       "4017        ...               0           0           0           0   \n",
       "4385        ...               0           0           0           0   \n",
       "5582        ...               0           0           0           0   \n",
       "6242        ...               0           0           0           0   \n",
       "6251        ...               0           0           0           0   \n",
       "6543        ...               0           0           0           0   \n",
       "6575        ...               0           0           0           0   \n",
       "\n",
       "ISBN     B0000T6KHI  B0000VZEJQ  B0000X8HIE  B00013AX9E  B0001I1KOG  \\\n",
       "User-ID                                                               \n",
       "2033              0           0           0           0           0   \n",
       "2110              0           0           0           0           0   \n",
       "2276              0           0           0           0           0   \n",
       "4017              0           0           0           0           0   \n",
       "4385              0           0           0           0           0   \n",
       "5582              0           0           0           0           0   \n",
       "6242              0           0           0           0           0   \n",
       "6251              0           0           0           0           0   \n",
       "6543              0           0           0           0           0   \n",
       "6575              0           0           0           0           0   \n",
       "\n",
       "ISBN     B000234N3A  \n",
       "User-ID              \n",
       "2033              0  \n",
       "2110              0  \n",
       "2276              0  \n",
       "4017              0  \n",
       "4385              0  \n",
       "5582              0  \n",
       "6242              0  \n",
       "6251              0  \n",
       "6543              0  \n",
       "6575              0  \n",
       "\n",
       "[10 rows x 66076 columns]"
      ]
     },
     "execution_count": 50,
     "metadata": {},
     "output_type": "execute_result"
    }
   ],
   "source": [
    "booksmat.head(10)"
   ]
  },
  {
   "cell_type": "markdown",
   "metadata": {},
   "source": [
    "#### Matrix Manipulation Work - Not part of delivered code but important to build the concept on"
   ]
  },
  {
   "cell_type": "code",
   "execution_count": 233,
   "metadata": {
    "collapsed": false
   },
   "outputs": [
    {
     "data": {
      "text/plain": [
       "Int64Index([  2033,   2110,   2276,   4017,   4385,   5582,   6242,   6251,\n",
       "              6543,   6575,\n",
       "            ...\n",
       "            269566, 270713, 271448, 271705, 273113, 274061, 274301, 275970,\n",
       "            277427, 278418],\n",
       "           dtype='int64', name='User-ID', length=440)"
      ]
     },
     "execution_count": 233,
     "metadata": {},
     "output_type": "execute_result"
    }
   ],
   "source": [
    "user_ids"
   ]
  },
  {
   "cell_type": "code",
   "execution_count": 176,
   "metadata": {
    "collapsed": true
   },
   "outputs": [],
   "source": []
  },
  {
   "cell_type": "code",
   "execution_count": 187,
   "metadata": {
    "collapsed": false
   },
   "outputs": [
    {
     "data": {
      "text/plain": [
       "Index(['0000913154', '0001046438', '000104687X', '0001047213', '0001047973',\n",
       "       '000104799X', '0001048082', '0001053736', '0001053744', '0001055607',\n",
       "       ...\n",
       "       'B000092Q0A', 'B00009EF82', 'B00009NDAN', 'B0000DYXID', 'B0000T6KHI',\n",
       "       'B0000VZEJQ', 'B0000X8HIE', 'B00013AX9E', 'B0001I1KOG', 'B000234N3A'],\n",
       "      dtype='object', name='ISBN', length=66076)"
      ]
     },
     "execution_count": 187,
     "metadata": {},
     "output_type": "execute_result"
    }
   ],
   "source": [
    "s1_vals.index"
   ]
  },
  {
   "cell_type": "code",
   "execution_count": 188,
   "metadata": {
    "collapsed": false
   },
   "outputs": [
    {
     "data": {
      "text/plain": [
       "array([0, 0, 0, ..., 0, 0, 0], dtype=int32)"
      ]
     },
     "execution_count": 188,
     "metadata": {},
     "output_type": "execute_result"
    }
   ],
   "source": [
    "s1_vals.values"
   ]
  },
  {
   "cell_type": "code",
   "execution_count": 189,
   "metadata": {
    "collapsed": true
   },
   "outputs": [],
   "source": [
    "s1_vals_arr_check = booksmat.iloc[s1,:].values.reshape(1,-1)"
   ]
  },
  {
   "cell_type": "code",
   "execution_count": 177,
   "metadata": {
    "collapsed": true
   },
   "outputs": [],
   "source": [
    "man_distance2 = manhatten(s1_vals, s4_vals)"
   ]
  },
  {
   "cell_type": "code",
   "execution_count": 178,
   "metadata": {
    "collapsed": false
   },
   "outputs": [
    {
     "data": {
      "text/plain": [
       "-0.0051546391752577319"
      ]
     },
     "execution_count": 178,
     "metadata": {},
     "output_type": "execute_result"
    }
   ],
   "source": [
    "man_distance2"
   ]
  },
  {
   "cell_type": "code",
   "execution_count": 146,
   "metadata": {
    "collapsed": false
   },
   "outputs": [
    {
     "data": {
      "text/plain": [
       "(1, 66076)"
      ]
     },
     "execution_count": 146,
     "metadata": {},
     "output_type": "execute_result"
    }
   ],
   "source": [
    "s1_vals.shape"
   ]
  },
  {
   "cell_type": "code",
   "execution_count": 230,
   "metadata": {
    "collapsed": true
   },
   "outputs": [],
   "source": [
    "user_id_vals = [label for index, label in enumerate(booksmat)]"
   ]
  },
  {
   "cell_type": "code",
   "execution_count": 231,
   "metadata": {
    "collapsed": false
   },
   "outputs": [
    {
     "data": {
      "text/plain": [
       "'0000913154'"
      ]
     },
     "execution_count": 231,
     "metadata": {},
     "output_type": "execute_result"
    }
   ],
   "source": [
    "user_id_vals[0]"
   ]
  },
  {
   "cell_type": "code",
   "execution_count": 218,
   "metadata": {
    "collapsed": false
   },
   "outputs": [
    {
     "data": {
      "text/plain": [
       "8"
      ]
     },
     "execution_count": 218,
     "metadata": {},
     "output_type": "execute_result"
    }
   ],
   "source": [
    "s1 = booksmat.index.get_loc(2033)\n",
    "s2 = booksmat.index.get_loc(2110)\n",
    "s4 = booksmat.index.get_loc(6543)\n",
    "\n",
    "s4"
   ]
  },
  {
   "cell_type": "code",
   "execution_count": 209,
   "metadata": {
    "collapsed": true
   },
   "outputs": [],
   "source": [
    "s1_vals = booksmat.iloc[s1,:]\n",
    "s2_vals = booksmat.iloc[s2,:]\n",
    "s4_vals = booksmat.iloc[s4,:]"
   ]
  },
  {
   "cell_type": "code",
   "execution_count": 267,
   "metadata": {
    "collapsed": false
   },
   "outputs": [
    {
     "data": {
      "text/plain": [
       "Index(['0000913154', '0001046438', '000104687X', '0001047213', '0001047973',\n",
       "       '000104799X', '0001048082', '0001053736', '0001053744', '0001055607',\n",
       "       ...\n",
       "       'B000092Q0A', 'B00009EF82', 'B00009NDAN', 'B0000DYXID', 'B0000T6KHI',\n",
       "       'B0000VZEJQ', 'B0000X8HIE', 'B00013AX9E', 'B0001I1KOG', 'B000234N3A'],\n",
       "      dtype='object', name='ISBN', length=66076)"
      ]
     },
     "execution_count": 267,
     "metadata": {},
     "output_type": "execute_result"
    }
   ],
   "source": [
    "s1_vals.index"
   ]
  },
  {
   "cell_type": "code",
   "execution_count": 270,
   "metadata": {
    "collapsed": false
   },
   "outputs": [
    {
     "data": {
      "text/plain": [
       "'0000913154'"
      ]
     },
     "execution_count": 270,
     "metadata": {},
     "output_type": "execute_result"
    }
   ],
   "source": [
    "s1_vals.index[0]"
   ]
  },
  {
   "cell_type": "code",
   "execution_count": 271,
   "metadata": {
    "collapsed": false
   },
   "outputs": [
    {
     "data": {
      "text/plain": [
       "0"
      ]
     },
     "execution_count": 271,
     "metadata": {},
     "output_type": "execute_result"
    }
   ],
   "source": [
    "s1_vals.values[0]"
   ]
  },
  {
   "cell_type": "code",
   "execution_count": 200,
   "metadata": {
    "collapsed": true
   },
   "outputs": [],
   "source": [
    "s1_vals_arr = booksmat.iloc[s1,:].values.reshape(1,-1)\n",
    "s2_vals_arr = booksmat.iloc[s2,:].values.reshape(1,-1)\n",
    "s4_vals_arr = booksmat.iloc[s4,:].values.reshape(1,-1)"
   ]
  },
  {
   "cell_type": "code",
   "execution_count": 210,
   "metadata": {
    "collapsed": false
   },
   "outputs": [
    {
     "data": {
      "text/plain": [
       "0.003663003663003663"
      ]
     },
     "execution_count": 210,
     "metadata": {},
     "output_type": "execute_result"
    }
   ],
   "source": [
    "man_distance = manhatten(s1_vals, s2_vals)\n",
    "\n",
    "man_distance\n",
    "\n"
   ]
  },
  {
   "cell_type": "code",
   "execution_count": 411,
   "metadata": {
    "collapsed": false
   },
   "outputs": [],
   "source": [
    "#note that the following line would give us the index and label for the Books which are columns\n",
    "user_id_vals = [label for index, label in enumerate(booksmat)]\n",
    "\n"
   ]
  },
  {
   "cell_type": "code",
   "execution_count": 412,
   "metadata": {
    "collapsed": false
   },
   "outputs": [
    {
     "data": {
      "text/plain": [
       "['0000913154',\n",
       " '0001046438',\n",
       " '000104687X',\n",
       " '0001047213',\n",
       " '0001047973',\n",
       " '000104799X',\n",
       " '0001048082',\n",
       " '0001053736',\n",
       " '0001053744',\n",
       " '0001055607',\n",
       " '0001056107',\n",
       " '0001845039',\n",
       " '0001935968',\n",
       " '0001944711',\n",
       " '0001952803',\n",
       " '0001953877',\n",
       " '0002000547',\n",
       " '0002005018',\n",
       " '0002005050',\n",
       " '0002005557',\n",
       " '0002006588',\n",
       " '0002115328',\n",
       " '0002116286',\n",
       " '0002118580',\n",
       " '0002154900',\n",
       " '0002158973',\n",
       " '0002163713',\n",
       " '0002176181',\n",
       " '0002176432',\n",
       " '0002179695',\n",
       " '0002181924',\n",
       " '0002184974',\n",
       " '0002190915',\n",
       " '0002197154',\n",
       " '0002223929',\n",
       " '0002228394',\n",
       " '000223257X',\n",
       " '0002233509',\n",
       " '0002239183',\n",
       " '0002240114',\n",
       " '0002241358',\n",
       " '0002244098',\n",
       " '0002245728',\n",
       " '000225056X',\n",
       " '0002250810',\n",
       " '0002251485',\n",
       " '0002251760',\n",
       " '0002252341',\n",
       " '0002252376',\n",
       " '0002253372',\n",
       " '0002255014',\n",
       " '0002255081',\n",
       " '0002258560',\n",
       " '000225929X',\n",
       " '0002259877',\n",
       " '0002316196',\n",
       " '0002317141',\n",
       " '0002325780',\n",
       " '0002550563',\n",
       " '0002551195',\n",
       " '0002551675',\n",
       " '0002553384',\n",
       " '0002554119',\n",
       " '0002554283',\n",
       " '0002555565',\n",
       " '0002558122',\n",
       " '0002558661',\n",
       " '0002712172',\n",
       " '0002726874',\n",
       " '0003300277',\n",
       " '0004125576',\n",
       " '0004133439',\n",
       " '0004334787',\n",
       " '000433549X',\n",
       " '0004356373',\n",
       " '0004588010',\n",
       " '0004588177',\n",
       " '0004701674',\n",
       " '0004702816',\n",
       " '0004704746',\n",
       " '0004704754',\n",
       " '0004704932',\n",
       " '0004708105',\n",
       " '0004709721',\n",
       " '000470973X',\n",
       " '0004720164',\n",
       " '0004720695',\n",
       " '0004722124',\n",
       " '0004723708',\n",
       " '0004724097',\n",
       " '0004725042',\n",
       " '000611962X',\n",
       " '0006131409',\n",
       " '0006143199',\n",
       " '0006156487',\n",
       " '0006157629',\n",
       " '0006166598',\n",
       " '0006171982',\n",
       " '0006174841',\n",
       " '0006175317',\n",
       " '0006176747',\n",
       " '0006176992',\n",
       " '0006177492',\n",
       " '0006178316',\n",
       " '0006271197',\n",
       " '0006279945',\n",
       " '0006280803',\n",
       " '0006363113',\n",
       " '0006363121',\n",
       " '0006365744',\n",
       " '0006366023',\n",
       " '0006370039',\n",
       " '0006370829',\n",
       " '0006371248',\n",
       " '0006372899',\n",
       " '0006375952',\n",
       " '0006379702',\n",
       " '0006380263',\n",
       " '0006380921',\n",
       " '0006380964',\n",
       " '0006383777',\n",
       " '0006384684',\n",
       " '0006384722',\n",
       " '0006384854',\n",
       " '0006385370',\n",
       " '0006385648',\n",
       " '0006386369',\n",
       " '0006472648',\n",
       " '000647425X',\n",
       " '0006480608',\n",
       " '000648302X',\n",
       " '0006485200',\n",
       " '0006485936',\n",
       " '0006490603',\n",
       " '0006492126',\n",
       " '0006492347',\n",
       " '0006497993',\n",
       " '000649840X',\n",
       " '0006498493',\n",
       " '000651202X',\n",
       " '000651202x',\n",
       " '0006512062',\n",
       " '0006512143',\n",
       " '0006512208',\n",
       " '0006512801',\n",
       " '0006514952',\n",
       " '0006531407',\n",
       " '0006542808',\n",
       " '0006543545',\n",
       " '0006544959',\n",
       " '0006546684',\n",
       " '0006547486',\n",
       " '0006547613',\n",
       " '0006547753',\n",
       " '0006547834',\n",
       " '0006548180',\n",
       " '0006548539',\n",
       " '0006548830',\n",
       " '0006550061',\n",
       " '0006550576',\n",
       " '0006550789',\n",
       " '0006550924',\n",
       " '0006551076',\n",
       " '0006551971',\n",
       " '0006552390',\n",
       " '0006726143',\n",
       " '0006729835',\n",
       " '000673765X',\n",
       " '0006742939',\n",
       " '0006742947',\n",
       " '0006754864',\n",
       " '0006928323',\n",
       " '0006940889',\n",
       " '0007100108',\n",
       " '0007100930',\n",
       " '0007102216',\n",
       " '000710331X',\n",
       " '0007103352',\n",
       " '0007103360',\n",
       " '0007103867',\n",
       " '0007105150',\n",
       " '0007105665',\n",
       " '0007106572',\n",
       " '000710698X',\n",
       " '0007107900',\n",
       " '0007110200',\n",
       " '0007110227',\n",
       " '0007110928',\n",
       " '0007114788',\n",
       " '0007116993',\n",
       " '000711737X',\n",
       " '0007117507',\n",
       " '0007118465',\n",
       " '0007119070',\n",
       " '0007119860',\n",
       " '000712032X',\n",
       " '0007122039',\n",
       " '0007122861',\n",
       " '0007127936',\n",
       " '0007128568',\n",
       " '0007128576',\n",
       " '0007139411',\n",
       " '0007141076',\n",
       " '0007144172',\n",
       " '0007144350',\n",
       " '000715111X',\n",
       " '0007154607',\n",
       " '0007154615',\n",
       " '000716226X',\n",
       " '0007164076',\n",
       " '0007176023',\n",
       " '000764065X',\n",
       " '0020009607',\n",
       " '0020016700',\n",
       " '0020088248',\n",
       " '0020093616',\n",
       " '0020103514',\n",
       " '002011690X',\n",
       " '0020125305',\n",
       " '0020125607',\n",
       " '0020154402',\n",
       " '0020155506',\n",
       " '0020182104',\n",
       " '0020188706',\n",
       " '0020197802',\n",
       " '0020198817',\n",
       " '0020198841',\n",
       " '0020198906',\n",
       " '0020199031',\n",
       " '0020199600',\n",
       " '0020199856',\n",
       " '0020209851',\n",
       " '0020223412',\n",
       " '0020223722',\n",
       " '0020225601',\n",
       " '0020248717',\n",
       " '0020259913',\n",
       " '0020264763',\n",
       " '002026478X',\n",
       " '0020264801',\n",
       " '0020264852',\n",
       " '0020280505',\n",
       " '002028361X',\n",
       " '0020296703',\n",
       " '0020296800',\n",
       " '0020299605',\n",
       " '0020303750',\n",
       " '0020306652',\n",
       " '0020315902',\n",
       " '0020322208',\n",
       " '0020332858',\n",
       " '002036041X',\n",
       " '002038260X',\n",
       " '0020383142',\n",
       " '002040400X',\n",
       " '0020407009',\n",
       " '0020412401',\n",
       " '0020413904',\n",
       " '0020415133',\n",
       " '0020418809',\n",
       " '0020419805',\n",
       " '0020426801',\n",
       " '0020427018',\n",
       " '0020427107',\n",
       " '0020427115',\n",
       " '0020427751',\n",
       " '0020427859',\n",
       " '0020429819',\n",
       " '0020434804',\n",
       " '0020434901',\n",
       " '0020442009',\n",
       " '0020442106',\n",
       " '0020442203',\n",
       " '0020442300',\n",
       " '0020442408',\n",
       " '0020442505',\n",
       " '0020442602',\n",
       " '0020442807',\n",
       " '0020444206',\n",
       " '0020444400',\n",
       " '0020446500',\n",
       " '0020449313',\n",
       " '0020452705',\n",
       " '0020474105',\n",
       " '002047430X',\n",
       " '0020486200',\n",
       " '0020517505',\n",
       " '0020518307',\n",
       " '0020518501',\n",
       " '0020518609',\n",
       " '0020518706',\n",
       " '0020518803',\n",
       " '0020519001',\n",
       " '0020519605',\n",
       " '0020532105',\n",
       " '0020545304',\n",
       " '002054720X',\n",
       " '0020583516',\n",
       " '0020631502',\n",
       " '0020633505',\n",
       " '0020648200',\n",
       " '0020698461',\n",
       " '0020700105',\n",
       " '0020715609',\n",
       " '0020720203',\n",
       " '0020778201',\n",
       " '0020780605',\n",
       " '0020794207',\n",
       " '0020795904',\n",
       " '0020811608',\n",
       " '0020811853',\n",
       " '0020819706',\n",
       " '0020820445',\n",
       " '0020838506',\n",
       " '0020868308',\n",
       " '0020868901',\n",
       " '0020869002',\n",
       " '002086910X',\n",
       " '0020869509',\n",
       " '0020869606',\n",
       " '002089130X',\n",
       " '0020960808',\n",
       " '002097292X',\n",
       " '0023018909',\n",
       " '0023060956',\n",
       " '0023061316',\n",
       " '002322410X',\n",
       " '002325291X',\n",
       " '0023381205',\n",
       " '0023401354',\n",
       " '0023582901',\n",
       " '0023635703',\n",
       " '002363880X',\n",
       " '0023728213',\n",
       " '0023795808',\n",
       " '0023886854',\n",
       " '0024040908',\n",
       " '0024096229',\n",
       " '0024096903',\n",
       " '0024103411',\n",
       " '002411510X',\n",
       " '002411510x',\n",
       " '0024181900',\n",
       " '0024182001',\n",
       " '0024206202',\n",
       " '0024967602',\n",
       " '0025074857',\n",
       " '002517990X',\n",
       " '0025196359',\n",
       " '0025225804',\n",
       " '0025226207',\n",
       " '0025386700',\n",
       " '002542730X',\n",
       " '0025430807',\n",
       " '0025439456',\n",
       " '0025439472',\n",
       " '0025444506',\n",
       " '0025606115',\n",
       " '0025729853',\n",
       " '0025845403',\n",
       " '0025876007',\n",
       " '0025953621',\n",
       " '0026024306',\n",
       " '0026045702',\n",
       " '0026128101',\n",
       " '0026205408',\n",
       " '0026217457',\n",
       " '0026258102',\n",
       " '0026284901',\n",
       " '0026305909',\n",
       " '0026638959',\n",
       " '0026888130',\n",
       " '0026890712',\n",
       " '0027110206',\n",
       " '0027110400',\n",
       " '0027110559',\n",
       " '002711080X',\n",
       " '0027111008',\n",
       " '0027118401',\n",
       " '0027136701',\n",
       " '0027136809',\n",
       " '0027147509',\n",
       " '0027153800',\n",
       " '0027183505',\n",
       " '0027345459',\n",
       " '0027359409',\n",
       " '0027426459',\n",
       " '0027434850',\n",
       " '0027436292',\n",
       " '0027582000',\n",
       " '0027614204',\n",
       " '0027617319',\n",
       " '0027627403',\n",
       " '0027701301',\n",
       " '0027757315',\n",
       " '0027778800',\n",
       " '0027824500',\n",
       " '0027826902',\n",
       " '0027859002',\n",
       " '0027887901',\n",
       " '0027912906',\n",
       " '0027916405',\n",
       " '0028025008',\n",
       " '0028603702',\n",
       " '0028603869',\n",
       " '0028603923',\n",
       " '0028603958',\n",
       " '0028604032',\n",
       " '0028604067',\n",
       " '0028604105',\n",
       " '0028604199',\n",
       " '0028604202',\n",
       " '0028604458',\n",
       " '0028604792',\n",
       " '0028604954',\n",
       " '0028604997',\n",
       " '0028608127',\n",
       " '0028608364',\n",
       " '0028608437',\n",
       " '0028610105',\n",
       " '0028610407',\n",
       " '0028610415',\n",
       " '0028610741',\n",
       " '0028612787',\n",
       " '0028612922',\n",
       " '0028613228',\n",
       " '0028614496',\n",
       " '0028614518',\n",
       " '0028615689',\n",
       " '0028615883',\n",
       " '0028615972',\n",
       " '0028616367',\n",
       " '0028616375',\n",
       " '0028617274',\n",
       " '0028617363',\n",
       " '0028617452',\n",
       " '0028618874',\n",
       " '0028619471',\n",
       " '0028619498',\n",
       " '0028620283',\n",
       " '0028621565',\n",
       " '0028621573',\n",
       " '0028621697',\n",
       " '0028621905',\n",
       " '0028622480',\n",
       " '0028623908',\n",
       " '0028624491',\n",
       " '0028625757',\n",
       " '0028626354',\n",
       " '0028627377',\n",
       " '0028628594',\n",
       " '0028629019',\n",
       " '0028629043',\n",
       " '0028629051',\n",
       " '0028629558',\n",
       " '0028630092',\n",
       " '0028630106',\n",
       " '0028630912',\n",
       " '0028631188',\n",
       " '002863196X',\n",
       " '0028632311',\n",
       " '0028632613',\n",
       " '0028633504',\n",
       " '0028634764',\n",
       " '0028635868',\n",
       " '0028636279',\n",
       " '0028636406',\n",
       " '0028636589',\n",
       " '0028638395',\n",
       " '0028639456',\n",
       " '0028639960',\n",
       " '0028640055',\n",
       " '0028640071',\n",
       " '0028641671',\n",
       " '0028641701',\n",
       " '0028641736',\n",
       " '0028642082',\n",
       " '0028642422',\n",
       " '002864896X',\n",
       " '0028650875',\n",
       " '0028653343',\n",
       " '0028702506',\n",
       " '0028702514',\n",
       " '0028740173',\n",
       " '0028810384',\n",
       " '0028981294',\n",
       " '002898238X',\n",
       " '0029021006',\n",
       " '0029059801',\n",
       " '0029064414',\n",
       " '0029079705',\n",
       " '0029095026',\n",
       " '0029160030',\n",
       " '0029166764',\n",
       " '0029227909',\n",
       " '0029250617',\n",
       " '0029298652',\n",
       " '0029353017',\n",
       " '0029356032',\n",
       " '0029356504',\n",
       " '0029638607',\n",
       " '0029640407',\n",
       " '0029690803',\n",
       " '0029692407',\n",
       " '0029693306',\n",
       " '0030000726',\n",
       " '0030000831',\n",
       " '0030000920',\n",
       " '0030003474',\n",
       " '0030009995',\n",
       " '003001512X',\n",
       " '0030018897',\n",
       " '0030020786',\n",
       " '003003678x',\n",
       " '003004068X',\n",
       " '0030045592',\n",
       " '003005608X',\n",
       " '0030056276',\n",
       " '0030056292',\n",
       " '0030061091',\n",
       " '0030073189',\n",
       " '0030085373',\n",
       " '003008539X',\n",
       " '003008685X',\n",
       " '0030095344',\n",
       " '0030115078',\n",
       " '0030119197',\n",
       " '0030119537',\n",
       " '0030127440',\n",
       " '0030138663',\n",
       " '003014051X',\n",
       " '0030149010',\n",
       " '0030155665',\n",
       " '0030172217',\n",
       " '003018682X',\n",
       " '0030206812',\n",
       " '0030226767',\n",
       " '0030230667',\n",
       " '0030259649',\n",
       " '0030325935',\n",
       " '0030384427',\n",
       " '0030420210',\n",
       " '0030423910',\n",
       " '0030441668',\n",
       " '0030448514',\n",
       " '0030448565',\n",
       " '0030448611',\n",
       " '0030452457',\n",
       " '0030474868',\n",
       " '0030476119',\n",
       " '0030477166',\n",
       " '0030491266',\n",
       " '0030491762',\n",
       " '0030491819',\n",
       " '003049186X',\n",
       " '003049186x',\n",
       " '0030491916',\n",
       " '0030491967',\n",
       " '0030494702',\n",
       " '0030538173',\n",
       " '0030547032',\n",
       " '003055487X',\n",
       " '0030560632',\n",
       " '0030567769',\n",
       " '0030574692',\n",
       " '003057708X',\n",
       " '0030579899',\n",
       " '0030583497',\n",
       " '0030586240',\n",
       " '0030586461',\n",
       " '0030595916',\n",
       " '0030597838',\n",
       " '0030597889',\n",
       " '0030604176',\n",
       " '0030605601',\n",
       " '003061368X',\n",
       " '0030615224',\n",
       " '0030615534',\n",
       " '0030616565',\n",
       " '0030616573',\n",
       " '0030617316',\n",
       " '0030617324',\n",
       " '0030617332',\n",
       " '0030621984',\n",
       " '0030624142',\n",
       " '0030632366',\n",
       " '0030635438',\n",
       " '0030635527',\n",
       " '0030686784',\n",
       " '0030686792',\n",
       " '0030706998',\n",
       " '0030710618',\n",
       " '003071091X',\n",
       " '0030748828',\n",
       " '0030773253',\n",
       " '0030790980',\n",
       " '003079790X',\n",
       " '0030803012',\n",
       " '0030812690',\n",
       " '0030850746',\n",
       " '0030859670',\n",
       " '0030897432',\n",
       " '0030899249',\n",
       " '0030899788',\n",
       " '0030899915',\n",
       " '003091356x',\n",
       " '0030975891',\n",
       " '003922063X',\n",
       " '0039282783',\n",
       " '0041490517',\n",
       " '0043510744',\n",
       " '0043720455',\n",
       " '0044402449',\n",
       " '0044405294',\n",
       " '0044409494',\n",
       " '0044421931',\n",
       " '0044422776',\n",
       " '0044422857',\n",
       " '0046410430',\n",
       " '0048230871',\n",
       " '0048231304',\n",
       " '0048233862',\n",
       " '0048270202',\n",
       " '0060001445',\n",
       " '0060001453',\n",
       " '0060001461',\n",
       " '006000147X',\n",
       " '006000150X',\n",
       " '0060001801',\n",
       " '006000181X',\n",
       " '0060001941',\n",
       " '0060002050',\n",
       " '0060002069',\n",
       " '0060002077',\n",
       " '0060002433',\n",
       " '0060002484',\n",
       " '0060002492',\n",
       " '0060002697',\n",
       " '0060002700',\n",
       " '006000438X',\n",
       " '006000441X',\n",
       " '0060004428',\n",
       " '0060004606',\n",
       " '0060004622',\n",
       " '006000469X',\n",
       " '0060004746',\n",
       " '0060005424',\n",
       " '0060005521',\n",
       " '006000553X',\n",
       " '0060005556',\n",
       " '0060005564',\n",
       " '0060005688',\n",
       " '0060005726',\n",
       " '006000584X',\n",
       " '0060006285',\n",
       " '0060006293',\n",
       " '0060006323',\n",
       " '0060006617',\n",
       " '0060006641',\n",
       " '0060006897',\n",
       " '0060007192',\n",
       " '006000746X',\n",
       " '0060007575',\n",
       " '0060007761',\n",
       " '0060007788',\n",
       " '006000780X',\n",
       " '0060007834',\n",
       " '0060008032',\n",
       " '0060008121',\n",
       " '0060008245',\n",
       " '0060008369',\n",
       " '0060008490',\n",
       " '0060008725',\n",
       " '0060008776',\n",
       " '0060008784',\n",
       " '0060008865',\n",
       " '0060009012',\n",
       " '0060009225',\n",
       " '0060009241',\n",
       " '006000925X',\n",
       " '0060009292',\n",
       " '006000942X',\n",
       " '0060009640',\n",
       " '0060009667',\n",
       " '0060011416',\n",
       " '0060011483',\n",
       " '0060011904',\n",
       " '0060011912',\n",
       " '0060011939',\n",
       " '006001203X',\n",
       " '006001220X',\n",
       " '0060012331',\n",
       " '0060012358',\n",
       " '0060012366',\n",
       " '0060012560',\n",
       " '0060012781',\n",
       " '0060012811',\n",
       " '0060012897',\n",
       " '0060012900',\n",
       " '0060013117',\n",
       " '0060013125',\n",
       " '0060013133',\n",
       " '006001315X',\n",
       " '0060013508',\n",
       " '0060013974',\n",
       " '0060014040',\n",
       " '0060014156',\n",
       " '0060014253',\n",
       " '006001427X',\n",
       " '006001430X',\n",
       " '0060080841',\n",
       " '0060081600',\n",
       " '0060081635',\n",
       " '0060081961',\n",
       " '0060082070',\n",
       " '0060082895',\n",
       " '0060082968',\n",
       " '0060083255',\n",
       " '0060083263',\n",
       " '0060083298',\n",
       " '0060083425',\n",
       " '0060083948',\n",
       " '0060083956',\n",
       " '0060083972',\n",
       " '0060084405',\n",
       " '0060084456',\n",
       " '006008460X',\n",
       " '0060084707',\n",
       " '0060085444',\n",
       " '0060085452',\n",
       " '0060085894',\n",
       " '0060086246',\n",
       " '0060086386',\n",
       " '0060086629',\n",
       " '0060086637',\n",
       " '0060086661',\n",
       " '0060087358',\n",
       " '0060087374',\n",
       " '0060087439',\n",
       " '0060088575',\n",
       " '0060089288',\n",
       " '0060089296',\n",
       " '0060089539',\n",
       " '0060090251',\n",
       " '0060090367',\n",
       " '0060090375',\n",
       " '0060090383',\n",
       " '0060090405',\n",
       " '0060090421',\n",
       " '0060090626',\n",
       " '0060090642',\n",
       " '0060092130',\n",
       " '0060092149',\n",
       " '0060092165',\n",
       " '0060092181',\n",
       " '0060092645',\n",
       " '0060092653',\n",
       " '0060092661',\n",
       " '0060092963',\n",
       " '0060092971',\n",
       " '006009298X',\n",
       " '0060093463',\n",
       " '006009348X',\n",
       " '006009351X',\n",
       " '0060093579',\n",
       " '0060093595',\n",
       " '0060094095',\n",
       " '0060094397',\n",
       " '0060094818',\n",
       " '0060095245',\n",
       " '006009527X',\n",
       " '0060096098',\n",
       " '0060096195',\n",
       " '0060096209',\n",
       " '0060097469',\n",
       " '0060097701',\n",
       " '0060097825',\n",
       " '0060097973',\n",
       " '0060098120',\n",
       " '0060098538',\n",
       " '0060099089',\n",
       " '0060099453',\n",
       " '0060099526',\n",
       " '0060103132',\n",
       " '0060103655',\n",
       " '0060104910',\n",
       " '0060106263',\n",
       " '0060106387',\n",
       " '0060109955',\n",
       " '0060110740',\n",
       " '0060111135',\n",
       " '006011195X',\n",
       " '0060113073',\n",
       " '0060113375',\n",
       " '0060113413',\n",
       " '0060114142',\n",
       " '0060114193',\n",
       " '0060114991',\n",
       " '0060125616',\n",
       " '0060127007',\n",
       " '0060128070',\n",
       " '0060129484',\n",
       " '0060129735',\n",
       " '0060132833',\n",
       " '0060133562',\n",
       " '0060139145',\n",
       " '0060148047',\n",
       " '0060148993',\n",
       " '0060149906',\n",
       " '0060153016',\n",
       " '0060153180',\n",
       " '0060153393',\n",
       " '0060154098',\n",
       " '006015425X',\n",
       " '0060154462',\n",
       " '0060154969',\n",
       " '0060155027',\n",
       " '0060155396',\n",
       " '0060155515',\n",
       " '0060156309',\n",
       " '0060156732',\n",
       " '0060156813',\n",
       " '0060156961',\n",
       " '0060157119',\n",
       " '0060157577',\n",
       " '0060157763',\n",
       " '0060157917',\n",
       " '0060158654',\n",
       " '0060158735',\n",
       " '0060159081',\n",
       " '0060159383',\n",
       " '0060159790',\n",
       " '0060160101',\n",
       " '0060160128',\n",
       " '0060160713',\n",
       " '0060160772',\n",
       " '0060160799',\n",
       " '0060161507',\n",
       " '0060161582',\n",
       " '0060161612',\n",
       " '0060161701',\n",
       " '0060161833',\n",
       " '0060162481',\n",
       " '0060162546',\n",
       " '0060162724',\n",
       " '0060162767',\n",
       " '0060163275',\n",
       " '0060163747',\n",
       " '0060163879',\n",
       " '0060163976',\n",
       " '0060164115',\n",
       " '0060164190',\n",
       " '0060164239',\n",
       " '006016445X',\n",
       " '0060164522',\n",
       " '0060164662',\n",
       " '0060164719',\n",
       " '0060165170',\n",
       " '0060165413',\n",
       " '0060165529',\n",
       " '0060165588',\n",
       " '0060165766',\n",
       " '006016591X',\n",
       " '0060165936',\n",
       " '0060165987',\n",
       " '0060166517',\n",
       " '0060166541',\n",
       " '0060166789',\n",
       " '0060166932',\n",
       " '0060167084',\n",
       " '0060167149',\n",
       " '006016767X',\n",
       " '0060167688',\n",
       " '0060167718',\n",
       " '0060167807',\n",
       " '0060168005',\n",
       " '0060168013',\n",
       " '0060168382',\n",
       " '0060168412',\n",
       " '006016848X',\n",
       " '0060168714',\n",
       " '0060169036',\n",
       " '0060169087',\n",
       " '0060169435',\n",
       " '0060169443',\n",
       " '0060169613',\n",
       " '0060169621',\n",
       " '0060170085',\n",
       " '0060170387',\n",
       " '0060170395',\n",
       " '0060170913',\n",
       " '0060171154',\n",
       " '006017143X',\n",
       " '0060171626',\n",
       " '0060171723',\n",
       " '0060171928',\n",
       " '0060172096',\n",
       " '0060172223',\n",
       " '0060172665',\n",
       " '0060172916',\n",
       " '0060172940',\n",
       " '0060173076',\n",
       " '0060173084',\n",
       " '006017319X',\n",
       " '0060173211',\n",
       " '0060173289',\n",
       " '0060173378',\n",
       " '0060173521',\n",
       " '006017367X',\n",
       " '0060173858',\n",
       " '0060173963',\n",
       " '0060174803',\n",
       " '0060174900',\n",
       " '0060174986',\n",
       " '0060175184',\n",
       " '0060175273',\n",
       " '0060175400',\n",
       " '006017546X',\n",
       " '0060175532',\n",
       " '0060175605',\n",
       " '0060175656',\n",
       " '0060175680',\n",
       " '0060175699',\n",
       " '0060175702',\n",
       " '0060175796',\n",
       " '0060175818',\n",
       " '0060175826',\n",
       " '0060175907',\n",
       " '0060175966',\n",
       " '0060176059',\n",
       " '0060176075',\n",
       " '0060176083',\n",
       " '006017613X',\n",
       " '0060176164',\n",
       " '0060176172',\n",
       " '0060176229',\n",
       " '006017630X',\n",
       " '0060176555',\n",
       " '0060176563',\n",
       " '0060176660',\n",
       " '0060176709',\n",
       " '0060176733',\n",
       " '0060176784',\n",
       " '0060176806',\n",
       " '0060176911',\n",
       " '0060176962',\n",
       " '0060177144',\n",
       " '0060177152',\n",
       " '0060177209',\n",
       " '0060177349',\n",
       " '0060177500',\n",
       " '0060177594',\n",
       " '0060177624',\n",
       " '0060177632',\n",
       " '0060177640',\n",
       " '0060177721',\n",
       " '006017773X',\n",
       " '0060177756',\n",
       " '0060177764',\n",
       " '0060177861',\n",
       " '0060177888',\n",
       " '0060178213',\n",
       " '0060179252',\n",
       " '0060179384',\n",
       " '0060179449',\n",
       " '006017949X',\n",
       " '0060179562',\n",
       " '0060179635',\n",
       " '0060179791',\n",
       " '0060179872',\n",
       " '0060182369',\n",
       " '0060182563',\n",
       " '0060182792',\n",
       " '006018292X',\n",
       " '0060183020',\n",
       " '006018311X',\n",
       " '0060183136',\n",
       " '0060183217',\n",
       " '0060183225',\n",
       " '0060183349',\n",
       " '0060183527',\n",
       " '0060183683',\n",
       " '0060183772',\n",
       " '0060183896',\n",
       " '006018390X',\n",
       " '006018485X',\n",
       " '0060184868',\n",
       " '0060184957',\n",
       " '0060185074',\n",
       " '0060185082',\n",
       " '0060185147',\n",
       " '006018518X',\n",
       " '0060185287',\n",
       " '0060185295',\n",
       " '006018552X',\n",
       " '0060185686',\n",
       " '0060185708',\n",
       " '0060185716',\n",
       " '0060185732',\n",
       " '0060186348',\n",
       " ...]"
      ]
     },
     "execution_count": 412,
     "metadata": {},
     "output_type": "execute_result"
    }
   ],
   "source": [
    "user_id_vals"
   ]
  },
  {
   "cell_type": "code",
   "execution_count": 36,
   "metadata": {
    "collapsed": true
   },
   "outputs": [],
   "source": [
    "#here is a code to get the index of the user\n",
    "user_id_vals = booksmat.index\n",
    "#here is the code to get the values of the user ratings\n",
    "user_rating_vals = booksmat.values   "
   ]
  },
  {
   "cell_type": "code",
   "execution_count": 37,
   "metadata": {
    "collapsed": false
   },
   "outputs": [
    {
     "data": {
      "text/plain": [
       "(440, 66076)"
      ]
     },
     "execution_count": 37,
     "metadata": {},
     "output_type": "execute_result"
    }
   ],
   "source": [
    "user_rating_vals.shape"
   ]
  },
  {
   "cell_type": "markdown",
   "metadata": {},
   "source": [
    "#### Implementing Manhattan distance and Pearson Distance "
   ]
  },
  {
   "cell_type": "code",
   "execution_count": 38,
   "metadata": {
    "collapsed": false
   },
   "outputs": [],
   "source": [
    "def computeNearestNeighbor_manhatten(myuserid,booksmat):\n",
    "        distances = []\n",
    "        \n",
    "        user_id_vals = booksmat.index\n",
    "    \n",
    "        for user_id in user_id_vals:\n",
    "            s1 = booksmat.index.get_loc(user_id)\n",
    "            s1_val = booksmat.iloc[s1,:]\n",
    "            s2_user_id = booksmat.index.get_loc(myuserid)\n",
    "            s2_val = booksmat.iloc[s2_user_id,:]\n",
    "            man_distance = manhatten(s1_val, s2_val)\n",
    "            distances.append((man_distance,user_id))\n",
    "        distances.sort()\n",
    "        return distances\n",
    "    "
   ]
  },
  {
   "cell_type": "code",
   "execution_count": 39,
   "metadata": {
    "collapsed": true
   },
   "outputs": [],
   "source": [
    "def computeNearestNeighbor_pearson(myuserid,booksmat):\n",
    "        distances = []\n",
    "        \n",
    "        user_id_vals = booksmat.index\n",
    "    \n",
    "        for user_id in user_id_vals:\n",
    "            s1 = booksmat.index.get_loc(user_id)\n",
    "            s1_val = booksmat.iloc[s1,:]\n",
    "            s2_user_id = booksmat.index.get_loc(myuserid)\n",
    "            s2_val = booksmat.iloc[s2_user_id,:]\n",
    "            man_distance = pearson(s1_val, s2_val)\n",
    "            distances.append((man_distance,user_id))\n",
    "        distances.sort()\n",
    "        return distances\n",
    "    "
   ]
  },
  {
   "cell_type": "code",
   "execution_count": 40,
   "metadata": {
    "collapsed": false
   },
   "outputs": [],
   "source": [
    "my_user_with_id = 2033\n",
    "\n",
    "my_distances = computeNearestNeighbor_pearson(my_user_with_id,booksmat)"
   ]
  },
  {
   "cell_type": "code",
   "execution_count": 41,
   "metadata": {
    "collapsed": false
   },
   "outputs": [],
   "source": [
    "def getKey(item):\n",
    "    return item[0]"
   ]
  },
  {
   "cell_type": "code",
   "execution_count": 42,
   "metadata": {
    "collapsed": true
   },
   "outputs": [],
   "source": [
    "distances_sorted = sorted(my_distances,key=getKey)"
   ]
  },
  {
   "cell_type": "code",
   "execution_count": 43,
   "metadata": {
    "collapsed": false
   },
   "outputs": [
    {
     "data": {
      "text/plain": [
       "[(-0.0095496630450703276, 98391),\n",
       " (-0.0058497416186382148, 11676),\n",
       " (-0.0052484467915089785, 76499),\n",
       " (-0.0048923941382710313, 56399),\n",
       " (-0.0039849618246609432, 158295),\n",
       " (-0.003762294891643805, 204864),\n",
       " (-0.0036538999171070513, 189334),\n",
       " (-0.0036220579428763804, 107784),\n",
       " (-0.0035931042005419383, 63714)]"
      ]
     },
     "execution_count": 43,
     "metadata": {},
     "output_type": "execute_result"
    }
   ],
   "source": [
    "top_10_similar_users=distances_sorted[0:9]\n",
    "\n",
    "top_10_similar_users"
   ]
  },
  {
   "cell_type": "code",
   "execution_count": 44,
   "metadata": {
    "collapsed": true
   },
   "outputs": [],
   "source": [
    "similar_user_list = []\n",
    "\n",
    "for distance,isbn in top_10_similar_users:\n",
    "    similar_user_list.append(isbn)"
   ]
  },
  {
   "cell_type": "code",
   "execution_count": 45,
   "metadata": {
    "collapsed": false
   },
   "outputs": [
    {
     "data": {
      "text/plain": [
       "[98391, 11676, 76499, 56399, 158295, 204864, 189334, 107784, 63714]"
      ]
     },
     "execution_count": 45,
     "metadata": {},
     "output_type": "execute_result"
    }
   ],
   "source": [
    "similar_user_list"
   ]
  },
  {
   "cell_type": "code",
   "execution_count": 46,
   "metadata": {
    "collapsed": false
   },
   "outputs": [],
   "source": [
    "def find_user_book_trial(new_user_id,booksmat_st):\n",
    "    #for each user find the books that this user has not rated zero with the ISBN number\n",
    "    s1 = booksmat_st.index.get_loc(new_user_id)\n",
    "    s1_vals = booksmat_st.iloc[s1,:]\n",
    "    my_list = []\n",
    "    \n",
    "    for x in range(66076):\n",
    "        if s1_vals.values[x] != 0:\n",
    "            isbn = s1_vals.index[x]\n",
    "            rating = s1_vals.values[x]\n",
    "            user_id = new_user_id\n",
    "            # my_list.append({'userid':user_id,'isbn':isbn,'rating':rating})\n",
    "            my_list.append(isbn)\n",
    "    return my_list"
   ]
  },
  {
   "cell_type": "code",
   "execution_count": 47,
   "metadata": {
    "collapsed": true
   },
   "outputs": [],
   "source": [
    "def process_user(new_user_id,existing_user_list,booksmat_in):\n",
    "    \n",
    "    all_existinguser_books = []\n",
    "    new_user_books = []\n",
    "    \n",
    "    #Find all the books rated by the existing user\n",
    "    for userid in existing_user_list:\n",
    "        all_existinguser_books.append(find_user_book_trial(userid,booksmat_in))\n",
    "        \n",
    "    #Find all the books rated by the new user    \n",
    "    new_user_books = find_user_book_trial(new_user_id,booksmat_in)    \n",
    "    \n",
    "    return all_existinguser_books,new_user_books\n",
    "        "
   ]
  },
  {
   "cell_type": "code",
   "execution_count": 48,
   "metadata": {
    "collapsed": true
   },
   "outputs": [],
   "source": [
    "def findNeighbors_recommend_books(user_id,matrixin):\n",
    "    my_distances = computeNearestNeighbor_manhatten(user_id,matrixin)\n",
    "    top_10_similar_users=my_distances[0:9]\n",
    "    similar_user_list = []\n",
    "\n",
    "    for distance,isbn in top_10_similar_users:\n",
    "        similar_user_list.append(isbn)\n",
    "    \n",
    "    iexisting_list_booksmat,inew_list_booksmat = process_user(user_id,similar_user_list,matrixin)\n",
    "    \n",
    "    existing_list_flat_n = [item for sublist in iexisting_list_booksmat for item in sublist]\n",
    "    \n",
    "    recommended_book = [value for value in existing_list_flat_n if value not in inew_list_booksmat]\n",
    "    \n",
    "    \n",
    "    return recommended_book \n"
   ]
  },
  {
   "cell_type": "markdown",
   "metadata": {},
   "source": [
    "#### Main function call below"
   ]
  },
  {
   "cell_type": "code",
   "execution_count": 49,
   "metadata": {
    "collapsed": true
   },
   "outputs": [],
   "source": [
    "recommended_bks = findNeighbors_recommend_books(2033,booksmat)"
   ]
  },
  {
   "cell_type": "code",
   "execution_count": 50,
   "metadata": {
    "collapsed": false
   },
   "outputs": [
    {
     "data": {
      "text/plain": [
       "1210"
      ]
     },
     "execution_count": 50,
     "metadata": {},
     "output_type": "execute_result"
    }
   ],
   "source": [
    "len(recommended_bks)"
   ]
  },
  {
   "cell_type": "markdown",
   "metadata": {},
   "source": [
    "#### Checking and playing around with the recommendations we obtained"
   ]
  },
  {
   "cell_type": "code",
   "execution_count": 352,
   "metadata": {
    "collapsed": false
   },
   "outputs": [
    {
     "data": {
      "text/plain": [
       "[205735, 181176, 52584, 122793, 160295, 101606, 179718, 48494, 94951]"
      ]
     },
     "execution_count": 352,
     "metadata": {},
     "output_type": "execute_result"
    }
   ],
   "source": [
    "similar_user_list"
   ]
  },
  {
   "cell_type": "code",
   "execution_count": 399,
   "metadata": {
    "collapsed": false
   },
   "outputs": [],
   "source": [
    "\n",
    "\n",
    "texisting_list_booksmat,tnew_list_booksmat = process_user(2033,similar_user_list,booksmat)"
   ]
  },
  {
   "cell_type": "code",
   "execution_count": 400,
   "metadata": {
    "collapsed": true
   },
   "outputs": [],
   "source": [
    "existing_list_flat_n = [item for sublist in texisting_list_booksmat for item in sublist]"
   ]
  },
  {
   "cell_type": "code",
   "execution_count": 382,
   "metadata": {
    "collapsed": false
   },
   "outputs": [
    {
     "data": {
      "text/plain": [
       "129"
      ]
     },
     "execution_count": 382,
     "metadata": {},
     "output_type": "execute_result"
    }
   ],
   "source": [
    "len(tnew_list_booksmat)"
   ]
  },
  {
   "cell_type": "code",
   "execution_count": 401,
   "metadata": {
    "collapsed": false
   },
   "outputs": [
    {
     "data": {
      "text/plain": [
       "'0030020786'"
      ]
     },
     "execution_count": 401,
     "metadata": {},
     "output_type": "execute_result"
    }
   ],
   "source": [
    "tnew_list_booksmat[0]"
   ]
  },
  {
   "cell_type": "code",
   "execution_count": 388,
   "metadata": {
    "collapsed": false
   },
   "outputs": [
    {
     "data": {
      "text/html": [
       "<div>\n",
       "<style>\n",
       "    .dataframe thead tr:only-child th {\n",
       "        text-align: right;\n",
       "    }\n",
       "\n",
       "    .dataframe thead th {\n",
       "        text-align: left;\n",
       "    }\n",
       "\n",
       "    .dataframe tbody tr th {\n",
       "        vertical-align: top;\n",
       "    }\n",
       "</style>\n",
       "<table border=\"1\" class=\"dataframe\">\n",
       "  <thead>\n",
       "    <tr style=\"text-align: right;\">\n",
       "      <th></th>\n",
       "      <th>ISBN</th>\n",
       "      <th>bookTitle</th>\n",
       "      <th>bookAuthor</th>\n",
       "      <th>yearOfPublication</th>\n",
       "      <th>publisher</th>\n",
       "    </tr>\n",
       "  </thead>\n",
       "  <tbody>\n",
       "    <tr>\n",
       "      <th>2511</th>\n",
       "      <td>0030020786</td>\n",
       "      <td>Principles of Instrumental Analysis</td>\n",
       "      <td>Douglas A. Skoog</td>\n",
       "      <td>1997</td>\n",
       "      <td>Brooks Cole</td>\n",
       "    </tr>\n",
       "  </tbody>\n",
       "</table>\n",
       "</div>"
      ],
      "text/plain": [
       "            ISBN                            bookTitle        bookAuthor  \\\n",
       "2511  0030020786  Principles of Instrumental Analysis  Douglas A. Skoog   \n",
       "\n",
       "      yearOfPublication    publisher  \n",
       "2511               1997  Brooks Cole  "
      ]
     },
     "execution_count": 388,
     "metadata": {},
     "output_type": "execute_result"
    }
   ],
   "source": [
    "books.loc[books['ISBN'] == '0030020786',:]"
   ]
  },
  {
   "cell_type": "code",
   "execution_count": 383,
   "metadata": {
    "collapsed": false
   },
   "outputs": [
    {
     "data": {
      "text/plain": [
       "1215"
      ]
     },
     "execution_count": 383,
     "metadata": {},
     "output_type": "execute_result"
    }
   ],
   "source": [
    "len(existing_list_flat_n)"
   ]
  },
  {
   "cell_type": "code",
   "execution_count": 402,
   "metadata": {
    "collapsed": false
   },
   "outputs": [
    {
     "data": {
      "text/plain": [
       "'0060001445'"
      ]
     },
     "execution_count": 402,
     "metadata": {},
     "output_type": "execute_result"
    }
   ],
   "source": [
    "existing_list_flat_n[0]"
   ]
  },
  {
   "cell_type": "code",
   "execution_count": 403,
   "metadata": {
    "collapsed": false
   },
   "outputs": [
    {
     "data": {
      "text/html": [
       "<div>\n",
       "<style>\n",
       "    .dataframe thead tr:only-child th {\n",
       "        text-align: right;\n",
       "    }\n",
       "\n",
       "    .dataframe thead th {\n",
       "        text-align: left;\n",
       "    }\n",
       "\n",
       "    .dataframe tbody tr th {\n",
       "        vertical-align: top;\n",
       "    }\n",
       "</style>\n",
       "<table border=\"1\" class=\"dataframe\">\n",
       "  <thead>\n",
       "    <tr style=\"text-align: right;\">\n",
       "      <th></th>\n",
       "      <th>ISBN</th>\n",
       "      <th>bookTitle</th>\n",
       "      <th>bookAuthor</th>\n",
       "      <th>yearOfPublication</th>\n",
       "      <th>publisher</th>\n",
       "    </tr>\n",
       "  </thead>\n",
       "  <tbody>\n",
       "    <tr>\n",
       "      <th>2731</th>\n",
       "      <td>0060001445</td>\n",
       "      <td>Her Highness, My Wife</td>\n",
       "      <td>Victoria Alexander</td>\n",
       "      <td>2002</td>\n",
       "      <td>Avon</td>\n",
       "    </tr>\n",
       "  </tbody>\n",
       "</table>\n",
       "</div>"
      ],
      "text/plain": [
       "            ISBN              bookTitle          bookAuthor  \\\n",
       "2731  0060001445  Her Highness, My Wife  Victoria Alexander   \n",
       "\n",
       "      yearOfPublication publisher  \n",
       "2731               2002      Avon  "
      ]
     },
     "execution_count": 403,
     "metadata": {},
     "output_type": "execute_result"
    }
   ],
   "source": [
    "books.loc[books['ISBN'] == '0060001445',:]"
   ]
  },
  {
   "cell_type": "code",
   "execution_count": 384,
   "metadata": {
    "collapsed": true
   },
   "outputs": [],
   "source": [
    "recommended_book = [value for value in existing_list_flat_n if value not in new_list_booksmat]"
   ]
  },
  {
   "cell_type": "code",
   "execution_count": 385,
   "metadata": {
    "collapsed": false
   },
   "outputs": [
    {
     "data": {
      "text/plain": [
       "1210"
      ]
     },
     "execution_count": 385,
     "metadata": {},
     "output_type": "execute_result"
    }
   ],
   "source": [
    "len(recommended_book)"
   ]
  },
  {
   "cell_type": "markdown",
   "metadata": {},
   "source": [
    "#### User-User Based Collaborative Filtering using SKLearn NearestNeighbor Library"
   ]
  },
  {
   "cell_type": "code",
   "execution_count": 90,
   "metadata": {
    "collapsed": true
   },
   "outputs": [],
   "source": [
    "def findksimilarusers(user_id, ratings,metric,k):\n",
    "    similarities=[]\n",
    "    indices=[]\n",
    "    model_knn = NearestNeighbors(metric = metric, algorithm = 'brute') \n",
    "    model_knn.fit(ratings)\n",
    "    loc = ratings.index.get_loc(user_id)\n",
    "    distances, indices = model_knn.kneighbors(ratings.iloc[loc, :].values.reshape(1, -1), n_neighbors = k+1)\n",
    "    similarities = 1-distances.flatten()\n",
    "            \n",
    "    return similarities,indices"
   ]
  },
  {
   "cell_type": "code",
   "execution_count": 101,
   "metadata": {
    "collapsed": true
   },
   "outputs": [],
   "source": [
    "#This function predicts rating for specified user-item combination based on user-based approach\n",
    "def predict_userbased(user_id, item_id, ratings,metric,k):\n",
    "    prediction=0\n",
    "    user_loc = ratings.index.get_loc(user_id)\n",
    "    item_loc = ratings.columns.get_loc(item_id)\n",
    "    similarities, indices=findksimilarusers(user_id, ratings,metric, k) #similar users based on cosine similarity\n",
    "    #mean_rating = ratings.iloc[user_loc,:].mean() #to adjust for zero based indexing\n",
    "    sum_wt = np.sum(similarities)-1\n",
    "    product=1\n",
    "    wtd_sum = 0 \n",
    "    \n",
    "    for i in range(0, len(indices.flatten())):\n",
    "        if indices.flatten()[i] == user_loc:\n",
    "            #print('This is the current User so no need to find distance to itself = ',indices.flatten()[i])\n",
    "            continue;\n",
    "        else: \n",
    "            #check if the similar user has also rated this item and take the wight of those ratings \n",
    "            #which is in 'similarities' to come up with the rating for this item for this user\n",
    "            ratings_diff = ratings.iloc[indices.flatten()[i],item_loc]\n",
    "            product = ratings_diff * (similarities[i])\n",
    "            wtd_sum = wtd_sum + product\n",
    "            if wtd_sum==0 or sum_wt==0:\n",
    "                prediction=1\n",
    "            else:\n",
    "                prediction = int(round(wtd_sum/sum_wt))\n",
    "    \n",
    "    #in case of very sparse datasets, using correlation metric for collaborative based approach may give negative ratings\n",
    "    #which are handled here as below\n",
    "    if prediction <= 0:\n",
    "        prediction = 1   \n",
    "    elif prediction >10:\n",
    "        prediction = 10\n",
    "    \n",
    "    #prediction = int(round(mean_rating + (wtd_sum/sum_wt)))\n",
    "    #print('\\nPredicted rating for user {0} -> item {1}: {2}'.format(user_id,item_id,prediction))\n",
    "\n",
    "    return prediction"
   ]
  },
  {
   "cell_type": "code",
   "execution_count": 140,
   "metadata": {
    "collapsed": true
   },
   "outputs": [],
   "source": [
    "def recommendUser(user_id, ratings,metric,type_itemuser,k):    \n",
    "    if (user_id not in ratings.index.values) or type(user_id) is not int:\n",
    "        print(\"User id should be a valid integer from this list :\\n\\n\")\n",
    "    \n",
    "    prediction = []            \n",
    "            \n",
    "    for i in range(ratings.shape[1]):\n",
    "        if (ratings[ratings.columns[i]][user_id] > 0): \n",
    "               continue; #for already rated items\n",
    "        else:  #not rated already ,pass each column at a time ,where each column represents ratings for all users\n",
    "               #for a perticular book \n",
    "                prediction_recieved = predict_userbased(user_id,ratings.columns[i],ratings,metric,k)\n",
    "                #print('prediction_recieved=',prediction_recieved)\n",
    "                prediction.append(prediction_recieved)\n",
    "    \n",
    "    #note that the list 'prediction' will contains one column for each item and the value of that column will be\n",
    "    #the predicted rating, after we convert list to pandas data frame , the index will be the column number\n",
    "    #in the list and value will be actual value at that column\n",
    "    prediction = pd.Series(prediction)\n",
    "    #note that when we sort , the index of the respective element will stay as the index inthe sorted data frame\n",
    "    prediction = prediction.sort_values(ascending=False)\n",
    "    #we take the first ten items , note that value will be ratings and index will be the actual index of the item\n",
    "    #in the matrix\n",
    "    recommended = prediction[:10]\n",
    "    return recommended\n",
    "      "
   ]
  },
  {
   "cell_type": "code",
   "execution_count": 107,
   "metadata": {
    "collapsed": false
   },
   "outputs": [
    {
     "data": {
      "text/plain": [
       "(440, 66076)"
      ]
     },
     "execution_count": 107,
     "metadata": {},
     "output_type": "execute_result"
    }
   ],
   "source": [
    "booksmat.shape"
   ]
  },
  {
   "cell_type": "code",
   "execution_count": 113,
   "metadata": {
    "collapsed": false
   },
   "outputs": [],
   "source": [
    "\n",
    "booksmat_resize = booksmat.iloc[0:439,0:9000]"
   ]
  },
  {
   "cell_type": "code",
   "execution_count": 114,
   "metadata": {
    "collapsed": false
   },
   "outputs": [
    {
     "data": {
      "text/plain": [
       "(439, 9000)"
      ]
     },
     "execution_count": 114,
     "metadata": {},
     "output_type": "execute_result"
    }
   ],
   "source": [
    "booksmat_resize.shape"
   ]
  },
  {
   "cell_type": "code",
   "execution_count": 141,
   "metadata": {
    "collapsed": false
   },
   "outputs": [],
   "source": [
    "recomended_list3 = recommendUser(2033,booksmat_resize,'cosine','Item',2)"
   ]
  },
  {
   "cell_type": "code",
   "execution_count": 142,
   "metadata": {
    "collapsed": false
   },
   "outputs": [
    {
     "data": {
      "text/plain": [
       "(10,)"
      ]
     },
     "execution_count": 142,
     "metadata": {},
     "output_type": "execute_result"
    }
   ],
   "source": [
    "recomended_list3.shape"
   ]
  },
  {
   "cell_type": "code",
   "execution_count": 146,
   "metadata": {
    "collapsed": false
   },
   "outputs": [
    {
     "data": {
      "text/plain": [
       "1256    7\n",
       "5701    7\n",
       "7690    6\n",
       "7673    6\n",
       "7688    6\n",
       "1694    6\n",
       "5632    5\n",
       "1242    5\n",
       "7658    5\n",
       "7674    5\n",
       "dtype: int64"
      ]
     },
     "execution_count": 146,
     "metadata": {},
     "output_type": "execute_result"
    }
   ],
   "source": [
    "recomended_list3"
   ]
  },
  {
   "cell_type": "code",
   "execution_count": 133,
   "metadata": {
    "collapsed": false
   },
   "outputs": [
    {
     "data": {
      "text/plain": [
       "array([7, 7, 6, 6, 6, 6, 5, 5, 5, 5])"
      ]
     },
     "execution_count": 133,
     "metadata": {},
     "output_type": "execute_result"
    }
   ],
   "source": [
    "recomended_list3.values"
   ]
  },
  {
   "cell_type": "code",
   "execution_count": 134,
   "metadata": {
    "collapsed": false
   },
   "outputs": [
    {
     "data": {
      "text/plain": [
       "Int64Index([1256, 5701, 7690, 7673, 7688, 1694, 5632, 1242, 7658, 7674], dtype='int64')"
      ]
     },
     "execution_count": 134,
     "metadata": {},
     "output_type": "execute_result"
    }
   ],
   "source": [
    "recomended_list3.index"
   ]
  },
  {
   "cell_type": "code",
   "execution_count": 147,
   "metadata": {
    "collapsed": false
   },
   "outputs": [
    {
     "data": {
      "text/plain": [
       "'Metropolis (Bfi Film Classics, 54)'"
      ]
     },
     "execution_count": 147,
     "metadata": {},
     "output_type": "execute_result"
    }
   ],
   "source": [
    "books.bookTitle[recomended_list3.index[0]]"
   ]
  },
  {
   "cell_type": "code",
   "execution_count": 154,
   "metadata": {
    "collapsed": false
   },
   "outputs": [
    {
     "name": "stdout",
     "output_type": "stream",
     "text": [
      "Here are the recommended books as per User-User Collaborative Filtering for User-2033\n",
      "\n",
      "Book-Name =  Metropolis (Bfi Film Classics, 54)\n",
      "Book-Name =  Mr. Lincoln's Wars : A Novel in Thirteen Stories\n",
      "Book-Name =  Without Remorse\n",
      "Book-Name =  Life Strategies: Doing What Works, Doing What Matters\n",
      "Book-Name =  Gone for Good\n",
      "Book-Name =  The Alchemist: A Fable About Following Your Dream\n",
      "Book-Name =  Absent without leave: Two novellas\n",
      "Book-Name =  The Union Forever (Lost Regiment (Numbered))\n",
      "Book-Name =  The Island of Lost Maps: A True Story of Cartographic Crime\n"
     ]
    }
   ],
   "source": [
    "print('Here are the recommended books as per User-User Collaborative Filtering for User-2033\\n')\n",
    "\n",
    "for i in range(0,9):\n",
    "   \n",
    "    print('Book-Name = ',books.bookTitle[recomended_list3.index[i]])\n",
    "\n",
    "\n"
   ]
  },
  {
   "cell_type": "markdown",
   "metadata": {
    "collapsed": true
   },
   "source": [
    "#### Item-Item Based Collaborative Filtering using SKLearn NearestNeighbor Library"
   ]
  },
  {
   "cell_type": "code",
   "execution_count": 415,
   "metadata": {
    "collapsed": false
   },
   "outputs": [
    {
     "data": {
      "text/html": [
       "<div>\n",
       "<style>\n",
       "    .dataframe thead tr:only-child th {\n",
       "        text-align: right;\n",
       "    }\n",
       "\n",
       "    .dataframe thead th {\n",
       "        text-align: left;\n",
       "    }\n",
       "\n",
       "    .dataframe tbody tr th {\n",
       "        vertical-align: top;\n",
       "    }\n",
       "</style>\n",
       "<table border=\"1\" class=\"dataframe\">\n",
       "  <thead>\n",
       "    <tr style=\"text-align: right;\">\n",
       "      <th>ISBN</th>\n",
       "      <th>0000913154</th>\n",
       "      <th>0001046438</th>\n",
       "      <th>000104687X</th>\n",
       "      <th>0001047213</th>\n",
       "      <th>0001047973</th>\n",
       "      <th>000104799X</th>\n",
       "      <th>0001048082</th>\n",
       "      <th>0001053736</th>\n",
       "      <th>0001053744</th>\n",
       "      <th>0001055607</th>\n",
       "      <th>...</th>\n",
       "      <th>B000092Q0A</th>\n",
       "      <th>B00009EF82</th>\n",
       "      <th>B00009NDAN</th>\n",
       "      <th>B0000DYXID</th>\n",
       "      <th>B0000T6KHI</th>\n",
       "      <th>B0000VZEJQ</th>\n",
       "      <th>B0000X8HIE</th>\n",
       "      <th>B00013AX9E</th>\n",
       "      <th>B0001I1KOG</th>\n",
       "      <th>B000234N3A</th>\n",
       "    </tr>\n",
       "    <tr>\n",
       "      <th>User-ID</th>\n",
       "      <th></th>\n",
       "      <th></th>\n",
       "      <th></th>\n",
       "      <th></th>\n",
       "      <th></th>\n",
       "      <th></th>\n",
       "      <th></th>\n",
       "      <th></th>\n",
       "      <th></th>\n",
       "      <th></th>\n",
       "      <th></th>\n",
       "      <th></th>\n",
       "      <th></th>\n",
       "      <th></th>\n",
       "      <th></th>\n",
       "      <th></th>\n",
       "      <th></th>\n",
       "      <th></th>\n",
       "      <th></th>\n",
       "      <th></th>\n",
       "      <th></th>\n",
       "    </tr>\n",
       "  </thead>\n",
       "  <tbody>\n",
       "    <tr>\n",
       "      <th>2033</th>\n",
       "      <td>0</td>\n",
       "      <td>0</td>\n",
       "      <td>0</td>\n",
       "      <td>0</td>\n",
       "      <td>0</td>\n",
       "      <td>0</td>\n",
       "      <td>0</td>\n",
       "      <td>0</td>\n",
       "      <td>0</td>\n",
       "      <td>0</td>\n",
       "      <td>...</td>\n",
       "      <td>0</td>\n",
       "      <td>0</td>\n",
       "      <td>0</td>\n",
       "      <td>0</td>\n",
       "      <td>0</td>\n",
       "      <td>0</td>\n",
       "      <td>0</td>\n",
       "      <td>0</td>\n",
       "      <td>0</td>\n",
       "      <td>0</td>\n",
       "    </tr>\n",
       "    <tr>\n",
       "      <th>2110</th>\n",
       "      <td>0</td>\n",
       "      <td>0</td>\n",
       "      <td>0</td>\n",
       "      <td>0</td>\n",
       "      <td>0</td>\n",
       "      <td>0</td>\n",
       "      <td>0</td>\n",
       "      <td>0</td>\n",
       "      <td>0</td>\n",
       "      <td>0</td>\n",
       "      <td>...</td>\n",
       "      <td>0</td>\n",
       "      <td>0</td>\n",
       "      <td>0</td>\n",
       "      <td>0</td>\n",
       "      <td>0</td>\n",
       "      <td>0</td>\n",
       "      <td>0</td>\n",
       "      <td>0</td>\n",
       "      <td>0</td>\n",
       "      <td>0</td>\n",
       "    </tr>\n",
       "    <tr>\n",
       "      <th>2276</th>\n",
       "      <td>0</td>\n",
       "      <td>0</td>\n",
       "      <td>0</td>\n",
       "      <td>0</td>\n",
       "      <td>0</td>\n",
       "      <td>0</td>\n",
       "      <td>0</td>\n",
       "      <td>0</td>\n",
       "      <td>0</td>\n",
       "      <td>0</td>\n",
       "      <td>...</td>\n",
       "      <td>0</td>\n",
       "      <td>0</td>\n",
       "      <td>0</td>\n",
       "      <td>0</td>\n",
       "      <td>0</td>\n",
       "      <td>0</td>\n",
       "      <td>0</td>\n",
       "      <td>0</td>\n",
       "      <td>0</td>\n",
       "      <td>0</td>\n",
       "    </tr>\n",
       "    <tr>\n",
       "      <th>4017</th>\n",
       "      <td>0</td>\n",
       "      <td>0</td>\n",
       "      <td>0</td>\n",
       "      <td>0</td>\n",
       "      <td>0</td>\n",
       "      <td>0</td>\n",
       "      <td>0</td>\n",
       "      <td>0</td>\n",
       "      <td>0</td>\n",
       "      <td>0</td>\n",
       "      <td>...</td>\n",
       "      <td>0</td>\n",
       "      <td>0</td>\n",
       "      <td>0</td>\n",
       "      <td>0</td>\n",
       "      <td>0</td>\n",
       "      <td>0</td>\n",
       "      <td>0</td>\n",
       "      <td>0</td>\n",
       "      <td>0</td>\n",
       "      <td>0</td>\n",
       "    </tr>\n",
       "    <tr>\n",
       "      <th>4385</th>\n",
       "      <td>0</td>\n",
       "      <td>0</td>\n",
       "      <td>0</td>\n",
       "      <td>0</td>\n",
       "      <td>0</td>\n",
       "      <td>0</td>\n",
       "      <td>0</td>\n",
       "      <td>0</td>\n",
       "      <td>0</td>\n",
       "      <td>0</td>\n",
       "      <td>...</td>\n",
       "      <td>0</td>\n",
       "      <td>0</td>\n",
       "      <td>0</td>\n",
       "      <td>0</td>\n",
       "      <td>0</td>\n",
       "      <td>0</td>\n",
       "      <td>0</td>\n",
       "      <td>0</td>\n",
       "      <td>0</td>\n",
       "      <td>0</td>\n",
       "    </tr>\n",
       "  </tbody>\n",
       "</table>\n",
       "<p>5 rows × 66076 columns</p>\n",
       "</div>"
      ],
      "text/plain": [
       "ISBN     0000913154  0001046438  000104687X  0001047213  0001047973  \\\n",
       "User-ID                                                               \n",
       "2033              0           0           0           0           0   \n",
       "2110              0           0           0           0           0   \n",
       "2276              0           0           0           0           0   \n",
       "4017              0           0           0           0           0   \n",
       "4385              0           0           0           0           0   \n",
       "\n",
       "ISBN     000104799X  0001048082  0001053736  0001053744  0001055607  \\\n",
       "User-ID                                                               \n",
       "2033              0           0           0           0           0   \n",
       "2110              0           0           0           0           0   \n",
       "2276              0           0           0           0           0   \n",
       "4017              0           0           0           0           0   \n",
       "4385              0           0           0           0           0   \n",
       "\n",
       "ISBN        ...      B000092Q0A  B00009EF82  B00009NDAN  B0000DYXID  \\\n",
       "User-ID     ...                                                       \n",
       "2033        ...               0           0           0           0   \n",
       "2110        ...               0           0           0           0   \n",
       "2276        ...               0           0           0           0   \n",
       "4017        ...               0           0           0           0   \n",
       "4385        ...               0           0           0           0   \n",
       "\n",
       "ISBN     B0000T6KHI  B0000VZEJQ  B0000X8HIE  B00013AX9E  B0001I1KOG  \\\n",
       "User-ID                                                               \n",
       "2033              0           0           0           0           0   \n",
       "2110              0           0           0           0           0   \n",
       "2276              0           0           0           0           0   \n",
       "4017              0           0           0           0           0   \n",
       "4385              0           0           0           0           0   \n",
       "\n",
       "ISBN     B000234N3A  \n",
       "User-ID              \n",
       "2033              0  \n",
       "2110              0  \n",
       "2276              0  \n",
       "4017              0  \n",
       "4385              0  \n",
       "\n",
       "[5 rows x 66076 columns]"
      ]
     },
     "execution_count": 415,
     "metadata": {},
     "output_type": "execute_result"
    }
   ],
   "source": [
    "booksmat.head()"
   ]
  },
  {
   "cell_type": "code",
   "execution_count": 51,
   "metadata": {
    "collapsed": false
   },
   "outputs": [],
   "source": [
    "booksmat_matrix = pd.DataFrame(booksmat)"
   ]
  },
  {
   "cell_type": "code",
   "execution_count": 52,
   "metadata": {
    "collapsed": false
   },
   "outputs": [
    {
     "data": {
      "text/plain": [
       "(440, 66076)"
      ]
     },
     "execution_count": 52,
     "metadata": {},
     "output_type": "execute_result"
    }
   ],
   "source": [
    "booksmat_matrix.shape"
   ]
  },
  {
   "cell_type": "code",
   "execution_count": 419,
   "metadata": {
    "collapsed": false
   },
   "outputs": [
    {
     "data": {
      "text/plain": [
       "Int64Index([  2033,   2110,   2276,   4017,   4385,   5582,   6242,   6251,\n",
       "              6543,   6575,\n",
       "            ...\n",
       "            269566, 270713, 271448, 271705, 273113, 274061, 274301, 275970,\n",
       "            277427, 278418],\n",
       "           dtype='int64', name='User-ID', length=440)"
      ]
     },
     "execution_count": 419,
     "metadata": {},
     "output_type": "execute_result"
    }
   ],
   "source": [
    "booksmat_matrix.index"
   ]
  },
  {
   "cell_type": "code",
   "execution_count": 52,
   "metadata": {
    "collapsed": false
   },
   "outputs": [],
   "source": [
    "transpose_booksmat = booksmat.T"
   ]
  },
  {
   "cell_type": "code",
   "execution_count": 54,
   "metadata": {
    "collapsed": false
   },
   "outputs": [
    {
     "data": {
      "text/html": [
       "<div>\n",
       "<table border=\"1\" class=\"dataframe\">\n",
       "  <thead>\n",
       "    <tr style=\"text-align: right;\">\n",
       "      <th>User-ID</th>\n",
       "      <th>2033</th>\n",
       "      <th>2110</th>\n",
       "      <th>2276</th>\n",
       "      <th>4017</th>\n",
       "      <th>4385</th>\n",
       "      <th>5582</th>\n",
       "      <th>6242</th>\n",
       "      <th>6251</th>\n",
       "      <th>6543</th>\n",
       "      <th>6575</th>\n",
       "      <th>...</th>\n",
       "      <th>269566</th>\n",
       "      <th>270713</th>\n",
       "      <th>271448</th>\n",
       "      <th>271705</th>\n",
       "      <th>273113</th>\n",
       "      <th>274061</th>\n",
       "      <th>274301</th>\n",
       "      <th>275970</th>\n",
       "      <th>277427</th>\n",
       "      <th>278418</th>\n",
       "    </tr>\n",
       "    <tr>\n",
       "      <th>ISBN</th>\n",
       "      <th></th>\n",
       "      <th></th>\n",
       "      <th></th>\n",
       "      <th></th>\n",
       "      <th></th>\n",
       "      <th></th>\n",
       "      <th></th>\n",
       "      <th></th>\n",
       "      <th></th>\n",
       "      <th></th>\n",
       "      <th></th>\n",
       "      <th></th>\n",
       "      <th></th>\n",
       "      <th></th>\n",
       "      <th></th>\n",
       "      <th></th>\n",
       "      <th></th>\n",
       "      <th></th>\n",
       "      <th></th>\n",
       "      <th></th>\n",
       "      <th></th>\n",
       "    </tr>\n",
       "  </thead>\n",
       "  <tbody>\n",
       "    <tr>\n",
       "      <th>0000913154</th>\n",
       "      <td>0</td>\n",
       "      <td>0</td>\n",
       "      <td>0</td>\n",
       "      <td>0</td>\n",
       "      <td>0</td>\n",
       "      <td>0</td>\n",
       "      <td>0</td>\n",
       "      <td>0</td>\n",
       "      <td>0</td>\n",
       "      <td>0</td>\n",
       "      <td>...</td>\n",
       "      <td>0</td>\n",
       "      <td>0</td>\n",
       "      <td>0</td>\n",
       "      <td>0</td>\n",
       "      <td>0</td>\n",
       "      <td>0</td>\n",
       "      <td>0</td>\n",
       "      <td>0</td>\n",
       "      <td>0</td>\n",
       "      <td>0</td>\n",
       "    </tr>\n",
       "    <tr>\n",
       "      <th>0001046438</th>\n",
       "      <td>0</td>\n",
       "      <td>0</td>\n",
       "      <td>0</td>\n",
       "      <td>0</td>\n",
       "      <td>0</td>\n",
       "      <td>0</td>\n",
       "      <td>0</td>\n",
       "      <td>0</td>\n",
       "      <td>0</td>\n",
       "      <td>0</td>\n",
       "      <td>...</td>\n",
       "      <td>0</td>\n",
       "      <td>0</td>\n",
       "      <td>0</td>\n",
       "      <td>0</td>\n",
       "      <td>0</td>\n",
       "      <td>0</td>\n",
       "      <td>0</td>\n",
       "      <td>0</td>\n",
       "      <td>0</td>\n",
       "      <td>0</td>\n",
       "    </tr>\n",
       "    <tr>\n",
       "      <th>000104687X</th>\n",
       "      <td>0</td>\n",
       "      <td>0</td>\n",
       "      <td>0</td>\n",
       "      <td>0</td>\n",
       "      <td>0</td>\n",
       "      <td>0</td>\n",
       "      <td>0</td>\n",
       "      <td>0</td>\n",
       "      <td>0</td>\n",
       "      <td>0</td>\n",
       "      <td>...</td>\n",
       "      <td>0</td>\n",
       "      <td>0</td>\n",
       "      <td>0</td>\n",
       "      <td>0</td>\n",
       "      <td>0</td>\n",
       "      <td>0</td>\n",
       "      <td>0</td>\n",
       "      <td>0</td>\n",
       "      <td>0</td>\n",
       "      <td>0</td>\n",
       "    </tr>\n",
       "    <tr>\n",
       "      <th>0001047213</th>\n",
       "      <td>0</td>\n",
       "      <td>0</td>\n",
       "      <td>0</td>\n",
       "      <td>0</td>\n",
       "      <td>0</td>\n",
       "      <td>0</td>\n",
       "      <td>0</td>\n",
       "      <td>0</td>\n",
       "      <td>0</td>\n",
       "      <td>0</td>\n",
       "      <td>...</td>\n",
       "      <td>0</td>\n",
       "      <td>0</td>\n",
       "      <td>0</td>\n",
       "      <td>0</td>\n",
       "      <td>0</td>\n",
       "      <td>0</td>\n",
       "      <td>0</td>\n",
       "      <td>0</td>\n",
       "      <td>0</td>\n",
       "      <td>0</td>\n",
       "    </tr>\n",
       "    <tr>\n",
       "      <th>0001047973</th>\n",
       "      <td>0</td>\n",
       "      <td>0</td>\n",
       "      <td>0</td>\n",
       "      <td>0</td>\n",
       "      <td>0</td>\n",
       "      <td>0</td>\n",
       "      <td>0</td>\n",
       "      <td>0</td>\n",
       "      <td>0</td>\n",
       "      <td>0</td>\n",
       "      <td>...</td>\n",
       "      <td>0</td>\n",
       "      <td>0</td>\n",
       "      <td>0</td>\n",
       "      <td>0</td>\n",
       "      <td>0</td>\n",
       "      <td>0</td>\n",
       "      <td>0</td>\n",
       "      <td>0</td>\n",
       "      <td>0</td>\n",
       "      <td>0</td>\n",
       "    </tr>\n",
       "  </tbody>\n",
       "</table>\n",
       "<p>5 rows × 440 columns</p>\n",
       "</div>"
      ],
      "text/plain": [
       "User-ID     2033    2110    2276    4017    4385    5582    6242    6251    \\\n",
       "ISBN                                                                         \n",
       "0000913154       0       0       0       0       0       0       0       0   \n",
       "0001046438       0       0       0       0       0       0       0       0   \n",
       "000104687X       0       0       0       0       0       0       0       0   \n",
       "0001047213       0       0       0       0       0       0       0       0   \n",
       "0001047973       0       0       0       0       0       0       0       0   \n",
       "\n",
       "User-ID     6543    6575     ...    269566  270713  271448  271705  273113  \\\n",
       "ISBN                         ...                                             \n",
       "0000913154       0       0   ...         0       0       0       0       0   \n",
       "0001046438       0       0   ...         0       0       0       0       0   \n",
       "000104687X       0       0   ...         0       0       0       0       0   \n",
       "0001047213       0       0   ...         0       0       0       0       0   \n",
       "0001047973       0       0   ...         0       0       0       0       0   \n",
       "\n",
       "User-ID     274061  274301  275970  277427  278418  \n",
       "ISBN                                                \n",
       "0000913154       0       0       0       0       0  \n",
       "0001046438       0       0       0       0       0  \n",
       "000104687X       0       0       0       0       0  \n",
       "0001047213       0       0       0       0       0  \n",
       "0001047973       0       0       0       0       0  \n",
       "\n",
       "[5 rows x 440 columns]"
      ]
     },
     "execution_count": 54,
     "metadata": {},
     "output_type": "execute_result"
    }
   ],
   "source": [
    "transpose_booksmat.head()"
   ]
  },
  {
   "cell_type": "code",
   "execution_count": 64,
   "metadata": {
    "collapsed": false
   },
   "outputs": [
    {
     "data": {
      "text/plain": [
       "(66076, 440)"
      ]
     },
     "execution_count": 64,
     "metadata": {},
     "output_type": "execute_result"
    }
   ],
   "source": [
    "transpose_booksmat.shape"
   ]
  },
  {
   "cell_type": "code",
   "execution_count": 59,
   "metadata": {
    "collapsed": false
   },
   "outputs": [],
   "source": [
    "itemid = '0000913154'\n",
    "\n",
    "loc = transpose_booksmat.index.get_loc(itemid)"
   ]
  },
  {
   "cell_type": "code",
   "execution_count": 65,
   "metadata": {
    "collapsed": false
   },
   "outputs": [],
   "source": [
    "s1_entries = transpose_booksmat.iloc[loc,:]\n",
    "\n"
   ]
  },
  {
   "cell_type": "code",
   "execution_count": 66,
   "metadata": {
    "collapsed": false
   },
   "outputs": [
    {
     "data": {
      "text/plain": [
       "(440,)"
      ]
     },
     "execution_count": 66,
     "metadata": {},
     "output_type": "execute_result"
    }
   ],
   "source": [
    "s1_entries.shape"
   ]
  },
  {
   "cell_type": "code",
   "execution_count": 67,
   "metadata": {
    "collapsed": false
   },
   "outputs": [
    {
     "data": {
      "text/plain": [
       "array([0, 0, 0, 0, 0, 0, 0, 0, 0, 0, 0, 0, 0, 0, 0, 0, 0, 0, 0, 0, 0, 0, 0,\n",
       "       0, 0, 0, 0, 0, 0, 0, 0, 0, 0, 0, 0, 0, 0, 0, 0, 0, 0, 0, 0, 0, 0, 0,\n",
       "       0, 0, 0, 0, 0, 0, 0, 0, 0, 0, 0, 0, 0, 0, 0, 0, 0, 0, 0, 0, 0, 0, 0,\n",
       "       0, 0, 0, 0, 0, 0, 0, 0, 0, 0, 0, 0, 0, 0, 0, 0, 0, 0, 0, 0, 0, 0, 0,\n",
       "       0, 0, 0, 0, 0, 0, 0, 0, 0, 0, 0, 0, 0, 0, 0, 0, 0, 0, 0, 0, 0, 0, 0,\n",
       "       0, 0, 0, 0, 0, 0, 0, 0, 0, 0, 0, 0, 0, 0, 0, 0, 0, 0, 0, 0, 0, 0, 0,\n",
       "       0, 0, 0, 0, 0, 0, 0, 0, 0, 0, 0, 0, 0, 0, 0, 0, 0, 0, 0, 0, 0, 0, 0,\n",
       "       0, 0, 0, 0, 0, 0, 0, 0, 0, 0, 0, 0, 0, 0, 0, 0, 0, 0, 0, 0, 0, 0, 0,\n",
       "       0, 0, 0, 0, 0, 0, 0, 0, 0, 0, 0, 0, 0, 0, 0, 0, 0, 0, 0, 0, 0, 0, 0,\n",
       "       0, 0, 0, 0, 0, 0, 0, 0, 0, 0, 0, 0, 0, 0, 0, 0, 0, 0, 0, 0, 0, 0, 0,\n",
       "       0, 0, 0, 0, 0, 0, 0, 0, 0, 0, 0, 0, 0, 0, 0, 0, 0, 0, 0, 0, 0, 0, 0,\n",
       "       0, 0, 0, 0, 0, 0, 0, 0, 0, 0, 0, 0, 0, 0, 0, 0, 0, 0, 0, 8, 0, 0, 0,\n",
       "       0, 0, 0, 0, 0, 0, 0, 0, 0, 0, 0, 0, 0, 0, 0, 0, 0, 0, 0, 0, 0, 0, 0,\n",
       "       0, 0, 0, 0, 0, 0, 0, 0, 0, 0, 0, 0, 0, 0, 0, 0, 0, 0, 0, 0, 0, 0, 0,\n",
       "       0, 0, 0, 0, 0, 0, 0, 0, 0, 0, 0, 0, 0, 0, 0, 0, 0, 0, 0, 0, 0, 0, 0,\n",
       "       0, 0, 0, 0, 0, 0, 0, 0, 0, 0, 0, 0, 0, 0, 0, 0, 0, 0, 0, 0, 0, 0, 0,\n",
       "       0, 0, 0, 0, 0, 0, 0, 0, 0, 0, 0, 0, 0, 0, 0, 0, 0, 0, 0, 0, 0, 0, 0,\n",
       "       0, 0, 0, 0, 0, 0, 0, 0, 0, 0, 0, 0, 0, 0, 0, 0, 0, 0, 0, 0, 0, 0, 0,\n",
       "       0, 0, 0, 0, 0, 0, 0, 0, 0, 0, 0, 0, 0, 0, 0, 0, 0, 0, 0, 0, 0, 0, 0,\n",
       "       0, 0, 0], dtype=int32)"
      ]
     },
     "execution_count": 67,
     "metadata": {},
     "output_type": "execute_result"
    }
   ],
   "source": [
    "s1_entries.values"
   ]
  },
  {
   "cell_type": "code",
   "execution_count": 69,
   "metadata": {
    "collapsed": false
   },
   "outputs": [],
   "source": [
    "reshaped_arr = s1_entries.values.reshape(1,-1)"
   ]
  },
  {
   "cell_type": "code",
   "execution_count": 70,
   "metadata": {
    "collapsed": false
   },
   "outputs": [
    {
     "data": {
      "text/plain": [
       "(1, 440)"
      ]
     },
     "execution_count": 70,
     "metadata": {},
     "output_type": "execute_result"
    }
   ],
   "source": [
    "reshaped_arr.shape\n"
   ]
  },
  {
   "cell_type": "code",
   "execution_count": 77,
   "metadata": {
    "collapsed": false
   },
   "outputs": [
    {
     "data": {
      "text/plain": [
       "array([[ 0.5,  1.5]])"
      ]
     },
     "execution_count": 77,
     "metadata": {},
     "output_type": "execute_result"
    }
   ],
   "source": [
    "samples = [[0., 0., 0.], [0., .5, 0.], [1., 1., .5]]\n",
    "from sklearn.neighbors import NearestNeighbors\n",
    "neigh = NearestNeighbors(n_neighbors=2)\n",
    "neigh.fit(samples) \n",
    "\n",
    "distances,indices = neigh.kneighbors([[1., 1., 1.]])\n",
    "\n",
    "distances\n"
   ]
  },
  {
   "cell_type": "code",
   "execution_count": 89,
   "metadata": {
    "collapsed": false
   },
   "outputs": [
    {
     "data": {
      "text/plain": [
       "array([[2, 1]])"
      ]
     },
     "execution_count": 89,
     "metadata": {},
     "output_type": "execute_result"
    }
   ],
   "source": [
    "indices"
   ]
  },
  {
   "cell_type": "code",
   "execution_count": 80,
   "metadata": {
    "collapsed": false
   },
   "outputs": [
    {
     "data": {
      "text/plain": [
       "array([[ 0.,  1.,  1.]])"
      ]
     },
     "execution_count": 80,
     "metadata": {},
     "output_type": "execute_result"
    }
   ],
   "source": [
    "A = neigh.kneighbors_graph([[1., 1., 1.]])\n",
    "A.toarray()"
   ]
  },
  {
   "cell_type": "code",
   "execution_count": 79,
   "metadata": {
    "collapsed": false
   },
   "outputs": [
    {
     "data": {
      "text/plain": [
       "array([ 0.5, -0.5])"
      ]
     },
     "execution_count": 79,
     "metadata": {},
     "output_type": "execute_result"
    }
   ],
   "source": [
    "1 - distances.flatten()"
   ]
  },
  {
   "cell_type": "code",
   "execution_count": 74,
   "metadata": {
    "collapsed": false
   },
   "outputs": [
    {
     "data": {
      "text/plain": [
       "array([[2, 1]])"
      ]
     },
     "execution_count": 74,
     "metadata": {},
     "output_type": "execute_result"
    }
   ],
   "source": [
    "indices"
   ]
  },
  {
   "cell_type": "code",
   "execution_count": 155,
   "metadata": {
    "collapsed": false
   },
   "outputs": [],
   "source": [
    "def findksimilaritems(item_id, ratings, metric,k):\n",
    "    similarities=[]\n",
    "    indices=[]\n",
    "    #setting the transpose of the matrix\n",
    "    ratings=ratings.T\n",
    "    #getitng the location of the item \n",
    "    loc = ratings.index.get_loc(item_id)\n",
    "    #using the SKLearn Nearest Neighbors\n",
    "    model_knn = NearestNeighbors(metric = metric, algorithm = 'brute')\n",
    "    model_knn.fit(ratings)\n",
    "    \n",
    "    #since the 'kneighbors' method needs a two dimensional array we reshape our item vector into 2-D array\n",
    "    distances, indices = model_knn.kneighbors(ratings.iloc[loc, :].values.reshape(1, -1), n_neighbors = k+1)\n",
    "    #cosine_similarity = 1 - cosine_distance\n",
    "    if metric == 'cosine':\n",
    "        similarities = 1-distances.flatten()\n",
    "\n",
    "    return similarities,indices"
   ]
  },
  {
   "cell_type": "code",
   "execution_count": 162,
   "metadata": {
    "collapsed": false
   },
   "outputs": [],
   "source": [
    "#for each Item check its nearest items and get the distances of each nearest item\n",
    "#calculate the rating for this item for this user by applying the weight of each neighbour and adding them up\n",
    "#to come up with the final prediction\n",
    "\n",
    "def predict_itembased(user_id, item_id, ratings,metric,k):\n",
    "    \n",
    "    #print('User id=',user_id)\n",
    "    #print('item id=',item_id)\n",
    "    \n",
    "    \n",
    "    prediction= wtd_sum =0\n",
    "    user_loc = ratings.index.get_loc(user_id)\n",
    "    item_loc = ratings.columns.get_loc(item_id)\n",
    "    \n",
    "    #print('item_loc=',item_loc)\n",
    "    #print('User_loc=',user_loc)\n",
    "    \n",
    "    similarities, indices=findksimilaritems(item_id, ratings,metric,k) \n",
    "    sum_wt = np.sum(similarities)-1\n",
    "    #print('sum_wt=',sum_wt)\n",
    "    \n",
    "    product=1\n",
    "    \n",
    "    #print('flatted indeices =', indices.flatten())\n",
    "    #print('similarities = ',similarities)\n",
    "    \n",
    "    for i in range(0, len(indices.flatten())):\n",
    "        \n",
    "        #print('i = ',i)\n",
    "        \n",
    "        if indices.flatten()[i] == item_loc :\n",
    "            \n",
    "            #print('This is the current item so no need to find distance to itself = ',indices.flatten()[i])\n",
    "            \n",
    "            continue;\n",
    "        else:\n",
    "            #check if this same user had rated other similar item and how much weight to assign\n",
    "            #'similarities' will give us that , we add this weight 'product' to come up with\n",
    "            #final rating\n",
    "            product = ratings.iloc[user_loc,indices.flatten()[i]] * (similarities[i])\n",
    "            \n",
    "            wtd_sum = wtd_sum + product   \n",
    "               #print('wtd_sum=',wtd_sum)\n",
    "            \n",
    "            if wtd_sum==0 or sum_wt==0:\n",
    "                prediction=1\n",
    "            else:\n",
    "                prediction = int(round(wtd_sum/sum_wt))\n",
    "      \n",
    "            #print('prediction = ', prediction)\n",
    "    \n",
    "    #in case of very sparse datasets, using correlation metric for collaborative based approach may give negative ratings\n",
    "    #which are handled here as below //code has been validated without the code snippet below, below snippet is to avoid negative\n",
    "    #predictions which might arise in case of very sparse datasets when using correlation metric\n",
    "    if prediction <= 0:\n",
    "         prediction = 1   \n",
    "    #elif prediction >10:\n",
    "     #   prediction = 10\n",
    "\n",
    "    #print ('Predicted rating for user {0} -> item {1}: {2}\\n'.format(user_id,item_id,prediction))      \n",
    "    \n",
    "    return prediction\n"
   ]
  },
  {
   "cell_type": "code",
   "execution_count": 158,
   "metadata": {
    "collapsed": true
   },
   "outputs": [],
   "source": [
    "def recommendItem(user_id, ratings,metric,type_itemuser,k):    \n",
    "    if (user_id not in ratings.index.values) or type(user_id) is not int:\n",
    "        print(\"User id should be a valid integer from this list :\\n\\n\")\n",
    "    \n",
    "    prediction = []            \n",
    "            \n",
    "    for i in range(ratings.shape[1]):\n",
    "        if (ratings[ratings.columns[i]][user_id] > 0): \n",
    "               continue; #for already rated items\n",
    "        else:  #not rated already ,pass each column at a time ,where each column represents ratings for all users\n",
    "               #for a perticular book \n",
    "                prediction.append(predict_itembased(user_id,ratings.columns[i],ratings,metric,k))\n",
    "        \n",
    "    prediction = pd.Series(prediction)\n",
    "    prediction = prediction.sort_values(ascending=False)\n",
    "    recommended = prediction[:10]\n",
    "    return recommended\n",
    "      "
   ]
  },
  {
   "cell_type": "code",
   "execution_count": 164,
   "metadata": {
    "collapsed": false
   },
   "outputs": [],
   "source": [
    "recomended_list5 = recommendItem(2033,booksmat_resize,'cosine','Item',1)"
   ]
  },
  {
   "cell_type": "code",
   "execution_count": 165,
   "metadata": {
    "collapsed": false
   },
   "outputs": [
    {
     "name": "stdout",
     "output_type": "stream",
     "text": [
      "Here are the recommended books as per User-User Collaborative Filtering for User-2033\n",
      "\n",
      "Book-Name =  Sanft entschlafen. Commissario Brunettis sechster Fall.\n",
      "Book-Name =  Night Of The Living Dad (Baby Blues Scrapbook , No 6)\n",
      "Book-Name =  Where I'm Calling from: New and Selected Stories (Vintage Contemporaries)\n",
      "Book-Name =  Ender's Game (Ender Wiggins Saga (Paperback))\n",
      "Book-Name =  Song of Solomon (Oprah's Book Club (Paperback))\n",
      "Book-Name =  The Brothers Karamazov (Vintage Classics)\n",
      "Book-Name =  Writers Dreaming: 26 Writers Talk About Their Dreams and the Creative Process\n",
      "Book-Name =  In Cold Blood (Vintage International)\n",
      "Book-Name =  Cyrano De Bergerac (Bantam Classics)\n"
     ]
    }
   ],
   "source": [
    "print('Here are the recommended books as per Item-Item Collaborative Filtering for User-2033\\n')\n",
    "\n",
    "for i in range(0,9):\n",
    "   \n",
    "    print('Book-Name = ',books.bookTitle[recomended_list5.index[i]])\n"
   ]
  },
  {
   "cell_type": "markdown",
   "metadata": {},
   "source": [
    "#### SVD-Matrix Factorization based Recommender System"
   ]
  },
  {
   "cell_type": "code",
   "execution_count": 171,
   "metadata": {
    "collapsed": true
   },
   "outputs": [],
   "source": [
    "booksmat_matrix = booksmat_resize.as_matrix()\n",
    "user_ratings_mean = np.mean(booksmat_matrix, axis = 1)\n",
    "booksmat_matrix_normalised = booksmat_matrix - user_ratings_mean.reshape(-1, 1)"
   ]
  },
  {
   "cell_type": "code",
   "execution_count": 173,
   "metadata": {
    "collapsed": false
   },
   "outputs": [
    {
     "data": {
      "text/plain": [
       "(439, 9000)"
      ]
     },
     "execution_count": 173,
     "metadata": {},
     "output_type": "execute_result"
    }
   ],
   "source": [
    "booksmat_matrix_normalised.shape"
   ]
  },
  {
   "cell_type": "code",
   "execution_count": 174,
   "metadata": {
    "collapsed": true
   },
   "outputs": [],
   "source": [
    "from scipy.sparse.linalg import svds\n",
    "U, sigma, Vt = svds(booksmat_matrix_normalised, k = 50)\n"
   ]
  },
  {
   "cell_type": "code",
   "execution_count": 175,
   "metadata": {
    "collapsed": true
   },
   "outputs": [],
   "source": [
    "sigma_diagonal_matrix = np.diag(sigma)"
   ]
  },
  {
   "cell_type": "code",
   "execution_count": 177,
   "metadata": {
    "collapsed": false
   },
   "outputs": [],
   "source": [
    "all_user_predicted_ratings = np.dot(np.dot(U, sigma_diagonal_matrix), Vt) + user_ratings_mean.reshape(-1, 1)\n"
   ]
  },
  {
   "cell_type": "code",
   "execution_count": 179,
   "metadata": {
    "collapsed": false
   },
   "outputs": [
    {
     "data": {
      "text/html": [
       "<div>\n",
       "<table border=\"1\" class=\"dataframe\">\n",
       "  <thead>\n",
       "    <tr style=\"text-align: right;\">\n",
       "      <th>ISBN</th>\n",
       "      <th>0000913154</th>\n",
       "      <th>0001046438</th>\n",
       "      <th>000104687X</th>\n",
       "      <th>0001047213</th>\n",
       "      <th>0001047973</th>\n",
       "      <th>000104799X</th>\n",
       "      <th>0001048082</th>\n",
       "      <th>0001053736</th>\n",
       "      <th>0001053744</th>\n",
       "      <th>0001055607</th>\n",
       "      <th>...</th>\n",
       "      <th>0312571119</th>\n",
       "      <th>0312572840</th>\n",
       "      <th>0312579667</th>\n",
       "      <th>0312585837</th>\n",
       "      <th>0312619952</th>\n",
       "      <th>0312631901</th>\n",
       "      <th>0312636490</th>\n",
       "      <th>0312643063</th>\n",
       "      <th>0312660472</th>\n",
       "      <th>0312670478</th>\n",
       "    </tr>\n",
       "  </thead>\n",
       "  <tbody>\n",
       "    <tr>\n",
       "      <th>0</th>\n",
       "      <td>-0.011750</td>\n",
       "      <td>0.047884</td>\n",
       "      <td>0.035675</td>\n",
       "      <td>0.047884</td>\n",
       "      <td>0.047884</td>\n",
       "      <td>0.008983</td>\n",
       "      <td>0.062739</td>\n",
       "      <td>0.049797</td>\n",
       "      <td>0.049797</td>\n",
       "      <td>0.022291</td>\n",
       "      <td>...</td>\n",
       "      <td>-0.003122</td>\n",
       "      <td>0.049797</td>\n",
       "      <td>-0.010034</td>\n",
       "      <td>0.014503</td>\n",
       "      <td>0.043407</td>\n",
       "      <td>-0.009535</td>\n",
       "      <td>0.008222</td>\n",
       "      <td>0.035846</td>\n",
       "      <td>0.007444</td>\n",
       "      <td>-0.015440</td>\n",
       "    </tr>\n",
       "    <tr>\n",
       "      <th>1</th>\n",
       "      <td>0.001686</td>\n",
       "      <td>-0.002472</td>\n",
       "      <td>-0.000292</td>\n",
       "      <td>-0.002472</td>\n",
       "      <td>-0.002472</td>\n",
       "      <td>0.003934</td>\n",
       "      <td>-0.004911</td>\n",
       "      <td>-0.005852</td>\n",
       "      <td>-0.005852</td>\n",
       "      <td>0.013919</td>\n",
       "      <td>...</td>\n",
       "      <td>0.002579</td>\n",
       "      <td>-0.005852</td>\n",
       "      <td>-0.007448</td>\n",
       "      <td>0.005678</td>\n",
       "      <td>0.008394</td>\n",
       "      <td>0.002748</td>\n",
       "      <td>0.006569</td>\n",
       "      <td>-0.009660</td>\n",
       "      <td>0.004497</td>\n",
       "      <td>-0.002056</td>\n",
       "    </tr>\n",
       "    <tr>\n",
       "      <th>2</th>\n",
       "      <td>0.001122</td>\n",
       "      <td>0.001206</td>\n",
       "      <td>0.005741</td>\n",
       "      <td>0.001206</td>\n",
       "      <td>0.001206</td>\n",
       "      <td>0.013956</td>\n",
       "      <td>0.001169</td>\n",
       "      <td>0.003651</td>\n",
       "      <td>0.003651</td>\n",
       "      <td>0.007761</td>\n",
       "      <td>...</td>\n",
       "      <td>0.006255</td>\n",
       "      <td>0.003651</td>\n",
       "      <td>0.004455</td>\n",
       "      <td>0.019539</td>\n",
       "      <td>0.019542</td>\n",
       "      <td>0.006255</td>\n",
       "      <td>0.019528</td>\n",
       "      <td>0.007352</td>\n",
       "      <td>0.014468</td>\n",
       "      <td>0.001104</td>\n",
       "    </tr>\n",
       "    <tr>\n",
       "      <th>3</th>\n",
       "      <td>0.017336</td>\n",
       "      <td>0.074738</td>\n",
       "      <td>0.047656</td>\n",
       "      <td>0.074738</td>\n",
       "      <td>0.074738</td>\n",
       "      <td>0.070562</td>\n",
       "      <td>-0.033639</td>\n",
       "      <td>-0.062396</td>\n",
       "      <td>-0.062396</td>\n",
       "      <td>0.195047</td>\n",
       "      <td>...</td>\n",
       "      <td>0.008394</td>\n",
       "      <td>-0.062396</td>\n",
       "      <td>0.856260</td>\n",
       "      <td>0.004723</td>\n",
       "      <td>-0.197066</td>\n",
       "      <td>0.052121</td>\n",
       "      <td>-0.042510</td>\n",
       "      <td>-0.022948</td>\n",
       "      <td>0.019695</td>\n",
       "      <td>0.124214</td>\n",
       "    </tr>\n",
       "    <tr>\n",
       "      <th>4</th>\n",
       "      <td>0.001073</td>\n",
       "      <td>0.000066</td>\n",
       "      <td>0.001509</td>\n",
       "      <td>0.000066</td>\n",
       "      <td>0.000066</td>\n",
       "      <td>0.004108</td>\n",
       "      <td>0.000052</td>\n",
       "      <td>0.001987</td>\n",
       "      <td>0.001987</td>\n",
       "      <td>0.002660</td>\n",
       "      <td>...</td>\n",
       "      <td>0.002318</td>\n",
       "      <td>0.001987</td>\n",
       "      <td>0.002506</td>\n",
       "      <td>0.004238</td>\n",
       "      <td>0.004122</td>\n",
       "      <td>0.002006</td>\n",
       "      <td>0.004425</td>\n",
       "      <td>0.003040</td>\n",
       "      <td>0.004239</td>\n",
       "      <td>0.000924</td>\n",
       "    </tr>\n",
       "  </tbody>\n",
       "</table>\n",
       "<p>5 rows × 9000 columns</p>\n",
       "</div>"
      ],
      "text/plain": [
       "ISBN  0000913154  0001046438  000104687X  0001047213  0001047973  000104799X  \\\n",
       "0      -0.011750    0.047884    0.035675    0.047884    0.047884    0.008983   \n",
       "1       0.001686   -0.002472   -0.000292   -0.002472   -0.002472    0.003934   \n",
       "2       0.001122    0.001206    0.005741    0.001206    0.001206    0.013956   \n",
       "3       0.017336    0.074738    0.047656    0.074738    0.074738    0.070562   \n",
       "4       0.001073    0.000066    0.001509    0.000066    0.000066    0.004108   \n",
       "\n",
       "ISBN  0001048082  0001053736  0001053744  0001055607     ...      0312571119  \\\n",
       "0       0.062739    0.049797    0.049797    0.022291     ...       -0.003122   \n",
       "1      -0.004911   -0.005852   -0.005852    0.013919     ...        0.002579   \n",
       "2       0.001169    0.003651    0.003651    0.007761     ...        0.006255   \n",
       "3      -0.033639   -0.062396   -0.062396    0.195047     ...        0.008394   \n",
       "4       0.000052    0.001987    0.001987    0.002660     ...        0.002318   \n",
       "\n",
       "ISBN  0312572840  0312579667  0312585837  0312619952  0312631901  0312636490  \\\n",
       "0       0.049797   -0.010034    0.014503    0.043407   -0.009535    0.008222   \n",
       "1      -0.005852   -0.007448    0.005678    0.008394    0.002748    0.006569   \n",
       "2       0.003651    0.004455    0.019539    0.019542    0.006255    0.019528   \n",
       "3      -0.062396    0.856260    0.004723   -0.197066    0.052121   -0.042510   \n",
       "4       0.001987    0.002506    0.004238    0.004122    0.002006    0.004425   \n",
       "\n",
       "ISBN  0312643063  0312660472  0312670478  \n",
       "0       0.035846    0.007444   -0.015440  \n",
       "1      -0.009660    0.004497   -0.002056  \n",
       "2       0.007352    0.014468    0.001104  \n",
       "3      -0.022948    0.019695    0.124214  \n",
       "4       0.003040    0.004239    0.000924  \n",
       "\n",
       "[5 rows x 9000 columns]"
      ]
     },
     "execution_count": 179,
     "metadata": {},
     "output_type": "execute_result"
    }
   ],
   "source": [
    "preds_df = pd.DataFrame(all_user_predicted_ratings, columns = booksmat_resize.columns)\n",
    "preds_df.head()"
   ]
  },
  {
   "cell_type": "code",
   "execution_count": 181,
   "metadata": {
    "collapsed": false
   },
   "outputs": [],
   "source": [
    "userID = 80\n",
    "user_row_number = userID - 1 # UserID starts at 1, not 0\n",
    "sorted_user_predictions = preds_df.iloc[user_row_number].sort_values(ascending=False) # UserID starts at 1\n",
    "recommended = sorted_user_predictions[:10]"
   ]
  },
  {
   "cell_type": "code",
   "execution_count": 182,
   "metadata": {
    "collapsed": false
   },
   "outputs": [
    {
     "data": {
      "text/plain": [
       "ISBN\n",
       "0060392452    6.016780\n",
       "0140067477    2.020183\n",
       "0064400565    1.647969\n",
       "014050639X    1.086658\n",
       "0060177888    1.066138\n",
       "0028610105    1.029703\n",
       "0064400557    1.022622\n",
       "0061009059    0.950304\n",
       "0140328696    0.938592\n",
       "0064402053    0.887755\n",
       "Name: 79, dtype: float64"
      ]
     },
     "execution_count": 182,
     "metadata": {},
     "output_type": "execute_result"
    }
   ],
   "source": [
    "recommended"
   ]
  },
  {
   "cell_type": "code",
   "execution_count": 187,
   "metadata": {
    "collapsed": false
   },
   "outputs": [
    {
     "name": "stdout",
     "output_type": "stream",
     "text": [
      "            ISBN                                          bookTitle  \\\n",
      "2802  0060392452  Stupid White Men ...and Other Sorry Excuses fo...   \n",
      "\n",
      "         bookAuthor    publisher  \n",
      "2802  Michael Moore  Regan Books   \n",
      "\n",
      "\n",
      "          ISBN        bookTitle     bookAuthor      publisher\n",
      "73  0140067477  The Tao of Pooh  Benjamin Hoff  Penguin Books \n",
      "\n",
      "\n",
      "             ISBN      bookTitle   bookAuthor     publisher\n",
      "10305  0064400565  Stuart Little  E. B. White  HarperTrophy \n",
      "\n",
      "\n",
      "             ISBN                               bookTitle     bookAuthor  \\\n",
      "18804  014050639X  Each Peach Pear Plum (Picture Puffins)  Janet Ahlberg   \n",
      "\n",
      "          publisher  \n",
      "18804  Puffin Books   \n",
      "\n",
      "\n",
      "             ISBN                                          bookTitle  \\\n",
      "13645  0060177888  All I Know About Animal Behavior I Learned in ...   \n",
      "\n",
      "         bookAuthor      publisher  \n",
      "13645  Erma Bombeck  Harpercollins   \n",
      "\n",
      "\n",
      "             ISBN                                          bookTitle  \\\n",
      "18780  0028610105  How to Cook Everything: Simple Recipes for Gre...   \n",
      "\n",
      "          bookAuthor              publisher  \n",
      "18780  Mark  Bittman  John Wiley &amp; Sons   \n",
      "\n",
      "\n",
      "            ISBN                         bookTitle   bookAuthor     publisher\n",
      "3847  0064400557  Charlotte's Web (Trophy Newbery)  E. B. White  HarperTrophy \n",
      "\n",
      "\n",
      "           ISBN                                          bookTitle  \\\n",
      "669  0061009059  One for the Money (Stephanie Plum Novels (Pape...   \n",
      "\n",
      "          bookAuthor    publisher  \n",
      "669  Janet Evanovich  HarperTorch   \n",
      "\n",
      "\n",
      "             ISBN                          bookTitle  bookAuthor     publisher\n",
      "18917  0140328696  Charlie and the Chocolate Factory  Roald Dahl  Puffin Books \n",
      "\n",
      "\n",
      "             ISBN                                      bookTitle  \\\n",
      "18895  0064402053  Sarah, Plain and Tall (Sarah, Plain and Tall)   \n",
      "\n",
      "                bookAuthor     publisher  \n",
      "18895  Patricia MacLachlan  HarperTrophy   \n",
      "\n",
      "\n"
     ]
    }
   ],
   "source": [
    "\n",
    "\n",
    "for i in recommended.index:\n",
    "    print(books.loc[books['ISBN'] == i,['ISBN','bookTitle','bookAuthor','publisher']],'\\n\\n')"
   ]
  },
  {
   "cell_type": "markdown",
   "metadata": {},
   "source": [
    "#### Hyperparameter 'k' tuning"
   ]
  },
  {
   "cell_type": "code",
   "execution_count": 189,
   "metadata": {
    "collapsed": false
   },
   "outputs": [],
   "source": [
    "from sklearn.model_selection import train_test_split\n",
    "train_data, test_data = train_test_split(booksmat_resize,test_size=0.25)"
   ]
  },
  {
   "cell_type": "code",
   "execution_count": 190,
   "metadata": {
    "collapsed": true
   },
   "outputs": [],
   "source": [
    "booksmat_matrix_train = train_data.as_matrix()\n",
    "user_ratings_mean_train = np.mean(booksmat_matrix_train, axis = 1)\n",
    "booksmat_matrix_normalised_trn = booksmat_matrix_train - user_ratings_mean_train.reshape(-1, 1)"
   ]
  },
  {
   "cell_type": "code",
   "execution_count": 191,
   "metadata": {
    "collapsed": false
   },
   "outputs": [
    {
     "data": {
      "text/plain": [
       "(329, 9000)"
      ]
     },
     "execution_count": 191,
     "metadata": {},
     "output_type": "execute_result"
    }
   ],
   "source": [
    "booksmat_matrix_normalised_trn.shape"
   ]
  },
  {
   "cell_type": "code",
   "execution_count": 193,
   "metadata": {
    "collapsed": true
   },
   "outputs": [],
   "source": [
    "from scipy.sparse.linalg import svds\n",
    "U_trn, sigma_trn, Vt_trn = svds(booksmat_matrix_normalised_trn, k = 50)\n",
    "s_diag_matrix_trn=np.diag(sigma_trn)"
   ]
  },
  {
   "cell_type": "code",
   "execution_count": 194,
   "metadata": {
    "collapsed": true
   },
   "outputs": [],
   "source": [
    "X_pred = np.dot(np.dot(U_trn,s_diag_matrix_trn), Vt_trn)\n"
   ]
  },
  {
   "cell_type": "code",
   "execution_count": 195,
   "metadata": {
    "collapsed": true
   },
   "outputs": [],
   "source": [
    "booksmat_matrix_test = test_data.as_matrix()\n",
    "user_ratings_mean_test = np.mean(booksmat_matrix_test, axis = 1)\n",
    "booksmat_matrix_normalised_tst = booksmat_matrix_test - user_ratings_mean_test.reshape(-1, 1)"
   ]
  },
  {
   "cell_type": "code",
   "execution_count": 199,
   "metadata": {
    "collapsed": false
   },
   "outputs": [
    {
     "name": "stdout",
     "output_type": "stream",
     "text": [
      "SVD k=50 MSE:  0.6358315777720244\n"
     ]
    }
   ],
   "source": [
    "from sklearn.metrics import mean_squared_error\n",
    "from math import sqrt\n",
    "\n",
    "def rmse(prediction, ground_truth):\n",
    "    prediction = prediction[ground_truth.nonzero()].flatten() \n",
    "    #print('prediction=',prediction)\n",
    "    ground_truth = ground_truth[ground_truth.nonzero()].flatten()\n",
    "    #print('ground_truth=',ground_truth)\n",
    "    return sqrt(mean_squared_error(prediction, ground_truth))\n",
    "\n",
    "\n",
    "print('SVD k=50 MSE: ', str(rmse(X_pred, booksmat_matrix_normalised_tst)))"
   ]
  },
  {
   "cell_type": "code",
   "execution_count": 200,
   "metadata": {
    "collapsed": true
   },
   "outputs": [],
   "source": [
    "from scipy.sparse.linalg import svds\n",
    "U_trn, sigma_trn, Vt_trn = svds(booksmat_matrix_normalised_trn, k = 20)\n",
    "s_diag_matrix_trn=np.diag(sigma_trn)"
   ]
  },
  {
   "cell_type": "code",
   "execution_count": 201,
   "metadata": {
    "collapsed": true
   },
   "outputs": [],
   "source": [
    "X_pred = np.dot(np.dot(U_trn,s_diag_matrix_trn), Vt_trn)"
   ]
  },
  {
   "cell_type": "code",
   "execution_count": 202,
   "metadata": {
    "collapsed": false
   },
   "outputs": [
    {
     "name": "stdout",
     "output_type": "stream",
     "text": [
      "SVD k=20 MSE:  0.5915764298911119\n"
     ]
    }
   ],
   "source": [
    "print('SVD k=20 MSE: ', str(rmse(X_pred, booksmat_matrix_normalised_tst)))"
   ]
  },
  {
   "cell_type": "code",
   "execution_count": 206,
   "metadata": {
    "collapsed": true
   },
   "outputs": [],
   "source": [
    "from scipy.sparse.linalg import svds\n",
    "U_trn, sigma_trn, Vt_trn = svds(booksmat_matrix_normalised_trn, k = 8)\n",
    "s_diag_matrix_trn=np.diag(sigma_trn)"
   ]
  },
  {
   "cell_type": "code",
   "execution_count": 207,
   "metadata": {
    "collapsed": true
   },
   "outputs": [],
   "source": [
    "X_pred = np.dot(np.dot(U_trn,s_diag_matrix_trn), Vt_trn)"
   ]
  },
  {
   "cell_type": "code",
   "execution_count": 208,
   "metadata": {
    "collapsed": false
   },
   "outputs": [
    {
     "name": "stdout",
     "output_type": "stream",
     "text": [
      "SVD k=10 MSE:  0.5846720018088868\n"
     ]
    }
   ],
   "source": [
    "print('SVD k=10 MSE: ', str(rmse(X_pred, booksmat_matrix_normalised_tst)))"
   ]
  },
  {
   "cell_type": "code",
   "execution_count": null,
   "metadata": {
    "collapsed": true
   },
   "outputs": [],
   "source": []
  }
 ],
 "metadata": {
  "anaconda-cloud": {},
  "kernelspec": {
   "display_name": "Python [conda env:anaconda]",
   "language": "python",
   "name": "conda-env-anaconda-py"
  },
  "language_info": {
   "codemirror_mode": {
    "name": "ipython",
    "version": 3
   },
   "file_extension": ".py",
   "mimetype": "text/x-python",
   "name": "python",
   "nbconvert_exporter": "python",
   "pygments_lexer": "ipython3",
   "version": "3.5.2"
  }
 },
 "nbformat": 4,
 "nbformat_minor": 2
}
