{
 "cells": [
  {
   "cell_type": "markdown",
   "metadata": {},
   "source": [
    "### Logistic Regression using Python (Single Layer Single Node Neural Network)\n",
    "#### Here we perform Logistic Regression first with Sigmoid activation and then with Softmax Activation\n",
    "#### One hidden layer signmoid activation\n",
    "#### One hidden layer softmax activation\n",
    "\n"
   ]
  },
  {
   "cell_type": "code",
   "execution_count": null,
   "metadata": {
    "collapsed": true
   },
   "outputs": [],
   "source": [
    "'''\n",
    "Here are the columns ; 'user_action' is the label.\n",
    "\n",
    "is_mobile,n_products_view,visit_durtion,is_returning_visitor,time_of_day,user_action \n",
    "\n",
    "=======\n",
    "Feature\n",
    "=======\n",
    "is_mobile - 0/1\n",
    "n_products_view - int > 0\n",
    "visit_duration - real > 0\n",
    "is_returning_visitor - 0/1\n",
    "time_of_day -\n",
    "0 - 12:00 - 6:00 am\n",
    "1 - 6:00 am - 12:00 pm\n",
    "2 - 12:00 pm - 6:00 pm\n",
    "3 - 6:00 pm - 12:00 am\n",
    "\n",
    "=======\n",
    "Label\n",
    "=======\n",
    "User_Action - \n",
    "Binary - 1/0 (converted/not-converted)\n",
    "MultiClass - 0/1/2/3 (bounce,add-to-cart,begin-checkout,finish-checkout)\n",
    "\n",
    "'''"
   ]
  },
  {
   "cell_type": "code",
   "execution_count": 5,
   "metadata": {
    "collapsed": false
   },
   "outputs": [],
   "source": [
    "from __future__ import print_function, division\n",
    "from builtins import range\n",
    "# Note: you may need to update your version of future\n",
    "# sudo pip install -U future\n",
    "\n",
    "\n",
    "import numpy as np\n",
    "import pandas as pd\n",
    "import os\n",
    "import matplotlib.pyplot as plt\n",
    "\n",
    "# so scripts from other folders can import this file\n",
    "# dir_path = os.path.abspath(os.path.dirname(os.path.realpath(__file__)))\n",
    "\n",
    "# normalize numerical columns\n",
    "# one-hot categorical columns\n",
    "\n",
    "# df = pd.read_csv('/Users/chintan.desai/Documents/Chintan/DataScience/My_Mini_Projects/NLP_Data/fake_or_real_news.csv')\n",
    "\n",
    "\n",
    "def get_data():\n",
    "  \n",
    "    df = pd.read_csv('/Users/chintan.desai/Documents/Chintan/DataScience/DataSets/ecommerce_data.csv')\n",
    "\n",
    "  # just in case you're curious what's in it\n",
    "    df.head()\n",
    "\n",
    "  # easier to work with numpy array\n",
    "    data = df.values\n",
    "\n",
    "  # shuffle it\n",
    "    np.random.shuffle(data)\n",
    "\n",
    "  # split features and labels\n",
    "    X = data[:,:-1]\n",
    "    Y = data[:,-1].astype(np.int32)\n",
    "    \n",
    "    # one-hot encode the categorical data\n",
    "    # create a new matrix X2 with the correct number of columns\n",
    "    N, D = X.shape\n",
    "    X2 = np.zeros((N, D+3))\n",
    "    X2[:,0:(D-1)] = X[:,0:(D-1)] # non-categorical\n",
    "\n",
    "      # one-hot\n",
    "    for n in range(N):\n",
    "        t = int(X[n,D-1])\n",
    "        X2[n,t+D-1] = 1\n",
    "\n",
    "  \n",
    "    # assign X2 back to X, since we don't need original anymore\n",
    "    X = X2\n",
    "\n",
    "    # split train and test\n",
    "    Xtrain = X[:-100]\n",
    "    Ytrain = Y[:-100]\n",
    "    Xtest = X[-100:]\n",
    "    Ytest = Y[-100:]\n",
    "\n",
    "    # normalize columns 1 and 2\n",
    "    for i in (1, 2):\n",
    "        m = Xtrain[:,i].mean()\n",
    "        s = Xtrain[:,i].std()\n",
    "        Xtrain[:,i] = (Xtrain[:,i] - m) / s\n",
    "        Xtest[:,i] = (Xtest[:,i] - m) / s\n",
    "\n",
    "    return Xtrain, Ytrain, Xtest, Ytest\n",
    "    \n",
    "    \n",
    "def get_binary_data():\n",
    "    # return only the data from the first 2 classes\n",
    "        Xtrain, Ytrain, Xtest, Ytest = get_data()\n",
    "        X2train = Xtrain[Ytrain <= 1]\n",
    "        Y2train = Ytrain[Ytrain <= 1]\n",
    "        X2test = Xtest[Ytest <= 1]\n",
    "        Y2test = Ytest[Ytest <= 1]\n",
    "        return X2train, Y2train, X2test, Y2test"
   ]
  },
  {
   "cell_type": "code",
   "execution_count": 6,
   "metadata": {
    "collapsed": false
   },
   "outputs": [
    {
     "name": "stdout",
     "output_type": "stream",
     "text": [
      "0 1.04024925074 0.899125143914\n",
      "1000 0.154471053671 0.290439183086\n",
      "2000 0.15259458745 0.297200290478\n",
      "3000 0.152366233173 0.3001304542\n",
      "4000 0.152330389704 0.301377421093\n",
      "5000 0.152324272839 0.301906088693\n",
      "6000 0.152323194574 0.302130319605\n",
      "7000 0.15232300196 0.302225484409\n",
      "8000 0.152322967362 0.302265887234\n",
      "9000 0.152322961132 0.302283043465\n",
      "Final train classification_rate: 0.980582524272\n",
      "Final test classification_rate: 0.955056179775\n"
     ]
    },
    {
     "data": {
      "image/png": "[encoded data removed]",
      "text/plain": [
       "<matplotlib.figure.Figure at 0x116785c88>"
      ]
     },
     "metadata": {},
     "output_type": "display_data"
    }
   ],
   "source": [
    "# get the data\n",
    "Xtrain, Ytrain, Xtest, Ytest = get_binary_data()\n",
    "\n",
    "# randomly initialize weights\n",
    "D = Xtrain.shape[1]\n",
    "W = np.random.randn(D)\n",
    "b = 0 # bias term\n",
    "\n",
    "# make predictions\n",
    "def sigmoid(a):\n",
    "    return 1 / (1 + np.exp(-a))\n",
    "\n",
    "def forward(X, W, b):\n",
    "    return sigmoid(X.dot(W) + b)\n",
    "\n",
    "# calculate the accuracy\n",
    "def classification_rate(Y, P):\n",
    "    return np.mean(Y == P)\n",
    "\n",
    "# cross entropy\n",
    "def cross_entropy(T, pY):\n",
    "    return -np.mean(T*np.log(pY) + (1 - T)*np.log(1 - pY))\n",
    "\n",
    "# train loop\n",
    "train_costs = []\n",
    "test_costs = []\n",
    "learning_rate = 0.001\n",
    "for i in range(10000):\n",
    "    pYtrain = forward(Xtrain, W, b)\n",
    "    pYtest = forward(Xtest, W, b)\n",
    "\n",
    "    ctrain = cross_entropy(Ytrain, pYtrain)\n",
    "    ctest = cross_entropy(Ytest, pYtest)\n",
    "    train_costs.append(ctrain)\n",
    "    test_costs.append(ctest)\n",
    "\n",
    "    # gradient descent\n",
    "    W -= learning_rate*Xtrain.T.dot(pYtrain - Ytrain)\n",
    "    b -= learning_rate*(pYtrain - Ytrain).sum()\n",
    "    if i % 1000 == 0:\n",
    "        print(i, ctrain, ctest)\n",
    "\n",
    "print(\"Final train classification_rate:\", classification_rate(Ytrain, np.round(pYtrain)))\n",
    "print(\"Final test classification_rate:\", classification_rate(Ytest, np.round(pYtest)))\n",
    "\n",
    "legend1, = plt.plot(train_costs, label='train cost')\n",
    "legend2, = plt.plot(test_costs, label='test cost')\n",
    "plt.legend([legend1, legend2])\n",
    "plt.show()\n",
    "\n",
    "\n"
   ]
  },
  {
   "cell_type": "markdown",
   "metadata": {},
   "source": [
    "### Logistic using Softmax "
   ]
  },
  {
   "cell_type": "code",
   "execution_count": 7,
   "metadata": {
    "collapsed": false
   },
   "outputs": [
    {
     "name": "stdout",
     "output_type": "stream",
     "text": [
      "0 0.832882530208 0.782513520519\n",
      "1000 0.0849414568927 0.115040068718\n",
      "2000 0.0797653535294 0.111362687942\n",
      "3000 0.0777124854242 0.111008927056\n",
      "4000 0.0766058077991 0.111353876972\n",
      "5000 0.0759088072509 0.111881297722\n",
      "6000 0.0754264212284 0.11244588946\n",
      "7000 0.0750709513808 0.113000587493\n",
      "8000 0.0747971249566 0.113530048442\n",
      "9000 0.0745791605159 0.114030306538\n",
      "Final train classification_rate: 0.9225\n",
      "Final test classification_rate: 0.86\n"
     ]
    },
    {
     "data": {
      "image/png": "[encoded data removed]",
      "text/plain": [
       "<matplotlib.figure.Figure at 0x119c5ff28>"
      ]
     },
     "metadata": {},
     "output_type": "display_data"
    }
   ],
   "source": [
    "def y2indicator(y, K):\n",
    "    N = len(y)\n",
    "    ind = np.zeros((N, K))\n",
    "    for i in range(N):\n",
    "        ind[i, y[i]] = 1\n",
    "    return ind\n",
    "\n",
    "Xtrain, Ytrain, Xtest, Ytest = get_data()\n",
    "D = Xtrain.shape[1]\n",
    "K = len(set(Ytrain) | set(Ytest))\n",
    "\n",
    "# convert to indicator\n",
    "Ytrain_ind = y2indicator(Ytrain, K)\n",
    "Ytest_ind = y2indicator(Ytest, K)\n",
    "\n",
    "# randomly initialize weights\n",
    "W = np.random.randn(D, K)\n",
    "b = np.zeros(K)\n",
    "\n",
    "# make predictions\n",
    "def softmax(a):\n",
    "    expA = np.exp(a)\n",
    "    return expA / expA.sum(axis=1, keepdims=True)\n",
    "\n",
    "def forward(X, W, b):\n",
    "    return softmax(X.dot(W) + b)\n",
    "\n",
    "def predict(P_Y_given_X):\n",
    "    return np.argmax(P_Y_given_X, axis=1)\n",
    "\n",
    "# calculate the accuracy\n",
    "def classification_rate(Y, P):\n",
    "    return np.mean(Y == P)\n",
    "\n",
    "def cross_entropy(T, pY):\n",
    "    return -np.mean(T*np.log(pY))\n",
    "\n",
    "\n",
    "# train loop\n",
    "train_costs = []\n",
    "test_costs = []\n",
    "learning_rate = 0.001\n",
    "for i in range(10000):\n",
    "    pYtrain = forward(Xtrain, W, b)\n",
    "    pYtest = forward(Xtest, W, b)\n",
    "\n",
    "    ctrain = cross_entropy(Ytrain_ind, pYtrain)\n",
    "    ctest = cross_entropy(Ytest_ind, pYtest)\n",
    "    train_costs.append(ctrain)\n",
    "    test_costs.append(ctest)\n",
    "\n",
    "    # gradient descent\n",
    "    W -= learning_rate*Xtrain.T.dot(pYtrain - Ytrain_ind)\n",
    "    b -= learning_rate*(pYtrain - Ytrain_ind).sum(axis=0)\n",
    "    if i % 1000 == 0:\n",
    "        print(i, ctrain, ctest)\n",
    "\n",
    "print(\"Final train classification_rate:\", classification_rate(Ytrain, predict(pYtrain)))\n",
    "print(\"Final test classification_rate:\", classification_rate(Ytest, predict(pYtest)))\n",
    "\n",
    "legend1, = plt.plot(train_costs, label='train cost')\n",
    "legend2, = plt.plot(test_costs, label='test cost')\n",
    "plt.legend([legend1, legend2])\n",
    "plt.show()"
   ]
  },
  {
   "cell_type": "code",
   "execution_count": null,
   "metadata": {
    "collapsed": true
   },
   "outputs": [],
   "source": []
  }
 ],
 "metadata": {
  "anaconda-cloud": {},
  "kernelspec": {
   "display_name": "Python [conda env:py36]",
   "language": "python",
   "name": "conda-env-py36-py"
  },
  "language_info": {
   "codemirror_mode": {
    "name": "ipython",
    "version": 3
   },
   "file_extension": ".py",
   "mimetype": "text/x-python",
   "name": "python",
   "nbconvert_exporter": "python",
   "pygments_lexer": "ipython3",
   "version": "3.6.1"
  }
 },
 "nbformat": 4,
 "nbformat_minor": 2
}
