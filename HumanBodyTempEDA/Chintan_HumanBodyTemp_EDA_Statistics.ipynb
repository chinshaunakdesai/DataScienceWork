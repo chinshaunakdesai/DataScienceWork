{
 "cells": [
  {
   "cell_type": "markdown",
   "metadata": {},
   "source": [
    "# What is the True Normal Human Body Temperature? \n",
    "\n",
    "#### Background\n",
    "\n",
    "The mean normal body temperature was held to be 37$^{\\circ}$C or 98.6$^{\\circ}$F for more than 120 years since it was first conceptualized and reported by Carl Wunderlich in a famous 1868 book. But, is this value statistically correct?"
   ]
  },
  {
   "cell_type": "markdown",
   "metadata": {},
   "source": [
    "<h3>Exercises</h3>\n",
    "\n",
    "<p>In this exercise, you will analyze a dataset of human body temperatures and employ the concepts of hypothesis testing, confidence intervals, and statistical significance.</p>\n",
    "\n",
    "<p>Answer the following questions <b>in this notebook below and submit to your Github account</b>.</p> \n",
    "\n",
    "<ol>\n",
    "<li>  Is the distribution of body temperatures normal? \n",
    "    <ul>\n",
    "    <li> Although this is not a requirement for the Central Limit Theorem to hold (read the introduction on Wikipedia's page about the CLT carefully: https://en.wikipedia.org/wiki/Central_limit_theorem), it gives us some peace of mind that the population may also be normally distributed if we assume that this sample is representative of the population.\n",
    "    <li> Think about the way you're going to check for the normality of the distribution. Graphical methods are usually used first, but there are also other ways: https://en.wikipedia.org/wiki/Normality_test\n",
    "    </ul>\n",
    "<li>  Is the sample size large? Are the observations independent?\n",
    "    <ul>\n",
    "    <li> Remember that this is a condition for the Central Limit Theorem, and hence the statistical tests we are using, to apply.\n",
    "    </ul>\n",
    "<li>  Is the true population mean really 98.6 degrees F?\n",
    "    <ul>\n",
    "    <li> First, try a bootstrap hypothesis test.\n",
    "    <li> Now, let's try frequentist statistical testing. Would you use a one-sample or two-sample test? Why?\n",
    "    <li> In this situation, is it appropriate to use the $t$ or $z$ statistic? \n",
    "    <li> Now try using the other test. How is the result be different? Why?\n",
    "    </ul>\n",
    "<li>  Draw a small sample of size 10 from the data and repeat both frequentist tests. \n",
    "    <ul>\n",
    "    <li> Which one is the correct one to use? \n",
    "    <li> What do you notice? What does this tell you about the difference in application of the $t$ and $z$ statistic?\n",
    "    </ul>\n",
    "<li>  At what temperature should we consider someone's temperature to be \"abnormal\"?\n",
    "    <ul>\n",
    "    <li> As in the previous example, try calculating everything using the boostrap approach, as well as the frequentist approach.\n",
    "    <li> Start by computing the margin of error and confidence interval. When calculating the confidence interval, keep in mind that you should use the appropriate formula for one draw, and not N draws.\n",
    "    </ul>\n",
    "<li>  Is there a significant difference between males and females in normal temperature?\n",
    "    <ul>\n",
    "    <li> What testing approach did you use and why?\n",
    "    <li> Write a story with your conclusion in the context of the original problem.\n",
    "    </ul>\n",
    "</ol>\n",
    "\n",
    "You can include written notes in notebook cells using Markdown: \n",
    "   - In the control panel at the top, choose Cell > Cell Type > Markdown\n",
    "   - Markdown syntax: http://nestacms.com/docs/creating-content/markdown-cheat-sheet\n",
    "\n",
    "#### Resources\n",
    "\n",
    "+ Information and data sources: http://www.amstat.org/publications/jse/datasets/normtemp.txt, http://www.amstat.org/publications/jse/jse_data_archive.htm\n",
    "+ Markdown syntax: http://nestacms.com/docs/creating-content/markdown-cheat-sheet\n",
    "\n",
    "****"
   ]
  },
  {
   "cell_type": "code",
   "execution_count": 41,
   "metadata": {
    "collapsed": false
   },
   "outputs": [],
   "source": [
    "import pandas as pd\n",
    "import pandas as pd\n",
    "import numpy as np\n",
    "import random\n",
    "import math\n",
    "import matplotlib.pyplot as plt\n",
    "import seaborn as sns\n",
    "import scipy\n",
    "from scipy import stats\n",
    "from code.bootstrap_routines import *\n",
    "import pylab \n",
    "\n",
    "%matplotlib inline\n",
    "\n",
    "\n",
    "\n",
    "df = pd.read_csv('/Users/chintan.desai/Documents/Chintan/DataScience/Springboard/Mini_Projects/EDA_human_temperature/data/human_body_temperature.csv')\n",
    "\n"
   ]
  },
  {
   "cell_type": "code",
   "execution_count": 42,
   "metadata": {
    "collapsed": false
   },
   "outputs": [
    {
     "data": {
      "text/html": [
       "<div>\n",
       "<table border=\"1\" class=\"dataframe\">\n",
       "  <thead>\n",
       "    <tr style=\"text-align: right;\">\n",
       "      <th></th>\n",
       "      <th>temperature</th>\n",
       "      <th>gender</th>\n",
       "      <th>heart_rate</th>\n",
       "    </tr>\n",
       "  </thead>\n",
       "  <tbody>\n",
       "    <tr>\n",
       "      <th>0</th>\n",
       "      <td>99.3</td>\n",
       "      <td>F</td>\n",
       "      <td>68.0</td>\n",
       "    </tr>\n",
       "    <tr>\n",
       "      <th>1</th>\n",
       "      <td>98.4</td>\n",
       "      <td>F</td>\n",
       "      <td>81.0</td>\n",
       "    </tr>\n",
       "    <tr>\n",
       "      <th>2</th>\n",
       "      <td>97.8</td>\n",
       "      <td>M</td>\n",
       "      <td>73.0</td>\n",
       "    </tr>\n",
       "    <tr>\n",
       "      <th>3</th>\n",
       "      <td>99.2</td>\n",
       "      <td>F</td>\n",
       "      <td>66.0</td>\n",
       "    </tr>\n",
       "    <tr>\n",
       "      <th>4</th>\n",
       "      <td>98.0</td>\n",
       "      <td>F</td>\n",
       "      <td>73.0</td>\n",
       "    </tr>\n",
       "  </tbody>\n",
       "</table>\n",
       "</div>"
      ],
      "text/plain": [
       "   temperature gender  heart_rate\n",
       "0         99.3      F        68.0\n",
       "1         98.4      F        81.0\n",
       "2         97.8      M        73.0\n",
       "3         99.2      F        66.0\n",
       "4         98.0      F        73.0"
      ]
     },
     "execution_count": 42,
     "metadata": {},
     "output_type": "execute_result"
    }
   ],
   "source": [
    "# Your work here.\n",
    "df.head()"
   ]
  },
  {
   "cell_type": "code",
   "execution_count": 5,
   "metadata": {
    "collapsed": false,
    "scrolled": true
   },
   "outputs": [
    {
     "data": {
      "text/plain": [
       "<matplotlib.text.Text at 0x1195dbeb8>"
      ]
     },
     "execution_count": 5,
     "metadata": {},
     "output_type": "execute_result"
    },
    {
     "data": {
      "image/png": "[encoded data removed]",
      "text/plain": [
       "<matplotlib.figure.Figure at 0x1195a1550>"
      ]
     },
     "metadata": {},
     "output_type": "display_data"
    }
   ],
   "source": [
    "ax = df['temperature'].plot(kind='hist', bins=15)\n",
    "ax.set_xlabel(\"Temperature\")\n"
   ]
  },
  {
   "cell_type": "code",
   "execution_count": 92,
   "metadata": {
    "collapsed": false
   },
   "outputs": [
    {
     "data": {
      "text/html": [
       "<div>\n",
       "<table border=\"1\" class=\"dataframe\">\n",
       "  <thead>\n",
       "    <tr style=\"text-align: right;\">\n",
       "      <th></th>\n",
       "      <th>temperature</th>\n",
       "      <th>heart_rate</th>\n",
       "    </tr>\n",
       "  </thead>\n",
       "  <tbody>\n",
       "    <tr>\n",
       "      <th>count</th>\n",
       "      <td>130.000000</td>\n",
       "      <td>130.000000</td>\n",
       "    </tr>\n",
       "    <tr>\n",
       "      <th>mean</th>\n",
       "      <td>98.249231</td>\n",
       "      <td>73.761538</td>\n",
       "    </tr>\n",
       "    <tr>\n",
       "      <th>std</th>\n",
       "      <td>0.733183</td>\n",
       "      <td>7.062077</td>\n",
       "    </tr>\n",
       "    <tr>\n",
       "      <th>min</th>\n",
       "      <td>96.300000</td>\n",
       "      <td>57.000000</td>\n",
       "    </tr>\n",
       "    <tr>\n",
       "      <th>25%</th>\n",
       "      <td>97.800000</td>\n",
       "      <td>69.000000</td>\n",
       "    </tr>\n",
       "    <tr>\n",
       "      <th>50%</th>\n",
       "      <td>98.300000</td>\n",
       "      <td>74.000000</td>\n",
       "    </tr>\n",
       "    <tr>\n",
       "      <th>75%</th>\n",
       "      <td>98.700000</td>\n",
       "      <td>79.000000</td>\n",
       "    </tr>\n",
       "    <tr>\n",
       "      <th>max</th>\n",
       "      <td>100.800000</td>\n",
       "      <td>89.000000</td>\n",
       "    </tr>\n",
       "  </tbody>\n",
       "</table>\n",
       "</div>"
      ],
      "text/plain": [
       "       temperature  heart_rate\n",
       "count   130.000000  130.000000\n",
       "mean     98.249231   73.761538\n",
       "std       0.733183    7.062077\n",
       "min      96.300000   57.000000\n",
       "25%      97.800000   69.000000\n",
       "50%      98.300000   74.000000\n",
       "75%      98.700000   79.000000\n",
       "max     100.800000   89.000000"
      ]
     },
     "execution_count": 92,
     "metadata": {},
     "output_type": "execute_result"
    }
   ],
   "source": [
    "df.describe()"
   ]
  },
  {
   "cell_type": "markdown",
   "metadata": {},
   "source": [
    "### 1. Is the distribution of body temperatures normal?"
   ]
  },
  {
   "cell_type": "markdown",
   "metadata": {},
   "source": [
    "##### Graphical EDA"
   ]
  },
  {
   "cell_type": "markdown",
   "metadata": {},
   "source": [
    "- As shown above in the Histogram we can see that the temperature data follows a normal distribution.\n",
    "- We can also see from the \"describe\" method above that the Mean of Temperature(98.24) is very close to the Median of Temperature (98.30) which is indicative of a Normal Distribution since Mean=Median if the data is normally distributed.\n"
   ]
  },
  {
   "cell_type": "markdown",
   "metadata": {},
   "source": [
    "##### Normality test"
   ]
  },
  {
   "cell_type": "markdown",
   "metadata": {
    "collapsed": true
   },
   "source": [
    "- In order for us to determine if the body temperature in the given sample follows the Normal distribution we can apply the Hypothesis test with \n",
    "\n",
    "    - H0 : The Data is normally distributed.\n",
    "    - Ha : The Data is not normally distributed.\n"
   ]
  },
  {
   "cell_type": "code",
   "execution_count": 6,
   "metadata": {
    "collapsed": false,
    "scrolled": false
   },
   "outputs": [
    {
     "name": "stdout",
     "output_type": "stream",
     "text": [
      "Shapiro Results P-Value = 0.233174666762352  Test-Statistic  =0.9865770936012268\n",
      "Normal test Results P-Value = 0.258747986349  z  =2.70380143332\n"
     ]
    }
   ],
   "source": [
    "x = df['temperature']\n",
    "\n",
    "shapiro_results = scipy.stats.shapiro(x)\n",
    "\n",
    "print('Shapiro Results'+' P-Value = ' + str(shapiro_results[1]) + '  Test-Statistic  =' + str(shapiro_results[0]))\n",
    "\n",
    "z,pval = stats.normaltest(x)\n",
    "\n",
    "print('Normal test Results'+' P-Value = ' + str(pval) + '  z  =' + str(z))\n",
    "\n",
    "\n"
   ]
  },
  {
   "cell_type": "markdown",
   "metadata": {},
   "source": [
    "- P-Value = 0.23 > 0.05  \n",
    "\n",
    "    - We are failing to reject the null hypothesis and so we can say that the null hypothesis is valid; which means the data is following the normal distribution.\n",
    "\n",
    "    - (Note that P-Value and Test-Statistic are the same , P value is % where as T-statistic is \"Z\" which is how many std.deviaton away from Mean)\n"
   ]
  },
  {
   "cell_type": "markdown",
   "metadata": {},
   "source": [
    "\n",
    "### 2. Is the sample size large? Are the observations independent?"
   ]
  },
  {
   "cell_type": "markdown",
   "metadata": {},
   "source": [
    "- Each observation is independent since each row of data is its own observation.\n",
    "- There are 130 rows so the sample size is large enough. "
   ]
  },
  {
   "cell_type": "markdown",
   "metadata": {},
   "source": [
    "### 3. Is the true population mean really 98.6 degrees F?"
   ]
  },
  {
   "cell_type": "markdown",
   "metadata": {},
   "source": [
    "##### Trying Bootstrap Hypothesis test"
   ]
  },
  {
   "cell_type": "markdown",
   "metadata": {},
   "source": [
    "- Step 1: State null and alternative hypotheses: \n",
    "    - H0: population mean body Temp  = 98.6\n",
    "    - Ha: population mean body Temp <> 98.6\n",
    "\n",
    "- Step 2: Set the significance level . We’ll choose 5%.\n",
    "\n",
    "- Step 3: Choose a test statistic. We wish to estimate the mean temp, and therefore we’ll use the sample average.\n",
    "\n",
    "- Step 4: Find the observed value of the test statistic using the sample (sample mean)"
   ]
  },
  {
   "cell_type": "code",
   "execution_count": 30,
   "metadata": {
    "collapsed": false
   },
   "outputs": [
    {
     "data": {
      "text/plain": [
       "count    130.000000\n",
       "mean      98.249231\n",
       "std        0.733183\n",
       "min       96.300000\n",
       "25%       97.800000\n",
       "50%       98.300000\n",
       "75%       98.700000\n",
       "max      100.800000\n",
       "Name: temperature, dtype: float64"
      ]
     },
     "execution_count": 30,
     "metadata": {},
     "output_type": "execute_result"
    }
   ],
   "source": [
    "x.describe()"
   ]
  },
  {
   "cell_type": "markdown",
   "metadata": {},
   "source": [
    "Step 6: Generate the boostrap replicates "
   ]
  },
  {
   "cell_type": "markdown",
   "metadata": {
    "collapsed": true
   },
   "source": [
    "- We calculate the 95% confidence interval of the mean as shown below\n"
   ]
  },
  {
   "cell_type": "code",
   "execution_count": 8,
   "metadata": {
    "collapsed": false
   },
   "outputs": [
    {
     "name": "stdout",
     "output_type": "stream",
     "text": [
      "Lower 98.1230769231\n",
      "Upper 98.3746153846\n"
     ]
    }
   ],
   "source": [
    "ci_lower,ci_upper = bootci(x)\n",
    "\n",
    "print('Lower',ci_lower)\n",
    "print('Upper',ci_upper)"
   ]
  },
  {
   "cell_type": "markdown",
   "metadata": {},
   "source": [
    "- Note that the Sample mean body Temp = 98.24 and Since the 95% confidence interval of the mean is (98.123,98.374) and the 98.6 temp falls out of the 95% confidence interval we can say that population mean body Temp <> 98.6  "
   ]
  },
  {
   "cell_type": "code",
   "execution_count": null,
   "metadata": {
    "collapsed": true
   },
   "outputs": [],
   "source": [
    "'''\n",
    "def bootstrap_replicate_1d(data,func):\n",
    "\n",
    "    return func(np.random.choice(data,size=len(data)))\n",
    "\n",
    "\n",
    "\n",
    "def draw_bs_reps(data, func, size=1):\n",
    "    \"\"\"Draw bootstrap replicates.\"\"\"\n",
    "\n",
    "       \n",
    "    # Initialize array of replicates: bs_replicates\n",
    "    bs_replicates = np.empty(size)\n",
    "\n",
    "    # Generate replicates\n",
    "    for i in range(size):\n",
    "        bs_replicates[i] = bootstrap_replicate_1d(data, func)\n",
    "        \n",
    "       \n",
    "    return bs_replicates\n",
    "\n",
    "\n",
    "#bs_replicates = draw_bs_reps(shifted_temp_data,diff_from_testtemp,10000)\n",
    "bs_replicates = draw_bs_reps(x,np.mean,10000)\n",
    "\n",
    "\n",
    "\n",
    "plt.hist(bs_replicates, bins='auto')  # arguments are passed to np.histogram\n",
    "plt.title(\"Histogram with 'auto' bins\")\n",
    "plt.show()\n",
    "\n",
    "p_value = np.sum(bs_replicates <= np.mean(x)) / 10000\n",
    "\n",
    "print('p = ', p_value)\n",
    "\n",
    "\n",
    "CI_twentyfive = np.percentile(bs_replicates, [0.025])\n",
    "\n",
    "CI_nineseven = np.percentile(bs_replicates, [0.975])\n",
    "\n",
    "print('Twenty Five Percentile = ', CI_twentyfive)\n",
    "print('Ninety Seven Percentile = ', CI_nineseven)\n",
    "\n",
    "'''\n"
   ]
  },
  {
   "cell_type": "markdown",
   "metadata": {},
   "source": [
    "##### Trying Frequentist test"
   ]
  },
  {
   "cell_type": "markdown",
   "metadata": {},
   "source": [
    "##### Z-Test\n",
    "\n",
    "   - Since the Sample size (130) is greater then 30; we will use the Z-Test.\n",
    "   - One Sample Z-test\n",
    "\n",
    "       - Since we want to check if our Sample mean is statistically different or not then our Population mean; we use one sample Z-Test. "
   ]
  },
  {
   "cell_type": "markdown",
   "metadata": {},
   "source": [
    "- H0: population mean body Temp  = 98.6\n",
    "- Ha: population mean body Temp <> 98.6\n",
    "\n"
   ]
  },
  {
   "cell_type": "markdown",
   "metadata": {},
   "source": [
    "- Calculating the Z-Score"
   ]
  },
  {
   "cell_type": "code",
   "execution_count": 111,
   "metadata": {
    "collapsed": false
   },
   "outputs": [
    {
     "name": "stdout",
     "output_type": "stream",
     "text": [
      "-5.454823292364079\n"
     ]
    }
   ],
   "source": [
    "population_mean = 98.6\n",
    "\n",
    "znum = x.mean() - population_mean\n",
    "\n",
    "zdenom = x.std() / math.sqrt(len(x))\n",
    "\n",
    "z = znum/zdenom\n",
    "\n",
    "print(z)\n"
   ]
  },
  {
   "cell_type": "markdown",
   "metadata": {},
   "source": [
    "-This calculated z-value of -5.45 mean that the sample mean of 98.25 is \"5.45\" standard error units below the population mean of 98.6.\n",
    "\n",
    "-P value which is probability of getting population mean within 5.45 standard error units from sample mean of 98.25.\n",
    "\n",
    "-The p_value is calculated using Z-score using 2 tails using the following formula\n"
   ]
  },
  {
   "cell_type": "code",
   "execution_count": 114,
   "metadata": {
    "collapsed": false
   },
   "outputs": [
    {
     "name": "stdout",
     "output_type": "stream",
     "text": [
      "4.90215701411e-08\n"
     ]
    }
   ],
   "source": [
    "Pvalue = stats.norm.cdf(z) * 2\n",
    "\n",
    "print(Pvalue)\n",
    "\n"
   ]
  },
  {
   "cell_type": "markdown",
   "metadata": {},
   "source": [
    "P-Value = 4.90215701411e-08 (which is around 0.000000004)\n",
    "\n",
    "P-Value < 0.05\n",
    "\n",
    "so we reject the null hypothesis and we can say that the alternate Hypothesis is correct and the population mean body Temp <> 98.6"
   ]
  },
  {
   "cell_type": "markdown",
   "metadata": {},
   "source": [
    "#### 3.4 Now try using the other test. \n",
    "\n",
    "- We will use the T-Test"
   ]
  },
  {
   "cell_type": "markdown",
   "metadata": {},
   "source": [
    "- Note that we could use the T-Score formulae which is = \n",
    "(Sample Mean - Population Mean)/ ((Sample Std Deviation)/sqrt(Sample Size)) but instead we use a built-in SciPy function \n",
    "stats.ttest_1samp\n"
   ]
  },
  {
   "cell_type": "markdown",
   "metadata": {},
   "source": [
    "- H0: population mean body Temp = 98.6\n",
    "- Ha: population mean body Temp <> 98.6\n",
    "\n"
   ]
  },
  {
   "cell_type": "code",
   "execution_count": 120,
   "metadata": {
    "collapsed": false
   },
   "outputs": [],
   "source": [
    "\n",
    "\n",
    "t_statistic, p_value = stats.ttest_1samp(x, population_mean)"
   ]
  },
  {
   "cell_type": "code",
   "execution_count": 124,
   "metadata": {
    "collapsed": false
   },
   "outputs": [
    {
     "name": "stdout",
     "output_type": "stream",
     "text": [
      "t_statistic =  -5.45482329236\n",
      "p_value =  2.41063204156e-07\n"
     ]
    }
   ],
   "source": [
    "print('t_statistic = ',t_statistic)\n",
    "print('p_value = ',p_value)"
   ]
  },
  {
   "cell_type": "markdown",
   "metadata": {
    "collapsed": true
   },
   "source": [
    "P-Value = 2.41063204156e-07 (which is around 0.00000002)\n",
    "\n",
    "P-Value < 0.05\n",
    "\n",
    "so we reject the null hypothesis and we can say that the alternate Hypothesis is correct and\n",
    "the population mean body Temp <> 98.6\n",
    "\n"
   ]
  },
  {
   "cell_type": "markdown",
   "metadata": {},
   "source": [
    "##### How is the result be different? Why?\n",
    "- Lets check the 95% confidence interval we get from T-Test and Z-Test to answer this question"
   ]
  },
  {
   "cell_type": "markdown",
   "metadata": {},
   "source": [
    "#### Calculating 95% Confidence Interval For T-Statistic"
   ]
  },
  {
   "cell_type": "markdown",
   "metadata": {
    "collapsed": true
   },
   "source": [
    "##### The Formulae for calculating 95% confidence interval for T-Statistic is =  Sample Mean +- (Critical_t-value * sample.std.deviation/sqrt(n))  "
   ]
  },
  {
   "cell_type": "code",
   "execution_count": 34,
   "metadata": {
    "collapsed": false
   },
   "outputs": [
    {
     "name": "stdout",
     "output_type": "stream",
     "text": [
      "DF =  129\n",
      "Alpha =  0.025000000000000022\n"
     ]
    }
   ],
   "source": [
    "Sample_mean = 98.24\n",
    "\n",
    "Sample_Std_Deviation = 0.73\n",
    "\n",
    "n = 130\n",
    "\n",
    "confidence_interval_val = 95/100\n",
    "\n",
    "#To find the T-Value first we have to find the DF or Degree of Freedom\n",
    "\n",
    "DF = n-1\n",
    "\n",
    "#Next we need to find the alpha level \n",
    "\n",
    "Alpha = (1 - confidence_interval_val)/2\n",
    "\n",
    "print('DF = ',DF)\n",
    "print('Alpha = ',Alpha)\n",
    "\n",
    "\n"
   ]
  },
  {
   "cell_type": "code",
   "execution_count": 21,
   "metadata": {
    "collapsed": false
   },
   "outputs": [
    {
     "name": "stdout",
     "output_type": "stream",
     "text": [
      "Margin of Error =  0.126769966111\n"
     ]
    }
   ],
   "source": [
    "#For DF=129 and Alpha=0.0250 the One-Tailed Critical T-Value=1.98\n",
    "\n",
    "Critical_t_val = 1.98\n",
    "\n",
    "margin_of_error = Critical_t_val * (Sample_Std_Deviation/np.sqrt(n))\n",
    "\n",
    "print('Margin of Error = ',margin_of_error)"
   ]
  },
  {
   "cell_type": "code",
   "execution_count": 22,
   "metadata": {
    "collapsed": false
   },
   "outputs": [
    {
     "name": "stdout",
     "output_type": "stream",
     "text": [
      "95% Confidence Interval =  98.1132300339 98.3667699661\n"
     ]
    }
   ],
   "source": [
    "lower_bound = Sample_mean - margin_of_error\n",
    "upper_bound = Sample_mean + margin_of_error\n",
    "\n",
    "print('95% Confidence Interval = ',lower_bound,upper_bound)"
   ]
  },
  {
   "cell_type": "markdown",
   "metadata": {},
   "source": [
    "#### Calculating 95% Confidence Interval For Z-Statistic"
   ]
  },
  {
   "cell_type": "markdown",
   "metadata": {},
   "source": [
    "##### The Formulae for calculating 95% confidence interval for Z-Statistic is =  Sample Mean +- (Critical_Z-value * Sample.std.deviation/sqrt(n))  "
   ]
  },
  {
   "cell_type": "code",
   "execution_count": 23,
   "metadata": {
    "collapsed": false
   },
   "outputs": [
    {
     "name": "stdout",
     "output_type": "stream",
     "text": [
      "DF =  129\n",
      "Alpha =  0.025000000000000022\n"
     ]
    }
   ],
   "source": [
    "Sample_mean = 98.24\n",
    "\n",
    "Sample_Std_Deviation = 0.73\n",
    "\n",
    "n = 130\n",
    "\n",
    "confidence_interval_val = 95/100\n",
    "\n",
    "#To find the Z-Value first we have to find the DF or Degree of Freedom\n",
    "\n",
    "DF = n-1\n",
    "\n",
    "#Next we need to find the alpha level \n",
    "\n",
    "Alpha = (1 - confidence_interval_val)/2\n",
    "\n",
    "print('DF = ',DF)\n",
    "print('Alpha = ',Alpha)\n"
   ]
  },
  {
   "cell_type": "code",
   "execution_count": 24,
   "metadata": {
    "collapsed": false
   },
   "outputs": [
    {
     "name": "stdout",
     "output_type": "stream",
     "text": [
      "Margin of Error =  0.125489461402\n"
     ]
    }
   ],
   "source": [
    "#For DF=129 and Alpha=0.0250 the One-Tailed Critical Z-Value=1.96\n",
    "\n",
    "Critical_Z_val = 1.96\n",
    "\n",
    "zmargin_of_error = Critical_Z_val * (Sample_Std_Deviation/np.sqrt(n))\n",
    "\n",
    "print('Margin of Error = ',zmargin_of_error)"
   ]
  },
  {
   "cell_type": "code",
   "execution_count": 25,
   "metadata": {
    "collapsed": false
   },
   "outputs": [
    {
     "name": "stdout",
     "output_type": "stream",
     "text": [
      "95% Confidence Interval =  98.1145105386 98.3654894614\n"
     ]
    }
   ],
   "source": [
    "zlower_bound = Sample_mean - zmargin_of_error\n",
    "zupper_bound = Sample_mean + zmargin_of_error\n",
    "\n",
    "print('95% Confidence Interval = ',zlower_bound,zupper_bound)"
   ]
  },
  {
   "cell_type": "code",
   "execution_count": 29,
   "metadata": {
    "collapsed": false
   },
   "outputs": [
    {
     "name": "stdout",
     "output_type": "stream",
     "text": [
      "95% Confidence Interval of the Mean for Z-Test =  98.1145105386 98.3654894614\n",
      "95% Confidence Interval of the Mean T-Test =  98.1132300339 98.3667699661\n"
     ]
    }
   ],
   "source": [
    "print('95% Confidence Interval of the Mean for Z-Test = ',zlower_bound,zupper_bound)\n",
    "print('95% Confidence Interval of the Mean T-Test = ',lower_bound,upper_bound)"
   ]
  },
  {
   "cell_type": "markdown",
   "metadata": {},
   "source": [
    "#### We can conclude that the 95% confidence interval for Z-Test and T-Test is almost the same and so for large sample size the T-Distribution converges more towards the Z-Distribution\n"
   ]
  },
  {
   "cell_type": "markdown",
   "metadata": {},
   "source": [
    "## 4. Draw a small sample of size 10 from the data and repeat both frequentist tests.\n",
    "Which one is the correct one to use?\n",
    "What do you notice? What does this tell you about the difference in application of the  tt  and  zz  statistic?"
   ]
  },
  {
   "cell_type": "markdown",
   "metadata": {},
   "source": [
    "Lets repeat the Z and T tests by taking the 10 samples out from the Data set.\n",
    "\n",
    "Here is how we would define the null hypothesis and alternate hypothesis where n=10\n",
    "\n",
    "H0: population mean body Temp = 98.6 \n",
    "Ha: population mean body Temp <> 98.6"
   ]
  },
  {
   "cell_type": "code",
   "execution_count": 32,
   "metadata": {
    "collapsed": false
   },
   "outputs": [],
   "source": [
    "'''\n",
    "aList = []\n",
    "\n",
    "for item in x:\n",
    "    aList.append(item)\n",
    "\n",
    "mytensamples=random.sample(aList,10)\n",
    "\n",
    "#Testing the items in array to make sure we have 10 random samples \n",
    "#for it in mytensamples:\n",
    "#    print(it)\n",
    "'''\n",
    "\n",
    "aList = [a for a in x]\n",
    "\n",
    "mytensamples=random.sample(aList,10)"
   ]
  },
  {
   "cell_type": "code",
   "execution_count": 23,
   "metadata": {
    "collapsed": false
   },
   "outputs": [],
   "source": [
    "\n",
    "mysamples = np.array(mytensamples)"
   ]
  },
  {
   "cell_type": "code",
   "execution_count": 33,
   "metadata": {
    "collapsed": false
   },
   "outputs": [
    {
     "name": "stdout",
     "output_type": "stream",
     "text": [
      "-1.64160820708\n",
      "0.100671225724\n"
     ]
    }
   ],
   "source": [
    "population_mean = 98.6\n",
    "\n",
    "znumsam = mysamples.mean() - population_mean\n",
    "\n",
    "zdenomsam = mysamples.std() / math.sqrt(len(mysamples))\n",
    "\n",
    "zsam = znumsam/zdenomsam\n",
    "\n",
    "print(zsam)\n",
    "\n",
    "Pvaluesam = stats.norm.cdf(zsam) * 2\n",
    "\n",
    "print(Pvaluesam)\n",
    "\n"
   ]
  },
  {
   "cell_type": "code",
   "execution_count": 34,
   "metadata": {
    "collapsed": false
   },
   "outputs": [
    {
     "name": "stdout",
     "output_type": "stream",
     "text": [
      "t_statistic =  -1.557366288\n",
      "p_value =  0.153810199509\n"
     ]
    }
   ],
   "source": [
    "t_statistic, p_value = stats.ttest_1samp(mysamples, population_mean)\n",
    "\n",
    "print('t_statistic = ',t_statistic)\n",
    "print('p_value = ',p_value)"
   ]
  },
  {
   "cell_type": "markdown",
   "metadata": {},
   "source": [
    "Conclusion:\n",
    "\n",
    "    * The P-Value from T-test as well as Z-test is > 0.05 prompting us to failing to reject the null hypothesis and we can say that \n",
    "\n",
    "    H0: population mean body Temp = 98.6 \n",
    "\n",
    "    * But as we saw before when the Sample size was large ,we were able to reject the null hypothesis and so it looks like the Sample size n=10 is just not large enough to do any meaningful statistical tests.\n",
    "\n",
    "    * The conclusion here is that sample size matters! And they matter a great deal! Having a small sample size can potentially lead us to a drastically conclusion, although it might not happen all the time. \n",
    "\n",
    "    * Statistics is a study of how samples can help us interpret the population, but it can do this reliably ONLY WHEN we have a large enough sample, and the elements in the sample are considered being representative to the population. Whenever these rules are violated, none of the statical tests can be truly trusted."
   ]
  },
  {
   "cell_type": "markdown",
   "metadata": {},
   "source": [
    "# 5 . At what temperature should we consider someone's temperature to be \"abnormal\"?\n",
    "As in the previous example, try calculating everything using the boostrap approach, as well as the frequentist \n",
    "approach; Start by computing the margin of error and confidence interval. When calculating the confidence interval,\n",
    "keep in mind that you should use the appropriate formula for one draw, and not N draws."
   ]
  },
  {
   "cell_type": "markdown",
   "metadata": {},
   "source": [
    "##### Lets use the Frequentist approach first"
   ]
  },
  {
   "cell_type": "code",
   "execution_count": 32,
   "metadata": {
    "collapsed": false
   },
   "outputs": [
    {
     "name": "stdout",
     "output_type": "stream",
     "text": [
      "Mean =  98.5\n",
      "Lower bound =  98.2466232569\n",
      "Upper bound =  98.7533767431\n",
      "Margin of Error =  0.253376743114\n"
     ]
    }
   ],
   "source": [
    "#Lets use the frequentist approach first\n",
    "\n",
    "\n",
    "\n",
    "def mean_confidence_interval(data, confidence=0.95):\n",
    "    a = 1.0*np.array(data)\n",
    "    n = len(a)\n",
    "    \n",
    "    #se = Calculate the standard error of the mean \n",
    "    #m = sample mean\n",
    "    m, se = np.mean(a), scipy.stats.sem(a)\n",
    "    \n",
    "    #h = margin of error\n",
    "    h = se * scipy.stats.t._ppf((1+confidence)/2., n-1)\n",
    "    return m, m-h, m+h,h\n",
    "\n",
    "\n",
    "mean,lower_bound,upper_bound,margin_of_error = mean_confidence_interval(x)\n",
    "\n",
    "print('Mean = ', mean)\n",
    "print('Lower bound = ',lower_bound)\n",
    "print('Upper bound = ',upper_bound)\n",
    "print('Margin of Error = ',margin_of_error)\n",
    "\n"
   ]
  },
  {
   "cell_type": "markdown",
   "metadata": {
    "collapsed": false
   },
   "source": [
    "Given the lower bound of 98.12 and Upper bound of 98.38 , we can say that temperature 98.6 would be abnormal "
   ]
  },
  {
   "cell_type": "code",
   "execution_count": 43,
   "metadata": {
    "collapsed": false
   },
   "outputs": [
    {
     "data": {
      "image/png": "[encoded data removed]",
      "text/plain": [
       "<matplotlib.figure.Figure at 0x11e0316a0>"
      ]
     },
     "metadata": {},
     "output_type": "display_data"
    }
   ],
   "source": [
    "x = np.linspace(96,101,130)\n",
    "y = stats.norm.pdf(x, loc=Sample_mean, scale=Sample_Std_Deviation)    \n",
    "pylab.plot(x,y)\n",
    "\n",
    "pylab.xlabel('Temperature')\n",
    "pylab.ylabel('PDF')\n",
    "pylab.vlines(upper_bound,0, 0.6)\n",
    "pylab.vlines(lower_bound,0,0.6, color='C3')\n",
    "\n",
    "pylab.legend(['sample distribution','98.12 F', '98.38 F'])\n",
    "pylab.title('Normal Human Body Temperature')\n",
    "    \n",
    "pylab.show()"
   ]
  },
  {
   "cell_type": "markdown",
   "metadata": {},
   "source": [
    "#### Lets also use Bootstrap Test to find the 95% confidence interval"
   ]
  },
  {
   "cell_type": "code",
   "execution_count": 30,
   "metadata": {
    "collapsed": false
   },
   "outputs": [
    {
     "name": "stdout",
     "output_type": "stream",
     "text": [
      "Lower 98.1253846154\n",
      "Upper 98.3738461538\n"
     ]
    }
   ],
   "source": [
    "ci_lower,ci_upper = bootci(x)\n",
    "\n",
    "print('Lower',ci_lower)\n",
    "print('Upper',ci_upper)"
   ]
  },
  {
   "cell_type": "markdown",
   "metadata": {},
   "source": [
    "Given the lower bound of 98.12 and Upper bound of 98.37 , we can say that temperature 98.6 would be abnormal\n",
    "\n"
   ]
  },
  {
   "cell_type": "markdown",
   "metadata": {},
   "source": [
    "#### As shown above we have proved with Frequentist as well as Bootstrap approach what is the Mean normal temperature with 95% confidence interval "
   ]
  },
  {
   "cell_type": "markdown",
   "metadata": {
    "collapsed": true
   },
   "source": [
    "# 6. Is there a significant difference between males and females in normal temperature?\n",
    "What testing approach did you use and why?\n",
    "Write a story with your conclusion in the context of the original problem.\n"
   ]
  },
  {
   "cell_type": "markdown",
   "metadata": {},
   "source": [
    "We can derive the following null and alternate hypothesis for this problem\n",
    "\n",
    "\n",
    "\n",
    "H0 : (there is no significant difference in the means of the two samples)\n",
    "     Female mean temperature - Male mean temperature = 0\n",
    "\n",
    "Ha : (There is significant difference in the means of the two samples- one tailed)\n",
    "        \n",
    "     Female mean temperature - Male mean temperature <= 0  \n",
    "\n",
    "\n",
    "\n"
   ]
  },
  {
   "cell_type": "markdown",
   "metadata": {},
   "source": [
    "##### Lets first use the Frequentist approach"
   ]
  },
  {
   "cell_type": "code",
   "execution_count": 8,
   "metadata": {
    "collapsed": false
   },
   "outputs": [],
   "source": [
    "malesamples = df[df['gender'] == 'M']\n",
    "maletemps = malesamples['temperature']\n",
    "\n",
    "femalesamples = df[df['gender'] == 'F']\n",
    "femaletemps = femalesamples['temperature']\n",
    "\n",
    "\n"
   ]
  },
  {
   "cell_type": "code",
   "execution_count": 59,
   "metadata": {
    "collapsed": true
   },
   "outputs": [],
   "source": [
    "tstats = stats.ttest_ind(maletemps,femaletemps)"
   ]
  },
  {
   "cell_type": "code",
   "execution_count": 60,
   "metadata": {
    "collapsed": false
   },
   "outputs": [
    {
     "name": "stdout",
     "output_type": "stream",
     "text": [
      "tstats =  Ttest_indResult(statistic=-2.2854345381656103, pvalue=0.023931883122395609)\n"
     ]
    }
   ],
   "source": [
    "print('tstats = ',tstats)"
   ]
  },
  {
   "cell_type": "markdown",
   "metadata": {},
   "source": [
    "P_Value < 0.05 , Thus we reject the null hypothesis and accept the fact that \"There is significant difference in the Male mean temperature and Female mean temperature"
   ]
  },
  {
   "cell_type": "markdown",
   "metadata": {},
   "source": [
    "##### Lets first use the Bootstrap Test approach"
   ]
  },
  {
   "cell_type": "code",
   "execution_count": 9,
   "metadata": {
    "collapsed": false
   },
   "outputs": [],
   "source": [
    "maletempList = [a for a in maletemps]\n",
    "femaletempsList = [a for a in femaletemps]\n",
    "\n"
   ]
  },
  {
   "cell_type": "code",
   "execution_count": null,
   "metadata": {
    "collapsed": false
   },
   "outputs": [],
   "source": [
    "'''\n",
    "#Using boostrap for two sample test\n",
    "\n",
    "def diff_of_means(data_1, data_2):\n",
    "    \"\"\"Difference in means of two arrays.\"\"\"\n",
    "\n",
    "    # The difference of means of data_1, data_2: diff\n",
    "    diff = np.mean(data_1) - np.mean(data_2)\n",
    "\n",
    "    return diff\n",
    "\n",
    "\n",
    "empirical_diff_means = diff_of_means(maletempList, femaletempsList)\n",
    "\n",
    "temp_concat = maletempList + femaletempsList\n",
    "\n",
    "bs_replicates = np.empty(10000)\n",
    "\n",
    "for i in range(10000):\n",
    "    # Generate bootstrap sample\n",
    "    bs_sample = np.random.choice(temp_concat, size=len(temp_concat))\n",
    "\n",
    "    # Compute replicate\n",
    "    bs_replicates[i] = diff_of_means(bs_sample[:len(maletempList)],\n",
    "                                     bs_sample[len(femaletempsList):])\n",
    "\n",
    "\n",
    "    \n",
    "    # Compute and print p-value: p\n",
    "p = np.sum(bs_replicates < empirical_diff_means) / len(bs_replicates)\n",
    "print('p-value =', p)\n",
    "\n",
    "'''\n",
    "\n",
    "\n",
    "\n",
    "\n",
    "\n"
   ]
  },
  {
   "cell_type": "code",
   "execution_count": 19,
   "metadata": {
    "collapsed": false
   },
   "outputs": [
    {
     "name": "stdout",
     "output_type": "stream",
     "text": [
      "Observed difference of two means: -0.29\n",
      "130 out of 10000 experiments had a difference of two means less than or equal to -0.29\n",
      "The chance of getting a difference of two means less than or equal to -0.29 is 0.0130\n"
     ]
    },
    {
     "data": {
      "text/plain": [
       "0.012999999999999999"
      ]
     },
     "execution_count": 19,
     "metadata": {},
     "output_type": "execute_result"
    }
   ],
   "source": [
    "p_val = bootpv(maletempList,femaletempsList)\n",
    "\n",
    "p_val"
   ]
  },
  {
   "cell_type": "markdown",
   "metadata": {
    "collapsed": true
   },
   "source": [
    "P_Value < 0.05 , Thus we reject the null hypothesis and accept the fact that \"There is significant difference in the Male mean temperature and Female mean temperature"
   ]
  },
  {
   "cell_type": "code",
   "execution_count": null,
   "metadata": {
    "collapsed": true
   },
   "outputs": [],
   "source": []
  }
 ],
 "metadata": {
  "anaconda-cloud": {},
  "kernelspec": {
   "display_name": "Python [conda env:anaconda]",
   "language": "python",
   "name": "conda-env-anaconda-py"
  },
  "language_info": {
   "codemirror_mode": {
    "name": "ipython",
    "version": 3
   },
   "file_extension": ".py",
   "mimetype": "text/x-python",
   "name": "python",
   "nbconvert_exporter": "python",
   "pygments_lexer": "ipython3",
   "version": "3.5.2"
  }
 },
 "nbformat": 4,
 "nbformat_minor": 1
}
