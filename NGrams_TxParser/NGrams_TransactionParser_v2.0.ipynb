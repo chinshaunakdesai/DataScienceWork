{
 "cells": [
  {
   "cell_type": "code",
   "execution_count": 3,
   "metadata": {
    "collapsed": false
   },
   "outputs": [
    {
     "name": "stderr",
     "output_type": "stream",
     "text": [
      " 17%|█▋        | 4309/25000 [00:05<00:26, 777.06it/s]"
     ]
    },
    {
     "name": "stdout",
     "output_type": "stream",
     "text": [
      "Creating Combinations...\n"
     ]
    },
    {
     "name": "stderr",
     "output_type": "stream",
     "text": [
      "100%|██████████| 25000/25000 [00:05<00:00, 4328.81it/s]\n",
      "0it [00:00, ?it/s]"
     ]
    },
    {
     "name": "stdout",
     "output_type": "stream",
     "text": [
      "Counting Combinations...\n"
     ]
    },
    {
     "name": "stderr",
     "output_type": "stream",
     "text": [
      "15082387it [00:16, 906286.32it/s] \n",
      "  0%|          | 40428/13992332 [00:00<01:12, 191235.35it/s]"
     ]
    },
    {
     "name": "stdout",
     "output_type": "stream",
     "text": [
      "Filtering Results...\n"
     ]
    },
    {
     "name": "stderr",
     "output_type": "stream",
     "text": [
      "100%|██████████| 13992332/13992332 [00:13<00:00, 1073216.70it/s]\n",
      " 31%|███▏      | 23822/76151 [00:00<00:00, 120779.57it/s]"
     ]
    },
    {
     "name": "stdout",
     "output_type": "stream",
     "text": [
      "Saving File...\n"
     ]
    },
    {
     "name": "stderr",
     "output_type": "stream",
     "text": [
      "100%|██████████| 76151/76151 [00:00<00:00, 113408.39it/s]\n"
     ]
    }
   ],
   "source": [
    "\n",
    "# Imports\n",
    "from itertools import combinations, chain\n",
    "from collections import Counter\n",
    "from tqdm import tqdm\n",
    "\n",
    "\n",
    "def count_combined_list(file_path, N=3):\n",
    "    \"\"\"\n",
    "    Counts the number of combinations of N values in the list.\n",
    "\n",
    "    WARNING.: The items in the data should be sorted!\n",
    "              E.G. 3 < 5 < 15 < 55\n",
    "\n",
    "    Args:\n",
    "        file_name: string with the file path.\n",
    "        N: length of combinations.\n",
    "\n",
    "    Return:\n",
    "        comb_counter: Counter with the number of all N objects groups.\n",
    "    \"\"\"\n",
    "    \n",
    "    # Load data\n",
    "    with open(file_path, 'r') as f:\n",
    "        data = f.readlines()\n",
    "\n",
    "    # Combines data\n",
    "    combined_list = []\n",
    "    c = 0\n",
    "    # For each row\n",
    "    print(\"Creating Combinations...\")\n",
    "    for row in tqdm(data):\n",
    "        # Cleans data\n",
    "        items = row.strip('\\n').strip().split(' ')\n",
    "        int_items = map(int, items)\n",
    "        # Creates packs of N\n",
    "        combined = combinations(int_items, N)\n",
    "        combined_list.append(combined)\n",
    "        \n",
    "\n",
    "    # Counter\n",
    "    print(\"Counting Combinations...\")\n",
    "    comb_counter = Counter(tqdm(chain(*combined_list)))\n",
    "\n",
    "    return comb_counter\n",
    "\n",
    "\n",
    "def filter_results(C, SIGMA=4):\n",
    "    \"\"\"\n",
    "    Return only values of the counter with frequency above threshold `SIGMA`.\n",
    "\n",
    "    Args:\n",
    "        C: Counter class to be filtered.\n",
    "        SIGMA: the threshold of the counter.\n",
    "\n",
    "    Return:\n",
    "        filtered_results: Dictionary with results.\n",
    "    \"\"\"\n",
    "    print(\"Filtering Results...\")\n",
    "    filtered_results = Counter({x: C[x] for x in tqdm(C) if C[x] >= SIGMA})\n",
    "    return filtered_results\n",
    "\n",
    "\n",
    "def create_output(result, OUTPUT_FILE='output.txt', ordered=True):\n",
    "    \"\"\"\n",
    "    Creates a file of the result in the desired output format.\n",
    "\n",
    "    Args:\n",
    "        result: Counter object in the format\n",
    "                Counter({(30, 31, 32): 5,\n",
    "                         (36, 37, 38): 17,\n",
    "                         (36, 37, 39): 10, ...}\n",
    "        OUTPUT_FILE: Name of the output file.\n",
    "        ordered: If the output file will be in format\n",
    "    \"\"\"\n",
    "    # Create output file\n",
    "    with open(OUTPUT_FILE, 'w+') as f:\n",
    "        print(\"Saving File...\")\n",
    "        # Order the result by most frequent\n",
    "        if ordered:\n",
    "            ordered_result = result.most_common()\n",
    "            for item in tqdm(ordered_result):\n",
    "                # Write results\n",
    "                f.write(str(len(item[0])) + ', ' + str(item[1]))\n",
    "                # Write itens\n",
    "                for it in item[0]:\n",
    "                    f.write(', ')\n",
    "                    f.write(str(it))\n",
    "                # Write new line\n",
    "                f.write('\\n')\n",
    "        else:\n",
    "            for k, v in tqdm(result.items()):\n",
    "                # Write results\n",
    "                f.write(str(len(k)) + ', ' + str(v))\n",
    "                # Write itens\n",
    "                for it in k:\n",
    "                    f.write(', ')\n",
    "                    f.write(str(it))\n",
    "                # Write new line\n",
    "                f.write('\\n')\n",
    "\n",
    "\n",
    "if __name__ == \"__main__\":\n",
    "    # SETTINGS\n",
    "    # Input file local name or path\n",
    "    INPUT_FILE = '/Users/chintan.desai/Documents/Chintan/DataScience/My_Mini_Projects/TransactionParser/retail_25k.dat'  \n",
    "    N = 3                          # The length of combinations performed (Careful above 3)\n",
    "    SIGMA = 4                      # The filter of the combined data\n",
    "    # Name of the desired output file\n",
    "    OUTPUT_FILE = '/Users/chintan.desai/Documents/Chintan/DataScience/My_Mini_Projects/TransactionParser/retail_25koutput.dat'     \n",
    "    # Count itens\n",
    "    counter = count_combined_list(INPUT_FILE, N)\n",
    "\n",
    "    # Filter results\n",
    "    filtered = filter_results(counter, SIGMA)\n",
    "\n",
    "    # Write files\n",
    "    create_output(filtered, OUTPUT_FILE)\n"
   ]
  },
  {
   "cell_type": "code",
   "execution_count": null,
   "metadata": {
    "collapsed": true
   },
   "outputs": [],
   "source": []
  }
 ],
 "metadata": {
  "anaconda-cloud": {},
  "kernelspec": {
   "display_name": "Python [conda env:anaconda]",
   "language": "python",
   "name": "conda-env-anaconda-py"
  },
  "language_info": {
   "codemirror_mode": {
    "name": "ipython",
    "version": 3
   },
   "file_extension": ".py",
   "mimetype": "text/x-python",
   "name": "python",
   "nbconvert_exporter": "python",
   "pygments_lexer": "ipython3",
   "version": "3.5.2"
  }
 },
 "nbformat": 4,
 "nbformat_minor": 2
}
